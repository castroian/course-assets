{
 "cells": [
  {
   "cell_type": "code",
   "execution_count": 1,
   "metadata": {
    "collapsed": false
   },
   "outputs": [],
   "source": [
    "from datascience import *\n",
    "import numpy as np\n",
    "\n",
    "import matplotlib\n",
    "matplotlib.use('Agg', warn=False)\n",
    "%matplotlib inline\n",
    "import matplotlib.pyplot as plots\n",
    "plots.style.use('fivethirtyeight')"
   ]
  },
  {
   "cell_type": "markdown",
   "metadata": {},
   "source": [
    "## Functions of tables"
   ]
  },
  {
   "cell_type": "code",
   "execution_count": 3,
   "metadata": {
    "collapsed": false
   },
   "outputs": [
    {
     "data": {
      "text/html": [
       "<table border=\"1\" class=\"dataframe\">\n",
       "    <thead>\n",
       "        <tr>\n",
       "            <th>Activity</th> <th>Gender</th> <th>Type</th> <th>Average hours per day</th> <th>Average percent engaged in the activity</th> <th>Average hours per day for persons who engaged in the activity</th>\n",
       "        </tr>\n",
       "    </thead>\n",
       "    <tbody>\n",
       "        <tr>\n",
       "            <td>Total, all activities                             </td> <td>Male  </td> <td>Total   </td> <td>24                   </td> <td>100                                    </td> <td>24                                                           </td>\n",
       "        </tr>\n",
       "    </tbody>\n",
       "        <tr>\n",
       "            <td>Personal care activities                          </td> <td>Male  </td> <td>Subtotal</td> <td>9.58                 </td> <td>100                                    </td> <td>9.58                                                         </td>\n",
       "        </tr>\n",
       "    </tbody>\n",
       "        <tr>\n",
       "            <td>Sleeping                                          </td> <td>Male  </td> <td>Category</td> <td>8.79                 </td> <td>99.9                                   </td> <td>8.8                                                          </td>\n",
       "        </tr>\n",
       "    </tbody>\n",
       "        <tr>\n",
       "            <td>Eating and drinking                               </td> <td>Male  </td> <td>Category</td> <td>1.17                 </td> <td>94.7                                   </td> <td>1.24                                                         </td>\n",
       "        </tr>\n",
       "    </tbody>\n",
       "        <tr>\n",
       "            <td>Household activities                              </td> <td>Male  </td> <td>Subtotal</td> <td>1.82                 </td> <td>77.4                                   </td> <td>2.36                                                         </td>\n",
       "        </tr>\n",
       "    </tbody>\n",
       "        <tr>\n",
       "            <td>Housework                                         </td> <td>Male  </td> <td>Category</td> <td>0.57                 </td> <td>35.8                                   </td> <td>1.6                                                          </td>\n",
       "        </tr>\n",
       "    </tbody>\n",
       "        <tr>\n",
       "            <td>Food preparation and cleanup                      </td> <td>Male  </td> <td>Category</td> <td>0.59                 </td> <td>57.8                                   </td> <td>1.02                                                         </td>\n",
       "        </tr>\n",
       "    </tbody>\n",
       "        <tr>\n",
       "            <td>Lawn and garden care                              </td> <td>Male  </td> <td>Category</td> <td>0.19                 </td> <td>10.3                                   </td> <td>1.85                                                         </td>\n",
       "        </tr>\n",
       "    </tbody>\n",
       "        <tr>\n",
       "            <td>Household management                              </td> <td>Male  </td> <td>Category</td> <td>0.14                 </td> <td>19.4                                   </td> <td>0.72                                                         </td>\n",
       "        </tr>\n",
       "    </tbody>\n",
       "        <tr>\n",
       "            <td>Purchasing goods and services                     </td> <td>Male  </td> <td>Subtotal</td> <td>0.76                 </td> <td>44.6                                   </td> <td>1.71                                                         </td>\n",
       "        </tr>\n",
       "    </tbody>\n",
       "        <tr>\n",
       "            <td>Consumer goods purchases                          </td> <td>Male  </td> <td>Category</td> <td>0.36                 </td> <td>40.5                                   </td> <td>0.89                                                         </td>\n",
       "        </tr>\n",
       "    </tbody>\n",
       "        <tr>\n",
       "            <td>Professional and personal care services           </td> <td>Male  </td> <td>Category</td> <td>0.09                 </td> <td>7.8                                    </td> <td>1.11                                                         </td>\n",
       "        </tr>\n",
       "    </tbody>\n",
       "        <tr>\n",
       "            <td>Caring for and helping household members          </td> <td>Male  </td> <td>Subtotal</td> <td>0.52                 </td> <td>25.2                                   </td> <td>2.07                                                         </td>\n",
       "        </tr>\n",
       "    </tbody>\n",
       "        <tr>\n",
       "            <td>Caring for and helping household children         </td> <td>Male  </td> <td>Category</td> <td>0.4                  </td> <td>20.6                                   </td> <td>1.94                                                         </td>\n",
       "        </tr>\n",
       "    </tbody>\n",
       "        <tr>\n",
       "            <td>Caring for and helping nonhousehold members       </td> <td>Male  </td> <td>Subtotal</td> <td>0.21                 </td> <td>12.4                                   </td> <td>1.71                                                         </td>\n",
       "        </tr>\n",
       "    </tbody>\n",
       "        <tr>\n",
       "            <td>Caring for and helping nonhousehold adults        </td> <td>Male  </td> <td>Category</td> <td>0.07                 </td> <td>8.4                                    </td> <td>0.86                                                         </td>\n",
       "        </tr>\n",
       "    </tbody>\n",
       "        <tr>\n",
       "            <td>Working and work-related activities               </td> <td>Male  </td> <td>Subtotal</td> <td>3.61                 </td> <td>45                                     </td> <td>8.02                                                         </td>\n",
       "        </tr>\n",
       "    </tbody>\n",
       "        <tr>\n",
       "            <td>Working                                           </td> <td>Male  </td> <td>Category</td> <td>3.28                 </td> <td>43.1                                   </td> <td>7.61                                                         </td>\n",
       "        </tr>\n",
       "    </tbody>\n",
       "        <tr>\n",
       "            <td>Educational activities                            </td> <td>Male  </td> <td>Subtotal</td> <td>0.49                 </td> <td>8.3                                    </td> <td>5.92                                                         </td>\n",
       "        </tr>\n",
       "    </tbody>\n",
       "        <tr>\n",
       "            <td>Attending class                                   </td> <td>Male  </td> <td>Category</td> <td>0.27                 </td> <td>5.3                                    </td> <td>5.16                                                         </td>\n",
       "        </tr>\n",
       "    </tbody>\n",
       "        <tr>\n",
       "            <td>Homework and research                             </td> <td>Male  </td> <td>Category</td> <td>0.18                 </td> <td>6.2                                    </td> <td>2.9                                                          </td>\n",
       "        </tr>\n",
       "    </tbody>\n",
       "        <tr>\n",
       "            <td>Organizational, civic, and religious activities   </td> <td>Male  </td> <td>Subtotal</td> <td>0.32                 </td> <td>14.3                                   </td> <td>2.26                                                         </td>\n",
       "        </tr>\n",
       "    </tbody>\n",
       "        <tr>\n",
       "            <td>Religious and spiritual activities                </td> <td>Male  </td> <td>Category</td> <td>0.16                 </td> <td>9.7                                    </td> <td>1.64                                                         </td>\n",
       "        </tr>\n",
       "    </tbody>\n",
       "        <tr>\n",
       "            <td>Volunteering (organizational and civic activities)</td> <td>Male  </td> <td>Category</td> <td>0.13                 </td> <td>5.9                                    </td> <td>2.15                                                         </td>\n",
       "        </tr>\n",
       "    </tbody>\n",
       "        <tr>\n",
       "            <td>Leisure and sports                                </td> <td>Male  </td> <td>Subtotal</td> <td>5.13                 </td> <td>95.8                                   </td> <td>5.35                                                         </td>\n",
       "        </tr>\n",
       "    </tbody>\n",
       "        <tr>\n",
       "            <td>Socializing and communicating                     </td> <td>Male  </td> <td>Category</td> <td>0.65                 </td> <td>35.9                                   </td> <td>1.82                                                         </td>\n",
       "        </tr>\n",
       "    </tbody>\n",
       "        <tr>\n",
       "            <td>Watching television                               </td> <td>Male  </td> <td>Category</td> <td>2.73                 </td> <td>79.1                                   </td> <td>3.45                                                         </td>\n",
       "        </tr>\n",
       "    </tbody>\n",
       "        <tr>\n",
       "            <td>Participating in sports, exercise, and recreation </td> <td>Male  </td> <td>Category</td> <td>0.32                 </td> <td>20.9                                   </td> <td>1.52                                                         </td>\n",
       "        </tr>\n",
       "    </tbody>\n",
       "        <tr>\n",
       "            <td>Telephone calls, mail, and e-mail                 </td> <td>Male  </td> <td>Subtotal</td> <td>0.16                 </td> <td>20.9                                   </td> <td>0.76                                                         </td>\n",
       "        </tr>\n",
       "    </tbody>\n",
       "        <tr>\n",
       "            <td>Other activities, not elsewhere classified        </td> <td>Male  </td> <td>Subtotal</td> <td>0.22                 </td> <td>16.2                                   </td> <td>1.38                                                         </td>\n",
       "        </tr>\n",
       "    </tbody>\n",
       "        <tr>\n",
       "            <td>Total, all activities                             </td> <td>Female</td> <td>Total   </td> <td>24                   </td> <td>100                                    </td> <td>24                                                           </td>\n",
       "        </tr>\n",
       "    </tbody>\n",
       "        <tr>\n",
       "            <td>Personal care activities                          </td> <td>Female</td> <td>Subtotal</td> <td>9.34                 </td> <td>100                                    </td> <td>9.34                                                         </td>\n",
       "        </tr>\n",
       "    </tbody>\n",
       "        <tr>\n",
       "            <td>Sleeping                                          </td> <td>Female</td> <td>Category</td> <td>8.69                 </td> <td>99.9                                   </td> <td>8.7                                                          </td>\n",
       "        </tr>\n",
       "    </tbody>\n",
       "        <tr>\n",
       "            <td>Eating and drinking                               </td> <td>Female</td> <td>Category</td> <td>1.19                 </td> <td>94.4                                   </td> <td>1.26                                                         </td>\n",
       "        </tr>\n",
       "    </tbody>\n",
       "        <tr>\n",
       "            <td>Household activities                              </td> <td>Female</td> <td>Subtotal</td> <td>1.38                 </td> <td>68.8                                   </td> <td>2.01                                                         </td>\n",
       "        </tr>\n",
       "    </tbody>\n",
       "        <tr>\n",
       "            <td>Housework                                         </td> <td>Female</td> <td>Category</td> <td>0.26                 </td> <td>21.1                                   </td> <td>1.25                                                         </td>\n",
       "        </tr>\n",
       "    </tbody>\n",
       "        <tr>\n",
       "            <td>Food preparation and cleanup                      </td> <td>Female</td> <td>Category</td> <td>0.35                 </td> <td>45.1                                   </td> <td>0.77                                                         </td>\n",
       "        </tr>\n",
       "    </tbody>\n",
       "        <tr>\n",
       "            <td>Lawn and garden care                              </td> <td>Female</td> <td>Category</td> <td>0.25                 </td> <td>12.4                                   </td> <td>2.05                                                         </td>\n",
       "        </tr>\n",
       "    </tbody>\n",
       "        <tr>\n",
       "            <td>Household management                              </td> <td>Female</td> <td>Category</td> <td>0.12                 </td> <td>16                                     </td> <td>0.76                                                         </td>\n",
       "        </tr>\n",
       "    </tbody>\n",
       "        <tr>\n",
       "            <td>Purchasing goods and services                     </td> <td>Female</td> <td>Subtotal</td> <td>0.63                 </td> <td>40.3                                   </td> <td>1.55                                                         </td>\n",
       "        </tr>\n",
       "    </tbody>\n",
       "        <tr>\n",
       "            <td>Consumer goods purchases                          </td> <td>Female</td> <td>Category</td> <td>0.28                 </td> <td>36.8                                   </td> <td>0.76                                                         </td>\n",
       "        </tr>\n",
       "    </tbody>\n",
       "        <tr>\n",
       "            <td>Professional and personal care services           </td> <td>Female</td> <td>Category</td> <td>0.06                 </td> <td>5.3                                    </td> <td>1.15                                                         </td>\n",
       "        </tr>\n",
       "    </tbody>\n",
       "        <tr>\n",
       "            <td>Caring for and helping household members          </td> <td>Female</td> <td>Subtotal</td> <td>0.34                 </td> <td>19.4                                   </td> <td>1.76                                                         </td>\n",
       "        </tr>\n",
       "    </tbody>\n",
       "        <tr>\n",
       "            <td>Caring for and helping household children         </td> <td>Female</td> <td>Category</td> <td>0.26                 </td> <td>15.5                                   </td> <td>1.64                                                         </td>\n",
       "        </tr>\n",
       "    </tbody>\n",
       "        <tr>\n",
       "            <td>Caring for and helping nonhousehold members       </td> <td>Female</td> <td>Subtotal</td> <td>0.19                 </td> <td>11                                     </td> <td>1.74                                                         </td>\n",
       "        </tr>\n",
       "    </tbody>\n",
       "        <tr>\n",
       "            <td>Caring for and helping nonhousehold adults        </td> <td>Female</td> <td>Category</td> <td>0.08                 </td> <td>7.8                                    </td> <td>1.02                                                         </td>\n",
       "        </tr>\n",
       "    </tbody>\n",
       "        <tr>\n",
       "            <td>Working and work-related activities               </td> <td>Female</td> <td>Subtotal</td> <td>4.39                 </td> <td>51.5                                   </td> <td>8.52                                                         </td>\n",
       "        </tr>\n",
       "    </tbody>\n",
       "        <tr>\n",
       "            <td>Working                                           </td> <td>Female</td> <td>Category</td> <td>3.99                 </td> <td>49.7                                   </td> <td>8.02                                                         </td>\n",
       "        </tr>\n",
       "    </tbody>\n",
       "        <tr>\n",
       "            <td>Educational activities                            </td> <td>Female</td> <td>Subtotal</td> <td>0.45                 </td> <td>7.2                                    </td> <td>6.31                                                         </td>\n",
       "        </tr>\n",
       "    </tbody>\n",
       "        <tr>\n",
       "            <td>Attending class                                   </td> <td>Female</td> <td>Category</td> <td>0.26                 </td> <td>4.7                                    </td> <td>5.63                                                         </td>\n",
       "        </tr>\n",
       "    </tbody>\n",
       "        <tr>\n",
       "            <td>Homework and research                             </td> <td>Female</td> <td>Category</td> <td>0.15                 </td> <td>5.2                                    </td> <td>2.99                                                         </td>\n",
       "        </tr>\n",
       "    </tbody>\n",
       "        <tr>\n",
       "            <td>Organizational, civic, and religious activities   </td> <td>Female</td> <td>Subtotal</td> <td>0.29                 </td> <td>12.2                                   </td> <td>2.36                                                         </td>\n",
       "        </tr>\n",
       "    </tbody>\n",
       "        <tr>\n",
       "            <td>Religious and spiritual activities                </td> <td>Female</td> <td>Category</td> <td>0.14                 </td> <td>8                                      </td> <td>1.7                                                          </td>\n",
       "        </tr>\n",
       "    </tbody>\n",
       "        <tr>\n",
       "            <td>Volunteering (organizational and civic activities)</td> <td>Female</td> <td>Category</td> <td>0.12                 </td> <td>5.4                                    </td> <td>2.14                                                         </td>\n",
       "        </tr>\n",
       "    </tbody>\n",
       "        <tr>\n",
       "            <td>Leisure and sports                                </td> <td>Female</td> <td>Subtotal</td> <td>5.51                 </td> <td>96.4                                   </td> <td>5.71                                                         </td>\n",
       "        </tr>\n",
       "    </tbody>\n",
       "        <tr>\n",
       "            <td>Socializing and communicating                     </td> <td>Female</td> <td>Category</td> <td>0.64                 </td> <td>33.8                                   </td> <td>1.89                                                         </td>\n",
       "        </tr>\n",
       "    </tbody>\n",
       "        <tr>\n",
       "            <td>Watching television                               </td> <td>Female</td> <td>Category</td> <td>2.94                 </td> <td>80.2                                   </td> <td>3.67                                                         </td>\n",
       "        </tr>\n",
       "    </tbody>\n",
       "        <tr>\n",
       "            <td>Participating in sports, exercise, and recreation </td> <td>Female</td> <td>Category</td> <td>0.39                 </td> <td>22.7                                   </td> <td>1.73                                                         </td>\n",
       "        </tr>\n",
       "    </tbody>\n",
       "        <tr>\n",
       "            <td>Telephone calls, mail, and e-mail                 </td> <td>Female</td> <td>Subtotal</td> <td>0.12                 </td> <td>16.9                                   </td> <td>0.73                                                         </td>\n",
       "        </tr>\n",
       "    </tbody>\n",
       "        <tr>\n",
       "            <td>Other activities, not elsewhere classified        </td> <td>Female</td> <td>Subtotal</td> <td>0.18                 </td> <td>13.6                                   </td> <td>1.31                                                         </td>\n",
       "        </tr>\n",
       "    </tbody>\n",
       "</table>"
      ],
      "text/plain": [
       "<IPython.core.display.HTML object>"
      ]
     },
     "metadata": {},
     "output_type": "display_data"
    }
   ],
   "source": [
    "# https://www.bls.gov/news.release/atus.t01.htm#tus_tu_nr1.f.1\n",
    "time_use = Table.read_table(\"time_use.csv\")\n",
    "time_use.show()"
   ]
  },
  {
   "cell_type": "code",
   "execution_count": 42,
   "metadata": {
    "collapsed": false
   },
   "outputs": [
    {
     "data": {
      "image/png": "[encoded data removed]",
      "text/plain": [
       "<matplotlib.figure.Figure at 0x10eade240>"
      ]
     },
     "metadata": {},
     "output_type": "display_data"
    }
   ],
   "source": [
    "sum(time_use.where(\"Gender\", are.equal_to(\"Male\")).where(\"Type\", are.equal_to(\"Subtotal\")).column(3))\n",
    "time_use.where(\"Gender\", are.equal_to(\"Female\")).where(\"Type\", are.equal_to(\"Subtotal\")).barh(\"Activity\", \"Average hours per day\")"
   ]
  },
  {
   "cell_type": "code",
   "execution_count": 73,
   "metadata": {
    "collapsed": true
   },
   "outputs": [],
   "source": [
    "def with_percents(tbl, column_for_counts):\n",
    "    percents = 100 * tbl.column(column_for_counts) / sum(tbl.column(column_for_counts))\n",
    "    percent_label = \"Percent of \" + column_for_counts\n",
    "    return tbl.with_columns(percent_label, percents)\n",
    "\n",
    "def barh_percents(tbl, column_for_labels, column_for_counts):\n",
    "    with_percents(tbl, column_for_counts).barh(column_for_labels, \"Percent of \" + column_for_counts)"
   ]
  },
  {
   "cell_type": "code",
   "execution_count": 75,
   "metadata": {
    "collapsed": false
   },
   "outputs": [
    {
     "data": {
      "image/png": "[encoded data removed]",
      "text/plain": [
       "<matplotlib.figure.Figure at 0x110a4e908>"
      ]
     },
     "metadata": {},
     "output_type": "display_data"
    }
   ],
   "source": [
    "female_subtotals = time_use.where(\"Type\", are.equal_to(\"Subtotal\")).where(\"Gender\", are.equal_to(\"Female\"))\n",
    "barh_percents(female_subtotals, \"Activity\", \"Average hours per day\")"
   ]
  },
  {
   "cell_type": "markdown",
   "metadata": {},
   "source": [
    "## Applying functions to columns"
   ]
  },
  {
   "cell_type": "code",
   "execution_count": 23,
   "metadata": {
    "collapsed": false
   },
   "outputs": [
    {
     "data": {
      "text/html": [
       "<table border=\"1\" class=\"dataframe\">\n",
       "    <thead>\n",
       "        <tr>\n",
       "            <th>Proto Indo-European</th> <th>English</th>\n",
       "        </tr>\n",
       "    </thead>\n",
       "    <tbody>\n",
       "        <tr>\n",
       "            <td>abelos             </td> <td>apple   </td>\n",
       "        </tr>\n",
       "    </tbody>\n",
       "        <tr>\n",
       "            <td>abhnos             </td> <td>sudden  </td>\n",
       "        </tr>\n",
       "    </tbody>\n",
       "        <tr>\n",
       "            <td>abhro-             </td> <td>very    </td>\n",
       "        </tr>\n",
       "    </tbody>\n",
       "        <tr>\n",
       "            <td>acnos              </td> <td>lamb    </td>\n",
       "        </tr>\n",
       "    </tbody>\n",
       "        <tr>\n",
       "            <td>ad                 </td> <td>at      </td>\n",
       "        </tr>\n",
       "    </tbody>\n",
       "        <tr>\n",
       "            <td>adejo              </td> <td>prepare </td>\n",
       "        </tr>\n",
       "    </tbody>\n",
       "        <tr>\n",
       "            <td>adgho              </td> <td>beset   </td>\n",
       "        </tr>\n",
       "    </tbody>\n",
       "        <tr>\n",
       "            <td>admi               </td> <td>dry     </td>\n",
       "        </tr>\n",
       "    </tbody>\n",
       "        <tr>\n",
       "            <td>admṇ               </td> <td>rite    </td>\n",
       "        </tr>\n",
       "    </tbody>\n",
       "        <tr>\n",
       "            <td>ados               </td> <td>spelt   </td>\n",
       "        </tr>\n",
       "    </tbody>\n",
       "</table>\n",
       "<p>... (3548 rows omitted)</p"
      ],
      "text/plain": [
       "Proto Indo-European | English\n",
       "abelos              | apple\n",
       "abhnos              | sudden\n",
       "abhro-              | very\n",
       "acnos               | lamb\n",
       "ad                  | at\n",
       "adejo               | prepare\n",
       "adgho               | beset\n",
       "admi                | dry\n",
       "admṇ                | rite\n",
       "ados                | spelt\n",
       "... (3548 rows omitted)"
      ]
     },
     "execution_count": 23,
     "metadata": {},
     "output_type": "execute_result"
    }
   ],
   "source": [
    "words = Table.read_table(\"words.csv\")#, encoding='iso8859')\n",
    "words"
   ]
  },
  {
   "cell_type": "code",
   "execution_count": 13,
   "metadata": {
    "collapsed": true
   },
   "outputs": [],
   "source": [
    "# https://en.wikipedia.org/wiki/Grimm%27s_law\n",
    "def consonant_shift(text):\n",
    "    # Just a few ways in which consonants shifted from Proto-Indo-European\n",
    "    # to early Germanic (which then came into English).\n",
    "    # Examples:  Pater -> Father, Pod -> Foot, Tres -> Three, Decem -> Ten, Qod -> What\n",
    "    return text.replace(\"t\", \"th\").replace(\"p\", \"f\").replace(\"d\", \"t\").replace(\"qo\", \"who\")"
   ]
  },
  {
   "cell_type": "code",
   "execution_count": 25,
   "metadata": {
    "collapsed": true
   },
   "outputs": [],
   "source": [
    "with_shift = words.with_columns(\"Consonant-shifted\", words.apply(consonant_shift, \"Proto Indo-European\"))"
   ]
  },
  {
   "cell_type": "code",
   "execution_count": 26,
   "metadata": {
    "collapsed": false
   },
   "outputs": [
    {
     "data": {
      "text/html": [
       "<table border=\"1\" class=\"dataframe\">\n",
       "    <thead>\n",
       "        <tr>\n",
       "            <th>Proto Indo-European</th> <th>English</th> <th>Consonant-shifted</th>\n",
       "        </tr>\n",
       "    </thead>\n",
       "    <tbody>\n",
       "        <tr>\n",
       "            <td>patejo             </td> <td>lie-open  </td> <td>fathejo          </td>\n",
       "        </tr>\n",
       "    </tbody>\n",
       "        <tr>\n",
       "            <td>pater              </td> <td>father    </td> <td>father           </td>\n",
       "        </tr>\n",
       "    </tbody>\n",
       "        <tr>\n",
       "            <td>patera             </td> <td>saucer    </td> <td>fathera          </td>\n",
       "        </tr>\n",
       "    </tbody>\n",
       "        <tr>\n",
       "            <td>patjai             </td> <td>suffer    </td> <td>fathjai          </td>\n",
       "        </tr>\n",
       "    </tbody>\n",
       "        <tr>\n",
       "            <td>patrja             </td> <td>fatherland</td> <td>fathrja          </td>\n",
       "        </tr>\n",
       "    </tbody>\n",
       "        <tr>\n",
       "            <td>patrjos            </td> <td>fatherly  </td> <td>fathrjos         </td>\n",
       "        </tr>\n",
       "    </tbody>\n",
       "        <tr>\n",
       "            <td>patrujos           </td> <td>uncle     </td> <td>fathrujos        </td>\n",
       "        </tr>\n",
       "    </tbody>\n",
       "        <tr>\n",
       "            <td>sṃopator           </td> <td>sibling   </td> <td>sṃofathor        </td>\n",
       "        </tr>\n",
       "    </tbody>\n",
       "</table>"
      ],
      "text/plain": [
       "Proto Indo-European | English    | Consonant-shifted\n",
       "patejo              | lie-open   | fathejo\n",
       "pater               | father     | father\n",
       "patera              | saucer     | fathera\n",
       "patjai              | suffer     | fathjai\n",
       "patrja              | fatherland | fathrja\n",
       "patrjos             | fatherly   | fathrjos\n",
       "patrujos            | uncle      | fathrujos\n",
       "sṃopator            | sibling    | sṃofathor"
      ]
     },
     "execution_count": 26,
     "metadata": {},
     "output_type": "execute_result"
    }
   ],
   "source": [
    "with_shift.where(\"Proto Indo-European\", are.containing(\"pat\"))"
   ]
  },
  {
   "cell_type": "code",
   "execution_count": 28,
   "metadata": {
    "collapsed": false
   },
   "outputs": [
    {
     "data": {
      "text/html": [
       "<table border=\"1\" class=\"dataframe\">\n",
       "    <thead>\n",
       "        <tr>\n",
       "            <th>Proto Indo-European</th> <th>English</th> <th>Consonant-shifted</th>\n",
       "        </tr>\n",
       "    </thead>\n",
       "    <tbody>\n",
       "        <tr>\n",
       "            <td>dwipods            </td> <td>biped    </td> <td>twifots          </td>\n",
       "        </tr>\n",
       "    </tbody>\n",
       "        <tr>\n",
       "            <td>lapods             </td> <td>stone    </td> <td>lafots           </td>\n",
       "        </tr>\n",
       "    </tbody>\n",
       "        <tr>\n",
       "            <td>podjom             </td> <td>relief   </td> <td>fotjom           </td>\n",
       "        </tr>\n",
       "    </tbody>\n",
       "        <tr>\n",
       "            <td>pods               </td> <td>foot     </td> <td>fots             </td>\n",
       "        </tr>\n",
       "    </tbody>\n",
       "        <tr>\n",
       "            <td>qatwṛpods          </td> <td>quadruped</td> <td>qathwṛfots       </td>\n",
       "        </tr>\n",
       "    </tbody>\n",
       "</table>"
      ],
      "text/plain": [
       "Proto Indo-European | English   | Consonant-shifted\n",
       "dwipods             | biped     | twifots\n",
       "lapods              | stone     | lafots\n",
       "podjom              | relief    | fotjom\n",
       "pods                | foot      | fots\n",
       "qatwṛpods           | quadruped | qathwṛfots"
      ]
     },
     "execution_count": 28,
     "metadata": {},
     "output_type": "execute_result"
    }
   ],
   "source": [
    "# Note the shift sometimes (often) doesn't match:\n",
    "#   In qatwrpods, t -> d happened, not t -> th\n",
    "with_shift.where(\"Proto Indo-European\", are.containing(\"pod\"))"
   ]
  },
  {
   "cell_type": "code",
   "execution_count": 27,
   "metadata": {
    "collapsed": false
   },
   "outputs": [
    {
     "data": {
      "text/html": [
       "<table border=\"1\" class=\"dataframe\">\n",
       "    <thead>\n",
       "        <tr>\n",
       "            <th>Proto Indo-European</th> <th>English</th> <th>Consonant-shifted</th>\n",
       "        </tr>\n",
       "    </thead>\n",
       "    <tbody>\n",
       "        <tr>\n",
       "            <td>ad                 </td> <td>at     </td> <td>at               </td>\n",
       "        </tr>\n",
       "    </tbody>\n",
       "</table>"
      ],
      "text/plain": [
       "Proto Indo-European | English | Consonant-shifted\n",
       "ad                  | at      | at"
      ]
     },
     "execution_count": 27,
     "metadata": {},
     "output_type": "execute_result"
    }
   ],
   "source": [
    "with_shift.where(\"Proto Indo-European\", are.equal_to(\"ad\"))"
   ]
  },
  {
   "cell_type": "markdown",
   "metadata": {},
   "source": [
    "## `group`"
   ]
  },
  {
   "cell_type": "code",
   "execution_count": 29,
   "metadata": {
    "collapsed": false
   },
   "outputs": [
    {
     "data": {
      "text/html": [
       "<table border=\"1\" class=\"dataframe\">\n",
       "    <thead>\n",
       "        <tr>\n",
       "            <th>State</th> <th>Year</th> <th>Population</th> <th>Violent crime total</th> <th>Murder and nonnegligent Manslaughter</th> <th>Legacy rape</th> <th>Revised rape</th> <th>Robbery</th> <th>Aggravated assault</th> <th>Property crime total</th> <th>Burglary</th> <th>Larceny-theft</th> <th>Motor vehicle theft</th>\n",
       "        </tr>\n",
       "    </thead>\n",
       "    <tbody>\n",
       "        <tr>\n",
       "            <td>Alabama</td> <td>1960</td> <td>3266740   </td> <td>6097               </td> <td>406                                 </td> <td>281        </td> <td>nan         </td> <td>898    </td> <td>4512              </td> <td>33823               </td> <td>11626   </td> <td>19344        </td> <td>2853               </td>\n",
       "        </tr>\n",
       "    </tbody>\n",
       "        <tr>\n",
       "            <td>Alabama</td> <td>1961</td> <td>3302000   </td> <td>5564               </td> <td>427                                 </td> <td>252        </td> <td>nan         </td> <td>630    </td> <td>4255              </td> <td>32541               </td> <td>11205   </td> <td>18801        </td> <td>2535               </td>\n",
       "        </tr>\n",
       "    </tbody>\n",
       "        <tr>\n",
       "            <td>Alabama</td> <td>1962</td> <td>3358000   </td> <td>5283               </td> <td>316                                 </td> <td>218        </td> <td>nan         </td> <td>754    </td> <td>3995              </td> <td>35829               </td> <td>11722   </td> <td>21306        </td> <td>2801               </td>\n",
       "        </tr>\n",
       "    </tbody>\n",
       "        <tr>\n",
       "            <td>Alabama</td> <td>1963</td> <td>3347000   </td> <td>6115               </td> <td>340                                 </td> <td>192        </td> <td>nan         </td> <td>828    </td> <td>4755              </td> <td>38521               </td> <td>12614   </td> <td>22874        </td> <td>3033               </td>\n",
       "        </tr>\n",
       "    </tbody>\n",
       "        <tr>\n",
       "            <td>Alabama</td> <td>1964</td> <td>3407000   </td> <td>7260               </td> <td>316                                 </td> <td>397        </td> <td>nan         </td> <td>992    </td> <td>5555              </td> <td>46290               </td> <td>15898   </td> <td>26713        </td> <td>3679               </td>\n",
       "        </tr>\n",
       "    </tbody>\n",
       "        <tr>\n",
       "            <td>Alabama</td> <td>1965</td> <td>3462000   </td> <td>6916               </td> <td>395                                 </td> <td>367        </td> <td>nan         </td> <td>992    </td> <td>5162              </td> <td>48215               </td> <td>16398   </td> <td>28115        </td> <td>3702               </td>\n",
       "        </tr>\n",
       "    </tbody>\n",
       "        <tr>\n",
       "            <td>Alabama</td> <td>1966</td> <td>3517000   </td> <td>8098               </td> <td>384                                 </td> <td>341        </td> <td>nan         </td> <td>1124   </td> <td>6249              </td> <td>53740               </td> <td>18551   </td> <td>30583        </td> <td>4606               </td>\n",
       "        </tr>\n",
       "    </tbody>\n",
       "        <tr>\n",
       "            <td>Alabama</td> <td>1967</td> <td>3540000   </td> <td>8448               </td> <td>415                                 </td> <td>371        </td> <td>nan         </td> <td>1167   </td> <td>6495              </td> <td>57079               </td> <td>20227   </td> <td>31682        </td> <td>5170               </td>\n",
       "        </tr>\n",
       "    </tbody>\n",
       "        <tr>\n",
       "            <td>Alabama</td> <td>1968</td> <td>3566000   </td> <td>8288               </td> <td>421                                 </td> <td>396        </td> <td>nan         </td> <td>1462   </td> <td>6009              </td> <td>62997               </td> <td>22403   </td> <td>34508        </td> <td>6086               </td>\n",
       "        </tr>\n",
       "    </tbody>\n",
       "        <tr>\n",
       "            <td>Alabama</td> <td>1969</td> <td>3531000   </td> <td>8842               </td> <td>485                                 </td> <td>494        </td> <td>nan         </td> <td>1448   </td> <td>6415              </td> <td>66248               </td> <td>23559   </td> <td>36644        </td> <td>6045               </td>\n",
       "        </tr>\n",
       "    </tbody>\n",
       "</table>\n",
       "<p>... (2845 rows omitted)</p"
      ],
      "text/plain": [
       "State   | Year | Population | Violent crime total | Murder and nonnegligent Manslaughter | Legacy rape | Revised rape | Robbery | Aggravated assault | Property crime total | Burglary | Larceny-theft | Motor vehicle theft\n",
       "Alabama | 1960 | 3266740    | 6097                | 406                                  | 281         | nan          | 898     | 4512               | 33823                | 11626    | 19344         | 2853\n",
       "Alabama | 1961 | 3302000    | 5564                | 427                                  | 252         | nan          | 630     | 4255               | 32541                | 11205    | 18801         | 2535\n",
       "Alabama | 1962 | 3358000    | 5283                | 316                                  | 218         | nan          | 754     | 3995               | 35829                | 11722    | 21306         | 2801\n",
       "Alabama | 1963 | 3347000    | 6115                | 340                                  | 192         | nan          | 828     | 4755               | 38521                | 12614    | 22874         | 3033\n",
       "Alabama | 1964 | 3407000    | 7260                | 316                                  | 397         | nan          | 992     | 5555               | 46290                | 15898    | 26713         | 3679\n",
       "Alabama | 1965 | 3462000    | 6916                | 395                                  | 367         | nan          | 992     | 5162               | 48215                | 16398    | 28115         | 3702\n",
       "Alabama | 1966 | 3517000    | 8098                | 384                                  | 341         | nan          | 1124    | 6249               | 53740                | 18551    | 30583         | 4606\n",
       "Alabama | 1967 | 3540000    | 8448                | 415                                  | 371         | nan          | 1167    | 6495               | 57079                | 20227    | 31682         | 5170\n",
       "Alabama | 1968 | 3566000    | 8288                | 421                                  | 396         | nan          | 1462    | 6009               | 62997                | 22403    | 34508         | 6086\n",
       "Alabama | 1969 | 3531000    | 8842                | 485                                  | 494         | nan          | 1448    | 6415               | 66248                | 23559    | 36644         | 6045\n",
       "... (2845 rows omitted)"
      ]
     },
     "execution_count": 29,
     "metadata": {},
     "output_type": "execute_result"
    }
   ],
   "source": [
    "crime = Table.read_table(\"us_crime.csv\")\n",
    "crime"
   ]
  },
  {
   "cell_type": "code",
   "execution_count": 34,
   "metadata": {
    "collapsed": false
   },
   "outputs": [
    {
     "data": {
      "text/html": [
       "<table border=\"1\" class=\"dataframe\">\n",
       "    <thead>\n",
       "        <tr>\n",
       "            <th>State</th> <th>Year</th> <th>Population</th> <th>Violent crime total</th> <th>Murder and nonnegligent Manslaughter</th> <th>Legacy rape</th> <th>Revised rape</th> <th>Robbery</th> <th>Aggravated assault</th> <th>Property crime total</th> <th>Burglary</th> <th>Larceny-theft</th> <th>Motor vehicle theft</th>\n",
       "        </tr>\n",
       "    </thead>\n",
       "    <tbody>\n",
       "        <tr>\n",
       "            <td>United States-Total</td> <td>2014</td> <td>318857056 </td> <td>1197987            </td> <td>14249                               </td> <td>84041      </td> <td>116645      </td> <td>325802 </td> <td>741291            </td> <td>8277829             </td> <td>1729806 </td> <td>5858496      </td> <td>689527             </td>\n",
       "        </tr>\n",
       "    </tbody>\n",
       "        <tr>\n",
       "            <td>United States-Total</td> <td>2013</td> <td>316497531 </td> <td>1199684            </td> <td>14319                               </td> <td>82109      </td> <td>113695      </td> <td>345095 </td> <td>726575            </td> <td>8650761             </td> <td>1931835 </td> <td>6018632      </td> <td>700294             </td>\n",
       "        </tr>\n",
       "    </tbody>\n",
       "        <tr>\n",
       "            <td>United States-Total</td> <td>2012</td> <td>313873685 </td> <td>1217067            </td> <td>14866                               </td> <td>85141      </td> <td>nan         </td> <td>355051 </td> <td>762009            </td> <td>9001992             </td> <td>2109932 </td> <td>6168874      </td> <td>723186             </td>\n",
       "        </tr>\n",
       "    </tbody>\n",
       "        <tr>\n",
       "            <td>United States-Total</td> <td>2011</td> <td>311587816 </td> <td>1206031            </td> <td>14661                               </td> <td>84175      </td> <td>nan         </td> <td>354772 </td> <td>752423            </td> <td>9052743             </td> <td>2185140 </td> <td>6151095      </td> <td>716508             </td>\n",
       "        </tr>\n",
       "    </tbody>\n",
       "        <tr>\n",
       "            <td>United States-Total</td> <td>2010</td> <td>309330219 </td> <td>1251248            </td> <td>14722                               </td> <td>85593      </td> <td>nan         </td> <td>369089 </td> <td>781844            </td> <td>9112625             </td> <td>2168459 </td> <td>6204601      </td> <td>739565             </td>\n",
       "        </tr>\n",
       "    </tbody>\n",
       "        <tr>\n",
       "            <td>United States-Total</td> <td>2009</td> <td>307006550 </td> <td>1325896            </td> <td>15399                               </td> <td>89241      </td> <td>nan         </td> <td>408742 </td> <td>812514            </td> <td>9337060             </td> <td>2203313 </td> <td>6338095      </td> <td>795652             </td>\n",
       "        </tr>\n",
       "    </tbody>\n",
       "        <tr>\n",
       "            <td>United States-Total</td> <td>2008</td> <td>304059724 </td> <td>1394461            </td> <td>16465                               </td> <td>90750      </td> <td>nan         </td> <td>443563 </td> <td>843683            </td> <td>9774152             </td> <td>2228887 </td> <td>6586206      </td> <td>959059             </td>\n",
       "        </tr>\n",
       "    </tbody>\n",
       "        <tr>\n",
       "            <td>United States-Total</td> <td>2007</td> <td>301621157 </td> <td>1422970            </td> <td>17128                               </td> <td>92160      </td> <td>nan         </td> <td>447324 </td> <td>866358            </td> <td>9882212             </td> <td>2190198 </td> <td>6591542      </td> <td>1100472            </td>\n",
       "        </tr>\n",
       "    </tbody>\n",
       "        <tr>\n",
       "            <td>United States-Total</td> <td>2006</td> <td>299398484 </td> <td>1435123            </td> <td>17309                               </td> <td>94472      </td> <td>nan         </td> <td>449246 </td> <td>874096            </td> <td>10019601            </td> <td>2194993 </td> <td>6626363      </td> <td>1198245            </td>\n",
       "        </tr>\n",
       "    </tbody>\n",
       "        <tr>\n",
       "            <td>United States-Total</td> <td>2005</td> <td>296507061 </td> <td>1390745            </td> <td>16740                               </td> <td>94347      </td> <td>nan         </td> <td>417438 </td> <td>862220            </td> <td>10174754            </td> <td>2155448 </td> <td>6783447      </td> <td>1235859            </td>\n",
       "        </tr>\n",
       "    </tbody>\n",
       "</table>\n",
       "<p>... (2845 rows omitted)</p"
      ],
      "text/plain": [
       "State               | Year | Population | Violent crime total | Murder and nonnegligent Manslaughter | Legacy rape | Revised rape | Robbery | Aggravated assault | Property crime total | Burglary | Larceny-theft | Motor vehicle theft\n",
       "United States-Total | 2014 | 318857056  | 1197987             | 14249                                | 84041       | 116645       | 325802  | 741291             | 8277829              | 1729806  | 5858496       | 689527\n",
       "United States-Total | 2013 | 316497531  | 1199684             | 14319                                | 82109       | 113695       | 345095  | 726575             | 8650761              | 1931835  | 6018632       | 700294\n",
       "United States-Total | 2012 | 313873685  | 1217067             | 14866                                | 85141       | nan          | 355051  | 762009             | 9001992              | 2109932  | 6168874       | 723186\n",
       "United States-Total | 2011 | 311587816  | 1206031             | 14661                                | 84175       | nan          | 354772  | 752423             | 9052743              | 2185140  | 6151095       | 716508\n",
       "United States-Total | 2010 | 309330219  | 1251248             | 14722                                | 85593       | nan          | 369089  | 781844             | 9112625              | 2168459  | 6204601       | 739565\n",
       "United States-Total | 2009 | 307006550  | 1325896             | 15399                                | 89241       | nan          | 408742  | 812514             | 9337060              | 2203313  | 6338095       | 795652\n",
       "United States-Total | 2008 | 304059724  | 1394461             | 16465                                | 90750       | nan          | 443563  | 843683             | 9774152              | 2228887  | 6586206       | 959059\n",
       "United States-Total | 2007 | 301621157  | 1422970             | 17128                                | 92160       | nan          | 447324  | 866358             | 9882212              | 2190198  | 6591542       | 1100472\n",
       "United States-Total | 2006 | 299398484  | 1435123             | 17309                                | 94472       | nan          | 449246  | 874096             | 10019601             | 2194993  | 6626363       | 1198245\n",
       "United States-Total | 2005 | 296507061  | 1390745             | 16740                                | 94347       | nan          | 417438  | 862220             | 10174754             | 2155448  | 6783447       | 1235859\n",
       "... (2845 rows omitted)"
      ]
     },
     "execution_count": 34,
     "metadata": {},
     "output_type": "execute_result"
    }
   ],
   "source": [
    "crime.sort(\"Population\", descending=True)"
   ]
  },
  {
   "cell_type": "code",
   "execution_count": 37,
   "metadata": {
    "collapsed": false
   },
   "outputs": [
    {
     "data": {
      "text/html": [
       "<table border=\"1\" class=\"dataframe\">\n",
       "    <thead>\n",
       "        <tr>\n",
       "            <th>State</th> <th>Year</th> <th>Population</th> <th>Violent crime total</th> <th>Murder and nonnegligent Manslaughter</th> <th>Legacy rape</th> <th>Revised rape</th> <th>Robbery</th> <th>Aggravated assault</th> <th>Property crime total</th> <th>Burglary</th> <th>Larceny-theft</th> <th>Motor vehicle theft</th>\n",
       "        </tr>\n",
       "    </thead>\n",
       "    <tbody>\n",
       "        <tr>\n",
       "            <td>Alabama</td> <td>1960</td> <td>3266740   </td> <td>6097               </td> <td>406                                 </td> <td>281        </td> <td>nan         </td> <td>898    </td> <td>4512              </td> <td>33823               </td> <td>11626   </td> <td>19344        </td> <td>2853               </td>\n",
       "        </tr>\n",
       "    </tbody>\n",
       "        <tr>\n",
       "            <td>Alabama</td> <td>1961</td> <td>3302000   </td> <td>5564               </td> <td>427                                 </td> <td>252        </td> <td>nan         </td> <td>630    </td> <td>4255              </td> <td>32541               </td> <td>11205   </td> <td>18801        </td> <td>2535               </td>\n",
       "        </tr>\n",
       "    </tbody>\n",
       "        <tr>\n",
       "            <td>Alabama</td> <td>1962</td> <td>3358000   </td> <td>5283               </td> <td>316                                 </td> <td>218        </td> <td>nan         </td> <td>754    </td> <td>3995              </td> <td>35829               </td> <td>11722   </td> <td>21306        </td> <td>2801               </td>\n",
       "        </tr>\n",
       "    </tbody>\n",
       "        <tr>\n",
       "            <td>Alabama</td> <td>1963</td> <td>3347000   </td> <td>6115               </td> <td>340                                 </td> <td>192        </td> <td>nan         </td> <td>828    </td> <td>4755              </td> <td>38521               </td> <td>12614   </td> <td>22874        </td> <td>3033               </td>\n",
       "        </tr>\n",
       "    </tbody>\n",
       "        <tr>\n",
       "            <td>Alabama</td> <td>1964</td> <td>3407000   </td> <td>7260               </td> <td>316                                 </td> <td>397        </td> <td>nan         </td> <td>992    </td> <td>5555              </td> <td>46290               </td> <td>15898   </td> <td>26713        </td> <td>3679               </td>\n",
       "        </tr>\n",
       "    </tbody>\n",
       "        <tr>\n",
       "            <td>Alabama</td> <td>1965</td> <td>3462000   </td> <td>6916               </td> <td>395                                 </td> <td>367        </td> <td>nan         </td> <td>992    </td> <td>5162              </td> <td>48215               </td> <td>16398   </td> <td>28115        </td> <td>3702               </td>\n",
       "        </tr>\n",
       "    </tbody>\n",
       "        <tr>\n",
       "            <td>Alabama</td> <td>1966</td> <td>3517000   </td> <td>8098               </td> <td>384                                 </td> <td>341        </td> <td>nan         </td> <td>1124   </td> <td>6249              </td> <td>53740               </td> <td>18551   </td> <td>30583        </td> <td>4606               </td>\n",
       "        </tr>\n",
       "    </tbody>\n",
       "        <tr>\n",
       "            <td>Alabama</td> <td>1967</td> <td>3540000   </td> <td>8448               </td> <td>415                                 </td> <td>371        </td> <td>nan         </td> <td>1167   </td> <td>6495              </td> <td>57079               </td> <td>20227   </td> <td>31682        </td> <td>5170               </td>\n",
       "        </tr>\n",
       "    </tbody>\n",
       "        <tr>\n",
       "            <td>Alabama</td> <td>1968</td> <td>3566000   </td> <td>8288               </td> <td>421                                 </td> <td>396        </td> <td>nan         </td> <td>1462   </td> <td>6009              </td> <td>62997               </td> <td>22403   </td> <td>34508        </td> <td>6086               </td>\n",
       "        </tr>\n",
       "    </tbody>\n",
       "        <tr>\n",
       "            <td>Alabama</td> <td>1969</td> <td>3531000   </td> <td>8842               </td> <td>485                                 </td> <td>494        </td> <td>nan         </td> <td>1448   </td> <td>6415              </td> <td>66248               </td> <td>23559   </td> <td>36644        </td> <td>6045               </td>\n",
       "        </tr>\n",
       "    </tbody>\n",
       "</table>\n",
       "<p>... (2790 rows omitted)</p"
      ],
      "text/plain": [
       "State   | Year | Population | Violent crime total | Murder and nonnegligent Manslaughter | Legacy rape | Revised rape | Robbery | Aggravated assault | Property crime total | Burglary | Larceny-theft | Motor vehicle theft\n",
       "Alabama | 1960 | 3266740    | 6097                | 406                                  | 281         | nan          | 898     | 4512               | 33823                | 11626    | 19344         | 2853\n",
       "Alabama | 1961 | 3302000    | 5564                | 427                                  | 252         | nan          | 630     | 4255               | 32541                | 11205    | 18801         | 2535\n",
       "Alabama | 1962 | 3358000    | 5283                | 316                                  | 218         | nan          | 754     | 3995               | 35829                | 11722    | 21306         | 2801\n",
       "Alabama | 1963 | 3347000    | 6115                | 340                                  | 192         | nan          | 828     | 4755               | 38521                | 12614    | 22874         | 3033\n",
       "Alabama | 1964 | 3407000    | 7260                | 316                                  | 397         | nan          | 992     | 5555               | 46290                | 15898    | 26713         | 3679\n",
       "Alabama | 1965 | 3462000    | 6916                | 395                                  | 367         | nan          | 992     | 5162               | 48215                | 16398    | 28115         | 3702\n",
       "Alabama | 1966 | 3517000    | 8098                | 384                                  | 341         | nan          | 1124    | 6249               | 53740                | 18551    | 30583         | 4606\n",
       "Alabama | 1967 | 3540000    | 8448                | 415                                  | 371         | nan          | 1167    | 6495               | 57079                | 20227    | 31682         | 5170\n",
       "Alabama | 1968 | 3566000    | 8288                | 421                                  | 396         | nan          | 1462    | 6009               | 62997                | 22403    | 34508         | 6086\n",
       "Alabama | 1969 | 3531000    | 8842                | 485                                  | 494         | nan          | 1448    | 6415               | 66248                | 23559    | 36644         | 6045\n",
       "... (2790 rows omitted)"
      ]
     },
     "execution_count": 37,
     "metadata": {},
     "output_type": "execute_result"
    }
   ],
   "source": [
    "states = crime.where(\"State\", are.not_equal_to(\"United States-Total\"))\n",
    "states"
   ]
  },
  {
   "cell_type": "code",
   "execution_count": 44,
   "metadata": {
    "collapsed": false
   },
   "outputs": [
    {
     "data": {
      "text/html": [
       "<table border=\"1\" class=\"dataframe\">\n",
       "    <thead>\n",
       "        <tr>\n",
       "            <th>Year</th> <th>count</th>\n",
       "        </tr>\n",
       "    </thead>\n",
       "    <tbody>\n",
       "        <tr>\n",
       "            <td>1960</td> <td>50   </td>\n",
       "        </tr>\n",
       "    </tbody>\n",
       "        <tr>\n",
       "            <td>1961</td> <td>50   </td>\n",
       "        </tr>\n",
       "    </tbody>\n",
       "        <tr>\n",
       "            <td>1962</td> <td>50   </td>\n",
       "        </tr>\n",
       "    </tbody>\n",
       "        <tr>\n",
       "            <td>1963</td> <td>50   </td>\n",
       "        </tr>\n",
       "    </tbody>\n",
       "        <tr>\n",
       "            <td>1964</td> <td>50   </td>\n",
       "        </tr>\n",
       "    </tbody>\n",
       "        <tr>\n",
       "            <td>1965</td> <td>51   </td>\n",
       "        </tr>\n",
       "    </tbody>\n",
       "        <tr>\n",
       "            <td>1966</td> <td>51   </td>\n",
       "        </tr>\n",
       "    </tbody>\n",
       "        <tr>\n",
       "            <td>1967</td> <td>51   </td>\n",
       "        </tr>\n",
       "    </tbody>\n",
       "        <tr>\n",
       "            <td>1968</td> <td>51   </td>\n",
       "        </tr>\n",
       "    </tbody>\n",
       "        <tr>\n",
       "            <td>1969</td> <td>51   </td>\n",
       "        </tr>\n",
       "    </tbody>\n",
       "</table>\n",
       "<p>... (45 rows omitted)</p"
      ],
      "text/plain": [
       "Year | count\n",
       "1960 | 50\n",
       "1961 | 50\n",
       "1962 | 50\n",
       "1963 | 50\n",
       "1964 | 50\n",
       "1965 | 51\n",
       "1966 | 51\n",
       "1967 | 51\n",
       "1968 | 51\n",
       "1969 | 51\n",
       "... (45 rows omitted)"
      ]
     },
     "execution_count": 44,
     "metadata": {},
     "output_type": "execute_result"
    }
   ],
   "source": [
    "states.group(\"Year\")"
   ]
  },
  {
   "cell_type": "code",
   "execution_count": 38,
   "metadata": {
    "collapsed": false
   },
   "outputs": [
    {
     "data": {
      "text/html": [
       "<table border=\"1\" class=\"dataframe\">\n",
       "    <thead>\n",
       "        <tr>\n",
       "            <th>State</th> <th>Year sum</th> <th>Population sum</th> <th>Violent crime total sum</th> <th>Murder and nonnegligent Manslaughter sum</th> <th>Legacy rape sum</th> <th>Revised rape sum</th> <th>Robbery sum</th> <th>Aggravated assault sum</th> <th>Property crime total sum</th> <th>Burglary sum</th> <th>Larceny-theft sum</th> <th>Motor vehicle theft sum</th>\n",
       "        </tr>\n",
       "    </thead>\n",
       "    <tbody>\n",
       "        <tr>\n",
       "            <td>Alabama             </td> <td>109285  </td> <td>222295636     </td> <td>985694                 </td> <td>22488                                   </td> <td>59523          </td> <td>nan             </td> <td>241799     </td> <td>660709                </td> <td>7504851                 </td> <td>2134078     </td> <td>4796684          </td> <td>574089                 </td>\n",
       "        </tr>\n",
       "    </tbody>\n",
       "        <tr>\n",
       "            <td>Alaska              </td> <td>109285  </td> <td>27223958      </td> <td>150813                 </td> <td>2156                                    </td> <td>18565          </td> <td>nan             </td> <td>23840      </td> <td>105768                </td> <td>1098172                 </td> <td>210514      </td> <td>766529           </td> <td>121129                 </td>\n",
       "        </tr>\n",
       "    </tbody>\n",
       "        <tr>\n",
       "            <td>Arizona             </td> <td>109285  </td> <td>201689525     </td> <td>1031170                </td> <td>15079                                   </td> <td>69375          </td> <td>nan             </td> <td>277995     </td> <td>666977                </td> <td>10879648                </td> <td>2545895     </td> <td>7061347          </td> <td>1272406                </td>\n",
       "        </tr>\n",
       "    </tbody>\n",
       "        <tr>\n",
       "            <td>Arkansas            </td> <td>109285  </td> <td>130318191     </td> <td>517516                 </td> <td>10409                                   </td> <td>40786          </td> <td>nan             </td> <td>103846     </td> <td>361539                </td> <td>4257287                 </td> <td>1207296     </td> <td>2782777          </td> <td>267214                 </td>\n",
       "        </tr>\n",
       "    </tbody>\n",
       "        <tr>\n",
       "            <td>California          </td> <td>109285  </td> <td>1516404150    </td> <td>9826447                </td> <td>123400                                  </td> <td>502333         </td> <td>nan             </td> <td>3627175    </td> <td>5567550               </td> <td>67657855                </td> <td>18246501    </td> <td>39518720         </td> <td>9892634                </td>\n",
       "        </tr>\n",
       "    </tbody>\n",
       "        <tr>\n",
       "            <td>Colorado            </td> <td>109285  </td> <td>185460690     </td> <td>719347                 </td> <td>8860                                    </td> <td>74825          </td> <td>nan             </td> <td>181371     </td> <td>452608                </td> <td>8056804                 </td> <td>1878976     </td> <td>5441508          </td> <td>736320                 </td>\n",
       "        </tr>\n",
       "    </tbody>\n",
       "        <tr>\n",
       "            <td>Connecticut         </td> <td>109285  </td> <td>175936859     </td> <td>534114                 </td> <td>6421                                    </td> <td>31614          </td> <td>nan             </td> <td>224032     </td> <td>271592                </td> <td>5926409                 </td> <td>1508615     </td> <td>3677161          </td> <td>740633                 </td>\n",
       "        </tr>\n",
       "    </tbody>\n",
       "        <tr>\n",
       "            <td>Delaware            </td> <td>109285  </td> <td>36980291      </td> <td>189117                 </td> <td>1928                                    </td> <td>15355          </td> <td>nan             </td> <td>54115      </td> <td>117461                </td> <td>1488918                 </td> <td>352865      </td> <td>1008107          </td> <td>127946                 </td>\n",
       "        </tr>\n",
       "    </tbody>\n",
       "        <tr>\n",
       "            <td>District of Columbia</td> <td>109285  </td> <td>35889176      </td> <td>574374                 </td> <td>12452                                   </td> <td>16664          </td> <td>nan             </td> <td>311405     </td> <td>233635                </td> <td>2180198                 </td> <td>531471      </td> <td>1305408          </td> <td>343319                 </td>\n",
       "        </tr>\n",
       "    </tbody>\n",
       "        <tr>\n",
       "            <td>Florida             </td> <td>109285  </td> <td>660428168     </td> <td>5089208                </td> <td>55474                                   </td> <td>256859         </td> <td>nan             </td> <td>1507219    </td> <td>3265142               </td> <td>34526754                </td> <td>9392202     </td> <td>21987799         </td> <td>3146753                </td>\n",
       "        </tr>\n",
       "    </tbody>\n",
       "</table>\n",
       "<p>... (41 rows omitted)</p"
      ],
      "text/plain": [
       "State                | Year sum | Population sum | Violent crime total sum | Murder and nonnegligent Manslaughter sum | Legacy rape sum | Revised rape sum | Robbery sum | Aggravated assault sum | Property crime total sum | Burglary sum | Larceny-theft sum | Motor vehicle theft sum\n",
       "Alabama              | 109285   | 222295636      | 985694                  | 22488                                    | 59523           | nan              | 241799      | 660709                 | 7504851                  | 2134078      | 4796684           | 574089\n",
       "Alaska               | 109285   | 27223958       | 150813                  | 2156                                     | 18565           | nan              | 23840       | 105768                 | 1098172                  | 210514       | 766529            | 121129\n",
       "Arizona              | 109285   | 201689525      | 1031170                 | 15079                                    | 69375           | nan              | 277995      | 666977                 | 10879648                 | 2545895      | 7061347           | 1272406\n",
       "Arkansas             | 109285   | 130318191      | 517516                  | 10409                                    | 40786           | nan              | 103846      | 361539                 | 4257287                  | 1207296      | 2782777           | 267214\n",
       "California           | 109285   | 1516404150     | 9826447                 | 123400                                   | 502333          | nan              | 3627175     | 5567550                | 67657855                 | 18246501     | 39518720          | 9892634\n",
       "Colorado             | 109285   | 185460690      | 719347                  | 8860                                     | 74825           | nan              | 181371      | 452608                 | 8056804                  | 1878976      | 5441508           | 736320\n",
       "Connecticut          | 109285   | 175936859      | 534114                  | 6421                                     | 31614           | nan              | 224032      | 271592                 | 5926409                  | 1508615      | 3677161           | 740633\n",
       "Delaware             | 109285   | 36980291       | 189117                  | 1928                                     | 15355           | nan              | 54115       | 117461                 | 1488918                  | 352865       | 1008107           | 127946\n",
       "District of Columbia | 109285   | 35889176       | 574374                  | 12452                                    | 16664           | nan              | 311405      | 233635                 | 2180198                  | 531471       | 1305408           | 343319\n",
       "Florida              | 109285   | 660428168      | 5089208                 | 55474                                    | 256859          | nan              | 1507219     | 3265142                | 34526754                 | 9392202      | 21987799          | 3146753\n",
       "... (41 rows omitted)"
      ]
     },
     "execution_count": 38,
     "metadata": {},
     "output_type": "execute_result"
    }
   ],
   "source": [
    "states.group(\"State\", sum)"
   ]
  },
  {
   "cell_type": "code",
   "execution_count": 39,
   "metadata": {
    "collapsed": false
   },
   "outputs": [
    {
     "data": {
      "text/html": [
       "<table border=\"1\" class=\"dataframe\">\n",
       "    <thead>\n",
       "        <tr>\n",
       "            <th>Year</th> <th>State sum</th> <th>Population sum</th> <th>Violent crime total sum</th> <th>Murder and nonnegligent Manslaughter sum</th> <th>Legacy rape sum</th> <th>Revised rape sum</th> <th>Robbery sum</th> <th>Aggravated assault sum</th> <th>Property crime total sum</th> <th>Burglary sum</th> <th>Larceny-theft sum</th> <th>Motor vehicle theft sum</th>\n",
       "        </tr>\n",
       "    </thead>\n",
       "    <tbody>\n",
       "        <tr>\n",
       "            <td>1960</td> <td>         </td> <td>162540871     </td> <td>238326                 </td> <td>8642                                    </td> <td>15219          </td> <td>nan             </td> <td>87261      </td> <td>127204                </td> <td>2770689                 </td> <td>785673      </td> <td>1691963          </td> <td>293053                 </td>\n",
       "        </tr>\n",
       "    </tbody>\n",
       "        <tr>\n",
       "            <td>1961</td> <td>         </td> <td>165923956     </td> <td>238296                 </td> <td>8115                                    </td> <td>15299          </td> <td>nan             </td> <td>86446      </td> <td>128436                </td> <td>2859039                 </td> <td>816635      </td> <td>1742223          </td> <td>300181                 </td>\n",
       "        </tr>\n",
       "    </tbody>\n",
       "        <tr>\n",
       "            <td>1962</td> <td>         </td> <td>168418000     </td> <td>247475                 </td> <td>7893                                    </td> <td>15436          </td> <td>nan             </td> <td>89648      </td> <td>134498                </td> <td>3058865                 </td> <td>850222      </td> <td>1880882          </td> <td>327761                 </td>\n",
       "        </tr>\n",
       "    </tbody>\n",
       "        <tr>\n",
       "            <td>1963</td> <td>         </td> <td>170825000     </td> <td>260114                 </td> <td>7939                                    </td> <td>15608          </td> <td>nan             </td> <td>94221      </td> <td>142346                </td> <td>3341570                 </td> <td>927679      </td> <td>2052750          </td> <td>361141                 </td>\n",
       "        </tr>\n",
       "    </tbody>\n",
       "        <tr>\n",
       "            <td>1964</td> <td>         </td> <td>173419000     </td> <td>311455                 </td> <td>8536                                    </td> <td>19456          </td> <td>nan             </td> <td>104334     </td> <td>179129                </td> <td>3750313                 </td> <td>1043547     </td> <td>2289914          </td> <td>416852                 </td>\n",
       "        </tr>\n",
       "    </tbody>\n",
       "        <tr>\n",
       "            <td>1965</td> <td>         </td> <td>193816000     </td> <td>388288                 </td> <td>9979                                    </td> <td>23494          </td> <td>nan             </td> <td>138850     </td> <td>215965                </td> <td>4364824                 </td> <td>1284159     </td> <td>2583515          </td> <td>497150                 </td>\n",
       "        </tr>\n",
       "    </tbody>\n",
       "        <tr>\n",
       "            <td>1966</td> <td>         </td> <td>195857000     </td> <td>430593                 </td> <td>11054                                   </td> <td>25921          </td> <td>nan             </td> <td>157854     </td> <td>235764                </td> <td>4806528                 </td> <td>1411410     </td> <td>2833618          </td> <td>561500                 </td>\n",
       "        </tr>\n",
       "    </tbody>\n",
       "        <tr>\n",
       "            <td>1967</td> <td>         </td> <td>197864000     </td> <td>500024                 </td> <td>12248                                   </td> <td>27678          </td> <td>nan             </td> <td>202679     </td> <td>257419                </td> <td>5417559                 </td> <td>1633461     </td> <td>3123919          </td> <td>660179                 </td>\n",
       "        </tr>\n",
       "    </tbody>\n",
       "        <tr>\n",
       "            <td>1968</td> <td>         </td> <td>199860000     </td> <td>595338                 </td> <td>13824                                   </td> <td>31725          </td> <td>nan             </td> <td>262588     </td> <td>287201                </td> <td>6140425                 </td> <td>1859756     </td> <td>3496715          </td> <td>783954                 </td>\n",
       "        </tr>\n",
       "    </tbody>\n",
       "        <tr>\n",
       "            <td>1969</td> <td>         </td> <td>201927000     </td> <td>662285                 </td> <td>14749                                   </td> <td>37624          </td> <td>nan             </td> <td>298609     </td> <td>311303                </td> <td>6676261                 </td> <td>1982586     </td> <td>3814792          </td> <td>878883                 </td>\n",
       "        </tr>\n",
       "    </tbody>\n",
       "</table>\n",
       "<p>... (45 rows omitted)</p"
      ],
      "text/plain": [
       "Year | State sum | Population sum | Violent crime total sum | Murder and nonnegligent Manslaughter sum | Legacy rape sum | Revised rape sum | Robbery sum | Aggravated assault sum | Property crime total sum | Burglary sum | Larceny-theft sum | Motor vehicle theft sum\n",
       "1960 |           | 162540871      | 238326                  | 8642                                     | 15219           | nan              | 87261       | 127204                 | 2770689                  | 785673       | 1691963           | 293053\n",
       "1961 |           | 165923956      | 238296                  | 8115                                     | 15299           | nan              | 86446       | 128436                 | 2859039                  | 816635       | 1742223           | 300181\n",
       "1962 |           | 168418000      | 247475                  | 7893                                     | 15436           | nan              | 89648       | 134498                 | 3058865                  | 850222       | 1880882           | 327761\n",
       "1963 |           | 170825000      | 260114                  | 7939                                     | 15608           | nan              | 94221       | 142346                 | 3341570                  | 927679       | 2052750           | 361141\n",
       "1964 |           | 173419000      | 311455                  | 8536                                     | 19456           | nan              | 104334      | 179129                 | 3750313                  | 1043547      | 2289914           | 416852\n",
       "1965 |           | 193816000      | 388288                  | 9979                                     | 23494           | nan              | 138850      | 215965                 | 4364824                  | 1284159      | 2583515           | 497150\n",
       "1966 |           | 195857000      | 430593                  | 11054                                    | 25921           | nan              | 157854      | 235764                 | 4806528                  | 1411410      | 2833618           | 561500\n",
       "1967 |           | 197864000      | 500024                  | 12248                                    | 27678           | nan              | 202679      | 257419                 | 5417559                  | 1633461      | 3123919           | 660179\n",
       "1968 |           | 199860000      | 595338                  | 13824                                    | 31725           | nan              | 262588      | 287201                 | 6140425                  | 1859756      | 3496715           | 783954\n",
       "1969 |           | 201927000      | 662285                  | 14749                                    | 37624           | nan              | 298609      | 311303                 | 6676261                  | 1982586      | 3814792           | 878883\n",
       "... (45 rows omitted)"
      ]
     },
     "execution_count": 39,
     "metadata": {},
     "output_type": "execute_result"
    }
   ],
   "source": [
    "states.group(\"Year\", sum)"
   ]
  },
  {
   "cell_type": "code",
   "execution_count": 46,
   "metadata": {
    "collapsed": false
   },
   "outputs": [
    {
     "data": {
      "text/html": [
       "<table border=\"1\" class=\"dataframe\">\n",
       "    <thead>\n",
       "        <tr>\n",
       "            <th>Year</th> <th>State len</th> <th>Population len</th> <th>Violent crime total len</th> <th>Murder and nonnegligent Manslaughter len</th> <th>Legacy rape len</th> <th>Revised rape len</th> <th>Robbery len</th> <th>Aggravated assault len</th> <th>Property crime total len</th> <th>Burglary len</th> <th>Larceny-theft len</th> <th>Motor vehicle theft len</th>\n",
       "        </tr>\n",
       "    </thead>\n",
       "    <tbody>\n",
       "        <tr>\n",
       "            <td>1960</td> <td>50       </td> <td>50            </td> <td>50                     </td> <td>50                                      </td> <td>50             </td> <td>50              </td> <td>50         </td> <td>50                    </td> <td>50                      </td> <td>50          </td> <td>50               </td> <td>50                     </td>\n",
       "        </tr>\n",
       "    </tbody>\n",
       "        <tr>\n",
       "            <td>1961</td> <td>50       </td> <td>50            </td> <td>50                     </td> <td>50                                      </td> <td>50             </td> <td>50              </td> <td>50         </td> <td>50                    </td> <td>50                      </td> <td>50          </td> <td>50               </td> <td>50                     </td>\n",
       "        </tr>\n",
       "    </tbody>\n",
       "        <tr>\n",
       "            <td>1962</td> <td>50       </td> <td>50            </td> <td>50                     </td> <td>50                                      </td> <td>50             </td> <td>50              </td> <td>50         </td> <td>50                    </td> <td>50                      </td> <td>50          </td> <td>50               </td> <td>50                     </td>\n",
       "        </tr>\n",
       "    </tbody>\n",
       "        <tr>\n",
       "            <td>1963</td> <td>50       </td> <td>50            </td> <td>50                     </td> <td>50                                      </td> <td>50             </td> <td>50              </td> <td>50         </td> <td>50                    </td> <td>50                      </td> <td>50          </td> <td>50               </td> <td>50                     </td>\n",
       "        </tr>\n",
       "    </tbody>\n",
       "        <tr>\n",
       "            <td>1964</td> <td>50       </td> <td>50            </td> <td>50                     </td> <td>50                                      </td> <td>50             </td> <td>50              </td> <td>50         </td> <td>50                    </td> <td>50                      </td> <td>50          </td> <td>50               </td> <td>50                     </td>\n",
       "        </tr>\n",
       "    </tbody>\n",
       "        <tr>\n",
       "            <td>1965</td> <td>51       </td> <td>51            </td> <td>51                     </td> <td>51                                      </td> <td>51             </td> <td>51              </td> <td>51         </td> <td>51                    </td> <td>51                      </td> <td>51          </td> <td>51               </td> <td>51                     </td>\n",
       "        </tr>\n",
       "    </tbody>\n",
       "        <tr>\n",
       "            <td>1966</td> <td>51       </td> <td>51            </td> <td>51                     </td> <td>51                                      </td> <td>51             </td> <td>51              </td> <td>51         </td> <td>51                    </td> <td>51                      </td> <td>51          </td> <td>51               </td> <td>51                     </td>\n",
       "        </tr>\n",
       "    </tbody>\n",
       "        <tr>\n",
       "            <td>1967</td> <td>51       </td> <td>51            </td> <td>51                     </td> <td>51                                      </td> <td>51             </td> <td>51              </td> <td>51         </td> <td>51                    </td> <td>51                      </td> <td>51          </td> <td>51               </td> <td>51                     </td>\n",
       "        </tr>\n",
       "    </tbody>\n",
       "        <tr>\n",
       "            <td>1968</td> <td>51       </td> <td>51            </td> <td>51                     </td> <td>51                                      </td> <td>51             </td> <td>51              </td> <td>51         </td> <td>51                    </td> <td>51                      </td> <td>51          </td> <td>51               </td> <td>51                     </td>\n",
       "        </tr>\n",
       "    </tbody>\n",
       "        <tr>\n",
       "            <td>1969</td> <td>51       </td> <td>51            </td> <td>51                     </td> <td>51                                      </td> <td>51             </td> <td>51              </td> <td>51         </td> <td>51                    </td> <td>51                      </td> <td>51          </td> <td>51               </td> <td>51                     </td>\n",
       "        </tr>\n",
       "    </tbody>\n",
       "</table>\n",
       "<p>... (45 rows omitted)</p"
      ],
      "text/plain": [
       "Year | State len | Population len | Violent crime total len | Murder and nonnegligent Manslaughter len | Legacy rape len | Revised rape len | Robbery len | Aggravated assault len | Property crime total len | Burglary len | Larceny-theft len | Motor vehicle theft len\n",
       "1960 | 50        | 50             | 50                      | 50                                       | 50              | 50               | 50          | 50                     | 50                       | 50           | 50                | 50\n",
       "1961 | 50        | 50             | 50                      | 50                                       | 50              | 50               | 50          | 50                     | 50                       | 50           | 50                | 50\n",
       "1962 | 50        | 50             | 50                      | 50                                       | 50              | 50               | 50          | 50                     | 50                       | 50           | 50                | 50\n",
       "1963 | 50        | 50             | 50                      | 50                                       | 50              | 50               | 50          | 50                     | 50                       | 50           | 50                | 50\n",
       "1964 | 50        | 50             | 50                      | 50                                       | 50              | 50               | 50          | 50                     | 50                       | 50           | 50                | 50\n",
       "1965 | 51        | 51             | 51                      | 51                                       | 51              | 51               | 51          | 51                     | 51                       | 51           | 51                | 51\n",
       "1966 | 51        | 51             | 51                      | 51                                       | 51              | 51               | 51          | 51                     | 51                       | 51           | 51                | 51\n",
       "1967 | 51        | 51             | 51                      | 51                                       | 51              | 51               | 51          | 51                     | 51                       | 51           | 51                | 51\n",
       "1968 | 51        | 51             | 51                      | 51                                       | 51              | 51               | 51          | 51                     | 51                       | 51           | 51                | 51\n",
       "1969 | 51        | 51             | 51                      | 51                                       | 51              | 51               | 51          | 51                     | 51                       | 51           | 51                | 51\n",
       "... (45 rows omitted)"
      ]
     },
     "execution_count": 46,
     "metadata": {},
     "output_type": "execute_result"
    }
   ],
   "source": [
    "states.group(\"Year\", len) # What does this do?"
   ]
  },
  {
   "cell_type": "code",
   "execution_count": 40,
   "metadata": {
    "collapsed": true
   },
   "outputs": [],
   "source": [
    "by_year = states.group(\"Year\", sum)\n",
    "by_year = by_year.with_columns(\"Violent crime per capita\", by_year.column(3) / by_year.column(2))"
   ]
  },
  {
   "cell_type": "code",
   "execution_count": 42,
   "metadata": {
    "collapsed": false
   },
   "outputs": [
    {
     "data": {
      "image/png": "[encoded data removed]",
      "text/plain": [
       "<matplotlib.figure.Figure at 0x10f4e88d0>"
      ]
     },
     "metadata": {},
     "output_type": "display_data"
    }
   ],
   "source": [
    "by_year.plot(\"Year\", \"Violent crime total sum\")"
   ]
  },
  {
   "cell_type": "code",
   "execution_count": 41,
   "metadata": {
    "collapsed": false
   },
   "outputs": [
    {
     "data": {
      "image/png": "[encoded data removed]",
      "text/plain": [
       "<matplotlib.figure.Figure at 0x10ef06240>"
      ]
     },
     "metadata": {},
     "output_type": "display_data"
    }
   ],
   "source": [
    "by_year.plot(\"Year\", \"Violent crime per capita\")"
   ]
  },
  {
   "cell_type": "code",
   "execution_count": 29,
   "metadata": {
    "collapsed": false
   },
   "outputs": [
    {
     "data": {
      "text/html": [
       "<table border=\"1\" class=\"dataframe\">\n",
       "    <thead>\n",
       "        <tr>\n",
       "            <th>Activity</th> <th>count</th>\n",
       "        </tr>\n",
       "    </thead>\n",
       "    <tbody>\n",
       "        <tr>\n",
       "            <td>Attending class                            </td> <td>2    </td>\n",
       "        </tr>\n",
       "    </tbody>\n",
       "        <tr>\n",
       "            <td>Caring for and helping household children  </td> <td>2    </td>\n",
       "        </tr>\n",
       "    </tbody>\n",
       "        <tr>\n",
       "            <td>Caring for and helping household members   </td> <td>2    </td>\n",
       "        </tr>\n",
       "    </tbody>\n",
       "        <tr>\n",
       "            <td>Caring for and helping nonhousehold adults </td> <td>2    </td>\n",
       "        </tr>\n",
       "    </tbody>\n",
       "        <tr>\n",
       "            <td>Caring for and helping nonhousehold members</td> <td>2    </td>\n",
       "        </tr>\n",
       "    </tbody>\n",
       "        <tr>\n",
       "            <td>Consumer goods purchases                   </td> <td>2    </td>\n",
       "        </tr>\n",
       "    </tbody>\n",
       "        <tr>\n",
       "            <td>Eating and drinking                        </td> <td>2    </td>\n",
       "        </tr>\n",
       "    </tbody>\n",
       "        <tr>\n",
       "            <td>Educational activities                     </td> <td>2    </td>\n",
       "        </tr>\n",
       "    </tbody>\n",
       "        <tr>\n",
       "            <td>Food preparation and cleanup               </td> <td>2    </td>\n",
       "        </tr>\n",
       "    </tbody>\n",
       "        <tr>\n",
       "            <td>Homework and research                      </td> <td>2    </td>\n",
       "        </tr>\n",
       "    </tbody>\n",
       "</table>\n",
       "<p>... (20 rows omitted)</p"
      ],
      "text/plain": [
       "Activity                                    | count\n",
       "Attending class                             | 2\n",
       "Caring for and helping household children   | 2\n",
       "Caring for and helping household members    | 2\n",
       "Caring for and helping nonhousehold adults  | 2\n",
       "Caring for and helping nonhousehold members | 2\n",
       "Consumer goods purchases                    | 2\n",
       "Eating and drinking                         | 2\n",
       "Educational activities                      | 2\n",
       "Food preparation and cleanup                | 2\n",
       "Homework and research                       | 2\n",
       "... (20 rows omitted)"
      ]
     },
     "execution_count": 29,
     "metadata": {},
     "output_type": "execute_result"
    }
   ],
   "source": [
    "time_use.group(\"Activity\")"
   ]
  },
  {
   "cell_type": "code",
   "execution_count": 30,
   "metadata": {
    "collapsed": false
   },
   "outputs": [
    {
     "data": {
      "text/html": [
       "<table border=\"1\" class=\"dataframe\">\n",
       "    <thead>\n",
       "        <tr>\n",
       "            <th>Activity</th> <th>Gender mean</th> <th>Type mean</th> <th>Average hours per day mean</th> <th>Average percent engaged in the activity mean</th> <th>Average hours per day for persons who engaged in the activity mean</th>\n",
       "        </tr>\n",
       "    </thead>\n",
       "    <tbody>\n",
       "        <tr>\n",
       "            <td>Attending class                            </td> <td>           </td> <td>         </td> <td>0.265                     </td> <td>5                                           </td> <td>5.395                                                             </td>\n",
       "        </tr>\n",
       "    </tbody>\n",
       "        <tr>\n",
       "            <td>Caring for and helping household children  </td> <td>           </td> <td>         </td> <td>0.33                      </td> <td>18.05                                       </td> <td>1.79                                                              </td>\n",
       "        </tr>\n",
       "    </tbody>\n",
       "        <tr>\n",
       "            <td>Caring for and helping household members   </td> <td>           </td> <td>         </td> <td>0.43                      </td> <td>22.3                                        </td> <td>1.915                                                             </td>\n",
       "        </tr>\n",
       "    </tbody>\n",
       "        <tr>\n",
       "            <td>Caring for and helping nonhousehold adults </td> <td>           </td> <td>         </td> <td>0.075                     </td> <td>8.1                                         </td> <td>0.94                                                              </td>\n",
       "        </tr>\n",
       "    </tbody>\n",
       "        <tr>\n",
       "            <td>Caring for and helping nonhousehold members</td> <td>           </td> <td>         </td> <td>0.2                       </td> <td>11.7                                        </td> <td>1.725                                                             </td>\n",
       "        </tr>\n",
       "    </tbody>\n",
       "        <tr>\n",
       "            <td>Consumer goods purchases                   </td> <td>           </td> <td>         </td> <td>0.32                      </td> <td>38.65                                       </td> <td>0.825                                                             </td>\n",
       "        </tr>\n",
       "    </tbody>\n",
       "        <tr>\n",
       "            <td>Eating and drinking                        </td> <td>           </td> <td>         </td> <td>1.18                      </td> <td>94.55                                       </td> <td>1.25                                                              </td>\n",
       "        </tr>\n",
       "    </tbody>\n",
       "        <tr>\n",
       "            <td>Educational activities                     </td> <td>           </td> <td>         </td> <td>0.47                      </td> <td>7.75                                        </td> <td>6.115                                                             </td>\n",
       "        </tr>\n",
       "    </tbody>\n",
       "        <tr>\n",
       "            <td>Food preparation and cleanup               </td> <td>           </td> <td>         </td> <td>0.47                      </td> <td>51.45                                       </td> <td>0.895                                                             </td>\n",
       "        </tr>\n",
       "    </tbody>\n",
       "        <tr>\n",
       "            <td>Homework and research                      </td> <td>           </td> <td>         </td> <td>0.165                     </td> <td>5.7                                         </td> <td>2.945                                                             </td>\n",
       "        </tr>\n",
       "    </tbody>\n",
       "</table>\n",
       "<p>... (20 rows omitted)</p"
      ],
      "text/plain": [
       "Activity                                    | Gender mean | Type mean | Average hours per day mean | Average percent engaged in the activity mean | Average hours per day for persons who engaged in the activity mean\n",
       "Attending class                             |             |           | 0.265                      | 5                                            | 5.395\n",
       "Caring for and helping household children   |             |           | 0.33                       | 18.05                                        | 1.79\n",
       "Caring for and helping household members    |             |           | 0.43                       | 22.3                                         | 1.915\n",
       "Caring for and helping nonhousehold adults  |             |           | 0.075                      | 8.1                                          | 0.94\n",
       "Caring for and helping nonhousehold members |             |           | 0.2                        | 11.7                                         | 1.725\n",
       "Consumer goods purchases                    |             |           | 0.32                       | 38.65                                        | 0.825\n",
       "Eating and drinking                         |             |           | 1.18                       | 94.55                                        | 1.25\n",
       "Educational activities                      |             |           | 0.47                       | 7.75                                         | 6.115\n",
       "Food preparation and cleanup                |             |           | 0.47                       | 51.45                                        | 0.895\n",
       "Homework and research                       |             |           | 0.165                      | 5.7                                          | 2.945\n",
       "... (20 rows omitted)"
      ]
     },
     "execution_count": 30,
     "metadata": {},
     "output_type": "execute_result"
    }
   ],
   "source": [
    "time_use.group(\"Activity\", np.mean)"
   ]
  },
  {
   "cell_type": "code",
   "execution_count": 32,
   "metadata": {
    "collapsed": false,
    "scrolled": true
   },
   "outputs": [
    {
     "data": {
      "text/html": [
       "<table border=\"1\" class=\"dataframe\">\n",
       "    <thead>\n",
       "        <tr>\n",
       "            <th>PLAYER</th> <th>POSITION</th> <th>TEAM</th> <th>SALARY</th>\n",
       "        </tr>\n",
       "    </thead>\n",
       "    <tbody>\n",
       "        <tr>\n",
       "            <td>Paul Millsap    </td> <td>PF      </td> <td>Atlanta Hawks</td> <td>18.6717</td>\n",
       "        </tr>\n",
       "    </tbody>\n",
       "        <tr>\n",
       "            <td>Al Horford      </td> <td>C       </td> <td>Atlanta Hawks</td> <td>12     </td>\n",
       "        </tr>\n",
       "    </tbody>\n",
       "        <tr>\n",
       "            <td>Tiago Splitter  </td> <td>C       </td> <td>Atlanta Hawks</td> <td>9.75625</td>\n",
       "        </tr>\n",
       "    </tbody>\n",
       "        <tr>\n",
       "            <td>Jeff Teague     </td> <td>PG      </td> <td>Atlanta Hawks</td> <td>8      </td>\n",
       "        </tr>\n",
       "    </tbody>\n",
       "        <tr>\n",
       "            <td>Kyle Korver     </td> <td>SG      </td> <td>Atlanta Hawks</td> <td>5.74648</td>\n",
       "        </tr>\n",
       "    </tbody>\n",
       "        <tr>\n",
       "            <td>Thabo Sefolosha </td> <td>SF      </td> <td>Atlanta Hawks</td> <td>4      </td>\n",
       "        </tr>\n",
       "    </tbody>\n",
       "        <tr>\n",
       "            <td>Mike Scott      </td> <td>PF      </td> <td>Atlanta Hawks</td> <td>3.33333</td>\n",
       "        </tr>\n",
       "    </tbody>\n",
       "        <tr>\n",
       "            <td>Kent Bazemore   </td> <td>SF      </td> <td>Atlanta Hawks</td> <td>2      </td>\n",
       "        </tr>\n",
       "    </tbody>\n",
       "        <tr>\n",
       "            <td>Dennis Schroder </td> <td>PG      </td> <td>Atlanta Hawks</td> <td>1.7634 </td>\n",
       "        </tr>\n",
       "    </tbody>\n",
       "        <tr>\n",
       "            <td>Tim Hardaway Jr.</td> <td>SG      </td> <td>Atlanta Hawks</td> <td>1.30452</td>\n",
       "        </tr>\n",
       "    </tbody>\n",
       "</table>\n",
       "<p>... (407 rows omitted)</p"
      ],
      "text/plain": [
       "PLAYER           | POSITION | TEAM          | SALARY\n",
       "Paul Millsap     | PF       | Atlanta Hawks | 18.6717\n",
       "Al Horford       | C        | Atlanta Hawks | 12\n",
       "Tiago Splitter   | C        | Atlanta Hawks | 9.75625\n",
       "Jeff Teague      | PG       | Atlanta Hawks | 8\n",
       "Kyle Korver      | SG       | Atlanta Hawks | 5.74648\n",
       "Thabo Sefolosha  | SF       | Atlanta Hawks | 4\n",
       "Mike Scott       | PF       | Atlanta Hawks | 3.33333\n",
       "Kent Bazemore    | SF       | Atlanta Hawks | 2\n",
       "Dennis Schroder  | PG       | Atlanta Hawks | 1.7634\n",
       "Tim Hardaway Jr. | SG       | Atlanta Hawks | 1.30452\n",
       "... (407 rows omitted)"
      ]
     },
     "execution_count": 32,
     "metadata": {},
     "output_type": "execute_result"
    }
   ],
   "source": [
    "nba = Table.read_table(\"nba_salaries.csv\").relabeled(\"'15-'16 SALARY\", \"SALARY\")\n",
    "nba"
   ]
  },
  {
   "cell_type": "code",
   "execution_count": 34,
   "metadata": {
    "collapsed": false
   },
   "outputs": [
    {
     "data": {
      "text/html": [
       "<table border=\"1\" class=\"dataframe\">\n",
       "    <thead>\n",
       "        <tr>\n",
       "            <th>TEAM</th> <th>PLAYER sum</th> <th>POSITION sum</th> <th>SALARY sum</th>\n",
       "        </tr>\n",
       "    </thead>\n",
       "    <tbody>\n",
       "        <tr>\n",
       "            <td>Cleveland Cavaliers  </td> <td>          </td> <td>            </td> <td>102.312   </td>\n",
       "        </tr>\n",
       "    </tbody>\n",
       "        <tr>\n",
       "            <td>Oklahoma City Thunder</td> <td>          </td> <td>            </td> <td>96.8322   </td>\n",
       "        </tr>\n",
       "    </tbody>\n",
       "        <tr>\n",
       "            <td>Golden State Warriors</td> <td>          </td> <td>            </td> <td>94.0851   </td>\n",
       "        </tr>\n",
       "    </tbody>\n",
       "        <tr>\n",
       "            <td>Memphis Grizzlies    </td> <td>          </td> <td>            </td> <td>93.7964   </td>\n",
       "        </tr>\n",
       "    </tbody>\n",
       "        <tr>\n",
       "            <td>Washington Wizards   </td> <td>          </td> <td>            </td> <td>90.0475   </td>\n",
       "        </tr>\n",
       "    </tbody>\n",
       "        <tr>\n",
       "            <td>Houston Rockets      </td> <td>          </td> <td>            </td> <td>85.2858   </td>\n",
       "        </tr>\n",
       "    </tbody>\n",
       "        <tr>\n",
       "            <td>San Antonio Spurs    </td> <td>          </td> <td>            </td> <td>84.6521   </td>\n",
       "        </tr>\n",
       "    </tbody>\n",
       "        <tr>\n",
       "            <td>Charlotte Hornets    </td> <td>          </td> <td>            </td> <td>84.1024   </td>\n",
       "        </tr>\n",
       "    </tbody>\n",
       "        <tr>\n",
       "            <td>Miami Heat           </td> <td>          </td> <td>            </td> <td>81.5287   </td>\n",
       "        </tr>\n",
       "    </tbody>\n",
       "        <tr>\n",
       "            <td>New Orleans Pelicans </td> <td>          </td> <td>            </td> <td>80.5146   </td>\n",
       "        </tr>\n",
       "    </tbody>\n",
       "</table>\n",
       "<p>... (20 rows omitted)</p"
      ],
      "text/plain": [
       "TEAM                  | PLAYER sum | POSITION sum | SALARY sum\n",
       "Cleveland Cavaliers   |            |              | 102.312\n",
       "Oklahoma City Thunder |            |              | 96.8322\n",
       "Golden State Warriors |            |              | 94.0851\n",
       "Memphis Grizzlies     |            |              | 93.7964\n",
       "Washington Wizards    |            |              | 90.0475\n",
       "Houston Rockets       |            |              | 85.2858\n",
       "San Antonio Spurs     |            |              | 84.6521\n",
       "Charlotte Hornets     |            |              | 84.1024\n",
       "Miami Heat            |            |              | 81.5287\n",
       "New Orleans Pelicans  |            |              | 80.5146\n",
       "... (20 rows omitted)"
      ]
     },
     "execution_count": 34,
     "metadata": {},
     "output_type": "execute_result"
    }
   ],
   "source": [
    "nba.group(\"TEAM\", sum).sort(\"SALARY sum\", descending=True)"
   ]
  },
  {
   "cell_type": "code",
   "execution_count": 35,
   "metadata": {
    "collapsed": false
   },
   "outputs": [
    {
     "data": {
      "image/png": "[encoded data removed]",
      "text/plain": [
       "<matplotlib.figure.Figure at 0x106adf550>"
      ]
     },
     "metadata": {},
     "output_type": "display_data"
    }
   ],
   "source": [
    "nba.group(\"TEAM\", sum).hist(\"SALARY sum\")"
   ]
  },
  {
   "cell_type": "code",
   "execution_count": 36,
   "metadata": {
    "collapsed": false
   },
   "outputs": [
    {
     "data": {
      "text/html": [
       "<table border=\"1\" class=\"dataframe\">\n",
       "    <thead>\n",
       "        <tr>\n",
       "            <th>POSITION</th> <th>PLAYER sum</th> <th>TEAM sum</th> <th>SALARY sum</th>\n",
       "        </tr>\n",
       "    </thead>\n",
       "    <tbody>\n",
       "        <tr>\n",
       "            <td>C       </td> <td>          </td> <td>        </td> <td>419.721   </td>\n",
       "        </tr>\n",
       "    </tbody>\n",
       "        <tr>\n",
       "            <td>PF      </td> <td>          </td> <td>        </td> <td>420.864   </td>\n",
       "        </tr>\n",
       "    </tbody>\n",
       "        <tr>\n",
       "            <td>PG      </td> <td>          </td> <td>        </td> <td>439.066   </td>\n",
       "        </tr>\n",
       "    </tbody>\n",
       "        <tr>\n",
       "            <td>SF      </td> <td>          </td> <td>        </td> <td>453.679   </td>\n",
       "        </tr>\n",
       "    </tbody>\n",
       "        <tr>\n",
       "            <td>SG      </td> <td>          </td> <td>        </td> <td>382.867   </td>\n",
       "        </tr>\n",
       "    </tbody>\n",
       "</table>"
      ],
      "text/plain": [
       "POSITION | PLAYER sum | TEAM sum | SALARY sum\n",
       "C        |            |          | 419.721\n",
       "PF       |            |          | 420.864\n",
       "PG       |            |          | 439.066\n",
       "SF       |            |          | 453.679\n",
       "SG       |            |          | 382.867"
      ]
     },
     "execution_count": 36,
     "metadata": {},
     "output_type": "execute_result"
    }
   ],
   "source": [
    "nba.group(\"POSITION\", sum) # Not too useful?"
   ]
  },
  {
   "cell_type": "code",
   "execution_count": 37,
   "metadata": {
    "collapsed": false,
    "scrolled": true
   },
   "outputs": [
    {
     "data": {
      "text/html": [
       "<table border=\"1\" class=\"dataframe\">\n",
       "    <thead>\n",
       "        <tr>\n",
       "            <th>POSITION</th> <th>PLAYER mean</th> <th>TEAM mean</th> <th>SALARY mean</th>\n",
       "        </tr>\n",
       "    </thead>\n",
       "    <tbody>\n",
       "        <tr>\n",
       "            <td>C       </td> <td>           </td> <td>         </td> <td>6.08291    </td>\n",
       "        </tr>\n",
       "    </tbody>\n",
       "        <tr>\n",
       "            <td>PF      </td> <td>           </td> <td>         </td> <td>4.95134    </td>\n",
       "        </tr>\n",
       "    </tbody>\n",
       "        <tr>\n",
       "            <td>PG      </td> <td>           </td> <td>         </td> <td>5.16549    </td>\n",
       "        </tr>\n",
       "    </tbody>\n",
       "        <tr>\n",
       "            <td>SF      </td> <td>           </td> <td>         </td> <td>5.53267    </td>\n",
       "        </tr>\n",
       "    </tbody>\n",
       "        <tr>\n",
       "            <td>SG      </td> <td>           </td> <td>         </td> <td>3.9882     </td>\n",
       "        </tr>\n",
       "    </tbody>\n",
       "</table>"
      ],
      "text/plain": [
       "POSITION | PLAYER mean | TEAM mean | SALARY mean\n",
       "C        |             |           | 6.08291\n",
       "PF       |             |           | 4.95134\n",
       "PG       |             |           | 5.16549\n",
       "SF       |             |           | 5.53267\n",
       "SG       |             |           | 3.9882"
      ]
     },
     "execution_count": 37,
     "metadata": {},
     "output_type": "execute_result"
    }
   ],
   "source": [
    "nba.group(\"POSITION\", np.mean)"
   ]
  },
  {
   "cell_type": "code",
   "execution_count": 39,
   "metadata": {
    "collapsed": false
   },
   "outputs": [
    {
     "data": {
      "image/png": "[encoded data removed]",
      "text/plain": [
       "<matplotlib.figure.Figure at 0x10f3439b0>"
      ]
     },
     "metadata": {},
     "output_type": "display_data"
    }
   ],
   "source": [
    "nba.group(\"POSITION\", np.mean).barh(\"POSITION\", \"SALARY mean\")"
   ]
  },
  {
   "cell_type": "code",
   "execution_count": 40,
   "metadata": {
    "collapsed": false
   },
   "outputs": [
    {
     "data": {
      "image/png": "[encoded data removed]",
      "text/plain": [
       "<matplotlib.figure.Figure at 0x106adf668>"
      ]
     },
     "metadata": {},
     "output_type": "display_data"
    }
   ],
   "source": [
    "nba.group(\"POSITION\", np.median).barh(\"POSITION\", \"SALARY median\")"
   ]
  },
  {
   "cell_type": "code",
   "execution_count": 42,
   "metadata": {
    "collapsed": false
   },
   "outputs": [
    {
     "data": {
      "image/png": "[encoded data removed]",
      "text/plain": [
       "<matplotlib.figure.Figure at 0x10fe01be0>"
      ]
     },
     "metadata": {},
     "output_type": "display_data"
    }
   ],
   "source": [
    "nba.hist(\"SALARY\")"
   ]
  },
  {
   "cell_type": "code",
   "execution_count": 43,
   "metadata": {
    "collapsed": false
   },
   "outputs": [
    {
     "data": {
      "text/html": [
       "<table border=\"1\" class=\"dataframe\">\n",
       "    <thead>\n",
       "        <tr>\n",
       "            <th>POSITION</th> <th>PLAYER max</th> <th>TEAM max</th> <th>SALARY max</th>\n",
       "        </tr>\n",
       "    </thead>\n",
       "    <tbody>\n",
       "        <tr>\n",
       "            <td>C       </td> <td>Zaza Pachulia  </td> <td>Washington Wizards</td> <td>22.3594   </td>\n",
       "        </tr>\n",
       "    </tbody>\n",
       "        <tr>\n",
       "            <td>PF      </td> <td>Zach Randolph  </td> <td>Washington Wizards</td> <td>22.1927   </td>\n",
       "        </tr>\n",
       "    </tbody>\n",
       "        <tr>\n",
       "            <td>PG      </td> <td>Zach LaVine    </td> <td>Washington Wizards</td> <td>21.4687   </td>\n",
       "        </tr>\n",
       "    </tbody>\n",
       "        <tr>\n",
       "            <td>SF      </td> <td>Wilson Chandler</td> <td>Washington Wizards</td> <td>25        </td>\n",
       "        </tr>\n",
       "    </tbody>\n",
       "        <tr>\n",
       "            <td>SG      </td> <td>Zoran Dragic   </td> <td>Washington Wizards</td> <td>20        </td>\n",
       "        </tr>\n",
       "    </tbody>\n",
       "</table>"
      ],
      "text/plain": [
       "POSITION | PLAYER max      | TEAM max           | SALARY max\n",
       "C        | Zaza Pachulia   | Washington Wizards | 22.3594\n",
       "PF       | Zach Randolph   | Washington Wizards | 22.1927\n",
       "PG       | Zach LaVine     | Washington Wizards | 21.4687\n",
       "SF       | Wilson Chandler | Washington Wizards | 25\n",
       "SG       | Zoran Dragic    | Washington Wizards | 20"
      ]
     },
     "execution_count": 43,
     "metadata": {},
     "output_type": "execute_result"
    }
   ],
   "source": [
    "nba.group(\"POSITION\", max) # What do the PLAYER max and TEAM max mean?"
   ]
  },
  {
   "cell_type": "code",
   "execution_count": 46,
   "metadata": {
    "collapsed": false
   },
   "outputs": [
    {
     "data": {
      "text/html": [
       "<table border=\"1\" class=\"dataframe\">\n",
       "    <thead>\n",
       "        <tr>\n",
       "            <th>POSITION</th> <th>SALARY max</th>\n",
       "        </tr>\n",
       "    </thead>\n",
       "    <tbody>\n",
       "        <tr>\n",
       "            <td>C       </td> <td>22.3594   </td>\n",
       "        </tr>\n",
       "    </tbody>\n",
       "        <tr>\n",
       "            <td>PF      </td> <td>22.1927   </td>\n",
       "        </tr>\n",
       "    </tbody>\n",
       "        <tr>\n",
       "            <td>PG      </td> <td>21.4687   </td>\n",
       "        </tr>\n",
       "    </tbody>\n",
       "        <tr>\n",
       "            <td>SF      </td> <td>25        </td>\n",
       "        </tr>\n",
       "    </tbody>\n",
       "        <tr>\n",
       "            <td>SG      </td> <td>20        </td>\n",
       "        </tr>\n",
       "    </tbody>\n",
       "</table>"
      ],
      "text/plain": [
       "POSITION | SALARY max\n",
       "C        | 22.3594\n",
       "PF       | 22.1927\n",
       "PG       | 21.4687\n",
       "SF       | 25\n",
       "SG       | 20"
      ]
     },
     "execution_count": 46,
     "metadata": {},
     "output_type": "execute_result"
    }
   ],
   "source": [
    "nba.select(\"POSITION\", \"SALARY\").group(\"POSITION\", max)"
   ]
  }
 ],
 "metadata": {
  "anaconda-cloud": {},
  "kernelspec": {
   "display_name": "Python [datascience]",
   "language": "python",
   "name": "Python [datascience]"
  },
  "language_info": {
   "codemirror_mode": {
    "name": "ipython",
    "version": 3
   },
   "file_extension": ".py",
   "mimetype": "text/x-python",
   "name": "python",
   "nbconvert_exporter": "python",
   "pygments_lexer": "ipython3",
   "version": "3.5.1"
  }
 },
 "nbformat": 4,
 "nbformat_minor": 1
}
