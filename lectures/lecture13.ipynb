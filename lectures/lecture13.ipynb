{
 "cells": [
  {
   "cell_type": "code",
   "execution_count": 1,
   "metadata": {
    "collapsed": false
   },
   "outputs": [],
   "source": [
    "from datascience import *\n",
    "import numpy as np\n",
    "\n",
    "import matplotlib\n",
    "matplotlib.use('Agg', warn=False)\n",
    "%matplotlib inline\n",
    "import matplotlib.pyplot as plots\n",
    "plots.style.use('fivethirtyeight')"
   ]
  },
  {
   "cell_type": "code",
   "execution_count": 3,
   "metadata": {
    "collapsed": false,
    "scrolled": true
   },
   "outputs": [
    {
     "data": {
      "text/html": [
       "<table border=\"1\" class=\"dataframe\">\n",
       "    <thead>\n",
       "        <tr>\n",
       "            <th>TEAM</th> <th>count</th>\n",
       "        </tr>\n",
       "    </thead>\n",
       "    <tbody>\n",
       "        <tr>\n",
       "            <td>Memphis Grizzlies     </td> <td>21   </td>\n",
       "        </tr>\n",
       "    </tbody>\n",
       "        <tr>\n",
       "            <td>Charlotte Hornets     </td> <td>18   </td>\n",
       "        </tr>\n",
       "    </tbody>\n",
       "        <tr>\n",
       "            <td>Washington Wizards    </td> <td>17   </td>\n",
       "        </tr>\n",
       "    </tbody>\n",
       "        <tr>\n",
       "            <td>Utah Jazz             </td> <td>17   </td>\n",
       "        </tr>\n",
       "    </tbody>\n",
       "        <tr>\n",
       "            <td>Toronto Raptors       </td> <td>17   </td>\n",
       "        </tr>\n",
       "    </tbody>\n",
       "        <tr>\n",
       "            <td>Phoenix Suns          </td> <td>17   </td>\n",
       "        </tr>\n",
       "    </tbody>\n",
       "        <tr>\n",
       "            <td>Oklahoma City Thunder </td> <td>16   </td>\n",
       "        </tr>\n",
       "    </tbody>\n",
       "        <tr>\n",
       "            <td>New Orleans Pelicans  </td> <td>16   </td>\n",
       "        </tr>\n",
       "    </tbody>\n",
       "        <tr>\n",
       "            <td>Boston Celtics        </td> <td>15   </td>\n",
       "        </tr>\n",
       "    </tbody>\n",
       "        <tr>\n",
       "            <td>Portland Trail Blazers</td> <td>14   </td>\n",
       "        </tr>\n",
       "    </tbody>\n",
       "</table>\n",
       "<p>... (20 rows omitted)</p"
      ],
      "text/plain": [
       "TEAM                   | count\n",
       "Memphis Grizzlies      | 21\n",
       "Charlotte Hornets      | 18\n",
       "Washington Wizards     | 17\n",
       "Utah Jazz              | 17\n",
       "Toronto Raptors        | 17\n",
       "Phoenix Suns           | 17\n",
       "Oklahoma City Thunder  | 16\n",
       "New Orleans Pelicans   | 16\n",
       "Boston Celtics         | 15\n",
       "Portland Trail Blazers | 14\n",
       "... (20 rows omitted)"
      ]
     },
     "execution_count": 3,
     "metadata": {},
     "output_type": "execute_result"
    }
   ],
   "source": [
    "nba_salaries.group(\"TEAM\").sort(\"count\", descending=True)"
   ]
  },
  {
   "cell_type": "code",
   "execution_count": 8,
   "metadata": {
    "collapsed": false
   },
   "outputs": [
    {
     "data": {
      "text/html": [
       "<table border=\"1\" class=\"dataframe\">\n",
       "    <thead>\n",
       "        <tr>\n",
       "            <th>TEAM</th> <th>count</th>\n",
       "        </tr>\n",
       "    </thead>\n",
       "    <tbody>\n",
       "        <tr>\n",
       "            <td>Utah Jazz           </td> <td>5    </td>\n",
       "        </tr>\n",
       "    </tbody>\n",
       "        <tr>\n",
       "            <td>Toronto Raptors     </td> <td>5    </td>\n",
       "        </tr>\n",
       "    </tbody>\n",
       "        <tr>\n",
       "            <td>Phoenix Suns        </td> <td>4    </td>\n",
       "        </tr>\n",
       "    </tbody>\n",
       "        <tr>\n",
       "            <td>Orlando Magic       </td> <td>4    </td>\n",
       "        </tr>\n",
       "    </tbody>\n",
       "        <tr>\n",
       "            <td>New Orleans Pelicans</td> <td>4    </td>\n",
       "        </tr>\n",
       "    </tbody>\n",
       "        <tr>\n",
       "            <td>Milwaukee Bucks     </td> <td>4    </td>\n",
       "        </tr>\n",
       "    </tbody>\n",
       "        <tr>\n",
       "            <td>Memphis Grizzlies   </td> <td>4    </td>\n",
       "        </tr>\n",
       "    </tbody>\n",
       "        <tr>\n",
       "            <td>Dallas Mavericks    </td> <td>4    </td>\n",
       "        </tr>\n",
       "    </tbody>\n",
       "        <tr>\n",
       "            <td>Charlotte Hornets   </td> <td>4    </td>\n",
       "        </tr>\n",
       "    </tbody>\n",
       "        <tr>\n",
       "            <td>Boston Celtics      </td> <td>4    </td>\n",
       "        </tr>\n",
       "    </tbody>\n",
       "</table>\n",
       "<p>... (20 rows omitted)</p"
      ],
      "text/plain": [
       "TEAM                 | count\n",
       "Utah Jazz            | 5\n",
       "Toronto Raptors      | 5\n",
       "Phoenix Suns         | 4\n",
       "Orlando Magic        | 4\n",
       "New Orleans Pelicans | 4\n",
       "Milwaukee Bucks      | 4\n",
       "Memphis Grizzlies    | 4\n",
       "Dallas Mavericks     | 4\n",
       "Charlotte Hornets    | 4\n",
       "Boston Celtics       | 4\n",
       "... (20 rows omitted)"
      ]
     },
     "execution_count": 8,
     "metadata": {},
     "output_type": "execute_result"
    }
   ],
   "source": [
    "nba_salaries.where(\"POSITION\", \"PG\").group(\"TEAM\").sort(\"count\", descending=True)"
   ]
  },
  {
   "cell_type": "code",
   "execution_count": 2,
   "metadata": {
    "collapsed": false
   },
   "outputs": [
    {
     "data": {
      "text/html": [
       "<table border=\"1\" class=\"dataframe\">\n",
       "    <thead>\n",
       "        <tr>\n",
       "            <th>PLAYER</th> <th>POSITION</th> <th>TEAM</th> <th>'15-'16 SALARY</th>\n",
       "        </tr>\n",
       "    </thead>\n",
       "    <tbody>\n",
       "        <tr>\n",
       "            <td>Paul Millsap    </td> <td>PF      </td> <td>Atlanta Hawks</td> <td>18.6717       </td>\n",
       "        </tr>\n",
       "    </tbody>\n",
       "        <tr>\n",
       "            <td>Al Horford      </td> <td>C       </td> <td>Atlanta Hawks</td> <td>12            </td>\n",
       "        </tr>\n",
       "    </tbody>\n",
       "        <tr>\n",
       "            <td>Tiago Splitter  </td> <td>C       </td> <td>Atlanta Hawks</td> <td>9.75625       </td>\n",
       "        </tr>\n",
       "    </tbody>\n",
       "        <tr>\n",
       "            <td>Jeff Teague     </td> <td>PG      </td> <td>Atlanta Hawks</td> <td>8             </td>\n",
       "        </tr>\n",
       "    </tbody>\n",
       "        <tr>\n",
       "            <td>Kyle Korver     </td> <td>SG      </td> <td>Atlanta Hawks</td> <td>5.74648       </td>\n",
       "        </tr>\n",
       "    </tbody>\n",
       "        <tr>\n",
       "            <td>Thabo Sefolosha </td> <td>SF      </td> <td>Atlanta Hawks</td> <td>4             </td>\n",
       "        </tr>\n",
       "    </tbody>\n",
       "        <tr>\n",
       "            <td>Mike Scott      </td> <td>PF      </td> <td>Atlanta Hawks</td> <td>3.33333       </td>\n",
       "        </tr>\n",
       "    </tbody>\n",
       "        <tr>\n",
       "            <td>Kent Bazemore   </td> <td>SF      </td> <td>Atlanta Hawks</td> <td>2             </td>\n",
       "        </tr>\n",
       "    </tbody>\n",
       "        <tr>\n",
       "            <td>Dennis Schroder </td> <td>PG      </td> <td>Atlanta Hawks</td> <td>1.7634        </td>\n",
       "        </tr>\n",
       "    </tbody>\n",
       "        <tr>\n",
       "            <td>Tim Hardaway Jr.</td> <td>SG      </td> <td>Atlanta Hawks</td> <td>1.30452       </td>\n",
       "        </tr>\n",
       "    </tbody>\n",
       "</table>\n",
       "<p>... (407 rows omitted)</p"
      ],
      "text/plain": [
       "PLAYER           | POSITION | TEAM          | '15-'16 SALARY\n",
       "Paul Millsap     | PF       | Atlanta Hawks | 18.6717\n",
       "Al Horford       | C        | Atlanta Hawks | 12\n",
       "Tiago Splitter   | C        | Atlanta Hawks | 9.75625\n",
       "Jeff Teague      | PG       | Atlanta Hawks | 8\n",
       "Kyle Korver      | SG       | Atlanta Hawks | 5.74648\n",
       "Thabo Sefolosha  | SF       | Atlanta Hawks | 4\n",
       "Mike Scott       | PF       | Atlanta Hawks | 3.33333\n",
       "Kent Bazemore    | SF       | Atlanta Hawks | 2\n",
       "Dennis Schroder  | PG       | Atlanta Hawks | 1.7634\n",
       "Tim Hardaway Jr. | SG       | Atlanta Hawks | 1.30452\n",
       "... (407 rows omitted)"
      ]
     },
     "execution_count": 2,
     "metadata": {},
     "output_type": "execute_result"
    }
   ],
   "source": [
    "nba_salaries = Table.read_table('nba_salaries.csv')\n",
    "nba_salaries"
   ]
  },
  {
   "cell_type": "code",
   "execution_count": 44,
   "metadata": {
    "collapsed": false,
    "scrolled": true
   },
   "outputs": [
    {
     "data": {
      "text/plain": [
       "array(['Paul Millsap', 'Al Horford', 'Tiago Splitter', 'Jeff Teague',\n",
       "       'Kyle Korver', 'Thabo Sefolosha', 'Mike Scott', 'Kent Bazemore',\n",
       "       'Dennis Schroder', 'Tim Hardaway Jr.', 'Walter Tavares',\n",
       "       'Jason Richardson', 'Lamar Patterson', 'Terran Petteway',\n",
       "       'Avery Bradley', 'Isaiah Thomas', 'Jae Crowder', 'Jonas Jerebko',\n",
       "       'Marcus Smart', 'Evan Turner', 'Tyler Zeller', 'Jared Sullinger',\n",
       "       'Kelly Olynyk', 'Perry Jones', 'Terry Rozier', 'James Young',\n",
       "       'Zoran Dragic', 'Jordan Mickey', 'R.J. Hunter', 'Joe Johnson',\n",
       "       'Thaddeus Young', 'Jarrett Jack', 'Bojan Bogdanovic',\n",
       "       'Sergey Karasev', 'Wayne Ellington', 'Shane Larkin',\n",
       "       'Andrea Bargnani', 'Rondae Hollis-Jefferson', 'Earl Clark',\n",
       "       'Chris McCullough', 'Thomas Robinson', 'Markel Brown',\n",
       "       'Al Jefferson', 'Nicolas Batum', 'Kemba Walker', 'Marvin Williams',\n",
       "       'Michael Kidd-Gilchrist', 'Spencer Hawes', 'Courtney Lee',\n",
       "       'Cody Zeller', 'Jeremy Lamb', 'Brian Roberts', 'Frank Kaminsky III',\n",
       "       'Jeremy Lin', 'P.J. Hairston', 'Damien Wilkins', 'Jorge Gutierrez',\n",
       "       'Tyler Hansbrough', 'Troy Daniels', 'Aaron Harrison',\n",
       "       'Derrick Rose', 'Jimmy Butler', 'Joakim Noah', 'Pau Gasol',\n",
       "       'Nikola Mirotic', 'Mike Dunleavy', 'Kirk Hinrich', 'Doug McDermott',\n",
       "       'Aaron Brooks', 'Tony Snell', 'Bobby Portis', \"E'Twaun Moore\",\n",
       "       'LeBron James', 'Kevin Love', 'Kyrie Irving', 'Tristan Thompson',\n",
       "       'Brendan Haywood', 'Iman Shumpert', 'Timofey Mozgov', 'Mo Williams',\n",
       "       'Sasha Kaun', 'Matthew Dellavedova', 'David Lee',\n",
       "       'Chandler Parsons', 'Dirk Nowitzki', 'Deron Williams',\n",
       "       'Zaza Pachulia', 'J.J. Barea', 'Devin Harris', 'Raymond Felton',\n",
       "       'Justin Anderson', 'JaVale McGee', 'John Jenkins',\n",
       "       'Danilo Gallinari', 'Kenneth Faried', 'Wilson Chandler',\n",
       "       'JJ Hickson', 'Jameer Nelson', 'Will Barton', 'Emmanuel Mudiay',\n",
       "       'Darrell Arthur', 'Jusuf Nurkic', 'Joffrey Lauvergne',\n",
       "       'Gary Harris', 'Nikola Jokic', 'Kostas Papanikolaou',\n",
       "       'Sean Kilpatrick', 'Reggie Jackson', 'Aron Baynes', 'Jodie Meeks',\n",
       "       'Andre Drummond', 'Kentavious Caldwell-Pope', 'Stanley Johnson',\n",
       "       'Joel Anthony', 'Danny Granger', 'Reggie Bullock',\n",
       "       'Darrun Hilliard', 'Klay Thompson', 'Draymond Green',\n",
       "       'Andrew Bogut', 'Andre Iguodala', 'Stephen Curry', 'Jason Thompson',\n",
       "       'Shaun Livingston', 'Harrison Barnes', 'Marreese Speights',\n",
       "       'Leandro Barbosa', 'Festus Ezeli', 'Brandon Rush', 'Kevon Looney',\n",
       "       'Anderson Varejao', 'Dwight Howard', 'James Harden', 'Ty Lawson',\n",
       "       'Corey Brewer', 'Trevor Ariza', 'Patrick Beverley',\n",
       "       'K.J. McDaniels', 'Terrence Jones', 'Donatas Motiejunas',\n",
       "       'Sam Dekker', 'Clint Capela', 'Montrezl Harrell', 'Paul George',\n",
       "       'Monta Ellis', 'Rodney Stuckey', 'Chase Budinger', 'C.J. Miles',\n",
       "       'Lavoy Allen', 'Jordan Hill', 'Ian Mahinmi', 'Myles Turner',\n",
       "       'Solomon Hill', 'Glenn Robinson III', 'Rakeem Christmas',\n",
       "       'Joe Young', 'Chris Paul', 'Blake Griffin', 'J.J. Redick',\n",
       "       'Jamal Crawford', 'Paul Pierce', 'Austin Rivers', 'C.J. Wilcox',\n",
       "       'Cole Aldrich', 'Wesley Johnson', 'Jordan Hamilton',\n",
       "       'Lester Hudson', 'Pablo Prigioni', 'Jeff Ayres', 'Kobe Bryant',\n",
       "       'Roy Hibbert', 'Louis Williams', 'Nick Young', \"D'Angelo Russell\",\n",
       "       'Julius Randle', 'Brandon Bass', 'Ryan Kelly', 'Larry Nance Jr.',\n",
       "       'Robert Sacre', 'Anthony Brown', 'Marc Gasol', 'Zach Randolph',\n",
       "       'Mike Conley', 'Jeff Green', 'Lance Stephenson', 'Brandan Wright',\n",
       "       'Tony Allen', 'Chris Andersen', 'Mario Chalmers', 'Vince Carter',\n",
       "       'Matt Barnes', 'Beno Udrih', 'Jordan Adams', 'Jarell Martin',\n",
       "       'JaMychal Green', 'Russ Smith', 'James Ennis', 'Jarnell Stokes',\n",
       "       'Jarrid Famous', 'Ryan Hollins', 'Elliot Williams', 'Chris Bosh',\n",
       "       'Dwyane Wade', 'Goran Dragic', 'Luol Deng', 'Josh McRoberts',\n",
       "       'Udonis Haslem', 'Justise Winslow', 'Henry Walker', 'Tyler Johnson',\n",
       "       'Greg Whittington', 'Josh Richardson', 'Corey Hawkins',\n",
       "       'Khris Middleton', 'O.J. Mayo', 'Greivis Vasquez', 'Jabari Parker',\n",
       "       'Jerryd Bayless', 'John Henson', 'Michael Carter-Williams',\n",
       "       'Miles Plumlee', 'Giannis Antetokounmpo', 'Rashad Vaughn',\n",
       "       'Tyler Ennis', 'Chris Copeland', 'Damien Inglis', 'Ricky Rubio',\n",
       "       'Nikola Pekovic', 'Kevin Garnett', 'Kevin Martin', 'Andrew Wiggins',\n",
       "       'Karl-Anthony Towns', 'Nemanja Bjelica', 'Zach LaVine',\n",
       "       'Shabazz Muhammad', 'Adreian Payne', 'Gorgui Dieng', 'Tyus Jones',\n",
       "       'Damjan Rudez', 'Eric Gordon', 'Tyreke Evans', 'Jrue Holiday',\n",
       "       'Omer Asik', 'Ryan Anderson', 'Anthony Davis', 'Alexis Ajinca',\n",
       "       'Quincy Pondexter', 'Norris Cole', 'Dante Cunningham', 'Alonzo Gee',\n",
       "       'Toney Douglas', 'Luke Babbitt', 'Kendrick Perkins', 'Bo McCalebb',\n",
       "       'Bryce Dejean-Jones', 'Carmelo Anthony', 'Robin Lopez',\n",
       "       'Arron Afflalo', 'Jose Calderon', 'Kristaps Porzingis',\n",
       "       'Derrick Williams', \"Kyle O'Quinn\", 'Lance Thomas', 'Lou Amundson',\n",
       "       'Jerian Grant', 'Jimmer Fredette', 'Langston Galloway',\n",
       "       'Thanasis Antetokounmpo', 'Kevin Durant', 'Russell Westbrook',\n",
       "       'Enes Kanter', 'Serge Ibaka', 'Dion Waiters', 'Kyle Singler',\n",
       "       'Nick Collison', 'Anthony Morrow', 'Randy Foye', 'D.J. Augustin',\n",
       "       'Steven Adams', 'Cameron Payne', 'Mitch McGary', 'Andre Roberson',\n",
       "       'Josh Huestis', 'Steve Novak', 'Tobias Harris', 'Nikola Vucevic',\n",
       "       'Brandon Jennings', 'Channing Frye', 'Ersan Ilyasova',\n",
       "       'Victor Oladipo', 'Jason Smith', 'Aaron Gordon', 'Mario Hezonja',\n",
       "       'Elfrid Payton', 'Andrew Nicholson', 'Evan Fournier',\n",
       "       'Shabazz Napier', 'Keith Appling', 'Gerald Wallace', 'Carl Landry',\n",
       "       'Joel Embiid', 'Jahlil Okafor', 'Nerlens Noel', 'Nik Stauskas',\n",
       "       'Furkan Aldemir', 'Tony Wroten', 'Kendall Marshall',\n",
       "       'Richaun Holmes', 'Robert Covington', 'Jerami Grant',\n",
       "       'JaKarr Sampson', 'Eric Bledsoe', 'Tyson Chandler',\n",
       "       'Mirza Teletovic', 'P.J. Tucker', 'Alex Len', 'Devin Booker',\n",
       "       'T.J. Warren', 'Archie Goodwin', 'Jon Leuer', 'Jerel McNeal',\n",
       "       'Terrico White', 'Bryce Cotton', 'Lorenzo Brown', 'Orlando Johnson',\n",
       "       'Phil Pressey', 'Jordan McRae', 'Cory Jefferson', 'Al-Farouq Aminu',\n",
       "       'Ed Davis', 'Gerald Henderson', 'Chris Kaman', 'Damian Lillard',\n",
       "       'Meyers Leonard', 'Maurice Harkless', 'Noah Vonleh',\n",
       "       'C.J. McCollum', 'Mason Plumlee', 'Allen Crabbe', 'Pat Connaughton',\n",
       "       'Luis Montero', 'Cliff Alexander', 'DeMarcus Cousins', 'Rudy Gay',\n",
       "       'Rajon Rondo', 'Kosta Koufos', 'Marco Belinelli', 'Darren Collison',\n",
       "       'Willie Cauley-Stein', 'Ben McLemore', 'Omri Casspi',\n",
       "       'Caron Butler', 'James Anderson', 'LaMarcus Aldridge',\n",
       "       'Kawhi Leonard', 'Tony Parker', 'Danny Green', 'Boris Diaw',\n",
       "       'Tim Duncan', 'Patty Mills', 'Manu Ginobili', 'David West',\n",
       "       'Boban Marjanovic', 'Reggie Williams', 'Kyle Anderson',\n",
       "       'Ray McCallum', 'DeMarre Carroll', 'Kyle Lowry', 'DeMar DeRozan',\n",
       "       'Cory Joseph', 'Patrick Patterson', 'Jonas Valanciunas',\n",
       "       'Terrence Ross', 'Luis Scola', 'Bismack Biyombo', 'Luke Ridnour',\n",
       "       'James Johnson', 'Lucas Nogueira', 'Bruno Caboclo', 'Delon Wright',\n",
       "       'Norman Powell', 'Shannon Scott', 'Ronald Roberts Jr.',\n",
       "       'Gordon Hayward', 'Alec Burks', 'Trevor Booker', 'Dante Exum',\n",
       "       'Tibor Pleiss', 'Trey Burke', 'Shelvin Mack', 'Trey Lyles',\n",
       "       'Joe Ingles', 'Rodney Hood', 'Rudy Gobert', 'Chris Johnson',\n",
       "       'Grant Jerrett', 'Jeff Withey', 'Raul Neto', 'Treveon Graham',\n",
       "       'Erick Green', 'John Wall', 'Nene Hilario', 'Marcin Gortat',\n",
       "       'Markieff Morris', 'Bradley Beal', 'Martell Webster',\n",
       "       'Otto Porter Jr.', 'Kris Humphries', 'Jared Dudley',\n",
       "       'Alan Anderson', 'Drew Gooden', 'Ramon Sessions', 'Gary Neal',\n",
       "       'DeJuan Blair', 'Kelly Oubre Jr.', 'Garrett Temple', 'Jarell Eddie'], \n",
       "      dtype='<U24')"
      ]
     },
     "execution_count": 44,
     "metadata": {},
     "output_type": "execute_result"
    }
   ],
   "source": [
    "nba_salaries.column(\"PLAYER\")"
   ]
  },
  {
   "cell_type": "code",
   "execution_count": 45,
   "metadata": {
    "collapsed": false
   },
   "outputs": [
    {
     "data": {
      "text/plain": [
       "array(['Paul Millsap', 'Al Horford', 'Tiago Splitter', 'Jeff Teague',\n",
       "       'Kyle Korver', 'Thabo Sefolosha', 'Mike Scott', 'Kent Bazemore',\n",
       "       'Dennis Schroder', 'Tim Hardaway Jr.', 'Walter Tavares',\n",
       "       'Jason Richardson', 'Lamar Patterson', 'Terran Petteway',\n",
       "       'Avery Bradley', 'Isaiah Thomas', 'Jae Crowder', 'Jonas Jerebko',\n",
       "       'Marcus Smart', 'Evan Turner', 'Tyler Zeller', 'Jared Sullinger',\n",
       "       'Kelly Olynyk', 'Perry Jones', 'Terry Rozier', 'James Young',\n",
       "       'Zoran Dragic', 'Jordan Mickey', 'R.J. Hunter', 'Joe Johnson',\n",
       "       'Thaddeus Young', 'Jarrett Jack', 'Bojan Bogdanovic',\n",
       "       'Sergey Karasev', 'Wayne Ellington', 'Shane Larkin',\n",
       "       'Andrea Bargnani', 'Rondae Hollis-Jefferson', 'Earl Clark',\n",
       "       'Chris McCullough', 'Thomas Robinson', 'Markel Brown',\n",
       "       'Al Jefferson', 'Nicolas Batum', 'Kemba Walker', 'Marvin Williams',\n",
       "       'Michael Kidd-Gilchrist', 'Spencer Hawes', 'Courtney Lee',\n",
       "       'Cody Zeller', 'Jeremy Lamb', 'Brian Roberts', 'Frank Kaminsky III',\n",
       "       'Jeremy Lin', 'P.J. Hairston', 'Damien Wilkins', 'Jorge Gutierrez',\n",
       "       'Tyler Hansbrough', 'Troy Daniels', 'Aaron Harrison',\n",
       "       'Derrick Rose', 'Jimmy Butler', 'Joakim Noah', 'Pau Gasol',\n",
       "       'Nikola Mirotic', 'Mike Dunleavy', 'Kirk Hinrich', 'Doug McDermott',\n",
       "       'Aaron Brooks', 'Tony Snell', 'Bobby Portis', \"E'Twaun Moore\",\n",
       "       'LeBron James', 'Kevin Love', 'Kyrie Irving', 'Tristan Thompson',\n",
       "       'Brendan Haywood', 'Iman Shumpert', 'Timofey Mozgov', 'Mo Williams',\n",
       "       'Sasha Kaun', 'Matthew Dellavedova', 'David Lee',\n",
       "       'Chandler Parsons', 'Dirk Nowitzki', 'Deron Williams',\n",
       "       'Zaza Pachulia', 'J.J. Barea', 'Devin Harris', 'Raymond Felton',\n",
       "       'Justin Anderson', 'JaVale McGee', 'John Jenkins',\n",
       "       'Danilo Gallinari', 'Kenneth Faried', 'Wilson Chandler',\n",
       "       'JJ Hickson', 'Jameer Nelson', 'Will Barton', 'Emmanuel Mudiay',\n",
       "       'Darrell Arthur', 'Jusuf Nurkic', 'Joffrey Lauvergne',\n",
       "       'Gary Harris', 'Nikola Jokic', 'Kostas Papanikolaou',\n",
       "       'Sean Kilpatrick', 'Reggie Jackson', 'Aron Baynes', 'Jodie Meeks',\n",
       "       'Andre Drummond', 'Kentavious Caldwell-Pope', 'Stanley Johnson',\n",
       "       'Joel Anthony', 'Danny Granger', 'Reggie Bullock',\n",
       "       'Darrun Hilliard', 'Klay Thompson', 'Draymond Green',\n",
       "       'Andrew Bogut', 'Andre Iguodala', 'Stephen Curry', 'Jason Thompson',\n",
       "       'Shaun Livingston', 'Harrison Barnes', 'Marreese Speights',\n",
       "       'Leandro Barbosa', 'Festus Ezeli', 'Brandon Rush', 'Kevon Looney',\n",
       "       'Anderson Varejao', 'Dwight Howard', 'James Harden', 'Ty Lawson',\n",
       "       'Corey Brewer', 'Trevor Ariza', 'Patrick Beverley',\n",
       "       'K.J. McDaniels', 'Terrence Jones', 'Donatas Motiejunas',\n",
       "       'Sam Dekker', 'Clint Capela', 'Montrezl Harrell', 'Paul George',\n",
       "       'Monta Ellis', 'Rodney Stuckey', 'Chase Budinger', 'C.J. Miles',\n",
       "       'Lavoy Allen', 'Jordan Hill', 'Ian Mahinmi', 'Myles Turner',\n",
       "       'Solomon Hill', 'Glenn Robinson III', 'Rakeem Christmas',\n",
       "       'Joe Young', 'Chris Paul', 'Blake Griffin', 'J.J. Redick',\n",
       "       'Jamal Crawford', 'Paul Pierce', 'Austin Rivers', 'C.J. Wilcox',\n",
       "       'Cole Aldrich', 'Wesley Johnson', 'Jordan Hamilton',\n",
       "       'Lester Hudson', 'Pablo Prigioni', 'Jeff Ayres', 'Kobe Bryant',\n",
       "       'Roy Hibbert', 'Louis Williams', 'Nick Young', \"D'Angelo Russell\",\n",
       "       'Julius Randle', 'Brandon Bass', 'Ryan Kelly', 'Larry Nance Jr.',\n",
       "       'Robert Sacre', 'Anthony Brown', 'Marc Gasol', 'Zach Randolph',\n",
       "       'Mike Conley', 'Jeff Green', 'Lance Stephenson', 'Brandan Wright',\n",
       "       'Tony Allen', 'Chris Andersen', 'Mario Chalmers', 'Vince Carter',\n",
       "       'Matt Barnes', 'Beno Udrih', 'Jordan Adams', 'Jarell Martin',\n",
       "       'JaMychal Green', 'Russ Smith', 'James Ennis', 'Jarnell Stokes',\n",
       "       'Jarrid Famous', 'Ryan Hollins', 'Elliot Williams', 'Chris Bosh',\n",
       "       'Dwyane Wade', 'Goran Dragic', 'Luol Deng', 'Josh McRoberts',\n",
       "       'Udonis Haslem', 'Justise Winslow', 'Henry Walker', 'Tyler Johnson',\n",
       "       'Greg Whittington', 'Josh Richardson', 'Corey Hawkins',\n",
       "       'Khris Middleton', 'O.J. Mayo', 'Greivis Vasquez', 'Jabari Parker',\n",
       "       'Jerryd Bayless', 'John Henson', 'Michael Carter-Williams',\n",
       "       'Miles Plumlee', 'Giannis Antetokounmpo', 'Rashad Vaughn',\n",
       "       'Tyler Ennis', 'Chris Copeland', 'Damien Inglis', 'Ricky Rubio',\n",
       "       'Nikola Pekovic', 'Kevin Garnett', 'Kevin Martin', 'Andrew Wiggins',\n",
       "       'Karl-Anthony Towns', 'Nemanja Bjelica', 'Zach LaVine',\n",
       "       'Shabazz Muhammad', 'Adreian Payne', 'Gorgui Dieng', 'Tyus Jones',\n",
       "       'Damjan Rudez', 'Eric Gordon', 'Tyreke Evans', 'Jrue Holiday',\n",
       "       'Omer Asik', 'Ryan Anderson', 'Anthony Davis', 'Alexis Ajinca',\n",
       "       'Quincy Pondexter', 'Norris Cole', 'Dante Cunningham', 'Alonzo Gee',\n",
       "       'Toney Douglas', 'Luke Babbitt', 'Kendrick Perkins', 'Bo McCalebb',\n",
       "       'Bryce Dejean-Jones', 'Carmelo Anthony', 'Robin Lopez',\n",
       "       'Arron Afflalo', 'Jose Calderon', 'Kristaps Porzingis',\n",
       "       'Derrick Williams', \"Kyle O'Quinn\", 'Lance Thomas', 'Lou Amundson',\n",
       "       'Jerian Grant', 'Jimmer Fredette', 'Langston Galloway',\n",
       "       'Thanasis Antetokounmpo', 'Kevin Durant', 'Russell Westbrook',\n",
       "       'Enes Kanter', 'Serge Ibaka', 'Dion Waiters', 'Kyle Singler',\n",
       "       'Nick Collison', 'Anthony Morrow', 'Randy Foye', 'D.J. Augustin',\n",
       "       'Steven Adams', 'Cameron Payne', 'Mitch McGary', 'Andre Roberson',\n",
       "       'Josh Huestis', 'Steve Novak', 'Tobias Harris', 'Nikola Vucevic',\n",
       "       'Brandon Jennings', 'Channing Frye', 'Ersan Ilyasova',\n",
       "       'Victor Oladipo', 'Jason Smith', 'Aaron Gordon', 'Mario Hezonja',\n",
       "       'Elfrid Payton', 'Andrew Nicholson', 'Evan Fournier',\n",
       "       'Shabazz Napier', 'Keith Appling', 'Gerald Wallace', 'Carl Landry',\n",
       "       'Joel Embiid', 'Jahlil Okafor', 'Nerlens Noel', 'Nik Stauskas',\n",
       "       'Furkan Aldemir', 'Tony Wroten', 'Kendall Marshall',\n",
       "       'Richaun Holmes', 'Robert Covington', 'Jerami Grant',\n",
       "       'JaKarr Sampson', 'Eric Bledsoe', 'Tyson Chandler',\n",
       "       'Mirza Teletovic', 'P.J. Tucker', 'Alex Len', 'Devin Booker',\n",
       "       'T.J. Warren', 'Archie Goodwin', 'Jon Leuer', 'Jerel McNeal',\n",
       "       'Terrico White', 'Bryce Cotton', 'Lorenzo Brown', 'Orlando Johnson',\n",
       "       'Phil Pressey', 'Jordan McRae', 'Cory Jefferson', 'Al-Farouq Aminu',\n",
       "       'Ed Davis', 'Gerald Henderson', 'Chris Kaman', 'Damian Lillard',\n",
       "       'Meyers Leonard', 'Maurice Harkless', 'Noah Vonleh',\n",
       "       'C.J. McCollum', 'Mason Plumlee', 'Allen Crabbe', 'Pat Connaughton',\n",
       "       'Luis Montero', 'Cliff Alexander', 'DeMarcus Cousins', 'Rudy Gay',\n",
       "       'Rajon Rondo', 'Kosta Koufos', 'Marco Belinelli', 'Darren Collison',\n",
       "       'Willie Cauley-Stein', 'Ben McLemore', 'Omri Casspi',\n",
       "       'Caron Butler', 'James Anderson', 'LaMarcus Aldridge',\n",
       "       'Kawhi Leonard', 'Tony Parker', 'Danny Green', 'Boris Diaw',\n",
       "       'Tim Duncan', 'Patty Mills', 'Manu Ginobili', 'David West',\n",
       "       'Boban Marjanovic', 'Reggie Williams', 'Kyle Anderson',\n",
       "       'Ray McCallum', 'DeMarre Carroll', 'Kyle Lowry', 'DeMar DeRozan',\n",
       "       'Cory Joseph', 'Patrick Patterson', 'Jonas Valanciunas',\n",
       "       'Terrence Ross', 'Luis Scola', 'Bismack Biyombo', 'Luke Ridnour',\n",
       "       'James Johnson', 'Lucas Nogueira', 'Bruno Caboclo', 'Delon Wright',\n",
       "       'Norman Powell', 'Shannon Scott', 'Ronald Roberts Jr.',\n",
       "       'Gordon Hayward', 'Alec Burks', 'Trevor Booker', 'Dante Exum',\n",
       "       'Tibor Pleiss', 'Trey Burke', 'Shelvin Mack', 'Trey Lyles',\n",
       "       'Joe Ingles', 'Rodney Hood', 'Rudy Gobert', 'Chris Johnson',\n",
       "       'Grant Jerrett', 'Jeff Withey', 'Raul Neto', 'Treveon Graham',\n",
       "       'Erick Green', 'John Wall', 'Nene Hilario', 'Marcin Gortat',\n",
       "       'Markieff Morris', 'Bradley Beal', 'Martell Webster',\n",
       "       'Otto Porter Jr.', 'Kris Humphries', 'Jared Dudley',\n",
       "       'Alan Anderson', 'Drew Gooden', 'Ramon Sessions', 'Gary Neal',\n",
       "       'DeJuan Blair', 'Kelly Oubre Jr.', 'Garrett Temple', 'Jarell Eddie'], \n",
       "      dtype='<U24')"
      ]
     },
     "execution_count": 45,
     "metadata": {},
     "output_type": "execute_result"
    }
   ],
   "source": [
    "nba_salaries.column(0)"
   ]
  },
  {
   "cell_type": "code",
   "execution_count": 46,
   "metadata": {
    "collapsed": false
   },
   "outputs": [
    {
     "data": {
      "text/html": [
       "<table border=\"1\" class=\"dataframe\">\n",
       "    <thead>\n",
       "        <tr>\n",
       "            <th>PLAYER</th> <th>POSITION</th>\n",
       "        </tr>\n",
       "    </thead>\n",
       "    <tbody>\n",
       "        <tr>\n",
       "            <td>Paul Millsap    </td> <td>PF      </td>\n",
       "        </tr>\n",
       "    </tbody>\n",
       "        <tr>\n",
       "            <td>Al Horford      </td> <td>C       </td>\n",
       "        </tr>\n",
       "    </tbody>\n",
       "        <tr>\n",
       "            <td>Tiago Splitter  </td> <td>C       </td>\n",
       "        </tr>\n",
       "    </tbody>\n",
       "        <tr>\n",
       "            <td>Jeff Teague     </td> <td>PG      </td>\n",
       "        </tr>\n",
       "    </tbody>\n",
       "        <tr>\n",
       "            <td>Kyle Korver     </td> <td>SG      </td>\n",
       "        </tr>\n",
       "    </tbody>\n",
       "        <tr>\n",
       "            <td>Thabo Sefolosha </td> <td>SF      </td>\n",
       "        </tr>\n",
       "    </tbody>\n",
       "        <tr>\n",
       "            <td>Mike Scott      </td> <td>PF      </td>\n",
       "        </tr>\n",
       "    </tbody>\n",
       "        <tr>\n",
       "            <td>Kent Bazemore   </td> <td>SF      </td>\n",
       "        </tr>\n",
       "    </tbody>\n",
       "        <tr>\n",
       "            <td>Dennis Schroder </td> <td>PG      </td>\n",
       "        </tr>\n",
       "    </tbody>\n",
       "        <tr>\n",
       "            <td>Tim Hardaway Jr.</td> <td>SG      </td>\n",
       "        </tr>\n",
       "    </tbody>\n",
       "</table>\n",
       "<p>... (407 rows omitted)</p"
      ],
      "text/plain": [
       "PLAYER           | POSITION\n",
       "Paul Millsap     | PF\n",
       "Al Horford       | C\n",
       "Tiago Splitter   | C\n",
       "Jeff Teague      | PG\n",
       "Kyle Korver      | SG\n",
       "Thabo Sefolosha  | SF\n",
       "Mike Scott       | PF\n",
       "Kent Bazemore    | SF\n",
       "Dennis Schroder  | PG\n",
       "Tim Hardaway Jr. | SG\n",
       "... (407 rows omitted)"
      ]
     },
     "execution_count": 46,
     "metadata": {},
     "output_type": "execute_result"
    }
   ],
   "source": [
    "nba_salaries.select(\"PLAYER\", \"POSITION\")"
   ]
  },
  {
   "cell_type": "code",
   "execution_count": 47,
   "metadata": {
    "collapsed": false
   },
   "outputs": [
    {
     "data": {
      "text/html": [
       "<table border=\"1\" class=\"dataframe\">\n",
       "    <thead>\n",
       "        <tr>\n",
       "            <th>PLAYER</th> <th>POSITION</th> <th>TEAM</th> <th>'15-'16 SALARY</th>\n",
       "        </tr>\n",
       "    </thead>\n",
       "    <tbody>\n",
       "        <tr>\n",
       "            <td>Paul Millsap    </td> <td>PF      </td> <td>Atlanta Hawks</td> <td>18.6717       </td>\n",
       "        </tr>\n",
       "    </tbody>\n",
       "        <tr>\n",
       "            <td>Al Horford      </td> <td>C       </td> <td>Atlanta Hawks</td> <td>12            </td>\n",
       "        </tr>\n",
       "    </tbody>\n",
       "        <tr>\n",
       "            <td>Tiago Splitter  </td> <td>C       </td> <td>Atlanta Hawks</td> <td>9.75625       </td>\n",
       "        </tr>\n",
       "    </tbody>\n",
       "        <tr>\n",
       "            <td>Jeff Teague     </td> <td>PG      </td> <td>Atlanta Hawks</td> <td>8             </td>\n",
       "        </tr>\n",
       "    </tbody>\n",
       "        <tr>\n",
       "            <td>Kyle Korver     </td> <td>SG      </td> <td>Atlanta Hawks</td> <td>5.74648       </td>\n",
       "        </tr>\n",
       "    </tbody>\n",
       "        <tr>\n",
       "            <td>Thabo Sefolosha </td> <td>SF      </td> <td>Atlanta Hawks</td> <td>4             </td>\n",
       "        </tr>\n",
       "    </tbody>\n",
       "        <tr>\n",
       "            <td>Mike Scott      </td> <td>PF      </td> <td>Atlanta Hawks</td> <td>3.33333       </td>\n",
       "        </tr>\n",
       "    </tbody>\n",
       "        <tr>\n",
       "            <td>Kent Bazemore   </td> <td>SF      </td> <td>Atlanta Hawks</td> <td>2             </td>\n",
       "        </tr>\n",
       "    </tbody>\n",
       "        <tr>\n",
       "            <td>Dennis Schroder </td> <td>PG      </td> <td>Atlanta Hawks</td> <td>1.7634        </td>\n",
       "        </tr>\n",
       "    </tbody>\n",
       "        <tr>\n",
       "            <td>Tim Hardaway Jr.</td> <td>SG      </td> <td>Atlanta Hawks</td> <td>1.30452       </td>\n",
       "        </tr>\n",
       "    </tbody>\n",
       "</table>\n",
       "<p>... (407 rows omitted)</p"
      ],
      "text/plain": [
       "PLAYER           | POSITION | TEAM          | '15-'16 SALARY\n",
       "Paul Millsap     | PF       | Atlanta Hawks | 18.6717\n",
       "Al Horford       | C        | Atlanta Hawks | 12\n",
       "Tiago Splitter   | C        | Atlanta Hawks | 9.75625\n",
       "Jeff Teague      | PG       | Atlanta Hawks | 8\n",
       "Kyle Korver      | SG       | Atlanta Hawks | 5.74648\n",
       "Thabo Sefolosha  | SF       | Atlanta Hawks | 4\n",
       "Mike Scott       | PF       | Atlanta Hawks | 3.33333\n",
       "Kent Bazemore    | SF       | Atlanta Hawks | 2\n",
       "Dennis Schroder  | PG       | Atlanta Hawks | 1.7634\n",
       "Tim Hardaway Jr. | SG       | Atlanta Hawks | 1.30452\n",
       "... (407 rows omitted)"
      ]
     },
     "execution_count": 47,
     "metadata": {},
     "output_type": "execute_result"
    }
   ],
   "source": [
    "nba_salaries"
   ]
  },
  {
   "cell_type": "code",
   "execution_count": 48,
   "metadata": {
    "collapsed": false
   },
   "outputs": [
    {
     "data": {
      "text/html": [
       "<table border=\"1\" class=\"dataframe\">\n",
       "    <thead>\n",
       "        <tr>\n",
       "            <th>TEAM</th> <th>'15-'16 SALARY</th>\n",
       "        </tr>\n",
       "    </thead>\n",
       "    <tbody>\n",
       "        <tr>\n",
       "            <td>Atlanta Hawks</td> <td>18.6717       </td>\n",
       "        </tr>\n",
       "    </tbody>\n",
       "        <tr>\n",
       "            <td>Atlanta Hawks</td> <td>12            </td>\n",
       "        </tr>\n",
       "    </tbody>\n",
       "        <tr>\n",
       "            <td>Atlanta Hawks</td> <td>9.75625       </td>\n",
       "        </tr>\n",
       "    </tbody>\n",
       "        <tr>\n",
       "            <td>Atlanta Hawks</td> <td>8             </td>\n",
       "        </tr>\n",
       "    </tbody>\n",
       "        <tr>\n",
       "            <td>Atlanta Hawks</td> <td>5.74648       </td>\n",
       "        </tr>\n",
       "    </tbody>\n",
       "        <tr>\n",
       "            <td>Atlanta Hawks</td> <td>4             </td>\n",
       "        </tr>\n",
       "    </tbody>\n",
       "        <tr>\n",
       "            <td>Atlanta Hawks</td> <td>3.33333       </td>\n",
       "        </tr>\n",
       "    </tbody>\n",
       "        <tr>\n",
       "            <td>Atlanta Hawks</td> <td>2             </td>\n",
       "        </tr>\n",
       "    </tbody>\n",
       "        <tr>\n",
       "            <td>Atlanta Hawks</td> <td>1.7634        </td>\n",
       "        </tr>\n",
       "    </tbody>\n",
       "        <tr>\n",
       "            <td>Atlanta Hawks</td> <td>1.30452       </td>\n",
       "        </tr>\n",
       "    </tbody>\n",
       "</table>\n",
       "<p>... (407 rows omitted)</p"
      ],
      "text/plain": [
       "TEAM          | '15-'16 SALARY\n",
       "Atlanta Hawks | 18.6717\n",
       "Atlanta Hawks | 12\n",
       "Atlanta Hawks | 9.75625\n",
       "Atlanta Hawks | 8\n",
       "Atlanta Hawks | 5.74648\n",
       "Atlanta Hawks | 4\n",
       "Atlanta Hawks | 3.33333\n",
       "Atlanta Hawks | 2\n",
       "Atlanta Hawks | 1.7634\n",
       "Atlanta Hawks | 1.30452\n",
       "... (407 rows omitted)"
      ]
     },
     "execution_count": 48,
     "metadata": {},
     "output_type": "execute_result"
    }
   ],
   "source": [
    "nba_salaries.drop(0, \"POSITION\")"
   ]
  },
  {
   "cell_type": "code",
   "execution_count": 50,
   "metadata": {
    "collapsed": false
   },
   "outputs": [],
   "source": [
    "nba = nba_salaries.relabeled(\"'15-'16 SALARY\", \"SALARY\")"
   ]
  },
  {
   "cell_type": "code",
   "execution_count": 51,
   "metadata": {
    "collapsed": false
   },
   "outputs": [
    {
     "data": {
      "text/html": [
       "<table border=\"1\" class=\"dataframe\">\n",
       "    <thead>\n",
       "        <tr>\n",
       "            <th>PLAYER</th> <th>POSITION</th> <th>TEAM</th> <th>SALARY</th>\n",
       "        </tr>\n",
       "    </thead>\n",
       "    <tbody>\n",
       "        <tr>\n",
       "            <td>Paul Millsap    </td> <td>PF      </td> <td>Atlanta Hawks</td> <td>18.6717</td>\n",
       "        </tr>\n",
       "    </tbody>\n",
       "        <tr>\n",
       "            <td>Al Horford      </td> <td>C       </td> <td>Atlanta Hawks</td> <td>12     </td>\n",
       "        </tr>\n",
       "    </tbody>\n",
       "        <tr>\n",
       "            <td>Tiago Splitter  </td> <td>C       </td> <td>Atlanta Hawks</td> <td>9.75625</td>\n",
       "        </tr>\n",
       "    </tbody>\n",
       "        <tr>\n",
       "            <td>Jeff Teague     </td> <td>PG      </td> <td>Atlanta Hawks</td> <td>8      </td>\n",
       "        </tr>\n",
       "    </tbody>\n",
       "        <tr>\n",
       "            <td>Kyle Korver     </td> <td>SG      </td> <td>Atlanta Hawks</td> <td>5.74648</td>\n",
       "        </tr>\n",
       "    </tbody>\n",
       "        <tr>\n",
       "            <td>Thabo Sefolosha </td> <td>SF      </td> <td>Atlanta Hawks</td> <td>4      </td>\n",
       "        </tr>\n",
       "    </tbody>\n",
       "        <tr>\n",
       "            <td>Mike Scott      </td> <td>PF      </td> <td>Atlanta Hawks</td> <td>3.33333</td>\n",
       "        </tr>\n",
       "    </tbody>\n",
       "        <tr>\n",
       "            <td>Kent Bazemore   </td> <td>SF      </td> <td>Atlanta Hawks</td> <td>2      </td>\n",
       "        </tr>\n",
       "    </tbody>\n",
       "        <tr>\n",
       "            <td>Dennis Schroder </td> <td>PG      </td> <td>Atlanta Hawks</td> <td>1.7634 </td>\n",
       "        </tr>\n",
       "    </tbody>\n",
       "        <tr>\n",
       "            <td>Tim Hardaway Jr.</td> <td>SG      </td> <td>Atlanta Hawks</td> <td>1.30452</td>\n",
       "        </tr>\n",
       "    </tbody>\n",
       "</table>\n",
       "<p>... (407 rows omitted)</p"
      ],
      "text/plain": [
       "PLAYER           | POSITION | TEAM          | SALARY\n",
       "Paul Millsap     | PF       | Atlanta Hawks | 18.6717\n",
       "Al Horford       | C        | Atlanta Hawks | 12\n",
       "Tiago Splitter   | C        | Atlanta Hawks | 9.75625\n",
       "Jeff Teague      | PG       | Atlanta Hawks | 8\n",
       "Kyle Korver      | SG       | Atlanta Hawks | 5.74648\n",
       "Thabo Sefolosha  | SF       | Atlanta Hawks | 4\n",
       "Mike Scott       | PF       | Atlanta Hawks | 3.33333\n",
       "Kent Bazemore    | SF       | Atlanta Hawks | 2\n",
       "Dennis Schroder  | PG       | Atlanta Hawks | 1.7634\n",
       "Tim Hardaway Jr. | SG       | Atlanta Hawks | 1.30452\n",
       "... (407 rows omitted)"
      ]
     },
     "execution_count": 51,
     "metadata": {},
     "output_type": "execute_result"
    }
   ],
   "source": [
    "nba"
   ]
  },
  {
   "cell_type": "code",
   "execution_count": 53,
   "metadata": {
    "collapsed": false
   },
   "outputs": [
    {
     "ename": "TypeError",
     "evalue": "'int' object is not callable",
     "output_type": "error",
     "traceback": [
      "\u001b[0;31m---------------------------------------------------------------------------\u001b[0m",
      "\u001b[0;31mTypeError\u001b[0m                                 Traceback (most recent call last)",
      "\u001b[0;32m<ipython-input-53-61c953486497>\u001b[0m in \u001b[0;36m<module>\u001b[0;34m()\u001b[0m\n\u001b[0;32m----> 1\u001b[0;31m \u001b[0mnba\u001b[0m\u001b[0;34m.\u001b[0m\u001b[0mnum_rows\u001b[0m\u001b[0;34m(\u001b[0m\u001b[0;34m)\u001b[0m\u001b[0;34m\u001b[0m\u001b[0m\n\u001b[0m",
      "\u001b[0;31mTypeError\u001b[0m: 'int' object is not callable"
     ]
    }
   ],
   "source": [
    "nba.num_rows"
   ]
  },
  {
   "cell_type": "code",
   "execution_count": 55,
   "metadata": {
    "collapsed": false
   },
   "outputs": [
    {
     "data": {
      "text/plain": [
       "4"
      ]
     },
     "execution_count": 55,
     "metadata": {},
     "output_type": "execute_result"
    }
   ],
   "source": [
    "nba.num_columns"
   ]
  },
  {
   "cell_type": "code",
   "execution_count": 56,
   "metadata": {
    "collapsed": false
   },
   "outputs": [
    {
     "data": {
      "text/plain": [
       "('PLAYER', 'POSITION', 'TEAM', 'SALARY')"
      ]
     },
     "execution_count": 56,
     "metadata": {},
     "output_type": "execute_result"
    }
   ],
   "source": [
    "nba.labels"
   ]
  },
  {
   "cell_type": "code",
   "execution_count": 57,
   "metadata": {
    "collapsed": false
   },
   "outputs": [
    {
     "data": {
      "text/html": [
       "<table border=\"1\" class=\"dataframe\">\n",
       "    <thead>\n",
       "        <tr>\n",
       "            <th>PLAYER</th> <th>POSITION</th> <th>TEAM</th> <th>SALARY</th>\n",
       "        </tr>\n",
       "    </thead>\n",
       "    <tbody>\n",
       "        <tr>\n",
       "            <td>Paul Millsap    </td> <td>PF      </td> <td>Atlanta Hawks</td> <td>18.6717</td>\n",
       "        </tr>\n",
       "    </tbody>\n",
       "        <tr>\n",
       "            <td>Al Horford      </td> <td>C       </td> <td>Atlanta Hawks</td> <td>12     </td>\n",
       "        </tr>\n",
       "    </tbody>\n",
       "        <tr>\n",
       "            <td>Tiago Splitter  </td> <td>C       </td> <td>Atlanta Hawks</td> <td>9.75625</td>\n",
       "        </tr>\n",
       "    </tbody>\n",
       "        <tr>\n",
       "            <td>Jeff Teague     </td> <td>PG      </td> <td>Atlanta Hawks</td> <td>8      </td>\n",
       "        </tr>\n",
       "    </tbody>\n",
       "        <tr>\n",
       "            <td>Kyle Korver     </td> <td>SG      </td> <td>Atlanta Hawks</td> <td>5.74648</td>\n",
       "        </tr>\n",
       "    </tbody>\n",
       "        <tr>\n",
       "            <td>Thabo Sefolosha </td> <td>SF      </td> <td>Atlanta Hawks</td> <td>4      </td>\n",
       "        </tr>\n",
       "    </tbody>\n",
       "        <tr>\n",
       "            <td>Mike Scott      </td> <td>PF      </td> <td>Atlanta Hawks</td> <td>3.33333</td>\n",
       "        </tr>\n",
       "    </tbody>\n",
       "        <tr>\n",
       "            <td>Kent Bazemore   </td> <td>SF      </td> <td>Atlanta Hawks</td> <td>2      </td>\n",
       "        </tr>\n",
       "    </tbody>\n",
       "        <tr>\n",
       "            <td>Dennis Schroder </td> <td>PG      </td> <td>Atlanta Hawks</td> <td>1.7634 </td>\n",
       "        </tr>\n",
       "    </tbody>\n",
       "        <tr>\n",
       "            <td>Tim Hardaway Jr.</td> <td>SG      </td> <td>Atlanta Hawks</td> <td>1.30452</td>\n",
       "        </tr>\n",
       "    </tbody>\n",
       "</table>"
      ],
      "text/plain": [
       "PLAYER           | POSITION | TEAM          | SALARY\n",
       "Paul Millsap     | PF       | Atlanta Hawks | 18.6717\n",
       "Al Horford       | C        | Atlanta Hawks | 12\n",
       "Tiago Splitter   | C        | Atlanta Hawks | 9.75625\n",
       "Jeff Teague      | PG       | Atlanta Hawks | 8\n",
       "Kyle Korver      | SG       | Atlanta Hawks | 5.74648\n",
       "Thabo Sefolosha  | SF       | Atlanta Hawks | 4\n",
       "Mike Scott       | PF       | Atlanta Hawks | 3.33333\n",
       "Kent Bazemore    | SF       | Atlanta Hawks | 2\n",
       "Dennis Schroder  | PG       | Atlanta Hawks | 1.7634\n",
       "Tim Hardaway Jr. | SG       | Atlanta Hawks | 1.30452"
      ]
     },
     "execution_count": 57,
     "metadata": {},
     "output_type": "execute_result"
    }
   ],
   "source": [
    "nba.take(np.arange(10))"
   ]
  },
  {
   "cell_type": "code",
   "execution_count": 65,
   "metadata": {
    "collapsed": false
   },
   "outputs": [
    {
     "data": {
      "text/html": [
       "<table border=\"1\" class=\"dataframe\">\n",
       "    <thead>\n",
       "        <tr>\n",
       "            <th>PLAYER</th> <th>POSITION</th> <th>TEAM</th> <th>SALARY</th>\n",
       "        </tr>\n",
       "    </thead>\n",
       "    <tbody>\n",
       "        <tr>\n",
       "            <td>Aaron Brooks</td> <td>PG      </td> <td>Chicago Bulls</td> <td>2.25  </td>\n",
       "        </tr>\n",
       "    </tbody>\n",
       "</table>"
      ],
      "text/plain": [
       "PLAYER       | POSITION | TEAM          | SALARY\n",
       "Aaron Brooks | PG       | Chicago Bulls | 2.25"
      ]
     },
     "execution_count": 65,
     "metadata": {},
     "output_type": "execute_result"
    }
   ],
   "source": [
    "first_three = make_array(0, 1, 2)\n",
    "nba.sort(\"PLAYER\").take(np.arange(1))"
   ]
  },
  {
   "cell_type": "code",
   "execution_count": 59,
   "metadata": {
    "collapsed": false
   },
   "outputs": [
    {
     "data": {
      "text/plain": [
       "array([0, 1, 2, 3, 4])"
      ]
     },
     "execution_count": 59,
     "metadata": {},
     "output_type": "execute_result"
    }
   ],
   "source": [
    "np.arange(5)"
   ]
  },
  {
   "cell_type": "code",
   "execution_count": 67,
   "metadata": {
    "collapsed": false
   },
   "outputs": [
    {
     "data": {
      "text/plain": [
       "<datascience.predicates._combinable at 0x110000278>"
      ]
     },
     "execution_count": 67,
     "metadata": {},
     "output_type": "execute_result"
    }
   ],
   "source": [
    "are.equal_to(\"Golden State Warriors\")"
   ]
  },
  {
   "cell_type": "code",
   "execution_count": 66,
   "metadata": {
    "collapsed": false
   },
   "outputs": [
    {
     "data": {
      "text/html": [
       "<table border=\"1\" class=\"dataframe\">\n",
       "    <thead>\n",
       "        <tr>\n",
       "            <th>PLAYER</th> <th>POSITION</th> <th>TEAM</th> <th>SALARY</th>\n",
       "        </tr>\n",
       "    </thead>\n",
       "    <tbody>\n",
       "        <tr>\n",
       "            <td>Klay Thompson    </td> <td>SG      </td> <td>Golden State Warriors</td> <td>15.501 </td>\n",
       "        </tr>\n",
       "    </tbody>\n",
       "        <tr>\n",
       "            <td>Draymond Green   </td> <td>PF      </td> <td>Golden State Warriors</td> <td>14.2609</td>\n",
       "        </tr>\n",
       "    </tbody>\n",
       "        <tr>\n",
       "            <td>Andrew Bogut     </td> <td>C       </td> <td>Golden State Warriors</td> <td>13.8   </td>\n",
       "        </tr>\n",
       "    </tbody>\n",
       "        <tr>\n",
       "            <td>Andre Iguodala   </td> <td>SF      </td> <td>Golden State Warriors</td> <td>11.7105</td>\n",
       "        </tr>\n",
       "    </tbody>\n",
       "        <tr>\n",
       "            <td>Stephen Curry    </td> <td>PG      </td> <td>Golden State Warriors</td> <td>11.3708</td>\n",
       "        </tr>\n",
       "    </tbody>\n",
       "        <tr>\n",
       "            <td>Jason Thompson   </td> <td>PF      </td> <td>Golden State Warriors</td> <td>7.00847</td>\n",
       "        </tr>\n",
       "    </tbody>\n",
       "        <tr>\n",
       "            <td>Shaun Livingston </td> <td>PG      </td> <td>Golden State Warriors</td> <td>5.54373</td>\n",
       "        </tr>\n",
       "    </tbody>\n",
       "        <tr>\n",
       "            <td>Harrison Barnes  </td> <td>SF      </td> <td>Golden State Warriors</td> <td>3.8734 </td>\n",
       "        </tr>\n",
       "    </tbody>\n",
       "        <tr>\n",
       "            <td>Marreese Speights</td> <td>C       </td> <td>Golden State Warriors</td> <td>3.815  </td>\n",
       "        </tr>\n",
       "    </tbody>\n",
       "        <tr>\n",
       "            <td>Leandro Barbosa  </td> <td>SG      </td> <td>Golden State Warriors</td> <td>2.5    </td>\n",
       "        </tr>\n",
       "    </tbody>\n",
       "</table>\n",
       "<p>... (4 rows omitted)</p"
      ],
      "text/plain": [
       "PLAYER            | POSITION | TEAM                  | SALARY\n",
       "Klay Thompson     | SG       | Golden State Warriors | 15.501\n",
       "Draymond Green    | PF       | Golden State Warriors | 14.2609\n",
       "Andrew Bogut      | C        | Golden State Warriors | 13.8\n",
       "Andre Iguodala    | SF       | Golden State Warriors | 11.7105\n",
       "Stephen Curry     | PG       | Golden State Warriors | 11.3708\n",
       "Jason Thompson    | PF       | Golden State Warriors | 7.00847\n",
       "Shaun Livingston  | PG       | Golden State Warriors | 5.54373\n",
       "Harrison Barnes   | SF       | Golden State Warriors | 3.8734\n",
       "Marreese Speights | C        | Golden State Warriors | 3.815\n",
       "Leandro Barbosa   | SG       | Golden State Warriors | 2.5\n",
       "... (4 rows omitted)"
      ]
     },
     "execution_count": 66,
     "metadata": {},
     "output_type": "execute_result"
    }
   ],
   "source": [
    "nba.where(\"TEAM\", are.equal_to(\"Golden State Warriors\"))"
   ]
  },
  {
   "cell_type": "code",
   "execution_count": 72,
   "metadata": {
    "collapsed": false
   },
   "outputs": [
    {
     "data": {
      "text/html": [
       "<table border=\"1\" class=\"dataframe\">\n",
       "    <thead>\n",
       "        <tr>\n",
       "            <th>PLAYER</th> <th>POSITION</th> <th>TEAM</th> <th>SALARY</th>\n",
       "        </tr>\n",
       "    </thead>\n",
       "    <tbody>\n",
       "        <tr>\n",
       "            <td>Paul Millsap  </td> <td>PF      </td> <td>Atlanta Hawks</td> <td>18.6717</td>\n",
       "        </tr>\n",
       "    </tbody>\n",
       "        <tr>\n",
       "            <td>Al Horford    </td> <td>C       </td> <td>Atlanta Hawks</td> <td>12     </td>\n",
       "        </tr>\n",
       "    </tbody>\n",
       "        <tr>\n",
       "            <td>Tiago Splitter</td> <td>C       </td> <td>Atlanta Hawks</td> <td>9.75625</td>\n",
       "        </tr>\n",
       "    </tbody>\n",
       "        <tr>\n",
       "            <td>Jeff Teague   </td> <td>PG      </td> <td>Atlanta Hawks</td> <td>8      </td>\n",
       "        </tr>\n",
       "    </tbody>\n",
       "        <tr>\n",
       "            <td>Kyle Korver   </td> <td>SG      </td> <td>Atlanta Hawks</td> <td>5.74648</td>\n",
       "        </tr>\n",
       "    </tbody>\n",
       "</table>\n",
       "<p>... (412 rows omitted)</p"
      ],
      "text/plain": [
       "<IPython.core.display.HTML object>"
      ]
     },
     "metadata": {},
     "output_type": "display_data"
    }
   ],
   "source": [
    "nba.show(5)"
   ]
  },
  {
   "cell_type": "code",
   "execution_count": 71,
   "metadata": {
    "collapsed": false
   },
   "outputs": [
    {
     "data": {
      "text/html": [
       "<table border=\"1\" class=\"dataframe\">\n",
       "    <thead>\n",
       "        <tr>\n",
       "            <th>PLAYER</th> <th>POSITION</th> <th>TEAM</th> <th>SALARY</th>\n",
       "        </tr>\n",
       "    </thead>\n",
       "    <tbody>\n",
       "        <tr>\n",
       "            <td>Jeff Teague     </td> <td>PG      </td> <td>Atlanta Hawks </td> <td>8       </td>\n",
       "        </tr>\n",
       "    </tbody>\n",
       "        <tr>\n",
       "            <td>Kyle Korver     </td> <td>SG      </td> <td>Atlanta Hawks </td> <td>5.74648 </td>\n",
       "        </tr>\n",
       "    </tbody>\n",
       "        <tr>\n",
       "            <td>Dennis Schroder </td> <td>PG      </td> <td>Atlanta Hawks </td> <td>1.7634  </td>\n",
       "        </tr>\n",
       "    </tbody>\n",
       "        <tr>\n",
       "            <td>Tim Hardaway Jr.</td> <td>SG      </td> <td>Atlanta Hawks </td> <td>1.30452 </td>\n",
       "        </tr>\n",
       "    </tbody>\n",
       "        <tr>\n",
       "            <td>Jason Richardson</td> <td>SG      </td> <td>Atlanta Hawks </td> <td>0.947276</td>\n",
       "        </tr>\n",
       "    </tbody>\n",
       "        <tr>\n",
       "            <td>Lamar Patterson </td> <td>SG      </td> <td>Atlanta Hawks </td> <td>0.525093</td>\n",
       "        </tr>\n",
       "    </tbody>\n",
       "        <tr>\n",
       "            <td>Terran Petteway </td> <td>SG      </td> <td>Atlanta Hawks </td> <td>0.525093</td>\n",
       "        </tr>\n",
       "    </tbody>\n",
       "        <tr>\n",
       "            <td>Avery Bradley   </td> <td>PG      </td> <td>Boston Celtics</td> <td>7.73034 </td>\n",
       "        </tr>\n",
       "    </tbody>\n",
       "        <tr>\n",
       "            <td>Isaiah Thomas   </td> <td>PG      </td> <td>Boston Celtics</td> <td>6.91287 </td>\n",
       "        </tr>\n",
       "    </tbody>\n",
       "        <tr>\n",
       "            <td>Marcus Smart    </td> <td>PG      </td> <td>Boston Celtics</td> <td>3.43104 </td>\n",
       "        </tr>\n",
       "    </tbody>\n",
       "</table>\n",
       "<p>... (171 rows omitted)</p"
      ],
      "text/plain": [
       "PLAYER           | POSITION | TEAM           | SALARY\n",
       "Jeff Teague      | PG       | Atlanta Hawks  | 8\n",
       "Kyle Korver      | SG       | Atlanta Hawks  | 5.74648\n",
       "Dennis Schroder  | PG       | Atlanta Hawks  | 1.7634\n",
       "Tim Hardaway Jr. | SG       | Atlanta Hawks  | 1.30452\n",
       "Jason Richardson | SG       | Atlanta Hawks  | 0.947276\n",
       "Lamar Patterson  | SG       | Atlanta Hawks  | 0.525093\n",
       "Terran Petteway  | SG       | Atlanta Hawks  | 0.525093\n",
       "Avery Bradley    | PG       | Boston Celtics | 7.73034\n",
       "Isaiah Thomas    | PG       | Boston Celtics | 6.91287\n",
       "Marcus Smart     | PG       | Boston Celtics | 3.43104\n",
       "... (171 rows omitted)"
      ]
     },
     "execution_count": 71,
     "metadata": {},
     "output_type": "execute_result"
    }
   ],
   "source": [
    "nba.where(\"POSITION\", are.contained_in(make_array(\"PG\", \"SG\")))"
   ]
  },
  {
   "cell_type": "code",
   "execution_count": 77,
   "metadata": {
    "collapsed": false
   },
   "outputs": [
    {
     "data": {
      "text/html": [
       "<table border=\"1\" class=\"dataframe\">\n",
       "    <thead>\n",
       "        <tr>\n",
       "            <th>PLAYER</th> <th>POSITION</th> <th>TEAM</th> <th>SALARY</th>\n",
       "        </tr>\n",
       "    </thead>\n",
       "    <tbody>\n",
       "        <tr>\n",
       "            <td>Carmelo Anthony</td> <td>SF      </td> <td>New York Knicks</td> <td>22.875</td>\n",
       "        </tr>\n",
       "    </tbody>\n",
       "        <tr>\n",
       "            <td>Robin Lopez    </td> <td>C       </td> <td>New York Knicks</td> <td>12.65 </td>\n",
       "        </tr>\n",
       "    </tbody>\n",
       "</table>"
      ],
      "text/plain": [
       "PLAYER          | POSITION | TEAM            | SALARY\n",
       "Carmelo Anthony | SF       | New York Knicks | 22.875\n",
       "Robin Lopez     | C        | New York Knicks | 12.65"
      ]
     },
     "execution_count": 77,
     "metadata": {},
     "output_type": "execute_result"
    }
   ],
   "source": [
    "nba.where(\"TEAM\", are.equal_to(\"New York Knicks\")).sort(\"SALARY\", descending=True).take(np.arange(2))"
   ]
  },
  {
   "cell_type": "code",
   "execution_count": 76,
   "metadata": {
    "collapsed": false
   },
   "outputs": [
    {
     "data": {
      "text/html": [
       "<table border=\"1\" class=\"dataframe\">\n",
       "    <thead>\n",
       "        <tr>\n",
       "            <th>PLAYER</th> <th>POSITION</th> <th>TEAM</th> <th>SALARY</th>\n",
       "        </tr>\n",
       "    </thead>\n",
       "    <tbody>\n",
       "        <tr>\n",
       "            <td>Klay Thompson </td> <td>SG      </td> <td>Golden State Warriors</td> <td>15.501 </td>\n",
       "        </tr>\n",
       "    </tbody>\n",
       "        <tr>\n",
       "            <td>Draymond Green</td> <td>PF      </td> <td>Golden State Warriors</td> <td>14.2609</td>\n",
       "        </tr>\n",
       "    </tbody>\n",
       "        <tr>\n",
       "            <td>Andrew Bogut  </td> <td>C       </td> <td>Golden State Warriors</td> <td>13.8   </td>\n",
       "        </tr>\n",
       "    </tbody>\n",
       "        <tr>\n",
       "            <td>Andre Iguodala</td> <td>SF      </td> <td>Golden State Warriors</td> <td>11.7105</td>\n",
       "        </tr>\n",
       "    </tbody>\n",
       "        <tr>\n",
       "            <td>Stephen Curry </td> <td>PG      </td> <td>Golden State Warriors</td> <td>11.3708</td>\n",
       "        </tr>\n",
       "    </tbody>\n",
       "</table>"
      ],
      "text/plain": [
       "PLAYER         | POSITION | TEAM                  | SALARY\n",
       "Klay Thompson  | SG       | Golden State Warriors | 15.501\n",
       "Draymond Green | PF       | Golden State Warriors | 14.2609\n",
       "Andrew Bogut   | C        | Golden State Warriors | 13.8\n",
       "Andre Iguodala | SF       | Golden State Warriors | 11.7105\n",
       "Stephen Curry  | PG       | Golden State Warriors | 11.3708"
      ]
     },
     "execution_count": 76,
     "metadata": {},
     "output_type": "execute_result"
    }
   ],
   "source": [
    "nba.where(\"SALARY\", are.above(10)).where(\"TEAM\", are.equal_to(\"Golden State Warriors\"))"
   ]
  },
  {
   "cell_type": "code",
   "execution_count": 82,
   "metadata": {
    "collapsed": false
   },
   "outputs": [
    {
     "data": {
      "text/plain": [
       "array(['SG', 'PG'], \n",
       "      dtype='<U2')"
      ]
     },
     "execution_count": 82,
     "metadata": {},
     "output_type": "execute_result"
    }
   ],
   "source": [
    "top_positions = nba.group(\"POSITION\").sort(\"count\", descending=True).take(np.arange(2))\n",
    "top_position_names = top_positions.column(\"POSITION\")\n",
    "top_position_names"
   ]
  },
  {
   "cell_type": "code",
   "execution_count": 83,
   "metadata": {
    "collapsed": false
   },
   "outputs": [
    {
     "data": {
      "text/html": [
       "<table border=\"1\" class=\"dataframe\">\n",
       "    <thead>\n",
       "        <tr>\n",
       "            <th>PLAYER</th> <th>POSITION</th> <th>TEAM</th> <th>SALARY</th>\n",
       "        </tr>\n",
       "    </thead>\n",
       "    <tbody>\n",
       "        <tr>\n",
       "            <td>Jeff Teague     </td> <td>PG      </td> <td>Atlanta Hawks </td> <td>8       </td>\n",
       "        </tr>\n",
       "    </tbody>\n",
       "        <tr>\n",
       "            <td>Kyle Korver     </td> <td>SG      </td> <td>Atlanta Hawks </td> <td>5.74648 </td>\n",
       "        </tr>\n",
       "    </tbody>\n",
       "        <tr>\n",
       "            <td>Dennis Schroder </td> <td>PG      </td> <td>Atlanta Hawks </td> <td>1.7634  </td>\n",
       "        </tr>\n",
       "    </tbody>\n",
       "        <tr>\n",
       "            <td>Tim Hardaway Jr.</td> <td>SG      </td> <td>Atlanta Hawks </td> <td>1.30452 </td>\n",
       "        </tr>\n",
       "    </tbody>\n",
       "        <tr>\n",
       "            <td>Jason Richardson</td> <td>SG      </td> <td>Atlanta Hawks </td> <td>0.947276</td>\n",
       "        </tr>\n",
       "    </tbody>\n",
       "        <tr>\n",
       "            <td>Lamar Patterson </td> <td>SG      </td> <td>Atlanta Hawks </td> <td>0.525093</td>\n",
       "        </tr>\n",
       "    </tbody>\n",
       "        <tr>\n",
       "            <td>Terran Petteway </td> <td>SG      </td> <td>Atlanta Hawks </td> <td>0.525093</td>\n",
       "        </tr>\n",
       "    </tbody>\n",
       "        <tr>\n",
       "            <td>Avery Bradley   </td> <td>PG      </td> <td>Boston Celtics</td> <td>7.73034 </td>\n",
       "        </tr>\n",
       "    </tbody>\n",
       "        <tr>\n",
       "            <td>Isaiah Thomas   </td> <td>PG      </td> <td>Boston Celtics</td> <td>6.91287 </td>\n",
       "        </tr>\n",
       "    </tbody>\n",
       "        <tr>\n",
       "            <td>Marcus Smart    </td> <td>PG      </td> <td>Boston Celtics</td> <td>3.43104 </td>\n",
       "        </tr>\n",
       "    </tbody>\n",
       "</table>\n",
       "<p>... (171 rows omitted)</p"
      ],
      "text/plain": [
       "PLAYER           | POSITION | TEAM           | SALARY\n",
       "Jeff Teague      | PG       | Atlanta Hawks  | 8\n",
       "Kyle Korver      | SG       | Atlanta Hawks  | 5.74648\n",
       "Dennis Schroder  | PG       | Atlanta Hawks  | 1.7634\n",
       "Tim Hardaway Jr. | SG       | Atlanta Hawks  | 1.30452\n",
       "Jason Richardson | SG       | Atlanta Hawks  | 0.947276\n",
       "Lamar Patterson  | SG       | Atlanta Hawks  | 0.525093\n",
       "Terran Petteway  | SG       | Atlanta Hawks  | 0.525093\n",
       "Avery Bradley    | PG       | Boston Celtics | 7.73034\n",
       "Isaiah Thomas    | PG       | Boston Celtics | 6.91287\n",
       "Marcus Smart     | PG       | Boston Celtics | 3.43104\n",
       "... (171 rows omitted)"
      ]
     },
     "execution_count": 83,
     "metadata": {},
     "output_type": "execute_result"
    }
   ],
   "source": [
    "nba.where(\"POSITION\", are.contained_in(top_position_names))"
   ]
  },
  {
   "cell_type": "markdown",
   "metadata": {},
   "source": [
    "## Simple examples"
   ]
  },
  {
   "cell_type": "code",
   "execution_count": 4,
   "metadata": {
    "collapsed": false
   },
   "outputs": [
    {
     "data": {
      "text/html": [
       "<table border=\"1\" class=\"dataframe\">\n",
       "    <thead>\n",
       "        <tr>\n",
       "            <th>PLAYER</th> <th>POSITION</th> <th>TEAM</th> <th>'15-'16 SALARY</th>\n",
       "        </tr>\n",
       "    </thead>\n",
       "    <tbody>\n",
       "        <tr>\n",
       "            <td>Paul Millsap    </td> <td>PF      </td> <td>Atlanta Hawks</td> <td>18.6717       </td>\n",
       "        </tr>\n",
       "    </tbody>\n",
       "        <tr>\n",
       "            <td>Al Horford      </td> <td>C       </td> <td>Atlanta Hawks</td> <td>12            </td>\n",
       "        </tr>\n",
       "    </tbody>\n",
       "        <tr>\n",
       "            <td>Tiago Splitter  </td> <td>C       </td> <td>Atlanta Hawks</td> <td>9.75625       </td>\n",
       "        </tr>\n",
       "    </tbody>\n",
       "        <tr>\n",
       "            <td>Jeff Teague     </td> <td>PG      </td> <td>Atlanta Hawks</td> <td>8             </td>\n",
       "        </tr>\n",
       "    </tbody>\n",
       "        <tr>\n",
       "            <td>Kyle Korver     </td> <td>SG      </td> <td>Atlanta Hawks</td> <td>5.74648       </td>\n",
       "        </tr>\n",
       "    </tbody>\n",
       "        <tr>\n",
       "            <td>Thabo Sefolosha </td> <td>SF      </td> <td>Atlanta Hawks</td> <td>4             </td>\n",
       "        </tr>\n",
       "    </tbody>\n",
       "        <tr>\n",
       "            <td>Mike Scott      </td> <td>PF      </td> <td>Atlanta Hawks</td> <td>3.33333       </td>\n",
       "        </tr>\n",
       "    </tbody>\n",
       "        <tr>\n",
       "            <td>Kent Bazemore   </td> <td>SF      </td> <td>Atlanta Hawks</td> <td>2             </td>\n",
       "        </tr>\n",
       "    </tbody>\n",
       "        <tr>\n",
       "            <td>Dennis Schroder </td> <td>PG      </td> <td>Atlanta Hawks</td> <td>1.7634        </td>\n",
       "        </tr>\n",
       "    </tbody>\n",
       "        <tr>\n",
       "            <td>Tim Hardaway Jr.</td> <td>SG      </td> <td>Atlanta Hawks</td> <td>1.30452       </td>\n",
       "        </tr>\n",
       "    </tbody>\n",
       "</table>\n",
       "<p>... (407 rows omitted)</p"
      ],
      "text/plain": [
       "PLAYER           | POSITION | TEAM          | '15-'16 SALARY\n",
       "Paul Millsap     | PF       | Atlanta Hawks | 18.6717\n",
       "Al Horford       | C        | Atlanta Hawks | 12\n",
       "Tiago Splitter   | C        | Atlanta Hawks | 9.75625\n",
       "Jeff Teague      | PG       | Atlanta Hawks | 8\n",
       "Kyle Korver      | SG       | Atlanta Hawks | 5.74648\n",
       "Thabo Sefolosha  | SF       | Atlanta Hawks | 4\n",
       "Mike Scott       | PF       | Atlanta Hawks | 3.33333\n",
       "Kent Bazemore    | SF       | Atlanta Hawks | 2\n",
       "Dennis Schroder  | PG       | Atlanta Hawks | 1.7634\n",
       "Tim Hardaway Jr. | SG       | Atlanta Hawks | 1.30452\n",
       "... (407 rows omitted)"
      ]
     },
     "execution_count": 4,
     "metadata": {},
     "output_type": "execute_result"
    }
   ],
   "source": [
    "nba_salaries = Table.read_table('nba_salaries.csv')\n",
    "nba_salaries"
   ]
  },
  {
   "cell_type": "code",
   "execution_count": 5,
   "metadata": {
    "collapsed": false,
    "scrolled": true
   },
   "outputs": [
    {
     "data": {
      "text/plain": [
       "array(['Paul Millsap', 'Al Horford', 'Tiago Splitter', 'Jeff Teague',\n",
       "       'Kyle Korver', 'Thabo Sefolosha', 'Mike Scott', 'Kent Bazemore',\n",
       "       'Dennis Schroder', 'Tim Hardaway Jr.', 'Walter Tavares',\n",
       "       'Jason Richardson', 'Lamar Patterson', 'Terran Petteway',\n",
       "       'Avery Bradley', 'Isaiah Thomas', 'Jae Crowder', 'Jonas Jerebko',\n",
       "       'Marcus Smart', 'Evan Turner', 'Tyler Zeller', 'Jared Sullinger',\n",
       "       'Kelly Olynyk', 'Perry Jones', 'Terry Rozier', 'James Young',\n",
       "       'Zoran Dragic', 'Jordan Mickey', 'R.J. Hunter', 'Joe Johnson',\n",
       "       'Thaddeus Young', 'Jarrett Jack', 'Bojan Bogdanovic',\n",
       "       'Sergey Karasev', 'Wayne Ellington', 'Shane Larkin',\n",
       "       'Andrea Bargnani', 'Rondae Hollis-Jefferson', 'Earl Clark',\n",
       "       'Chris McCullough', 'Thomas Robinson', 'Markel Brown',\n",
       "       'Al Jefferson', 'Nicolas Batum', 'Kemba Walker', 'Marvin Williams',\n",
       "       'Michael Kidd-Gilchrist', 'Spencer Hawes', 'Courtney Lee',\n",
       "       'Cody Zeller', 'Jeremy Lamb', 'Brian Roberts', 'Frank Kaminsky III',\n",
       "       'Jeremy Lin', 'P.J. Hairston', 'Damien Wilkins', 'Jorge Gutierrez',\n",
       "       'Tyler Hansbrough', 'Troy Daniels', 'Aaron Harrison',\n",
       "       'Derrick Rose', 'Jimmy Butler', 'Joakim Noah', 'Pau Gasol',\n",
       "       'Nikola Mirotic', 'Mike Dunleavy', 'Kirk Hinrich', 'Doug McDermott',\n",
       "       'Aaron Brooks', 'Tony Snell', 'Bobby Portis', \"E'Twaun Moore\",\n",
       "       'LeBron James', 'Kevin Love', 'Kyrie Irving', 'Tristan Thompson',\n",
       "       'Brendan Haywood', 'Iman Shumpert', 'Timofey Mozgov', 'Mo Williams',\n",
       "       'Sasha Kaun', 'Matthew Dellavedova', 'David Lee',\n",
       "       'Chandler Parsons', 'Dirk Nowitzki', 'Deron Williams',\n",
       "       'Zaza Pachulia', 'J.J. Barea', 'Devin Harris', 'Raymond Felton',\n",
       "       'Justin Anderson', 'JaVale McGee', 'John Jenkins',\n",
       "       'Danilo Gallinari', 'Kenneth Faried', 'Wilson Chandler',\n",
       "       'JJ Hickson', 'Jameer Nelson', 'Will Barton', 'Emmanuel Mudiay',\n",
       "       'Darrell Arthur', 'Jusuf Nurkic', 'Joffrey Lauvergne',\n",
       "       'Gary Harris', 'Nikola Jokic', 'Kostas Papanikolaou',\n",
       "       'Sean Kilpatrick', 'Reggie Jackson', 'Aron Baynes', 'Jodie Meeks',\n",
       "       'Andre Drummond', 'Kentavious Caldwell-Pope', 'Stanley Johnson',\n",
       "       'Joel Anthony', 'Danny Granger', 'Reggie Bullock',\n",
       "       'Darrun Hilliard', 'Klay Thompson', 'Draymond Green',\n",
       "       'Andrew Bogut', 'Andre Iguodala', 'Stephen Curry', 'Jason Thompson',\n",
       "       'Shaun Livingston', 'Harrison Barnes', 'Marreese Speights',\n",
       "       'Leandro Barbosa', 'Festus Ezeli', 'Brandon Rush', 'Kevon Looney',\n",
       "       'Anderson Varejao', 'Dwight Howard', 'James Harden', 'Ty Lawson',\n",
       "       'Corey Brewer', 'Trevor Ariza', 'Patrick Beverley',\n",
       "       'K.J. McDaniels', 'Terrence Jones', 'Donatas Motiejunas',\n",
       "       'Sam Dekker', 'Clint Capela', 'Montrezl Harrell', 'Paul George',\n",
       "       'Monta Ellis', 'Rodney Stuckey', 'Chase Budinger', 'C.J. Miles',\n",
       "       'Lavoy Allen', 'Jordan Hill', 'Ian Mahinmi', 'Myles Turner',\n",
       "       'Solomon Hill', 'Glenn Robinson III', 'Rakeem Christmas',\n",
       "       'Joe Young', 'Chris Paul', 'Blake Griffin', 'J.J. Redick',\n",
       "       'Jamal Crawford', 'Paul Pierce', 'Austin Rivers', 'C.J. Wilcox',\n",
       "       'Cole Aldrich', 'Wesley Johnson', 'Jordan Hamilton',\n",
       "       'Lester Hudson', 'Pablo Prigioni', 'Jeff Ayres', 'Kobe Bryant',\n",
       "       'Roy Hibbert', 'Louis Williams', 'Nick Young', \"D'Angelo Russell\",\n",
       "       'Julius Randle', 'Brandon Bass', 'Ryan Kelly', 'Larry Nance Jr.',\n",
       "       'Robert Sacre', 'Anthony Brown', 'Marc Gasol', 'Zach Randolph',\n",
       "       'Mike Conley', 'Jeff Green', 'Lance Stephenson', 'Brandan Wright',\n",
       "       'Tony Allen', 'Chris Andersen', 'Mario Chalmers', 'Vince Carter',\n",
       "       'Matt Barnes', 'Beno Udrih', 'Jordan Adams', 'Jarell Martin',\n",
       "       'JaMychal Green', 'Russ Smith', 'James Ennis', 'Jarnell Stokes',\n",
       "       'Jarrid Famous', 'Ryan Hollins', 'Elliot Williams', 'Chris Bosh',\n",
       "       'Dwyane Wade', 'Goran Dragic', 'Luol Deng', 'Josh McRoberts',\n",
       "       'Udonis Haslem', 'Justise Winslow', 'Henry Walker', 'Tyler Johnson',\n",
       "       'Greg Whittington', 'Josh Richardson', 'Corey Hawkins',\n",
       "       'Khris Middleton', 'O.J. Mayo', 'Greivis Vasquez', 'Jabari Parker',\n",
       "       'Jerryd Bayless', 'John Henson', 'Michael Carter-Williams',\n",
       "       'Miles Plumlee', 'Giannis Antetokounmpo', 'Rashad Vaughn',\n",
       "       'Tyler Ennis', 'Chris Copeland', 'Damien Inglis', 'Ricky Rubio',\n",
       "       'Nikola Pekovic', 'Kevin Garnett', 'Kevin Martin', 'Andrew Wiggins',\n",
       "       'Karl-Anthony Towns', 'Nemanja Bjelica', 'Zach LaVine',\n",
       "       'Shabazz Muhammad', 'Adreian Payne', 'Gorgui Dieng', 'Tyus Jones',\n",
       "       'Damjan Rudez', 'Eric Gordon', 'Tyreke Evans', 'Jrue Holiday',\n",
       "       'Omer Asik', 'Ryan Anderson', 'Anthony Davis', 'Alexis Ajinca',\n",
       "       'Quincy Pondexter', 'Norris Cole', 'Dante Cunningham', 'Alonzo Gee',\n",
       "       'Toney Douglas', 'Luke Babbitt', 'Kendrick Perkins', 'Bo McCalebb',\n",
       "       'Bryce Dejean-Jones', 'Carmelo Anthony', 'Robin Lopez',\n",
       "       'Arron Afflalo', 'Jose Calderon', 'Kristaps Porzingis',\n",
       "       'Derrick Williams', \"Kyle O'Quinn\", 'Lance Thomas', 'Lou Amundson',\n",
       "       'Jerian Grant', 'Jimmer Fredette', 'Langston Galloway',\n",
       "       'Thanasis Antetokounmpo', 'Kevin Durant', 'Russell Westbrook',\n",
       "       'Enes Kanter', 'Serge Ibaka', 'Dion Waiters', 'Kyle Singler',\n",
       "       'Nick Collison', 'Anthony Morrow', 'Randy Foye', 'D.J. Augustin',\n",
       "       'Steven Adams', 'Cameron Payne', 'Mitch McGary', 'Andre Roberson',\n",
       "       'Josh Huestis', 'Steve Novak', 'Tobias Harris', 'Nikola Vucevic',\n",
       "       'Brandon Jennings', 'Channing Frye', 'Ersan Ilyasova',\n",
       "       'Victor Oladipo', 'Jason Smith', 'Aaron Gordon', 'Mario Hezonja',\n",
       "       'Elfrid Payton', 'Andrew Nicholson', 'Evan Fournier',\n",
       "       'Shabazz Napier', 'Keith Appling', 'Gerald Wallace', 'Carl Landry',\n",
       "       'Joel Embiid', 'Jahlil Okafor', 'Nerlens Noel', 'Nik Stauskas',\n",
       "       'Furkan Aldemir', 'Tony Wroten', 'Kendall Marshall',\n",
       "       'Richaun Holmes', 'Robert Covington', 'Jerami Grant',\n",
       "       'JaKarr Sampson', 'Eric Bledsoe', 'Tyson Chandler',\n",
       "       'Mirza Teletovic', 'P.J. Tucker', 'Alex Len', 'Devin Booker',\n",
       "       'T.J. Warren', 'Archie Goodwin', 'Jon Leuer', 'Jerel McNeal',\n",
       "       'Terrico White', 'Bryce Cotton', 'Lorenzo Brown', 'Orlando Johnson',\n",
       "       'Phil Pressey', 'Jordan McRae', 'Cory Jefferson', 'Al-Farouq Aminu',\n",
       "       'Ed Davis', 'Gerald Henderson', 'Chris Kaman', 'Damian Lillard',\n",
       "       'Meyers Leonard', 'Maurice Harkless', 'Noah Vonleh',\n",
       "       'C.J. McCollum', 'Mason Plumlee', 'Allen Crabbe', 'Pat Connaughton',\n",
       "       'Luis Montero', 'Cliff Alexander', 'DeMarcus Cousins', 'Rudy Gay',\n",
       "       'Rajon Rondo', 'Kosta Koufos', 'Marco Belinelli', 'Darren Collison',\n",
       "       'Willie Cauley-Stein', 'Ben McLemore', 'Omri Casspi',\n",
       "       'Caron Butler', 'James Anderson', 'LaMarcus Aldridge',\n",
       "       'Kawhi Leonard', 'Tony Parker', 'Danny Green', 'Boris Diaw',\n",
       "       'Tim Duncan', 'Patty Mills', 'Manu Ginobili', 'David West',\n",
       "       'Boban Marjanovic', 'Reggie Williams', 'Kyle Anderson',\n",
       "       'Ray McCallum', 'DeMarre Carroll', 'Kyle Lowry', 'DeMar DeRozan',\n",
       "       'Cory Joseph', 'Patrick Patterson', 'Jonas Valanciunas',\n",
       "       'Terrence Ross', 'Luis Scola', 'Bismack Biyombo', 'Luke Ridnour',\n",
       "       'James Johnson', 'Lucas Nogueira', 'Bruno Caboclo', 'Delon Wright',\n",
       "       'Norman Powell', 'Shannon Scott', 'Ronald Roberts Jr.',\n",
       "       'Gordon Hayward', 'Alec Burks', 'Trevor Booker', 'Dante Exum',\n",
       "       'Tibor Pleiss', 'Trey Burke', 'Shelvin Mack', 'Trey Lyles',\n",
       "       'Joe Ingles', 'Rodney Hood', 'Rudy Gobert', 'Chris Johnson',\n",
       "       'Grant Jerrett', 'Jeff Withey', 'Raul Neto', 'Treveon Graham',\n",
       "       'Erick Green', 'John Wall', 'Nene Hilario', 'Marcin Gortat',\n",
       "       'Markieff Morris', 'Bradley Beal', 'Martell Webster',\n",
       "       'Otto Porter Jr.', 'Kris Humphries', 'Jared Dudley',\n",
       "       'Alan Anderson', 'Drew Gooden', 'Ramon Sessions', 'Gary Neal',\n",
       "       'DeJuan Blair', 'Kelly Oubre Jr.', 'Garrett Temple', 'Jarell Eddie'], \n",
       "      dtype='<U24')"
      ]
     },
     "execution_count": 5,
     "metadata": {},
     "output_type": "execute_result"
    }
   ],
   "source": [
    "nba_salaries.column(\"PLAYER\")"
   ]
  },
  {
   "cell_type": "code",
   "execution_count": 6,
   "metadata": {
    "collapsed": false,
    "scrolled": true
   },
   "outputs": [
    {
     "data": {
      "text/plain": [
       "array(['Paul Millsap', 'Al Horford', 'Tiago Splitter', 'Jeff Teague',\n",
       "       'Kyle Korver', 'Thabo Sefolosha', 'Mike Scott', 'Kent Bazemore',\n",
       "       'Dennis Schroder', 'Tim Hardaway Jr.', 'Walter Tavares',\n",
       "       'Jason Richardson', 'Lamar Patterson', 'Terran Petteway',\n",
       "       'Avery Bradley', 'Isaiah Thomas', 'Jae Crowder', 'Jonas Jerebko',\n",
       "       'Marcus Smart', 'Evan Turner', 'Tyler Zeller', 'Jared Sullinger',\n",
       "       'Kelly Olynyk', 'Perry Jones', 'Terry Rozier', 'James Young',\n",
       "       'Zoran Dragic', 'Jordan Mickey', 'R.J. Hunter', 'Joe Johnson',\n",
       "       'Thaddeus Young', 'Jarrett Jack', 'Bojan Bogdanovic',\n",
       "       'Sergey Karasev', 'Wayne Ellington', 'Shane Larkin',\n",
       "       'Andrea Bargnani', 'Rondae Hollis-Jefferson', 'Earl Clark',\n",
       "       'Chris McCullough', 'Thomas Robinson', 'Markel Brown',\n",
       "       'Al Jefferson', 'Nicolas Batum', 'Kemba Walker', 'Marvin Williams',\n",
       "       'Michael Kidd-Gilchrist', 'Spencer Hawes', 'Courtney Lee',\n",
       "       'Cody Zeller', 'Jeremy Lamb', 'Brian Roberts', 'Frank Kaminsky III',\n",
       "       'Jeremy Lin', 'P.J. Hairston', 'Damien Wilkins', 'Jorge Gutierrez',\n",
       "       'Tyler Hansbrough', 'Troy Daniels', 'Aaron Harrison',\n",
       "       'Derrick Rose', 'Jimmy Butler', 'Joakim Noah', 'Pau Gasol',\n",
       "       'Nikola Mirotic', 'Mike Dunleavy', 'Kirk Hinrich', 'Doug McDermott',\n",
       "       'Aaron Brooks', 'Tony Snell', 'Bobby Portis', \"E'Twaun Moore\",\n",
       "       'LeBron James', 'Kevin Love', 'Kyrie Irving', 'Tristan Thompson',\n",
       "       'Brendan Haywood', 'Iman Shumpert', 'Timofey Mozgov', 'Mo Williams',\n",
       "       'Sasha Kaun', 'Matthew Dellavedova', 'David Lee',\n",
       "       'Chandler Parsons', 'Dirk Nowitzki', 'Deron Williams',\n",
       "       'Zaza Pachulia', 'J.J. Barea', 'Devin Harris', 'Raymond Felton',\n",
       "       'Justin Anderson', 'JaVale McGee', 'John Jenkins',\n",
       "       'Danilo Gallinari', 'Kenneth Faried', 'Wilson Chandler',\n",
       "       'JJ Hickson', 'Jameer Nelson', 'Will Barton', 'Emmanuel Mudiay',\n",
       "       'Darrell Arthur', 'Jusuf Nurkic', 'Joffrey Lauvergne',\n",
       "       'Gary Harris', 'Nikola Jokic', 'Kostas Papanikolaou',\n",
       "       'Sean Kilpatrick', 'Reggie Jackson', 'Aron Baynes', 'Jodie Meeks',\n",
       "       'Andre Drummond', 'Kentavious Caldwell-Pope', 'Stanley Johnson',\n",
       "       'Joel Anthony', 'Danny Granger', 'Reggie Bullock',\n",
       "       'Darrun Hilliard', 'Klay Thompson', 'Draymond Green',\n",
       "       'Andrew Bogut', 'Andre Iguodala', 'Stephen Curry', 'Jason Thompson',\n",
       "       'Shaun Livingston', 'Harrison Barnes', 'Marreese Speights',\n",
       "       'Leandro Barbosa', 'Festus Ezeli', 'Brandon Rush', 'Kevon Looney',\n",
       "       'Anderson Varejao', 'Dwight Howard', 'James Harden', 'Ty Lawson',\n",
       "       'Corey Brewer', 'Trevor Ariza', 'Patrick Beverley',\n",
       "       'K.J. McDaniels', 'Terrence Jones', 'Donatas Motiejunas',\n",
       "       'Sam Dekker', 'Clint Capela', 'Montrezl Harrell', 'Paul George',\n",
       "       'Monta Ellis', 'Rodney Stuckey', 'Chase Budinger', 'C.J. Miles',\n",
       "       'Lavoy Allen', 'Jordan Hill', 'Ian Mahinmi', 'Myles Turner',\n",
       "       'Solomon Hill', 'Glenn Robinson III', 'Rakeem Christmas',\n",
       "       'Joe Young', 'Chris Paul', 'Blake Griffin', 'J.J. Redick',\n",
       "       'Jamal Crawford', 'Paul Pierce', 'Austin Rivers', 'C.J. Wilcox',\n",
       "       'Cole Aldrich', 'Wesley Johnson', 'Jordan Hamilton',\n",
       "       'Lester Hudson', 'Pablo Prigioni', 'Jeff Ayres', 'Kobe Bryant',\n",
       "       'Roy Hibbert', 'Louis Williams', 'Nick Young', \"D'Angelo Russell\",\n",
       "       'Julius Randle', 'Brandon Bass', 'Ryan Kelly', 'Larry Nance Jr.',\n",
       "       'Robert Sacre', 'Anthony Brown', 'Marc Gasol', 'Zach Randolph',\n",
       "       'Mike Conley', 'Jeff Green', 'Lance Stephenson', 'Brandan Wright',\n",
       "       'Tony Allen', 'Chris Andersen', 'Mario Chalmers', 'Vince Carter',\n",
       "       'Matt Barnes', 'Beno Udrih', 'Jordan Adams', 'Jarell Martin',\n",
       "       'JaMychal Green', 'Russ Smith', 'James Ennis', 'Jarnell Stokes',\n",
       "       'Jarrid Famous', 'Ryan Hollins', 'Elliot Williams', 'Chris Bosh',\n",
       "       'Dwyane Wade', 'Goran Dragic', 'Luol Deng', 'Josh McRoberts',\n",
       "       'Udonis Haslem', 'Justise Winslow', 'Henry Walker', 'Tyler Johnson',\n",
       "       'Greg Whittington', 'Josh Richardson', 'Corey Hawkins',\n",
       "       'Khris Middleton', 'O.J. Mayo', 'Greivis Vasquez', 'Jabari Parker',\n",
       "       'Jerryd Bayless', 'John Henson', 'Michael Carter-Williams',\n",
       "       'Miles Plumlee', 'Giannis Antetokounmpo', 'Rashad Vaughn',\n",
       "       'Tyler Ennis', 'Chris Copeland', 'Damien Inglis', 'Ricky Rubio',\n",
       "       'Nikola Pekovic', 'Kevin Garnett', 'Kevin Martin', 'Andrew Wiggins',\n",
       "       'Karl-Anthony Towns', 'Nemanja Bjelica', 'Zach LaVine',\n",
       "       'Shabazz Muhammad', 'Adreian Payne', 'Gorgui Dieng', 'Tyus Jones',\n",
       "       'Damjan Rudez', 'Eric Gordon', 'Tyreke Evans', 'Jrue Holiday',\n",
       "       'Omer Asik', 'Ryan Anderson', 'Anthony Davis', 'Alexis Ajinca',\n",
       "       'Quincy Pondexter', 'Norris Cole', 'Dante Cunningham', 'Alonzo Gee',\n",
       "       'Toney Douglas', 'Luke Babbitt', 'Kendrick Perkins', 'Bo McCalebb',\n",
       "       'Bryce Dejean-Jones', 'Carmelo Anthony', 'Robin Lopez',\n",
       "       'Arron Afflalo', 'Jose Calderon', 'Kristaps Porzingis',\n",
       "       'Derrick Williams', \"Kyle O'Quinn\", 'Lance Thomas', 'Lou Amundson',\n",
       "       'Jerian Grant', 'Jimmer Fredette', 'Langston Galloway',\n",
       "       'Thanasis Antetokounmpo', 'Kevin Durant', 'Russell Westbrook',\n",
       "       'Enes Kanter', 'Serge Ibaka', 'Dion Waiters', 'Kyle Singler',\n",
       "       'Nick Collison', 'Anthony Morrow', 'Randy Foye', 'D.J. Augustin',\n",
       "       'Steven Adams', 'Cameron Payne', 'Mitch McGary', 'Andre Roberson',\n",
       "       'Josh Huestis', 'Steve Novak', 'Tobias Harris', 'Nikola Vucevic',\n",
       "       'Brandon Jennings', 'Channing Frye', 'Ersan Ilyasova',\n",
       "       'Victor Oladipo', 'Jason Smith', 'Aaron Gordon', 'Mario Hezonja',\n",
       "       'Elfrid Payton', 'Andrew Nicholson', 'Evan Fournier',\n",
       "       'Shabazz Napier', 'Keith Appling', 'Gerald Wallace', 'Carl Landry',\n",
       "       'Joel Embiid', 'Jahlil Okafor', 'Nerlens Noel', 'Nik Stauskas',\n",
       "       'Furkan Aldemir', 'Tony Wroten', 'Kendall Marshall',\n",
       "       'Richaun Holmes', 'Robert Covington', 'Jerami Grant',\n",
       "       'JaKarr Sampson', 'Eric Bledsoe', 'Tyson Chandler',\n",
       "       'Mirza Teletovic', 'P.J. Tucker', 'Alex Len', 'Devin Booker',\n",
       "       'T.J. Warren', 'Archie Goodwin', 'Jon Leuer', 'Jerel McNeal',\n",
       "       'Terrico White', 'Bryce Cotton', 'Lorenzo Brown', 'Orlando Johnson',\n",
       "       'Phil Pressey', 'Jordan McRae', 'Cory Jefferson', 'Al-Farouq Aminu',\n",
       "       'Ed Davis', 'Gerald Henderson', 'Chris Kaman', 'Damian Lillard',\n",
       "       'Meyers Leonard', 'Maurice Harkless', 'Noah Vonleh',\n",
       "       'C.J. McCollum', 'Mason Plumlee', 'Allen Crabbe', 'Pat Connaughton',\n",
       "       'Luis Montero', 'Cliff Alexander', 'DeMarcus Cousins', 'Rudy Gay',\n",
       "       'Rajon Rondo', 'Kosta Koufos', 'Marco Belinelli', 'Darren Collison',\n",
       "       'Willie Cauley-Stein', 'Ben McLemore', 'Omri Casspi',\n",
       "       'Caron Butler', 'James Anderson', 'LaMarcus Aldridge',\n",
       "       'Kawhi Leonard', 'Tony Parker', 'Danny Green', 'Boris Diaw',\n",
       "       'Tim Duncan', 'Patty Mills', 'Manu Ginobili', 'David West',\n",
       "       'Boban Marjanovic', 'Reggie Williams', 'Kyle Anderson',\n",
       "       'Ray McCallum', 'DeMarre Carroll', 'Kyle Lowry', 'DeMar DeRozan',\n",
       "       'Cory Joseph', 'Patrick Patterson', 'Jonas Valanciunas',\n",
       "       'Terrence Ross', 'Luis Scola', 'Bismack Biyombo', 'Luke Ridnour',\n",
       "       'James Johnson', 'Lucas Nogueira', 'Bruno Caboclo', 'Delon Wright',\n",
       "       'Norman Powell', 'Shannon Scott', 'Ronald Roberts Jr.',\n",
       "       'Gordon Hayward', 'Alec Burks', 'Trevor Booker', 'Dante Exum',\n",
       "       'Tibor Pleiss', 'Trey Burke', 'Shelvin Mack', 'Trey Lyles',\n",
       "       'Joe Ingles', 'Rodney Hood', 'Rudy Gobert', 'Chris Johnson',\n",
       "       'Grant Jerrett', 'Jeff Withey', 'Raul Neto', 'Treveon Graham',\n",
       "       'Erick Green', 'John Wall', 'Nene Hilario', 'Marcin Gortat',\n",
       "       'Markieff Morris', 'Bradley Beal', 'Martell Webster',\n",
       "       'Otto Porter Jr.', 'Kris Humphries', 'Jared Dudley',\n",
       "       'Alan Anderson', 'Drew Gooden', 'Ramon Sessions', 'Gary Neal',\n",
       "       'DeJuan Blair', 'Kelly Oubre Jr.', 'Garrett Temple', 'Jarell Eddie'], \n",
       "      dtype='<U24')"
      ]
     },
     "execution_count": 6,
     "metadata": {},
     "output_type": "execute_result"
    }
   ],
   "source": [
    "nba_salaries.column(0) # Can use column indices for brevity"
   ]
  },
  {
   "cell_type": "code",
   "execution_count": 8,
   "metadata": {
    "collapsed": false
   },
   "outputs": [
    {
     "data": {
      "text/html": [
       "<table border=\"1\" class=\"dataframe\">\n",
       "    <thead>\n",
       "        <tr>\n",
       "            <th>PLAYER</th> <th>POSITION</th>\n",
       "        </tr>\n",
       "    </thead>\n",
       "    <tbody>\n",
       "        <tr>\n",
       "            <td>Paul Millsap    </td> <td>PF      </td>\n",
       "        </tr>\n",
       "    </tbody>\n",
       "        <tr>\n",
       "            <td>Al Horford      </td> <td>C       </td>\n",
       "        </tr>\n",
       "    </tbody>\n",
       "        <tr>\n",
       "            <td>Tiago Splitter  </td> <td>C       </td>\n",
       "        </tr>\n",
       "    </tbody>\n",
       "        <tr>\n",
       "            <td>Jeff Teague     </td> <td>PG      </td>\n",
       "        </tr>\n",
       "    </tbody>\n",
       "        <tr>\n",
       "            <td>Kyle Korver     </td> <td>SG      </td>\n",
       "        </tr>\n",
       "    </tbody>\n",
       "        <tr>\n",
       "            <td>Thabo Sefolosha </td> <td>SF      </td>\n",
       "        </tr>\n",
       "    </tbody>\n",
       "        <tr>\n",
       "            <td>Mike Scott      </td> <td>PF      </td>\n",
       "        </tr>\n",
       "    </tbody>\n",
       "        <tr>\n",
       "            <td>Kent Bazemore   </td> <td>SF      </td>\n",
       "        </tr>\n",
       "    </tbody>\n",
       "        <tr>\n",
       "            <td>Dennis Schroder </td> <td>PG      </td>\n",
       "        </tr>\n",
       "    </tbody>\n",
       "        <tr>\n",
       "            <td>Tim Hardaway Jr.</td> <td>SG      </td>\n",
       "        </tr>\n",
       "    </tbody>\n",
       "</table>\n",
       "<p>... (407 rows omitted)</p"
      ],
      "text/plain": [
       "PLAYER           | POSITION\n",
       "Paul Millsap     | PF\n",
       "Al Horford       | C\n",
       "Tiago Splitter   | C\n",
       "Jeff Teague      | PG\n",
       "Kyle Korver      | SG\n",
       "Thabo Sefolosha  | SF\n",
       "Mike Scott       | PF\n",
       "Kent Bazemore    | SF\n",
       "Dennis Schroder  | PG\n",
       "Tim Hardaway Jr. | SG\n",
       "... (407 rows omitted)"
      ]
     },
     "execution_count": 8,
     "metadata": {},
     "output_type": "execute_result"
    }
   ],
   "source": [
    "nba_salaries.select(\"PLAYER\", \"POSITION\")"
   ]
  },
  {
   "cell_type": "code",
   "execution_count": 9,
   "metadata": {
    "collapsed": false
   },
   "outputs": [
    {
     "data": {
      "text/html": [
       "<table border=\"1\" class=\"dataframe\">\n",
       "    <thead>\n",
       "        <tr>\n",
       "            <th>PLAYER</th>\n",
       "        </tr>\n",
       "    </thead>\n",
       "    <tbody>\n",
       "        <tr>\n",
       "            <td>Paul Millsap    </td>\n",
       "        </tr>\n",
       "    </tbody>\n",
       "        <tr>\n",
       "            <td>Al Horford      </td>\n",
       "        </tr>\n",
       "    </tbody>\n",
       "        <tr>\n",
       "            <td>Tiago Splitter  </td>\n",
       "        </tr>\n",
       "    </tbody>\n",
       "        <tr>\n",
       "            <td>Jeff Teague     </td>\n",
       "        </tr>\n",
       "    </tbody>\n",
       "        <tr>\n",
       "            <td>Kyle Korver     </td>\n",
       "        </tr>\n",
       "    </tbody>\n",
       "        <tr>\n",
       "            <td>Thabo Sefolosha </td>\n",
       "        </tr>\n",
       "    </tbody>\n",
       "        <tr>\n",
       "            <td>Mike Scott      </td>\n",
       "        </tr>\n",
       "    </tbody>\n",
       "        <tr>\n",
       "            <td>Kent Bazemore   </td>\n",
       "        </tr>\n",
       "    </tbody>\n",
       "        <tr>\n",
       "            <td>Dennis Schroder </td>\n",
       "        </tr>\n",
       "    </tbody>\n",
       "        <tr>\n",
       "            <td>Tim Hardaway Jr.</td>\n",
       "        </tr>\n",
       "    </tbody>\n",
       "</table>\n",
       "<p>... (407 rows omitted)</p"
      ],
      "text/plain": [
       "PLAYER\n",
       "Paul Millsap\n",
       "Al Horford\n",
       "Tiago Splitter\n",
       "Jeff Teague\n",
       "Kyle Korver\n",
       "Thabo Sefolosha\n",
       "Mike Scott\n",
       "Kent Bazemore\n",
       "Dennis Schroder\n",
       "Tim Hardaway Jr.\n",
       "... (407 rows omitted)"
      ]
     },
     "execution_count": 9,
     "metadata": {},
     "output_type": "execute_result"
    }
   ],
   "source": [
    "nba_salaries.select(\"PLAYER\")"
   ]
  },
  {
   "cell_type": "code",
   "execution_count": 10,
   "metadata": {
    "collapsed": false
   },
   "outputs": [
    {
     "data": {
      "text/html": [
       "<table border=\"1\" class=\"dataframe\">\n",
       "    <thead>\n",
       "        <tr>\n",
       "            <th>PLAYER</th> <th>POSITION</th> <th>'15-'16 SALARY</th>\n",
       "        </tr>\n",
       "    </thead>\n",
       "    <tbody>\n",
       "        <tr>\n",
       "            <td>Paul Millsap    </td> <td>PF      </td> <td>18.6717       </td>\n",
       "        </tr>\n",
       "    </tbody>\n",
       "        <tr>\n",
       "            <td>Al Horford      </td> <td>C       </td> <td>12            </td>\n",
       "        </tr>\n",
       "    </tbody>\n",
       "        <tr>\n",
       "            <td>Tiago Splitter  </td> <td>C       </td> <td>9.75625       </td>\n",
       "        </tr>\n",
       "    </tbody>\n",
       "        <tr>\n",
       "            <td>Jeff Teague     </td> <td>PG      </td> <td>8             </td>\n",
       "        </tr>\n",
       "    </tbody>\n",
       "        <tr>\n",
       "            <td>Kyle Korver     </td> <td>SG      </td> <td>5.74648       </td>\n",
       "        </tr>\n",
       "    </tbody>\n",
       "        <tr>\n",
       "            <td>Thabo Sefolosha </td> <td>SF      </td> <td>4             </td>\n",
       "        </tr>\n",
       "    </tbody>\n",
       "        <tr>\n",
       "            <td>Mike Scott      </td> <td>PF      </td> <td>3.33333       </td>\n",
       "        </tr>\n",
       "    </tbody>\n",
       "        <tr>\n",
       "            <td>Kent Bazemore   </td> <td>SF      </td> <td>2             </td>\n",
       "        </tr>\n",
       "    </tbody>\n",
       "        <tr>\n",
       "            <td>Dennis Schroder </td> <td>PG      </td> <td>1.7634        </td>\n",
       "        </tr>\n",
       "    </tbody>\n",
       "        <tr>\n",
       "            <td>Tim Hardaway Jr.</td> <td>SG      </td> <td>1.30452       </td>\n",
       "        </tr>\n",
       "    </tbody>\n",
       "</table>\n",
       "<p>... (407 rows omitted)</p"
      ],
      "text/plain": [
       "PLAYER           | POSITION | '15-'16 SALARY\n",
       "Paul Millsap     | PF       | 18.6717\n",
       "Al Horford       | C        | 12\n",
       "Tiago Splitter   | C        | 9.75625\n",
       "Jeff Teague      | PG       | 8\n",
       "Kyle Korver      | SG       | 5.74648\n",
       "Thabo Sefolosha  | SF       | 4\n",
       "Mike Scott       | PF       | 3.33333\n",
       "Kent Bazemore    | SF       | 2\n",
       "Dennis Schroder  | PG       | 1.7634\n",
       "Tim Hardaway Jr. | SG       | 1.30452\n",
       "... (407 rows omitted)"
      ]
     },
     "execution_count": 10,
     "metadata": {},
     "output_type": "execute_result"
    }
   ],
   "source": [
    "nba_salaries.drop(\"TEAM\")"
   ]
  },
  {
   "cell_type": "code",
   "execution_count": 11,
   "metadata": {
    "collapsed": false
   },
   "outputs": [
    {
     "data": {
      "text/html": [
       "<table border=\"1\" class=\"dataframe\">\n",
       "    <thead>\n",
       "        <tr>\n",
       "            <th>TEAM</th> <th>'15-'16 SALARY</th>\n",
       "        </tr>\n",
       "    </thead>\n",
       "    <tbody>\n",
       "        <tr>\n",
       "            <td>Atlanta Hawks</td> <td>18.6717       </td>\n",
       "        </tr>\n",
       "    </tbody>\n",
       "        <tr>\n",
       "            <td>Atlanta Hawks</td> <td>12            </td>\n",
       "        </tr>\n",
       "    </tbody>\n",
       "        <tr>\n",
       "            <td>Atlanta Hawks</td> <td>9.75625       </td>\n",
       "        </tr>\n",
       "    </tbody>\n",
       "        <tr>\n",
       "            <td>Atlanta Hawks</td> <td>8             </td>\n",
       "        </tr>\n",
       "    </tbody>\n",
       "        <tr>\n",
       "            <td>Atlanta Hawks</td> <td>5.74648       </td>\n",
       "        </tr>\n",
       "    </tbody>\n",
       "        <tr>\n",
       "            <td>Atlanta Hawks</td> <td>4             </td>\n",
       "        </tr>\n",
       "    </tbody>\n",
       "        <tr>\n",
       "            <td>Atlanta Hawks</td> <td>3.33333       </td>\n",
       "        </tr>\n",
       "    </tbody>\n",
       "        <tr>\n",
       "            <td>Atlanta Hawks</td> <td>2             </td>\n",
       "        </tr>\n",
       "    </tbody>\n",
       "        <tr>\n",
       "            <td>Atlanta Hawks</td> <td>1.7634        </td>\n",
       "        </tr>\n",
       "    </tbody>\n",
       "        <tr>\n",
       "            <td>Atlanta Hawks</td> <td>1.30452       </td>\n",
       "        </tr>\n",
       "    </tbody>\n",
       "</table>\n",
       "<p>... (407 rows omitted)</p"
      ],
      "text/plain": [
       "TEAM          | '15-'16 SALARY\n",
       "Atlanta Hawks | 18.6717\n",
       "Atlanta Hawks | 12\n",
       "Atlanta Hawks | 9.75625\n",
       "Atlanta Hawks | 8\n",
       "Atlanta Hawks | 5.74648\n",
       "Atlanta Hawks | 4\n",
       "Atlanta Hawks | 3.33333\n",
       "Atlanta Hawks | 2\n",
       "Atlanta Hawks | 1.7634\n",
       "Atlanta Hawks | 1.30452\n",
       "... (407 rows omitted)"
      ]
     },
     "execution_count": 11,
     "metadata": {},
     "output_type": "execute_result"
    }
   ],
   "source": [
    "nba_salaries.drop(0, 1)"
   ]
  },
  {
   "cell_type": "code",
   "execution_count": 12,
   "metadata": {
    "collapsed": false
   },
   "outputs": [
    {
     "data": {
      "text/html": [
       "<table border=\"1\" class=\"dataframe\">\n",
       "    <thead>\n",
       "        <tr>\n",
       "            <th>PLAYER</th> <th>POSITION</th> <th>TEAM</th> <th>SALARY</th>\n",
       "        </tr>\n",
       "    </thead>\n",
       "    <tbody>\n",
       "        <tr>\n",
       "            <td>Paul Millsap    </td> <td>PF      </td> <td>Atlanta Hawks</td> <td>18.6717</td>\n",
       "        </tr>\n",
       "    </tbody>\n",
       "        <tr>\n",
       "            <td>Al Horford      </td> <td>C       </td> <td>Atlanta Hawks</td> <td>12     </td>\n",
       "        </tr>\n",
       "    </tbody>\n",
       "        <tr>\n",
       "            <td>Tiago Splitter  </td> <td>C       </td> <td>Atlanta Hawks</td> <td>9.75625</td>\n",
       "        </tr>\n",
       "    </tbody>\n",
       "        <tr>\n",
       "            <td>Jeff Teague     </td> <td>PG      </td> <td>Atlanta Hawks</td> <td>8      </td>\n",
       "        </tr>\n",
       "    </tbody>\n",
       "        <tr>\n",
       "            <td>Kyle Korver     </td> <td>SG      </td> <td>Atlanta Hawks</td> <td>5.74648</td>\n",
       "        </tr>\n",
       "    </tbody>\n",
       "        <tr>\n",
       "            <td>Thabo Sefolosha </td> <td>SF      </td> <td>Atlanta Hawks</td> <td>4      </td>\n",
       "        </tr>\n",
       "    </tbody>\n",
       "        <tr>\n",
       "            <td>Mike Scott      </td> <td>PF      </td> <td>Atlanta Hawks</td> <td>3.33333</td>\n",
       "        </tr>\n",
       "    </tbody>\n",
       "        <tr>\n",
       "            <td>Kent Bazemore   </td> <td>SF      </td> <td>Atlanta Hawks</td> <td>2      </td>\n",
       "        </tr>\n",
       "    </tbody>\n",
       "        <tr>\n",
       "            <td>Dennis Schroder </td> <td>PG      </td> <td>Atlanta Hawks</td> <td>1.7634 </td>\n",
       "        </tr>\n",
       "    </tbody>\n",
       "        <tr>\n",
       "            <td>Tim Hardaway Jr.</td> <td>SG      </td> <td>Atlanta Hawks</td> <td>1.30452</td>\n",
       "        </tr>\n",
       "    </tbody>\n",
       "</table>\n",
       "<p>... (407 rows omitted)</p"
      ],
      "text/plain": [
       "PLAYER           | POSITION | TEAM          | SALARY\n",
       "Paul Millsap     | PF       | Atlanta Hawks | 18.6717\n",
       "Al Horford       | C        | Atlanta Hawks | 12\n",
       "Tiago Splitter   | C        | Atlanta Hawks | 9.75625\n",
       "Jeff Teague      | PG       | Atlanta Hawks | 8\n",
       "Kyle Korver      | SG       | Atlanta Hawks | 5.74648\n",
       "Thabo Sefolosha  | SF       | Atlanta Hawks | 4\n",
       "Mike Scott       | PF       | Atlanta Hawks | 3.33333\n",
       "Kent Bazemore    | SF       | Atlanta Hawks | 2\n",
       "Dennis Schroder  | PG       | Atlanta Hawks | 1.7634\n",
       "Tim Hardaway Jr. | SG       | Atlanta Hawks | 1.30452\n",
       "... (407 rows omitted)"
      ]
     },
     "execution_count": 12,
     "metadata": {},
     "output_type": "execute_result"
    }
   ],
   "source": [
    "nba_salaries.relabeled(\"'15-'16 SALARY\", \"SALARY\")"
   ]
  },
  {
   "cell_type": "code",
   "execution_count": 13,
   "metadata": {
    "collapsed": false
   },
   "outputs": [
    {
     "data": {
      "text/html": [
       "<table border=\"1\" class=\"dataframe\">\n",
       "    <thead>\n",
       "        <tr>\n",
       "            <th>PLAYER</th> <th>POSITION</th> <th>TEAM</th> <th>'15-'16 SALARY</th>\n",
       "        </tr>\n",
       "    </thead>\n",
       "    <tbody>\n",
       "        <tr>\n",
       "            <td>Paul Millsap    </td> <td>PF      </td> <td>Atlanta Hawks</td> <td>18.6717       </td>\n",
       "        </tr>\n",
       "    </tbody>\n",
       "        <tr>\n",
       "            <td>Al Horford      </td> <td>C       </td> <td>Atlanta Hawks</td> <td>12            </td>\n",
       "        </tr>\n",
       "    </tbody>\n",
       "        <tr>\n",
       "            <td>Tiago Splitter  </td> <td>C       </td> <td>Atlanta Hawks</td> <td>9.75625       </td>\n",
       "        </tr>\n",
       "    </tbody>\n",
       "        <tr>\n",
       "            <td>Jeff Teague     </td> <td>PG      </td> <td>Atlanta Hawks</td> <td>8             </td>\n",
       "        </tr>\n",
       "    </tbody>\n",
       "        <tr>\n",
       "            <td>Kyle Korver     </td> <td>SG      </td> <td>Atlanta Hawks</td> <td>5.74648       </td>\n",
       "        </tr>\n",
       "    </tbody>\n",
       "        <tr>\n",
       "            <td>Thabo Sefolosha </td> <td>SF      </td> <td>Atlanta Hawks</td> <td>4             </td>\n",
       "        </tr>\n",
       "    </tbody>\n",
       "        <tr>\n",
       "            <td>Mike Scott      </td> <td>PF      </td> <td>Atlanta Hawks</td> <td>3.33333       </td>\n",
       "        </tr>\n",
       "    </tbody>\n",
       "        <tr>\n",
       "            <td>Kent Bazemore   </td> <td>SF      </td> <td>Atlanta Hawks</td> <td>2             </td>\n",
       "        </tr>\n",
       "    </tbody>\n",
       "        <tr>\n",
       "            <td>Dennis Schroder </td> <td>PG      </td> <td>Atlanta Hawks</td> <td>1.7634        </td>\n",
       "        </tr>\n",
       "    </tbody>\n",
       "        <tr>\n",
       "            <td>Tim Hardaway Jr.</td> <td>SG      </td> <td>Atlanta Hawks</td> <td>1.30452       </td>\n",
       "        </tr>\n",
       "    </tbody>\n",
       "</table>\n",
       "<p>... (407 rows omitted)</p"
      ],
      "text/plain": [
       "PLAYER           | POSITION | TEAM          | '15-'16 SALARY\n",
       "Paul Millsap     | PF       | Atlanta Hawks | 18.6717\n",
       "Al Horford       | C        | Atlanta Hawks | 12\n",
       "Tiago Splitter   | C        | Atlanta Hawks | 9.75625\n",
       "Jeff Teague      | PG       | Atlanta Hawks | 8\n",
       "Kyle Korver      | SG       | Atlanta Hawks | 5.74648\n",
       "Thabo Sefolosha  | SF       | Atlanta Hawks | 4\n",
       "Mike Scott       | PF       | Atlanta Hawks | 3.33333\n",
       "Kent Bazemore    | SF       | Atlanta Hawks | 2\n",
       "Dennis Schroder  | PG       | Atlanta Hawks | 1.7634\n",
       "Tim Hardaway Jr. | SG       | Atlanta Hawks | 1.30452\n",
       "... (407 rows omitted)"
      ]
     },
     "execution_count": 13,
     "metadata": {},
     "output_type": "execute_result"
    }
   ],
   "source": [
    "nba_salaries"
   ]
  },
  {
   "cell_type": "code",
   "execution_count": 14,
   "metadata": {
    "collapsed": true
   },
   "outputs": [],
   "source": [
    "nba = nba_salaries.relabeled(\"'15-'16 SALARY\", \"SALARY\")"
   ]
  },
  {
   "cell_type": "code",
   "execution_count": 15,
   "metadata": {
    "collapsed": false,
    "scrolled": true
   },
   "outputs": [
    {
     "data": {
      "text/html": [
       "<table border=\"1\" class=\"dataframe\">\n",
       "    <thead>\n",
       "        <tr>\n",
       "            <th>PLAYER</th> <th>POSITION</th> <th>TEAM</th> <th>SALARY</th>\n",
       "        </tr>\n",
       "    </thead>\n",
       "    <tbody>\n",
       "        <tr>\n",
       "            <td>Paul Millsap    </td> <td>PF      </td> <td>Atlanta Hawks</td> <td>18.6717</td>\n",
       "        </tr>\n",
       "    </tbody>\n",
       "        <tr>\n",
       "            <td>Al Horford      </td> <td>C       </td> <td>Atlanta Hawks</td> <td>12     </td>\n",
       "        </tr>\n",
       "    </tbody>\n",
       "        <tr>\n",
       "            <td>Tiago Splitter  </td> <td>C       </td> <td>Atlanta Hawks</td> <td>9.75625</td>\n",
       "        </tr>\n",
       "    </tbody>\n",
       "        <tr>\n",
       "            <td>Jeff Teague     </td> <td>PG      </td> <td>Atlanta Hawks</td> <td>8      </td>\n",
       "        </tr>\n",
       "    </tbody>\n",
       "        <tr>\n",
       "            <td>Kyle Korver     </td> <td>SG      </td> <td>Atlanta Hawks</td> <td>5.74648</td>\n",
       "        </tr>\n",
       "    </tbody>\n",
       "        <tr>\n",
       "            <td>Thabo Sefolosha </td> <td>SF      </td> <td>Atlanta Hawks</td> <td>4      </td>\n",
       "        </tr>\n",
       "    </tbody>\n",
       "        <tr>\n",
       "            <td>Mike Scott      </td> <td>PF      </td> <td>Atlanta Hawks</td> <td>3.33333</td>\n",
       "        </tr>\n",
       "    </tbody>\n",
       "        <tr>\n",
       "            <td>Kent Bazemore   </td> <td>SF      </td> <td>Atlanta Hawks</td> <td>2      </td>\n",
       "        </tr>\n",
       "    </tbody>\n",
       "        <tr>\n",
       "            <td>Dennis Schroder </td> <td>PG      </td> <td>Atlanta Hawks</td> <td>1.7634 </td>\n",
       "        </tr>\n",
       "    </tbody>\n",
       "        <tr>\n",
       "            <td>Tim Hardaway Jr.</td> <td>SG      </td> <td>Atlanta Hawks</td> <td>1.30452</td>\n",
       "        </tr>\n",
       "    </tbody>\n",
       "</table>\n",
       "<p>... (407 rows omitted)</p"
      ],
      "text/plain": [
       "PLAYER           | POSITION | TEAM          | SALARY\n",
       "Paul Millsap     | PF       | Atlanta Hawks | 18.6717\n",
       "Al Horford       | C        | Atlanta Hawks | 12\n",
       "Tiago Splitter   | C        | Atlanta Hawks | 9.75625\n",
       "Jeff Teague      | PG       | Atlanta Hawks | 8\n",
       "Kyle Korver      | SG       | Atlanta Hawks | 5.74648\n",
       "Thabo Sefolosha  | SF       | Atlanta Hawks | 4\n",
       "Mike Scott       | PF       | Atlanta Hawks | 3.33333\n",
       "Kent Bazemore    | SF       | Atlanta Hawks | 2\n",
       "Dennis Schroder  | PG       | Atlanta Hawks | 1.7634\n",
       "Tim Hardaway Jr. | SG       | Atlanta Hawks | 1.30452\n",
       "... (407 rows omitted)"
      ]
     },
     "execution_count": 15,
     "metadata": {},
     "output_type": "execute_result"
    }
   ],
   "source": [
    "nba"
   ]
  },
  {
   "cell_type": "code",
   "execution_count": 19,
   "metadata": {
    "collapsed": false
   },
   "outputs": [
    {
     "data": {
      "text/plain": [
       "('PLAYER', 'POSITION', 'TEAM', 'SALARY')"
      ]
     },
     "execution_count": 19,
     "metadata": {},
     "output_type": "execute_result"
    }
   ],
   "source": [
    "nba.labels"
   ]
  },
  {
   "cell_type": "code",
   "execution_count": 20,
   "metadata": {
    "collapsed": false
   },
   "outputs": [
    {
     "data": {
      "text/plain": [
       "417"
      ]
     },
     "execution_count": 20,
     "metadata": {},
     "output_type": "execute_result"
    }
   ],
   "source": [
    "nba.num_rows"
   ]
  },
  {
   "cell_type": "code",
   "execution_count": 22,
   "metadata": {
    "collapsed": false
   },
   "outputs": [
    {
     "data": {
      "text/plain": [
       "4"
      ]
     },
     "execution_count": 22,
     "metadata": {},
     "output_type": "execute_result"
    }
   ],
   "source": [
    "nba.num_columns"
   ]
  },
  {
   "cell_type": "markdown",
   "metadata": {},
   "source": [
    "## Filtering rows and other cool stuff"
   ]
  },
  {
   "cell_type": "code",
   "execution_count": 16,
   "metadata": {
    "collapsed": false
   },
   "outputs": [
    {
     "data": {
      "text/html": [
       "<table border=\"1\" class=\"dataframe\">\n",
       "    <thead>\n",
       "        <tr>\n",
       "            <th>PLAYER</th> <th>POSITION</th> <th>TEAM</th> <th>SALARY</th>\n",
       "        </tr>\n",
       "    </thead>\n",
       "    <tbody>\n",
       "        <tr>\n",
       "            <td>Paul Millsap  </td> <td>PF      </td> <td>Atlanta Hawks</td> <td>18.6717</td>\n",
       "        </tr>\n",
       "    </tbody>\n",
       "        <tr>\n",
       "            <td>Al Horford    </td> <td>C       </td> <td>Atlanta Hawks</td> <td>12     </td>\n",
       "        </tr>\n",
       "    </tbody>\n",
       "        <tr>\n",
       "            <td>Tiago Splitter</td> <td>C       </td> <td>Atlanta Hawks</td> <td>9.75625</td>\n",
       "        </tr>\n",
       "    </tbody>\n",
       "</table>"
      ],
      "text/plain": [
       "PLAYER         | POSITION | TEAM          | SALARY\n",
       "Paul Millsap   | PF       | Atlanta Hawks | 18.6717\n",
       "Al Horford     | C        | Atlanta Hawks | 12\n",
       "Tiago Splitter | C        | Atlanta Hawks | 9.75625"
      ]
     },
     "execution_count": 16,
     "metadata": {},
     "output_type": "execute_result"
    }
   ],
   "source": [
    "nba.take(np.arange(3))"
   ]
  },
  {
   "cell_type": "code",
   "execution_count": 17,
   "metadata": {
    "collapsed": false
   },
   "outputs": [
    {
     "data": {
      "text/html": [
       "<table border=\"1\" class=\"dataframe\">\n",
       "    <thead>\n",
       "        <tr>\n",
       "            <th>PLAYER</th> <th>POSITION</th> <th>TEAM</th> <th>SALARY</th>\n",
       "        </tr>\n",
       "    </thead>\n",
       "    <tbody>\n",
       "        <tr>\n",
       "            <td>Thanasis Antetokounmpo</td> <td>SF      </td> <td>New York Knicks     </td> <td>0.030888</td>\n",
       "        </tr>\n",
       "    </tbody>\n",
       "        <tr>\n",
       "            <td>Jordan McRae          </td> <td>SG      </td> <td>Phoenix Suns        </td> <td>0.049709</td>\n",
       "        </tr>\n",
       "    </tbody>\n",
       "        <tr>\n",
       "            <td>Cory Jefferson        </td> <td>PF      </td> <td>Phoenix Suns        </td> <td>0.049709</td>\n",
       "        </tr>\n",
       "    </tbody>\n",
       "        <tr>\n",
       "            <td>Elliot Williams       </td> <td>SG      </td> <td>Memphis Grizzlies   </td> <td>0.055722</td>\n",
       "        </tr>\n",
       "    </tbody>\n",
       "        <tr>\n",
       "            <td>Orlando Johnson       </td> <td>SG      </td> <td>Phoenix Suns        </td> <td>0.055722</td>\n",
       "        </tr>\n",
       "    </tbody>\n",
       "        <tr>\n",
       "            <td>Phil Pressey          </td> <td>PG      </td> <td>Phoenix Suns        </td> <td>0.055722</td>\n",
       "        </tr>\n",
       "    </tbody>\n",
       "        <tr>\n",
       "            <td>Keith Appling         </td> <td>PG      </td> <td>Orlando Magic       </td> <td>0.061776</td>\n",
       "        </tr>\n",
       "    </tbody>\n",
       "        <tr>\n",
       "            <td>Sean Kilpatrick       </td> <td>SG      </td> <td>Denver Nuggets      </td> <td>0.099418</td>\n",
       "        </tr>\n",
       "    </tbody>\n",
       "        <tr>\n",
       "            <td>Erick Green           </td> <td>PG      </td> <td>Utah Jazz           </td> <td>0.099418</td>\n",
       "        </tr>\n",
       "    </tbody>\n",
       "        <tr>\n",
       "            <td>Jeff Ayres            </td> <td>PF      </td> <td>Los Angeles Clippers</td> <td>0.111444</td>\n",
       "        </tr>\n",
       "    </tbody>\n",
       "</table>"
      ],
      "text/plain": [
       "PLAYER                 | POSITION | TEAM                 | SALARY\n",
       "Thanasis Antetokounmpo | SF       | New York Knicks      | 0.030888\n",
       "Jordan McRae           | SG       | Phoenix Suns         | 0.049709\n",
       "Cory Jefferson         | PF       | Phoenix Suns         | 0.049709\n",
       "Elliot Williams        | SG       | Memphis Grizzlies    | 0.055722\n",
       "Orlando Johnson        | SG       | Phoenix Suns         | 0.055722\n",
       "Phil Pressey           | PG       | Phoenix Suns         | 0.055722\n",
       "Keith Appling          | PG       | Orlando Magic        | 0.061776\n",
       "Sean Kilpatrick        | SG       | Denver Nuggets       | 0.099418\n",
       "Erick Green            | PG       | Utah Jazz            | 0.099418\n",
       "Jeff Ayres             | PF       | Los Angeles Clippers | 0.111444"
      ]
     },
     "execution_count": 17,
     "metadata": {},
     "output_type": "execute_result"
    }
   ],
   "source": [
    "nba.sort(\"SALARY\").take(np.arange(10))"
   ]
  },
  {
   "cell_type": "code",
   "execution_count": 18,
   "metadata": {
    "collapsed": false
   },
   "outputs": [
    {
     "data": {
      "text/html": [
       "<table border=\"1\" class=\"dataframe\">\n",
       "    <thead>\n",
       "        <tr>\n",
       "            <th>PLAYER</th> <th>POSITION</th> <th>TEAM</th> <th>SALARY</th>\n",
       "        </tr>\n",
       "    </thead>\n",
       "    <tbody>\n",
       "        <tr>\n",
       "            <td>Kobe Bryant    </td> <td>SF      </td> <td>Los Angeles Lakers   </td> <td>25     </td>\n",
       "        </tr>\n",
       "    </tbody>\n",
       "        <tr>\n",
       "            <td>Joe Johnson    </td> <td>SF      </td> <td>Brooklyn Nets        </td> <td>24.8949</td>\n",
       "        </tr>\n",
       "    </tbody>\n",
       "        <tr>\n",
       "            <td>LeBron James   </td> <td>SF      </td> <td>Cleveland Cavaliers  </td> <td>22.9705</td>\n",
       "        </tr>\n",
       "    </tbody>\n",
       "        <tr>\n",
       "            <td>Carmelo Anthony</td> <td>SF      </td> <td>New York Knicks      </td> <td>22.875 </td>\n",
       "        </tr>\n",
       "    </tbody>\n",
       "        <tr>\n",
       "            <td>Dwight Howard  </td> <td>C       </td> <td>Houston Rockets      </td> <td>22.3594</td>\n",
       "        </tr>\n",
       "    </tbody>\n",
       "        <tr>\n",
       "            <td>Chris Bosh     </td> <td>PF      </td> <td>Miami Heat           </td> <td>22.1927</td>\n",
       "        </tr>\n",
       "    </tbody>\n",
       "        <tr>\n",
       "            <td>Chris Paul     </td> <td>PG      </td> <td>Los Angeles Clippers </td> <td>21.4687</td>\n",
       "        </tr>\n",
       "    </tbody>\n",
       "        <tr>\n",
       "            <td>Kevin Durant   </td> <td>SF      </td> <td>Oklahoma City Thunder</td> <td>20.1586</td>\n",
       "        </tr>\n",
       "    </tbody>\n",
       "        <tr>\n",
       "            <td>Derrick Rose   </td> <td>PG      </td> <td>Chicago Bulls        </td> <td>20.0931</td>\n",
       "        </tr>\n",
       "    </tbody>\n",
       "        <tr>\n",
       "            <td>Dwyane Wade    </td> <td>SG      </td> <td>Miami Heat           </td> <td>20     </td>\n",
       "        </tr>\n",
       "    </tbody>\n",
       "</table>"
      ],
      "text/plain": [
       "PLAYER          | POSITION | TEAM                  | SALARY\n",
       "Kobe Bryant     | SF       | Los Angeles Lakers    | 25\n",
       "Joe Johnson     | SF       | Brooklyn Nets         | 24.8949\n",
       "LeBron James    | SF       | Cleveland Cavaliers   | 22.9705\n",
       "Carmelo Anthony | SF       | New York Knicks       | 22.875\n",
       "Dwight Howard   | C        | Houston Rockets       | 22.3594\n",
       "Chris Bosh      | PF       | Miami Heat            | 22.1927\n",
       "Chris Paul      | PG       | Los Angeles Clippers  | 21.4687\n",
       "Kevin Durant    | SF       | Oklahoma City Thunder | 20.1586\n",
       "Derrick Rose    | PG       | Chicago Bulls         | 20.0931\n",
       "Dwyane Wade     | SG       | Miami Heat            | 20"
      ]
     },
     "execution_count": 18,
     "metadata": {},
     "output_type": "execute_result"
    }
   ],
   "source": [
    "nba.sort(\"SALARY\", descending=True).take(np.arange(10))"
   ]
  },
  {
   "cell_type": "code",
   "execution_count": null,
   "metadata": {
    "collapsed": true
   },
   "outputs": [],
   "source": [
    "nba.sort(\"SALARY\", descending=True).take(np.arange(10))"
   ]
  },
  {
   "cell_type": "code",
   "execution_count": 23,
   "metadata": {
    "collapsed": false
   },
   "outputs": [
    {
     "data": {
      "image/png": "[encoded data removed]",
      "text/plain": [
       "<matplotlib.figure.Figure at 0x10f5fd7b8>"
      ]
     },
     "metadata": {},
     "output_type": "display_data"
    }
   ],
   "source": [
    "nba.group_barh(\"POSITION\")"
   ]
  },
  {
   "cell_type": "code",
   "execution_count": 25,
   "metadata": {
    "collapsed": false
   },
   "outputs": [
    {
     "data": {
      "image/png": "[encoded data removed]",
      "text/plain": [
       "<matplotlib.figure.Figure at 0x10f6732e8>"
      ]
     },
     "metadata": {},
     "output_type": "display_data"
    }
   ],
   "source": [
    "nba.where(\"SALARY\", are.above(10)).group_barh(\"POSITION\")"
   ]
  },
  {
   "cell_type": "code",
   "execution_count": 27,
   "metadata": {
    "collapsed": false
   },
   "outputs": [
    {
     "data": {
      "image/png": "[encoded data removed]",
      "text/plain": [
       "<matplotlib.figure.Figure at 0x10f2e29e8>"
      ]
     },
     "metadata": {},
     "output_type": "display_data"
    }
   ],
   "source": [
    "nba.hist(\"SALARY\", group=\"POSITION\", unit='Million Dollars') # Another way of looking at salary by position"
   ]
  },
  {
   "cell_type": "markdown",
   "metadata": {},
   "source": [
    "## Visualizing two variables"
   ]
  },
  {
   "cell_type": "code",
   "execution_count": 29,
   "metadata": {
    "collapsed": false
   },
   "outputs": [
    {
     "data": {
      "text/html": [
       "<table border=\"1\" class=\"dataframe\">\n",
       "    <thead>\n",
       "        <tr>\n",
       "            <th>Actor</th> <th>Total Gross</th> <th>Number of Movies</th> <th>Average per Movie</th> <th>#1 Movie</th> <th>Gross</th>\n",
       "        </tr>\n",
       "    </thead>\n",
       "    <tbody>\n",
       "        <tr>\n",
       "            <td>Harrison Ford     </td> <td>4871.7     </td> <td>41              </td> <td>118.8            </td> <td>Star Wars: The Force Awakens</td> <td>936.7</td>\n",
       "        </tr>\n",
       "    </tbody>\n",
       "        <tr>\n",
       "            <td>Samuel L. Jackson </td> <td>4772.8     </td> <td>69              </td> <td>69.2             </td> <td>The Avengers                </td> <td>623.4</td>\n",
       "        </tr>\n",
       "    </tbody>\n",
       "        <tr>\n",
       "            <td>Morgan Freeman    </td> <td>4468.3     </td> <td>61              </td> <td>73.3             </td> <td>The Dark Knight             </td> <td>534.9</td>\n",
       "        </tr>\n",
       "    </tbody>\n",
       "        <tr>\n",
       "            <td>Tom Hanks         </td> <td>4340.8     </td> <td>44              </td> <td>98.7             </td> <td>Toy Story 3                 </td> <td>415  </td>\n",
       "        </tr>\n",
       "    </tbody>\n",
       "        <tr>\n",
       "            <td>Robert Downey, Jr.</td> <td>3947.3     </td> <td>53              </td> <td>74.5             </td> <td>The Avengers                </td> <td>623.4</td>\n",
       "        </tr>\n",
       "    </tbody>\n",
       "        <tr>\n",
       "            <td>Eddie Murphy      </td> <td>3810.4     </td> <td>38              </td> <td>100.3            </td> <td>Shrek 2                     </td> <td>441.2</td>\n",
       "        </tr>\n",
       "    </tbody>\n",
       "        <tr>\n",
       "            <td>Tom Cruise        </td> <td>3587.2     </td> <td>36              </td> <td>99.6             </td> <td>War of the Worlds           </td> <td>234.3</td>\n",
       "        </tr>\n",
       "    </tbody>\n",
       "        <tr>\n",
       "            <td>Johnny Depp       </td> <td>3368.6     </td> <td>45              </td> <td>74.9             </td> <td>Dead Man's Chest            </td> <td>423.3</td>\n",
       "        </tr>\n",
       "    </tbody>\n",
       "        <tr>\n",
       "            <td>Michael Caine     </td> <td>3351.5     </td> <td>58              </td> <td>57.8             </td> <td>The Dark Knight             </td> <td>534.9</td>\n",
       "        </tr>\n",
       "    </tbody>\n",
       "        <tr>\n",
       "            <td>Scarlett Johansson</td> <td>3341.2     </td> <td>37              </td> <td>90.3             </td> <td>The Avengers                </td> <td>623.4</td>\n",
       "        </tr>\n",
       "    </tbody>\n",
       "</table>\n",
       "<p>... (40 rows omitted)</p"
      ],
      "text/plain": [
       "Actor              | Total Gross | Number of Movies | Average per Movie | #1 Movie                     | Gross\n",
       "Harrison Ford      | 4871.7      | 41               | 118.8             | Star Wars: The Force Awakens | 936.7\n",
       "Samuel L. Jackson  | 4772.8      | 69               | 69.2              | The Avengers                 | 623.4\n",
       "Morgan Freeman     | 4468.3      | 61               | 73.3              | The Dark Knight              | 534.9\n",
       "Tom Hanks          | 4340.8      | 44               | 98.7              | Toy Story 3                  | 415\n",
       "Robert Downey, Jr. | 3947.3      | 53               | 74.5              | The Avengers                 | 623.4\n",
       "Eddie Murphy       | 3810.4      | 38               | 100.3             | Shrek 2                      | 441.2\n",
       "Tom Cruise         | 3587.2      | 36               | 99.6              | War of the Worlds            | 234.3\n",
       "Johnny Depp        | 3368.6      | 45               | 74.9              | Dead Man's Chest             | 423.3\n",
       "Michael Caine      | 3351.5      | 58               | 57.8              | The Dark Knight              | 534.9\n",
       "Scarlett Johansson | 3341.2      | 37               | 90.3              | The Avengers                 | 623.4\n",
       "... (40 rows omitted)"
      ]
     },
     "execution_count": 29,
     "metadata": {},
     "output_type": "execute_result"
    }
   ],
   "source": [
    "actors = Table.read_table('actors.csv')\n",
    "actors"
   ]
  },
  {
   "cell_type": "code",
   "execution_count": 36,
   "metadata": {
    "collapsed": false
   },
   "outputs": [
    {
     "data": {
      "image/png": "[encoded data removed]",
      "text/plain": [
       "<matplotlib.figure.Figure at 0x106b726d8>"
      ]
     },
     "metadata": {},
     "output_type": "display_data"
    }
   ],
   "source": [
    "actors.scatter(\"Number of Movies\", \"Total Gross\")"
   ]
  },
  {
   "cell_type": "code",
   "execution_count": 38,
   "metadata": {
    "collapsed": false
   },
   "outputs": [
    {
     "data": {
      "image/png": "[encoded data removed]",
      "text/plain": [
       "<matplotlib.figure.Figure at 0x10793cb70>"
      ]
     },
     "metadata": {},
     "output_type": "display_data"
    }
   ],
   "source": [
    "actors.scatter(\"Number of Movies\", \"Average per Movie\")"
   ]
  },
  {
   "cell_type": "code",
   "execution_count": 39,
   "metadata": {
    "collapsed": false
   },
   "outputs": [
    {
     "data": {
      "text/html": [
       "<table border=\"1\" class=\"dataframe\">\n",
       "    <thead>\n",
       "        <tr>\n",
       "            <th>Actor</th> <th>Total Gross</th> <th>Number of Movies</th> <th>Average per Movie</th> <th>#1 Movie</th> <th>Gross</th>\n",
       "        </tr>\n",
       "    </thead>\n",
       "    <tbody>\n",
       "        <tr>\n",
       "            <td>Anthony Daniels</td> <td>3162.9     </td> <td>7               </td> <td>451.8            </td> <td>Star Wars: The Force Awakens</td> <td>936.7</td>\n",
       "        </tr>\n",
       "    </tbody>\n",
       "</table>"
      ],
      "text/plain": [
       "Actor           | Total Gross | Number of Movies | Average per Movie | #1 Movie                     | Gross\n",
       "Anthony Daniels | 3162.9      | 7                | 451.8             | Star Wars: The Force Awakens | 936.7"
      ]
     },
     "execution_count": 39,
     "metadata": {},
     "output_type": "execute_result"
    }
   ],
   "source": [
    "actors.where(\"Number of Movies\", are.below(10))"
   ]
  },
  {
   "cell_type": "code",
   "execution_count": 41,
   "metadata": {
    "collapsed": false
   },
   "outputs": [
    {
     "data": {
      "image/png": "[encoded data removed]",
      "text/plain": [
       "<matplotlib.figure.Figure at 0x10fd28ac8>"
      ]
     },
     "metadata": {},
     "output_type": "display_data"
    }
   ],
   "source": [
    "actors.where(\"Number of Movies\", are.above_or_equal_to(10)).scatter(\"Number of Movies\", \"Average per Movie\")"
   ]
  },
  {
   "cell_type": "code",
   "execution_count": 31,
   "metadata": {
    "collapsed": false
   },
   "outputs": [
    {
     "data": {
      "text/html": [
       "<table border=\"1\" class=\"dataframe\">\n",
       "    <thead>\n",
       "        <tr>\n",
       "            <th>Year</th> <th>Total Gross</th> <th>Number of Movies</th> <th>#1 Movie</th>\n",
       "        </tr>\n",
       "    </thead>\n",
       "    <tbody>\n",
       "        <tr>\n",
       "            <td>2015</td> <td>11128.5    </td> <td>702             </td> <td>Star Wars: The Force Awakens       </td>\n",
       "        </tr>\n",
       "    </tbody>\n",
       "        <tr>\n",
       "            <td>2014</td> <td>10360.8    </td> <td>702             </td> <td>American Sniper                    </td>\n",
       "        </tr>\n",
       "    </tbody>\n",
       "        <tr>\n",
       "            <td>2013</td> <td>10923.6    </td> <td>688             </td> <td>Catching Fire                      </td>\n",
       "        </tr>\n",
       "    </tbody>\n",
       "        <tr>\n",
       "            <td>2012</td> <td>10837.4    </td> <td>667             </td> <td>The Avengers                       </td>\n",
       "        </tr>\n",
       "    </tbody>\n",
       "        <tr>\n",
       "            <td>2011</td> <td>10174.3    </td> <td>602             </td> <td>Harry Potter / Deathly Hallows (P2)</td>\n",
       "        </tr>\n",
       "    </tbody>\n",
       "        <tr>\n",
       "            <td>2010</td> <td>10565.6    </td> <td>536             </td> <td>Toy Story 3                        </td>\n",
       "        </tr>\n",
       "    </tbody>\n",
       "        <tr>\n",
       "            <td>2009</td> <td>10595.5    </td> <td>521             </td> <td>Avatar                             </td>\n",
       "        </tr>\n",
       "    </tbody>\n",
       "        <tr>\n",
       "            <td>2008</td> <td>9630.7     </td> <td>608             </td> <td>The Dark Knight                    </td>\n",
       "        </tr>\n",
       "    </tbody>\n",
       "        <tr>\n",
       "            <td>2007</td> <td>9663.8     </td> <td>631             </td> <td>Spider-Man 3                       </td>\n",
       "        </tr>\n",
       "    </tbody>\n",
       "        <tr>\n",
       "            <td>2006</td> <td>9209.5     </td> <td>608             </td> <td>Dead Man's Chest                   </td>\n",
       "        </tr>\n",
       "    </tbody>\n",
       "</table>\n",
       "<p>... (26 rows omitted)</p"
      ],
      "text/plain": [
       "Year | Total Gross | Number of Movies | #1 Movie\n",
       "2015 | 11128.5     | 702              | Star Wars: The Force Awakens\n",
       "2014 | 10360.8     | 702              | American Sniper\n",
       "2013 | 10923.6     | 688              | Catching Fire\n",
       "2012 | 10837.4     | 667              | The Avengers\n",
       "2011 | 10174.3     | 602              | Harry Potter / Deathly Hallows (P2)\n",
       "2010 | 10565.6     | 536              | Toy Story 3\n",
       "2009 | 10595.5     | 521              | Avatar\n",
       "2008 | 9630.7      | 608              | The Dark Knight\n",
       "2007 | 9663.8      | 631              | Spider-Man 3\n",
       "2006 | 9209.5      | 608              | Dead Man's Chest\n",
       "... (26 rows omitted)"
      ]
     },
     "execution_count": 31,
     "metadata": {},
     "output_type": "execute_result"
    }
   ],
   "source": [
    "movies_by_year = Table.read_table('movies_by_year.csv')\n",
    "movies_by_year"
   ]
  },
  {
   "cell_type": "code",
   "execution_count": 32,
   "metadata": {
    "collapsed": false
   },
   "outputs": [
    {
     "data": {
      "image/png": "[encoded data removed]",
      "text/plain": [
       "<matplotlib.figure.Figure at 0x106a6d8d0>"
      ]
     },
     "metadata": {},
     "output_type": "display_data"
    }
   ],
   "source": [
    "movies_by_year.plot(\"Year\", \"Total Gross\")"
   ]
  },
  {
   "cell_type": "code",
   "execution_count": 34,
   "metadata": {
    "collapsed": false
   },
   "outputs": [
    {
     "data": {
      "text/html": [
       "<table border=\"1\" class=\"dataframe\">\n",
       "    <thead>\n",
       "        <tr>\n",
       "            <th>Year</th> <th>Total Gross</th> <th>Number of Movies</th> <th>#1 Movie</th> <th>Average Gross</th>\n",
       "        </tr>\n",
       "    </thead>\n",
       "    <tbody>\n",
       "        <tr>\n",
       "            <td>2015</td> <td>11128.5    </td> <td>702             </td> <td>Star Wars: The Force Awakens       </td> <td>15.8526      </td>\n",
       "        </tr>\n",
       "    </tbody>\n",
       "        <tr>\n",
       "            <td>2014</td> <td>10360.8    </td> <td>702             </td> <td>American Sniper                    </td> <td>14.759       </td>\n",
       "        </tr>\n",
       "    </tbody>\n",
       "        <tr>\n",
       "            <td>2013</td> <td>10923.6    </td> <td>688             </td> <td>Catching Fire                      </td> <td>15.8773      </td>\n",
       "        </tr>\n",
       "    </tbody>\n",
       "        <tr>\n",
       "            <td>2012</td> <td>10837.4    </td> <td>667             </td> <td>The Avengers                       </td> <td>16.248       </td>\n",
       "        </tr>\n",
       "    </tbody>\n",
       "        <tr>\n",
       "            <td>2011</td> <td>10174.3    </td> <td>602             </td> <td>Harry Potter / Deathly Hallows (P2)</td> <td>16.9008      </td>\n",
       "        </tr>\n",
       "    </tbody>\n",
       "        <tr>\n",
       "            <td>2010</td> <td>10565.6    </td> <td>536             </td> <td>Toy Story 3                        </td> <td>19.7119      </td>\n",
       "        </tr>\n",
       "    </tbody>\n",
       "        <tr>\n",
       "            <td>2009</td> <td>10595.5    </td> <td>521             </td> <td>Avatar                             </td> <td>20.3369      </td>\n",
       "        </tr>\n",
       "    </tbody>\n",
       "        <tr>\n",
       "            <td>2008</td> <td>9630.7     </td> <td>608             </td> <td>The Dark Knight                    </td> <td>15.84        </td>\n",
       "        </tr>\n",
       "    </tbody>\n",
       "        <tr>\n",
       "            <td>2007</td> <td>9663.8     </td> <td>631             </td> <td>Spider-Man 3                       </td> <td>15.3151      </td>\n",
       "        </tr>\n",
       "    </tbody>\n",
       "        <tr>\n",
       "            <td>2006</td> <td>9209.5     </td> <td>608             </td> <td>Dead Man's Chest                   </td> <td>15.1472      </td>\n",
       "        </tr>\n",
       "    </tbody>\n",
       "</table>\n",
       "<p>... (26 rows omitted)</p"
      ],
      "text/plain": [
       "Year | Total Gross | Number of Movies | #1 Movie                            | Average Gross\n",
       "2015 | 11128.5     | 702              | Star Wars: The Force Awakens        | 15.8526\n",
       "2014 | 10360.8     | 702              | American Sniper                     | 14.759\n",
       "2013 | 10923.6     | 688              | Catching Fire                       | 15.8773\n",
       "2012 | 10837.4     | 667              | The Avengers                        | 16.248\n",
       "2011 | 10174.3     | 602              | Harry Potter / Deathly Hallows (P2) | 16.9008\n",
       "2010 | 10565.6     | 536              | Toy Story 3                         | 19.7119\n",
       "2009 | 10595.5     | 521              | Avatar                              | 20.3369\n",
       "2008 | 9630.7      | 608              | The Dark Knight                     | 15.84\n",
       "2007 | 9663.8      | 631              | Spider-Man 3                        | 15.3151\n",
       "2006 | 9209.5      | 608              | Dead Man's Chest                    | 15.1472\n",
       "... (26 rows omitted)"
      ]
     },
     "execution_count": 34,
     "metadata": {},
     "output_type": "execute_result"
    }
   ],
   "source": [
    "with_average = movies_by_year.with_columns(\"Average Gross\", movies_by_year.column(\"Total Gross\") / movies_by_year.column(\"Number of Movies\"))\n",
    "with_average"
   ]
  },
  {
   "cell_type": "code",
   "execution_count": 35,
   "metadata": {
    "collapsed": false
   },
   "outputs": [
    {
     "data": {
      "image/png": "[encoded data removed]",
      "text/plain": [
       "<matplotlib.figure.Figure at 0x10fc64048>"
      ]
     },
     "metadata": {},
     "output_type": "display_data"
    }
   ],
   "source": [
    "with_average.plot(\"Year\", \"Average Gross\")"
   ]
  },
  {
   "cell_type": "code",
   "execution_count": null,
   "metadata": {
    "collapsed": true
   },
   "outputs": [],
   "source": []
  },
  {
   "cell_type": "markdown",
   "metadata": {},
   "source": [
    "## Defining functions"
   ]
  },
  {
   "cell_type": "code",
   "execution_count": null,
   "metadata": {
    "collapsed": true
   },
   "outputs": [],
   "source": [
    "def double(x):\n",
    "    return 2*x"
   ]
  },
  {
   "cell_type": "code",
   "execution_count": null,
   "metadata": {
    "collapsed": true
   },
   "outputs": [],
   "source": [
    "def double(y):\n",
    "    return 2*y"
   ]
  },
  {
   "cell_type": "code",
   "execution_count": null,
   "metadata": {
    "collapsed": true
   },
   "outputs": [],
   "source": [
    "def divide(x, y):\n",
    "    return x / y"
   ]
  },
  {
   "cell_type": "code",
   "execution_count": null,
   "metadata": {
    "collapsed": true
   },
   "outputs": [],
   "source": [
    "def divide_rounded(x, y, places):\n",
    "    \"\"\"Divide x by y and then round the result to some number of decimal places.\"\"\"\n",
    "    return round(x / y, places)"
   ]
  },
  {
   "cell_type": "code",
   "execution_count": 15,
   "metadata": {
    "collapsed": true
   },
   "outputs": [],
   "source": [
    "# https://en.wikipedia.org/wiki/Grimm%27s_law\n",
    "def consonant_shift(text):\n",
    "    # Just a few ways in which consonants shifted from Proto-Indo-European\n",
    "    # to English.  Examples:  Pater -> Father, Pod -> Foot, Tres -> Three, Decem -> Ten, Quod -> What\n",
    "    return text.replace(\"t\", \"th\").replace(\"p\", \"f\").replace(\"d\", \"t\").replace(\"qu\", \"wh\")"
   ]
  },
  {
   "cell_type": "code",
   "execution_count": 11,
   "metadata": {
    "collapsed": true
   },
   "outputs": [],
   "source": [
    "def my_absolute_value(x):\n",
    "    return (x**2)**0.5"
   ]
  },
  {
   "cell_type": "code",
   "execution_count": 12,
   "metadata": {
    "collapsed": false
   },
   "outputs": [
    {
     "data": {
      "text/plain": [
       "2.0"
      ]
     },
     "execution_count": 12,
     "metadata": {},
     "output_type": "execute_result"
    }
   ],
   "source": [
    "my_absolute_value(-2)"
   ]
  },
  {
   "cell_type": "code",
   "execution_count": null,
   "metadata": {
    "collapsed": true
   },
   "outputs": [],
   "source": [
    "def proportions(a):\n",
    "    return a / sum(a)"
   ]
  },
  {
   "cell_type": "code",
   "execution_count": null,
   "metadata": {
    "collapsed": true
   },
   "outputs": [],
   "source": [
    "def percentages(a):\n",
    "    return 100 * a / sum(a)"
   ]
  },
  {
   "cell_type": "code",
   "execution_count": 13,
   "metadata": {
    "collapsed": true
   },
   "outputs": [],
   "source": [
    "def with_percentages(tbl, col):\n",
    "    return tbl.with_column(tbl.column(col) / sum(tbl.column(col)))"
   ]
  },
  {
   "cell_type": "code",
   "execution_count": 14,
   "metadata": {
    "collapsed": true
   },
   "outputs": [],
   "source": [
    "def scatter_with_limits(tbl, x, y, xlim_left, xlim_right):\n",
    "    tbl.where(x, are.between(xlim_left, xlim_right)).scatter(x, y)"
   ]
  },
  {
   "cell_type": "code",
   "execution_count": null,
   "metadata": {
    "collapsed": true
   },
   "outputs": [],
   "source": []
  }
 ],
 "metadata": {
  "anaconda-cloud": {},
  "kernelspec": {
   "display_name": "Python [datascience]",
   "language": "python",
   "name": "Python [datascience]"
  },
  "language_info": {
   "codemirror_mode": {
    "name": "ipython",
    "version": 3
   },
   "file_extension": ".py",
   "mimetype": "text/x-python",
   "name": "python",
   "nbconvert_exporter": "python",
   "pygments_lexer": "ipython3",
   "version": "3.5.1"
  }
 },
 "nbformat": 4,
 "nbformat_minor": 1
}
