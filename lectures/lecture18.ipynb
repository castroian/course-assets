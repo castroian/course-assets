{
 "cells": [
  {
   "cell_type": "code",
   "execution_count": null,
   "metadata": {
    "collapsed": true
   },
   "outputs": [],
   "source": [
    "from datascience import *\n",
    "import numpy as np\n",
    "\n",
    "%matplotlib inline\n",
    "import matplotlib.pyplot as plots\n",
    "plots.style.use('fivethirtyeight')\n",
    "\n",
    "# Configure for presentation\n",
    "np.set_printoptions(threshold=50, linewidth=50)\n",
    "import matplotlib as mpl\n",
    "mpl.rc('font', size=16)"
   ]
  },
  {
   "cell_type": "markdown",
   "metadata": {},
   "source": [
    "## Jury selection"
   ]
  },
  {
   "cell_type": "code",
   "execution_count": null,
   "metadata": {
    "collapsed": false
   },
   "outputs": [],
   "source": [
    "population = 16000\n",
    "proportion_black = .26\n",
    "num_black = int(population*proportion_black)\n",
    "num_nonblack = population - num_black\n",
    "# A table with 16000 rows, representing the population that was\n",
    "# eligible for juries.\n",
    "eligible = Table().with_columns(\n",
    "    \"Race\", np.append(np.repeat(\"black\", num_black), np.repeat(\"non-black\", num_nonblack)))\n",
    "\n",
    "# The test statistic:\n",
    "def num_black(pool):\n",
    "    \"\"\"Given a table with a 'Race' column, returns the number of rows labeled 'black'.\"\"\"\n",
    "    return pool.where(\"Race\", are.equal_to(\"black\")).num_rows\n",
    "\n",
    "# A function to simulate once under the null hypothesis:\n",
    "def simulate_under_null(sample_size):\n",
    "    return eligible.sample(sample_size, with_replacement=False)\n",
    "\n",
    "# A function to simulate a jury pool once under the null hypothesis and then\n",
    "# return the test statistic for that simulated jury pool.\n",
    "def count_black_in_sample(sample_size):\n",
    "    return num_black(simulate_under_null(sample_size))\n",
    "\n",
    "# A function to run many simulations under the null hypothesis\n",
    "# and return a table of the computed test statistics for each\n",
    "# simulation:\n",
    "def simulate_jury_pools(sample_size, num_simulations):\n",
    "    sample_sizes = Table().with_columns(\n",
    "        \"Simulation #\", np.arange(num_simulations),\n",
    "        \"Sample size\", np.repeat(sample_size, num_simulations))\n",
    "    samples = sample_sizes.with_columns(\n",
    "        \"Number black in sample\",\n",
    "        sample_sizes.apply(count_black_in_sample, \"Sample size\"))\n",
    "    return samples"
   ]
  },
  {
   "cell_type": "code",
   "execution_count": null,
   "metadata": {
    "collapsed": false
   },
   "outputs": [],
   "source": [
    "thousand_simulations = simulate_jury_pools(sample_size=100, num_simulations=1000)"
   ]
  },
  {
   "cell_type": "code",
   "execution_count": null,
   "metadata": {
    "collapsed": false,
    "scrolled": true
   },
   "outputs": [],
   "source": [
    "thousand_simulations.hist(\"Number black in sample\", bins=np.arange(100+1))"
   ]
  },
  {
   "cell_type": "code",
   "execution_count": null,
   "metadata": {
    "collapsed": false
   },
   "outputs": [],
   "source": [
    "# Can draw a red line using the plots package. (You\n",
    "# don't need to know how to do this.)\n",
    "thousand_simulations.hist(\"Number black in sample\", bins=np.arange(100+1))\n",
    "plots.axvline(8, color=\"red\")"
   ]
  },
  {
   "cell_type": "code",
   "execution_count": null,
   "metadata": {
    "collapsed": false
   },
   "outputs": [],
   "source": [
    "# Good idea to check the actual number of simulations where\n",
    "# there were very few black jurors:\n",
    "thousand_simulations.where(1, are.below(10))"
   ]
  },
  {
   "cell_type": "code",
   "execution_count": null,
   "metadata": {
    "collapsed": false
   },
   "outputs": [],
   "source": [
    "ten_thousand_simulations = simulate_jury_pools(100, 10000)\n",
    "ten_thousand_simulations.hist(\"Number black in sample\", bins=np.arange(100+1))"
   ]
  },
  {
   "cell_type": "code",
   "execution_count": null,
   "metadata": {
    "collapsed": false
   },
   "outputs": [],
   "source": [
    "ten_thousand_simulations.hist(\"Number black in sample\", bins=np.arange(100+1))\n",
    "plots.axvline(8, color=\"red\")"
   ]
  },
  {
   "cell_type": "markdown",
   "metadata": {},
   "source": [
    "## The GSI's defense"
   ]
  },
  {
   "cell_type": "code",
   "execution_count": null,
   "metadata": {
    "collapsed": false
   },
   "outputs": [],
   "source": [
    "scores = Table.read_table('scores_by_section.csv')\n",
    "scores"
   ]
  },
  {
   "cell_type": "code",
   "execution_count": null,
   "metadata": {
    "collapsed": false
   },
   "outputs": [],
   "source": [
    "max(scores.column(\"Midterm\"))"
   ]
  },
  {
   "cell_type": "code",
   "execution_count": null,
   "metadata": {
    "collapsed": false
   },
   "outputs": [],
   "source": [
    "scores.group('Section', np.mean).barh(\"Section\", \"Midterm mean\")"
   ]
  },
  {
   "cell_type": "code",
   "execution_count": null,
   "metadata": {
    "collapsed": false
   },
   "outputs": [],
   "source": [
    "scores.group('Section').show()"
   ]
  },
  {
   "cell_type": "code",
   "execution_count": null,
   "metadata": {
    "collapsed": true
   },
   "outputs": [],
   "source": []
  },
  {
   "cell_type": "code",
   "execution_count": null,
   "metadata": {
    "collapsed": true
   },
   "outputs": [],
   "source": []
  },
  {
   "cell_type": "code",
   "execution_count": null,
   "metadata": {
    "collapsed": true
   },
   "outputs": [],
   "source": []
  },
  {
   "cell_type": "code",
   "execution_count": null,
   "metadata": {
    "collapsed": true
   },
   "outputs": [],
   "source": []
  },
  {
   "cell_type": "code",
   "execution_count": null,
   "metadata": {
    "collapsed": true
   },
   "outputs": [],
   "source": []
  },
  {
   "cell_type": "code",
   "execution_count": 29,
   "metadata": {
    "collapsed": true
   },
   "outputs": [],
   "source": [
    "def average_score(section):\n",
    "    return np.mean(section.column(\"Midterm\"))"
   ]
  },
  {
   "cell_type": "code",
   "execution_count": 36,
   "metadata": {
    "collapsed": false
   },
   "outputs": [
    {
     "data": {
      "text/plain": [
       "13.666666666666666"
      ]
     },
     "execution_count": 36,
     "metadata": {},
     "output_type": "execute_result"
    }
   ],
   "source": [
    "section_3_mean = average_score(scores.where(\"Section\", are.equal_to(3)))\n",
    "section_3_mean"
   ]
  },
  {
   "cell_type": "code",
   "execution_count": null,
   "metadata": {
    "collapsed": true
   },
   "outputs": [],
   "source": []
  },
  {
   "cell_type": "code",
   "execution_count": null,
   "metadata": {
    "collapsed": true
   },
   "outputs": [],
   "source": []
  },
  {
   "cell_type": "code",
   "execution_count": null,
   "metadata": {
    "collapsed": true
   },
   "outputs": [],
   "source": []
  },
  {
   "cell_type": "code",
   "execution_count": null,
   "metadata": {
    "collapsed": true
   },
   "outputs": [],
   "source": []
  },
  {
   "cell_type": "code",
   "execution_count": null,
   "metadata": {
    "collapsed": true
   },
   "outputs": [],
   "source": []
  },
  {
   "cell_type": "code",
   "execution_count": null,
   "metadata": {
    "collapsed": true
   },
   "outputs": [],
   "source": []
  },
  {
   "cell_type": "markdown",
   "metadata": {},
   "source": [
    "### Hypothesis testing"
   ]
  },
  {
   "cell_type": "code",
   "execution_count": 32,
   "metadata": {
    "collapsed": false
   },
   "outputs": [
    {
     "data": {
      "text/plain": [
       "15.777777777777779"
      ]
     },
     "execution_count": 32,
     "metadata": {},
     "output_type": "execute_result"
    }
   ],
   "source": [
    "# What happens if we randomly sample students and imagine assigning\n",
    "# them to section 3?\n",
    "average_score(scores.sample(27, with_replacement=False))"
   ]
  },
  {
   "cell_type": "code",
   "execution_count": 33,
   "metadata": {
    "collapsed": true
   },
   "outputs": [],
   "source": [
    "def simulate_scores_under_null(section_size):\n",
    "    random_section = scores.sample(section_size, with_replacement=False)\n",
    "    return average_score(random_section)"
   ]
  },
  {
   "cell_type": "code",
   "execution_count": 39,
   "metadata": {
    "collapsed": false
   },
   "outputs": [
    {
     "data": {
      "image/png": "[encoded data removed]",
      "text/plain": [
       "<matplotlib.figure.Figure at 0x118648dd8>"
      ]
     },
     "metadata": {},
     "output_type": "display_data"
    }
   ],
   "source": [
    "repetitions = 10000\n",
    "\n",
    "simulations = Table().with_columns(\n",
    "    \"Section size\", np.repeat(27, repetitions))\n",
    "test_statistics_under_null = simulations.apply(simulate_scores_under_null, \"Section size\")\n",
    "results = simulations.with_column(\"Test statistic (average grade in section 3)\", test_statistics_under_null)\n",
    "results.hist(\"Test statistic (average grade in section 3)\")\n",
    "\n",
    "# Plot the observed statistic on the horizontal axis for visual reference:\n",
    "plots.axvline(section_3_mean, color='red');"
   ]
  },
  {
   "cell_type": "code",
   "execution_count": 40,
   "metadata": {
    "collapsed": false
   },
   "outputs": [
    {
     "data": {
      "text/plain": [
       "553"
      ]
     },
     "execution_count": 40,
     "metadata": {},
     "output_type": "execute_result"
    }
   ],
   "source": [
    "results.where(\"Test statistic (average grade in section 3)\", are.below(section_3_mean)).num_rows"
   ]
  },
  {
   "cell_type": "code",
   "execution_count": 41,
   "metadata": {
    "collapsed": false
   },
   "outputs": [
    {
     "data": {
      "text/plain": [
       "10000"
      ]
     },
     "execution_count": 41,
     "metadata": {},
     "output_type": "execute_result"
    }
   ],
   "source": [
    "results.num_rows"
   ]
  },
  {
   "cell_type": "code",
   "execution_count": 42,
   "metadata": {
    "collapsed": false
   },
   "outputs": [
    {
     "data": {
      "text/plain": [
       "0.0553"
      ]
     },
     "execution_count": 42,
     "metadata": {},
     "output_type": "execute_result"
    }
   ],
   "source": [
    "results.where(\"Test statistic (average grade in section 3)\", are.below(section_3_mean)).num_rows / results.num_rows"
   ]
  }
 ],
 "metadata": {
  "anaconda-cloud": {},
  "kernelspec": {
   "display_name": "Python [Root]",
   "language": "python",
   "name": "Python [Root]"
  },
  "language_info": {
   "codemirror_mode": {
    "name": "ipython",
    "version": 3
   },
   "file_extension": ".py",
   "mimetype": "text/x-python",
   "name": "python",
   "nbconvert_exporter": "python",
   "pygments_lexer": "ipython3",
   "version": "3.5.2"
  }
 },
 "nbformat": 4,
 "nbformat_minor": 2
}
