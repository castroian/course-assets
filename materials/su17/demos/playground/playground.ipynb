{
 "cells": [
  {
   "cell_type": "markdown",
   "metadata": {},
   "source": [
    "# Playground\n",
    "This notebook is for you to experiment with code in! Any csv that you put into the playground folder will be imported as a variable with the same name as the csv, except without the .csv\n",
    "\n",
    "For example, `trip.csv` will be imported as trip!\n",
    "\n",
    "We've already included a fair number of tables for you, but feel free to add some more!\n",
    "NOTE: if you do want to automatically import additional tables, make sure to run the cell below again!"
   ]
  },
  {
   "cell_type": "code",
   "execution_count": 29,
   "metadata": {
    "collapsed": true
   },
   "outputs": [],
   "source": [
    "from datascience import *\n",
    "import numpy as np\n",
    "\n",
    "%matplotlib inline\n",
    "import matplotlib.pyplot as plots\n",
    "plots.style.use('fivethirtyeight')\n",
    "\n",
    "import os #Don't worry about this import\n",
    "\n",
    "#This cell loads in all the csv's as tables, with the same names, just without the .csv\n",
    "#DON'T change this cell!\n",
    "cwd = os.getcwd()\n",
    "onlyfiles = [f for f in os.listdir(cwd) if (os.path.isfile(join(cwd, f)) and \"ipynb\" not in f)]\n",
    "variables = {f.replace(\".csv\", \"\"): f for f in onlyfiles}\n",
    "for key, value in variables.items(): \n",
    "    #print(value)\n",
    "    vars()[key] = Table.read_table(value)"
   ]
  },
  {
   "cell_type": "code",
   "execution_count": null,
   "metadata": {
    "collapsed": true
   },
   "outputs": [],
   "source": []
  }
 ],
 "metadata": {
  "kernelspec": {
   "display_name": "Python 3",
   "language": "python",
   "name": "python3"
  },
  "language_info": {
   "codemirror_mode": {
    "name": "ipython",
    "version": 3
   },
   "file_extension": ".py",
   "mimetype": "text/x-python",
   "name": "python",
   "nbconvert_exporter": "python",
   "pygments_lexer": "ipython3",
   "version": "3.6.1"
  }
 },
 "nbformat": 4,
 "nbformat_minor": 2
}
