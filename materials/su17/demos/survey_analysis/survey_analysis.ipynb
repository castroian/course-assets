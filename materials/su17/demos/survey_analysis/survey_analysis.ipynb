{
 "cells": [
  {
   "cell_type": "markdown",
   "metadata": {},
   "source": [
    "# Survey Results Analysis! \n",
    "\n",
    "This notebook shows you how can use the tools we've learned over this summer to analyze data! \n",
    "\n",
    "Done with the permission of Austen's students. "
   ]
  },
  {
   "cell_type": "code",
   "execution_count": null,
   "metadata": {
    "collapsed": true
   },
   "outputs": [],
   "source": [
    "from datascience import *\n",
    "import numpy as np\n",
    "\n",
    "%matplotlib inline\n",
    "import matplotlib.pyplot as plots\n",
    "plots.style.use('fivethirtyeight')"
   ]
  },
  {
   "cell_type": "code",
   "execution_count": null,
   "metadata": {},
   "outputs": [],
   "source": [
    "midterm_survey = Table.read_table(\"form_responses_midterm.csv\").drop(6,9)\n",
    "midterm_survey"
   ]
  },
  {
   "cell_type": "code",
   "execution_count": null,
   "metadata": {},
   "outputs": [],
   "source": [
    "final_survey = Table.read_table(\"form_responses_final.csv\")\n",
    "final_survey.select(0,1,2,3)"
   ]
  },
  {
   "cell_type": "markdown",
   "metadata": {},
   "source": [
    "Let's begin by analyzing the post-midterm survey data!\n",
    "\n",
    "Lots of you have been letting me know that the labs are too long. In the table, 1 represents that the labs are too short, and 5 represnts that the labs are too long, with the numbers in between representing intermediate feelings. \n",
    "\n",
    "Lets take a look at what you guys felt about the length of the labs!"
   ]
  },
  {
   "cell_type": "code",
   "execution_count": null,
   "metadata": {},
   "outputs": [],
   "source": [
    "#Remember that many functions only take arrays as inputs\n",
    "    #So make sure to supply an array! Take a look at the review sheets\n",
    "    #if your not sure which functions use arrays. \n",
    "#In this case, we want to determine the average sentiment\n",
    "    # towards the length of the labs - we can use the mean here.\n",
    "    \n",
    "average_feeling_towards_labs = np.mean(midterm_survey.select(1).column(0)) \n",
    "#Remember that we can use the index of the column to retrieve it!\n",
    "average_feeling_towards_labs"
   ]
  },
  {
   "cell_type": "markdown",
   "metadata": {},
   "source": [
    "## Top BEETS\n",
    "\n",
    "Let's start with a fairly simple question - what was the proportion of appearance of each rapper in the BEETS question on the final survey?\n",
    "\n",
    "Let's begin by selecting our table and defining a couple of variables!"
   ]
  },
  {
   "cell_type": "code",
   "execution_count": null,
   "metadata": {
    "scrolled": true
   },
   "outputs": [],
   "source": [
    "beets = final_survey.select(1).group(0) #Selecting the beets column and then grouping it\n",
    "beets"
   ]
  },
  {
   "cell_type": "code",
   "execution_count": null,
   "metadata": {},
   "outputs": [],
   "source": [
    "#Computing a proportion, and adding it to the table:\n",
    "beets = beets.with_column(\"proportion\", beets.column('count') / sum(beets.column('count')))\n",
    "#What visualization is best to display the proportion? I would argue a bar chart\n",
    "beets.barh(0,2)"
   ]
  },
  {
   "cell_type": "markdown",
   "metadata": {},
   "source": [
    "Wow! Seems like you guys enjoyed Kendrick the most! I'm suprised that my boi Kanye Fresh didn't get any votes :(.\n",
    "\n",
    "Now let's make a bar graph about what food I should bring on Saturday!\n",
    "We'll follow the same procedure as for the BEETS:"
   ]
  },
  {
   "cell_type": "code",
   "execution_count": null,
   "metadata": {},
   "outputs": [],
   "source": [
    "food = final_survey.select(2).group(0)\n",
    "food"
   ]
  },
  {
   "cell_type": "code",
   "execution_count": null,
   "metadata": {},
   "outputs": [],
   "source": [
    "#Calculating the proportions\n",
    "food = food.with_column(\"Proportion\", food.column(1)/sum(food.column(1)))\n",
    "food.barh(0,2)"
   ]
  },
  {
   "cell_type": "markdown",
   "metadata": {},
   "source": [
    "As the survey dictates, I'll bring cookies and fruit tomorrow! I'll also see what I can do about Mochi ice cream lol ;)."
   ]
  },
  {
   "cell_type": "markdown",
   "metadata": {},
   "source": [
    "## Analyzing your feelings on the length of labs!\n",
    "\n",
    "\n",
    "Hmmm, seems that most people feel like the labs are too long!\n",
    "\n",
    "What if I proposed that the high feeling towards labs is simply due to random chance? \n",
    "\n",
    "My null hypothesis, formalized: The high average feeling towards labs is simply because of chance. Specifically, if each score was randomly drawn, with equal chance, from the range of 1 to 5. \n",
    "\n",
    "An alternative hypothesis: No, the average is too high. There isn't enough evidence to support the null hypothesis. It appears that some other factor (besides chance) is in play here. \n",
    "\n",
    "My Test statistic: The average of the sample. The sample size, being the size of our class itself, is 16.\n",
    "\n",
    "Firstly, let me define the range of possible outcomes:"
   ]
  },
  {
   "cell_type": "code",
   "execution_count": null,
   "metadata": {},
   "outputs": [],
   "source": [
    "possible_outcomes = Table().with_column(\"Rating\", np.arange(1, 5+1))\n",
    "possible_outcomes"
   ]
  },
  {
   "cell_type": "markdown",
   "metadata": {},
   "source": [
    "Remember that in my null hypothesis, I specified that each score has an equal chance of appearing. Therefore, each score should appear once in the table. \n",
    "\n",
    "Now, let me define a function to conduct my sampling and return my test statistic! I'll do this with `.sample` and a table of trials. "
   ]
  },
  {
   "cell_type": "code",
   "execution_count": null,
   "metadata": {},
   "outputs": [],
   "source": [
    "def one_sample(sample_size):\n",
    "    sample = possible_outcomes.sample(sample_size)\n",
    "    return np.mean(sample.column(\"Rating\"))\n",
    "\n",
    "#Example call with sample_size = 16\n",
    "one_sample(16)"
   ]
  },
  {
   "cell_type": "markdown",
   "metadata": {},
   "source": [
    "Now I need to use this function a large (100000) number of time! I can do this by making a Table!"
   ]
  },
  {
   "cell_type": "code",
   "execution_count": null,
   "metadata": {},
   "outputs": [],
   "source": [
    "simulations = Table().with_columns(\"Trial #\", np.arange(100000),\n",
    "                                  \"Sample Size\", np.repeat(16, 100000))\n",
    "simulations"
   ]
  },
  {
   "cell_type": "markdown",
   "metadata": {},
   "source": [
    "Now I need to apply my one_sample function onto the table, and then add the resulting array back into my table!"
   ]
  },
  {
   "cell_type": "code",
   "execution_count": null,
   "metadata": {},
   "outputs": [],
   "source": [
    "apply_array = simulations.apply(one_sample, \"Sample Size\")\n",
    "apply_array"
   ]
  },
  {
   "cell_type": "code",
   "execution_count": null,
   "metadata": {},
   "outputs": [],
   "source": [
    "simulations = simulations.with_column(\"Average\", apply_array)\n",
    "simulations"
   ]
  },
  {
   "cell_type": "code",
   "execution_count": null,
   "metadata": {
    "scrolled": false
   },
   "outputs": [],
   "source": [
    "simulations.hist(\"Average\")\n",
    "plots.scatter(3.875, 0, color=\"red\", s=30)"
   ]
  },
  {
   "cell_type": "markdown",
   "metadata": {},
   "source": [
    "It looks like a very small percentage of the data lies above the point 3.875 on the histogram. Therefore, we should support the alternative hypothesis (ie. the point does not lie within the histogram). \n",
    "\n",
    "Therefore, we have evidence that the high average score of the feelings on the length of the labs is not due to chance."
   ]
  },
  {
   "cell_type": "markdown",
   "metadata": {},
   "source": [
    "## What do you want to Review? \n",
    " \n",
    "Finally, let's analyze what you guys said you want to review. However, we're gonna have to be careful: "
   ]
  },
  {
   "cell_type": "code",
   "execution_count": null,
   "metadata": {},
   "outputs": [],
   "source": [
    "#Let's take a look at the data that's stored in that column!\n",
    "final_survey.select(3).column(0).item(3)"
   ]
  },
  {
   "cell_type": "markdown",
   "metadata": {},
   "source": [
    "It seems that everything that you guys selected is stored as a string. Let's group together all of these string! \n",
    "\n",
    "To do this, we'll first define a function that adds together strings, putting a , between each string!"
   ]
  },
  {
   "cell_type": "code",
   "execution_count": null,
   "metadata": {},
   "outputs": [],
   "source": [
    "def join_strings(array_of_strings, separator=\",\"):\n",
    "    return \", \".join(array_of_strings) #Remember that the .join method of strings only takes in 1 argument, an array of strings\n",
    "join_strings(make_array(\"Go\", \"Bears!\"))"
   ]
  },
  {
   "cell_type": "markdown",
   "metadata": {},
   "source": [
    "Now, if I give my function the column of strings, I should get a single string with each topic that you guys want to go over, separated by commas. "
   ]
  },
  {
   "cell_type": "code",
   "execution_count": null,
   "metadata": {},
   "outputs": [],
   "source": [
    "topics = join_strings(final_survey.column(3))\n",
    "topics"
   ]
  },
  {
   "cell_type": "markdown",
   "metadata": {},
   "source": [
    "Now I need to turn this string into an array. How can I do that? I can use the `.split` string method!"
   ]
  },
  {
   "cell_type": "code",
   "execution_count": null,
   "metadata": {},
   "outputs": [],
   "source": [
    "topics_array = topics.replace(\" \",\"\").split(\",\")\n",
    "topics_array"
   ]
  },
  {
   "cell_type": "markdown",
   "metadata": {},
   "source": [
    "Now I can put this array into a table and do some analysis! (Remember that array and columns are synonymous!) "
   ]
  },
  {
   "cell_type": "code",
   "execution_count": null,
   "metadata": {},
   "outputs": [],
   "source": [
    "topics_table = Table().with_column(\"topics\", topics_array)\n",
    "topics_table"
   ]
  },
  {
   "cell_type": "code",
   "execution_count": null,
   "metadata": {},
   "outputs": [],
   "source": [
    "topics_table.group(0).barh(0,1)"
   ]
  },
  {
   "cell_type": "markdown",
   "metadata": {},
   "source": [
    "Awesome! It looks like you guys want to go over Maps the most (which is covered on this week's homework), and then go over using Group and Apply. Good thing that this demo did just that!\n",
    "\n",
    "If you have any questions about anything that I did during this demo, ask me during class or shoot me an email! I'm always happy to explain what something did or what something means!"
   ]
  },
  {
   "cell_type": "markdown",
   "metadata": {},
   "source": [
    "## Conclusion\n",
    "＼（＾○＾）人（＾○＾）／＼（＾○＾）人（＾○＾）／＼（＾○＾）人（＾○＾）／\n",
    "\n",
    "Thanks for being in my section! I've had a great time teaching you guys, and I hope that you guys have had a great time learning from me. If you guys have any questions about the future, whether it be about computer science or something else, feel free to email me and ask! I'm always willing to answer your questions!\n",
    "\n",
    "Good luck on the finals guys!"
   ]
  }
 ],
 "metadata": {
  "kernelspec": {
   "display_name": "Python 3",
   "language": "python",
   "name": "python3"
  },
  "language_info": {
   "codemirror_mode": {
    "name": "ipython",
    "version": 3
   },
   "file_extension": ".py",
   "mimetype": "text/x-python",
   "name": "python",
   "nbconvert_exporter": "python",
   "pygments_lexer": "ipython3",
   "version": "3.6.1"
  }
 },
 "nbformat": 4,
 "nbformat_minor": 2
}
