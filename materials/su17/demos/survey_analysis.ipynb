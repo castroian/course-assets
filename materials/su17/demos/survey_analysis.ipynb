{
 "cells": [
  {
   "cell_type": "markdown",
   "metadata": {},
   "source": [
    "# Survey Results Analysis! \n",
    "\n",
    "This notebook shows you how can use the tools we've learned over this summer to analyze data! \n",
    "\n",
    "Done with the permission of Austen's students. "
   ]
  },
  {
   "cell_type": "code",
   "execution_count": 1,
   "metadata": {
    "collapsed": true
   },
   "outputs": [],
   "source": [
    "from datascience import *\n",
    "import numpy as np\n",
    "\n",
    "%matplotlib inline\n",
    "import matplotlib.pyplot as plots\n",
    "plots.style.use('fivethirtyeight')"
   ]
  },
  {
   "cell_type": "code",
   "execution_count": 2,
   "metadata": {},
   "outputs": [
    {
     "data": {
      "text/html": [
       "<table border=\"1\" class=\"dataframe\">\n",
       "    <thead>\n",
       "        <tr>\n",
       "            <th>Timestamp</th> <th>Are lab assignments too short or too long?</th> <th>Should I present more material/review during the labs?</th> <th>How helpful am I in understanding material during lab/discussion?</th> <th>How much interaction have I had with you?</th> <th>Please rate my overall teaching effectiveness</th> <th>How helpful are office hours?</th> <th>Are you receiving enough help and support to succeed?</th>\n",
       "        </tr>\n",
       "    </thead>\n",
       "    <tbody>\n",
       "        <tr>\n",
       "            <td>2017/07/19 3:18:50 PM MDT</td> <td>3                                         </td> <td>2                                                     </td> <td>4                                                                </td> <td>4                                        </td> <td>4                                            </td> <td>5                            </td> <td>5                                                    </td>\n",
       "        </tr>\n",
       "    </tbody>\n",
       "        <tr>\n",
       "            <td>2017/07/19 3:18:57 PM MDT</td> <td>4                                         </td> <td>3                                                     </td> <td>5                                                                </td> <td>5                                        </td> <td>5                                            </td> <td>5                            </td> <td>4                                                    </td>\n",
       "        </tr>\n",
       "    </tbody>\n",
       "        <tr>\n",
       "            <td>2017/07/19 3:19:08 PM MDT</td> <td>4                                         </td> <td>2                                                     </td> <td>5                                                                </td> <td>5                                        </td> <td>5                                            </td> <td>4                            </td> <td>5                                                    </td>\n",
       "        </tr>\n",
       "    </tbody>\n",
       "        <tr>\n",
       "            <td>2017/07/19 3:19:15 PM MDT</td> <td>4                                         </td> <td>3                                                     </td> <td>5                                                                </td> <td>4                                        </td> <td>4                                            </td> <td>3                            </td> <td>3                                                    </td>\n",
       "        </tr>\n",
       "    </tbody>\n",
       "        <tr>\n",
       "            <td>2017/07/19 3:19:22 PM MDT</td> <td>5                                         </td> <td>5                                                     </td> <td>3                                                                </td> <td>4                                        </td> <td>4                                            </td> <td>4                            </td> <td>4                                                    </td>\n",
       "        </tr>\n",
       "    </tbody>\n",
       "        <tr>\n",
       "            <td>2017/07/19 3:19:37 PM MDT</td> <td>4                                         </td> <td>3                                                     </td> <td>4                                                                </td> <td>4                                        </td> <td>5                                            </td> <td>5                            </td> <td>4                                                    </td>\n",
       "        </tr>\n",
       "    </tbody>\n",
       "        <tr>\n",
       "            <td>2017/07/19 3:19:45 PM MDT</td> <td>4                                         </td> <td>2                                                     </td> <td>3                                                                </td> <td>4                                        </td> <td>4                                            </td> <td>4                            </td> <td>4                                                    </td>\n",
       "        </tr>\n",
       "    </tbody>\n",
       "        <tr>\n",
       "            <td>2017/07/19 3:19:53 PM MDT</td> <td>3                                         </td> <td>1                                                     </td> <td>5                                                                </td> <td>5                                        </td> <td>5                                            </td> <td>nan                          </td> <td>5                                                    </td>\n",
       "        </tr>\n",
       "    </tbody>\n",
       "        <tr>\n",
       "            <td>2017/07/19 3:19:56 PM MDT</td> <td>5                                         </td> <td>3                                                     </td> <td>5                                                                </td> <td>2                                        </td> <td>4                                            </td> <td>5                            </td> <td>4                                                    </td>\n",
       "        </tr>\n",
       "    </tbody>\n",
       "        <tr>\n",
       "            <td>2017/07/19 3:20:03 PM MDT</td> <td>3                                         </td> <td>5                                                     </td> <td>4                                                                </td> <td>2                                        </td> <td>3                                            </td> <td>4                            </td> <td>4                                                    </td>\n",
       "        </tr>\n",
       "    </tbody>\n",
       "</table>\n",
       "<p>... (6 rows omitted)</p"
      ],
      "text/plain": [
       "Timestamp                 | Are lab assignments too short or too long? | Should I present more material/review during the labs? | How helpful am I in understanding material during lab/discussion? | How much interaction have I had with you? | Please rate my overall teaching effectiveness | How helpful are office hours? | Are you receiving enough help and support to succeed?\n",
       "2017/07/19 3:18:50 PM MDT | 3                                          | 2                                                      | 4                                                                 | 4                                         | 4                                             | 5                             | 5\n",
       "2017/07/19 3:18:57 PM MDT | 4                                          | 3                                                      | 5                                                                 | 5                                         | 5                                             | 5                             | 4\n",
       "2017/07/19 3:19:08 PM MDT | 4                                          | 2                                                      | 5                                                                 | 5                                         | 5                                             | 4                             | 5\n",
       "2017/07/19 3:19:15 PM MDT | 4                                          | 3                                                      | 5                                                                 | 4                                         | 4                                             | 3                             | 3\n",
       "2017/07/19 3:19:22 PM MDT | 5                                          | 5                                                      | 3                                                                 | 4                                         | 4                                             | 4                             | 4\n",
       "2017/07/19 3:19:37 PM MDT | 4                                          | 3                                                      | 4                                                                 | 4                                         | 5                                             | 5                             | 4\n",
       "2017/07/19 3:19:45 PM MDT | 4                                          | 2                                                      | 3                                                                 | 4                                         | 4                                             | 4                             | 4\n",
       "2017/07/19 3:19:53 PM MDT | 3                                          | 1                                                      | 5                                                                 | 5                                         | 5                                             | nan                           | 5\n",
       "2017/07/19 3:19:56 PM MDT | 5                                          | 3                                                      | 5                                                                 | 2                                         | 4                                             | 5                             | 4\n",
       "2017/07/19 3:20:03 PM MDT | 3                                          | 5                                                      | 4                                                                 | 2                                         | 3                                             | 4                             | 4\n",
       "... (6 rows omitted)"
      ]
     },
     "execution_count": 2,
     "metadata": {},
     "output_type": "execute_result"
    }
   ],
   "source": [
    "midterm_survey = Table.read_table(\"form_responses_midterm.csv\").drop(6,9)\n",
    "midterm_survey"
   ]
  },
  {
   "cell_type": "code",
   "execution_count": 3,
   "metadata": {},
   "outputs": [
    {
     "data": {
      "text/html": [
       "<table border=\"1\" class=\"dataframe\">\n",
       "    <thead>\n",
       "        <tr>\n",
       "            <th>Timestamp</th> <th>If every rapper became a farmer, who would have the freshest BEETS?</th> <th>What food do you want me to bring?</th> <th>What do you want to especially focus on during the review session? </th>\n",
       "        </tr>\n",
       "    </thead>\n",
       "    <tbody>\n",
       "        <tr>\n",
       "            <td>7/27/2017 14:11:32</td> <td>Kendrick Farmar                                                    </td> <td>Lemon Bars and Brownies           </td> <td>Using Tables and Columns                                           </td>\n",
       "        </tr>\n",
       "    </tbody>\n",
       "        <tr>\n",
       "            <td>7/27/2017 14:11:34</td> <td>Tyler, the Cultivator                                              </td> <td>Fruit                             </td> <td>Hypothesis Testing, Maps, Visualizations                           </td>\n",
       "        </tr>\n",
       "    </tbody>\n",
       "        <tr>\n",
       "            <td>7/27/2017 14:12:02</td> <td>Post Melon                                                         </td> <td>Cookies                           </td> <td>Maps                                                               </td>\n",
       "        </tr>\n",
       "    </tbody>\n",
       "        <tr>\n",
       "            <td>7/27/2017 14:12:08</td> <td>Kendrick Farmar                                                    </td> <td>Cookies                           </td> <td>Using Tables and Columns, Using Group and Apply, Hypothesis Tes ...</td>\n",
       "        </tr>\n",
       "    </tbody>\n",
       "        <tr>\n",
       "            <td>7/27/2017 14:12:49</td> <td>Kendrick Farmar                                                    </td> <td>Fruit                             </td> <td>Using Group and Apply, Hypothesis Testing, Maps                    </td>\n",
       "        </tr>\n",
       "    </tbody>\n",
       "        <tr>\n",
       "            <td>7/27/2017 14:13:01</td> <td>The Roots                                                          </td> <td>Nothing                           </td> <td>Using Tables and Columns, Using Group and Apply, Hypothesis Tes ...</td>\n",
       "        </tr>\n",
       "    </tbody>\n",
       "        <tr>\n",
       "            <td>7/27/2017 14:13:31</td> <td>DJ Kale-ed                                                         </td> <td>Fruit                             </td> <td>Using Group and Apply                                              </td>\n",
       "        </tr>\n",
       "    </tbody>\n",
       "        <tr>\n",
       "            <td>7/27/2017 14:13:46</td> <td>Pea Diddy                                                          </td> <td>Ice Cream                         </td> <td>Hypothesis Testing, Maps, Visualizations                           </td>\n",
       "        </tr>\n",
       "    </tbody>\n",
       "        <tr>\n",
       "            <td>7/27/2017 14:14:00</td> <td>21 Cabbage                                                         </td> <td>Fruit                             </td> <td>Using Tables and Columns, Using Group and Apply, Hypothesis Tes ...</td>\n",
       "        </tr>\n",
       "    </tbody>\n",
       "        <tr>\n",
       "            <td>7/27/2017 14:14:00</td> <td>DJ Kale-ed                                                         </td> <td>Fruit                             </td> <td>Using Tables and Columns, Using Group and Apply, Hypothesis Tes ...</td>\n",
       "        </tr>\n",
       "    </tbody>\n",
       "</table>\n",
       "<p>... (6 rows omitted)</p"
      ],
      "text/plain": [
       "Timestamp          | If every rapper became a farmer, who would have the freshest BEETS? | What food do you want me to bring? | What do you want to especially focus on during the review session?\n",
       "7/27/2017 14:11:32 | Kendrick Farmar                                                     | Lemon Bars and Brownies            | Using Tables and Columns\n",
       "7/27/2017 14:11:34 | Tyler, the Cultivator                                               | Fruit                              | Hypothesis Testing, Maps, Visualizations\n",
       "7/27/2017 14:12:02 | Post Melon                                                          | Cookies                            | Maps\n",
       "7/27/2017 14:12:08 | Kendrick Farmar                                                     | Cookies                            | Using Tables and Columns, Using Group and Apply, Hypothesis Tes ...\n",
       "7/27/2017 14:12:49 | Kendrick Farmar                                                     | Fruit                              | Using Group and Apply, Hypothesis Testing, Maps\n",
       "7/27/2017 14:13:01 | The Roots                                                           | Nothing                            | Using Tables and Columns, Using Group and Apply, Hypothesis Tes ...\n",
       "7/27/2017 14:13:31 | DJ Kale-ed                                                          | Fruit                              | Using Group and Apply\n",
       "7/27/2017 14:13:46 | Pea Diddy                                                           | Ice Cream                          | Hypothesis Testing, Maps, Visualizations\n",
       "7/27/2017 14:14:00 | 21 Cabbage                                                          | Fruit                              | Using Tables and Columns, Using Group and Apply, Hypothesis Tes ...\n",
       "7/27/2017 14:14:00 | DJ Kale-ed                                                          | Fruit                              | Using Tables and Columns, Using Group and Apply, Hypothesis Tes ...\n",
       "... (6 rows omitted)"
      ]
     },
     "execution_count": 3,
     "metadata": {},
     "output_type": "execute_result"
    }
   ],
   "source": [
    "final_survey = Table.read_table(\"form_responses_final.csv\")\n",
    "final_survey.select(0,1,2,3)"
   ]
  },
  {
   "cell_type": "markdown",
   "metadata": {},
   "source": [
    "Let's begin by analyzing the post-midterm survey data!\n",
    "\n",
    "Lots of you have been letting me know that the labs are too long. In the table, 1 represents that the labs are too short, and 5 represnts that the labs are too long, with the numbers in between representing intermediate feelings. \n",
    "\n",
    "Lets take a look at what you guys felt about the length of the labs!"
   ]
  },
  {
   "cell_type": "code",
   "execution_count": 4,
   "metadata": {},
   "outputs": [
    {
     "data": {
      "text/plain": [
       "3.875"
      ]
     },
     "execution_count": 4,
     "metadata": {},
     "output_type": "execute_result"
    }
   ],
   "source": [
    "#Remember that many functions only take arrays as inputs\n",
    "    #So make sure to supply an array! Take a look at the review sheets\n",
    "    #if your not sure which functions use arrays. \n",
    "#In this case, we want to determine the average sentiment\n",
    "    # towards the length of the labs - we can use the mean here.\n",
    "    \n",
    "average_feeling_towards_labs = np.mean(midterm_survey.select(1).column(0)) \n",
    "#Remember that we can use the index of the column to retrieve it!\n",
    "average_feeling_towards_labs"
   ]
  },
  {
   "cell_type": "markdown",
   "metadata": {},
   "source": [
    "## Top BEETS\n",
    "\n",
    "Let's start with a fairly simple question - what was the proportion of appearance of each rapper in the BEETS question on the final survey?\n",
    "\n",
    "Let's begin by selecting our table and defining a couple of variables!"
   ]
  },
  {
   "cell_type": "code",
   "execution_count": 9,
   "metadata": {
    "scrolled": true
   },
   "outputs": [
    {
     "data": {
      "text/html": [
       "<table border=\"1\" class=\"dataframe\">\n",
       "    <thead>\n",
       "        <tr>\n",
       "            <th>If every rapper became a farmer, who would have the freshest BEETS?</th> <th>count</th>\n",
       "        </tr>\n",
       "    </thead>\n",
       "    <tbody>\n",
       "        <tr>\n",
       "            <td>2 Grainz                                                           </td> <td>1    </td>\n",
       "        </tr>\n",
       "    </tbody>\n",
       "        <tr>\n",
       "            <td>21 Cabbage                                                         </td> <td>1    </td>\n",
       "        </tr>\n",
       "    </tbody>\n",
       "        <tr>\n",
       "            <td>Beets by Dre                                                       </td> <td>2    </td>\n",
       "        </tr>\n",
       "    </tbody>\n",
       "        <tr>\n",
       "            <td>DJ Kale-ed                                                         </td> <td>2    </td>\n",
       "        </tr>\n",
       "    </tbody>\n",
       "        <tr>\n",
       "            <td>Kendrick Farmar                                                    </td> <td>6    </td>\n",
       "        </tr>\n",
       "    </tbody>\n",
       "        <tr>\n",
       "            <td>Pea Diddy                                                          </td> <td>1    </td>\n",
       "        </tr>\n",
       "    </tbody>\n",
       "        <tr>\n",
       "            <td>Post Melon                                                         </td> <td>1    </td>\n",
       "        </tr>\n",
       "    </tbody>\n",
       "        <tr>\n",
       "            <td>The Roots                                                          </td> <td>1    </td>\n",
       "        </tr>\n",
       "    </tbody>\n",
       "        <tr>\n",
       "            <td>Tyler, the Cultivator                                              </td> <td>1    </td>\n",
       "        </tr>\n",
       "    </tbody>\n",
       "</table>"
      ],
      "text/plain": [
       "If every rapper became a farmer, who would have the freshest BEETS? | count\n",
       "2 Grainz                                                            | 1\n",
       "21 Cabbage                                                          | 1\n",
       "Beets by Dre                                                        | 2\n",
       "DJ Kale-ed                                                          | 2\n",
       "Kendrick Farmar                                                     | 6\n",
       "Pea Diddy                                                           | 1\n",
       "Post Melon                                                          | 1\n",
       "The Roots                                                           | 1\n",
       "Tyler, the Cultivator                                               | 1"
      ]
     },
     "execution_count": 9,
     "metadata": {},
     "output_type": "execute_result"
    }
   ],
   "source": [
    "beets = final_survey.select(1).group(0) #Selecting the beets column and then grouping it\n",
    "beets"
   ]
  },
  {
   "cell_type": "code",
   "execution_count": 13,
   "metadata": {},
   "outputs": [
    {
     "data": {
      "image/png": "[encoded data removed]",
      "text/plain": [
       "<matplotlib.figure.Figure at 0x7f8598cc2828>"
      ]
     },
     "metadata": {},
     "output_type": "display_data"
    }
   ],
   "source": [
    "#Computing a proportion, and adding it to the table:\n",
    "beets = beets.with_column(\"proportion\", beets.column('count') / sum(beets.column('count')))\n",
    "#What visualization is best to display the proportion? I would argue a bar chart\n",
    "beets.barh(0,2)"
   ]
  },
  {
   "cell_type": "markdown",
   "metadata": {},
   "source": [
    "Wow! Seems like you guys enjoyed Kendrick the most! I'm suprised that my boi Kanye Fresh didn't get any votes :(.\n",
    "\n",
    "Now let's make a bar graph about what food I should bring on Saturday!\n",
    "We'll follow the same procedure as for the BEETS:"
   ]
  },
  {
   "cell_type": "code",
   "execution_count": 20,
   "metadata": {},
   "outputs": [
    {
     "data": {
      "text/html": [
       "<table border=\"1\" class=\"dataframe\">\n",
       "    <thead>\n",
       "        <tr>\n",
       "            <th>What food do you want me to bring?</th> <th>count</th>\n",
       "        </tr>\n",
       "    </thead>\n",
       "    <tbody>\n",
       "        <tr>\n",
       "            <td>Cookies                                                     </td> <td>4    </td>\n",
       "        </tr>\n",
       "    </tbody>\n",
       "        <tr>\n",
       "            <td>Fruit                                                       </td> <td>6    </td>\n",
       "        </tr>\n",
       "    </tbody>\n",
       "        <tr>\n",
       "            <td>Ice Cream                                                   </td> <td>1    </td>\n",
       "        </tr>\n",
       "    </tbody>\n",
       "        <tr>\n",
       "            <td>Ice Cream Cookie Sandwiches topped with Fruit, Lemon Bar ...</td> <td>1    </td>\n",
       "        </tr>\n",
       "    </tbody>\n",
       "        <tr>\n",
       "            <td>Lemon Bars and Brownies                                     </td> <td>2    </td>\n",
       "        </tr>\n",
       "    </tbody>\n",
       "        <tr>\n",
       "            <td>Nothing                                                     </td> <td>1    </td>\n",
       "        </tr>\n",
       "    </tbody>\n",
       "        <tr>\n",
       "            <td>iced tea                                                    </td> <td>1    </td>\n",
       "        </tr>\n",
       "    </tbody>\n",
       "</table>"
      ],
      "text/plain": [
       "What food do you want me to bring?                           | count\n",
       "Cookies                                                      | 4\n",
       "Fruit                                                        | 6\n",
       "Ice Cream                                                    | 1\n",
       "Ice Cream Cookie Sandwiches topped with Fruit, Lemon Bar ... | 1\n",
       "Lemon Bars and Brownies                                      | 2\n",
       "Nothing                                                      | 1\n",
       "iced tea                                                     | 1"
      ]
     },
     "execution_count": 20,
     "metadata": {},
     "output_type": "execute_result"
    }
   ],
   "source": [
    "food = final_survey.select(2).group(0)\n",
    "food"
   ]
  },
  {
   "cell_type": "code",
   "execution_count": 23,
   "metadata": {},
   "outputs": [
    {
     "data": {
      "image/png": "[encoded data removed]",
      "text/plain": [
       "<matplotlib.figure.Figure at 0x7f8598809518>"
      ]
     },
     "metadata": {},
     "output_type": "display_data"
    }
   ],
   "source": [
    "#Calculating the proportions\n",
    "food = food.with_column(\"Proportion\", food.column(1)/sum(food.column(1)))\n",
    "food.barh(0,2)"
   ]
  },
  {
   "cell_type": "markdown",
   "metadata": {},
   "source": [
    "As the survey dictates, I'll bring cookies and fruit tomorrow! I'll also see what I can do about Mochi ice cream lol ;)."
   ]
  },
  {
   "cell_type": "markdown",
   "metadata": {},
   "source": [
    "## Analyzing your feelings on the length of labs!\n",
    "\n",
    "\n",
    "Hmmm, seems that most people feel like the labs are too long!\n",
    "\n",
    "What if I proposed that the high feeling towards labs is simply due to random chance? \n",
    "\n",
    "My null hypothesis, formalized: The high average feeling towards labs is simply because of chance. Specifically, if each score was randomly drawn, with equal chance, from the range of 1 to 5. \n",
    "\n",
    "An alternative hypothesis: No, the average is too high. There isn't enough evidence to support the null hypothesis. It appears that some other factor (besides chance) is in play here. \n",
    "\n",
    "My Test statistic: The average of the sample. The sample size, being the size of our class itself, is 16.\n",
    "\n",
    "Firstly, let me define the range of possible outcomes:"
   ]
  },
  {
   "cell_type": "code",
   "execution_count": 17,
   "metadata": {},
   "outputs": [
    {
     "data": {
      "text/html": [
       "<table border=\"1\" class=\"dataframe\">\n",
       "    <thead>\n",
       "        <tr>\n",
       "            <th>Rating</th>\n",
       "        </tr>\n",
       "    </thead>\n",
       "    <tbody>\n",
       "        <tr>\n",
       "            <td>1     </td>\n",
       "        </tr>\n",
       "    </tbody>\n",
       "        <tr>\n",
       "            <td>2     </td>\n",
       "        </tr>\n",
       "    </tbody>\n",
       "        <tr>\n",
       "            <td>3     </td>\n",
       "        </tr>\n",
       "    </tbody>\n",
       "        <tr>\n",
       "            <td>4     </td>\n",
       "        </tr>\n",
       "    </tbody>\n",
       "        <tr>\n",
       "            <td>5     </td>\n",
       "        </tr>\n",
       "    </tbody>\n",
       "</table>"
      ],
      "text/plain": [
       "Rating\n",
       "1\n",
       "2\n",
       "3\n",
       "4\n",
       "5"
      ]
     },
     "execution_count": 17,
     "metadata": {},
     "output_type": "execute_result"
    }
   ],
   "source": [
    "possible_outcomes = Table().with_column(\"Rating\", np.arange(1, 5+1))\n",
    "possible_outcomes"
   ]
  },
  {
   "cell_type": "markdown",
   "metadata": {},
   "source": [
    "Remember that in my null hypothesis, I specified that each score has an equal chance of appearing. Therefore, each score should appear once in the table. \n",
    "\n",
    "Now, let me define a function to conduct my sampling and return my test statistic! I'll do this with `.sample` and a table of trials. "
   ]
  },
  {
   "cell_type": "code",
   "execution_count": 19,
   "metadata": {},
   "outputs": [
    {
     "data": {
      "text/plain": [
       "3.0"
      ]
     },
     "execution_count": 19,
     "metadata": {},
     "output_type": "execute_result"
    }
   ],
   "source": [
    "def one_sample(sample_size):\n",
    "    sample = possible_outcomes.sample(sample_size)\n",
    "    return np.mean(sample.column(\"Rating\"))\n",
    "\n",
    "#Example call with sample_size = 16\n",
    "one_sample(16)"
   ]
  },
  {
   "cell_type": "markdown",
   "metadata": {},
   "source": [
    "Now I need to use this function a large (100000) number of time! I can do this by making a Table!"
   ]
  },
  {
   "cell_type": "code",
   "execution_count": 21,
   "metadata": {},
   "outputs": [
    {
     "data": {
      "text/html": [
       "<table border=\"1\" class=\"dataframe\">\n",
       "    <thead>\n",
       "        <tr>\n",
       "            <th>Trial #</th> <th>Sample Size</th>\n",
       "        </tr>\n",
       "    </thead>\n",
       "    <tbody>\n",
       "        <tr>\n",
       "            <td>0      </td> <td>16         </td>\n",
       "        </tr>\n",
       "    </tbody>\n",
       "        <tr>\n",
       "            <td>1      </td> <td>16         </td>\n",
       "        </tr>\n",
       "    </tbody>\n",
       "        <tr>\n",
       "            <td>2      </td> <td>16         </td>\n",
       "        </tr>\n",
       "    </tbody>\n",
       "        <tr>\n",
       "            <td>3      </td> <td>16         </td>\n",
       "        </tr>\n",
       "    </tbody>\n",
       "        <tr>\n",
       "            <td>4      </td> <td>16         </td>\n",
       "        </tr>\n",
       "    </tbody>\n",
       "        <tr>\n",
       "            <td>5      </td> <td>16         </td>\n",
       "        </tr>\n",
       "    </tbody>\n",
       "        <tr>\n",
       "            <td>6      </td> <td>16         </td>\n",
       "        </tr>\n",
       "    </tbody>\n",
       "        <tr>\n",
       "            <td>7      </td> <td>16         </td>\n",
       "        </tr>\n",
       "    </tbody>\n",
       "        <tr>\n",
       "            <td>8      </td> <td>16         </td>\n",
       "        </tr>\n",
       "    </tbody>\n",
       "        <tr>\n",
       "            <td>9      </td> <td>16         </td>\n",
       "        </tr>\n",
       "    </tbody>\n",
       "</table>\n",
       "<p>... (99990 rows omitted)</p"
      ],
      "text/plain": [
       "Trial # | Sample Size\n",
       "0       | 16\n",
       "1       | 16\n",
       "2       | 16\n",
       "3       | 16\n",
       "4       | 16\n",
       "5       | 16\n",
       "6       | 16\n",
       "7       | 16\n",
       "8       | 16\n",
       "9       | 16\n",
       "... (99990 rows omitted)"
      ]
     },
     "execution_count": 21,
     "metadata": {},
     "output_type": "execute_result"
    }
   ],
   "source": [
    "simulations = Table().with_columns(\"Trial #\", np.arange(100000),\n",
    "                                  \"Sample Size\", np.repeat(16, 100000))\n",
    "simulations"
   ]
  },
  {
   "cell_type": "markdown",
   "metadata": {},
   "source": [
    "Now I need to apply my one_sample function onto the table, and then add the resulting array back into my table!"
   ]
  },
  {
   "cell_type": "code",
   "execution_count": 22,
   "metadata": {},
   "outputs": [
    {
     "data": {
      "text/plain": [
       "array([ 3.1875,  3.0625,  2.5   , ...,  2.6875,  2.9375,  3.0625])"
      ]
     },
     "execution_count": 22,
     "metadata": {},
     "output_type": "execute_result"
    }
   ],
   "source": [
    "apply_array = simulations.apply(one_sample, \"Sample Size\")\n",
    "apply_array"
   ]
  },
  {
   "cell_type": "code",
   "execution_count": 23,
   "metadata": {},
   "outputs": [
    {
     "data": {
      "text/html": [
       "<table border=\"1\" class=\"dataframe\">\n",
       "    <thead>\n",
       "        <tr>\n",
       "            <th>Trial #</th> <th>Sample Size</th> <th>Average</th>\n",
       "        </tr>\n",
       "    </thead>\n",
       "    <tbody>\n",
       "        <tr>\n",
       "            <td>0      </td> <td>16         </td> <td>3.1875 </td>\n",
       "        </tr>\n",
       "    </tbody>\n",
       "        <tr>\n",
       "            <td>1      </td> <td>16         </td> <td>3.0625 </td>\n",
       "        </tr>\n",
       "    </tbody>\n",
       "        <tr>\n",
       "            <td>2      </td> <td>16         </td> <td>2.5    </td>\n",
       "        </tr>\n",
       "    </tbody>\n",
       "        <tr>\n",
       "            <td>3      </td> <td>16         </td> <td>2.375  </td>\n",
       "        </tr>\n",
       "    </tbody>\n",
       "        <tr>\n",
       "            <td>4      </td> <td>16         </td> <td>3.375  </td>\n",
       "        </tr>\n",
       "    </tbody>\n",
       "        <tr>\n",
       "            <td>5      </td> <td>16         </td> <td>3.4375 </td>\n",
       "        </tr>\n",
       "    </tbody>\n",
       "        <tr>\n",
       "            <td>6      </td> <td>16         </td> <td>3.8125 </td>\n",
       "        </tr>\n",
       "    </tbody>\n",
       "        <tr>\n",
       "            <td>7      </td> <td>16         </td> <td>2.6875 </td>\n",
       "        </tr>\n",
       "    </tbody>\n",
       "        <tr>\n",
       "            <td>8      </td> <td>16         </td> <td>2.3125 </td>\n",
       "        </tr>\n",
       "    </tbody>\n",
       "        <tr>\n",
       "            <td>9      </td> <td>16         </td> <td>2.6875 </td>\n",
       "        </tr>\n",
       "    </tbody>\n",
       "</table>\n",
       "<p>... (99990 rows omitted)</p"
      ],
      "text/plain": [
       "Trial # | Sample Size | Average\n",
       "0       | 16          | 3.1875\n",
       "1       | 16          | 3.0625\n",
       "2       | 16          | 2.5\n",
       "3       | 16          | 2.375\n",
       "4       | 16          | 3.375\n",
       "5       | 16          | 3.4375\n",
       "6       | 16          | 3.8125\n",
       "7       | 16          | 2.6875\n",
       "8       | 16          | 2.3125\n",
       "9       | 16          | 2.6875\n",
       "... (99990 rows omitted)"
      ]
     },
     "execution_count": 23,
     "metadata": {},
     "output_type": "execute_result"
    }
   ],
   "source": [
    "simulations = simulations.with_column(\"Average\", apply_array)\n",
    "simulations"
   ]
  },
  {
   "cell_type": "code",
   "execution_count": 25,
   "metadata": {
    "scrolled": false
   },
   "outputs": [
    {
     "data": {
      "text/plain": [
       "<matplotlib.collections.PathCollection at 0x7f6f456d6860>"
      ]
     },
     "execution_count": 25,
     "metadata": {},
     "output_type": "execute_result"
    },
    {
     "data": {
      "image/png": "[encoded data removed]",
      "text/plain": [
       "<matplotlib.figure.Figure at 0x7f6f45613b70>"
      ]
     },
     "metadata": {},
     "output_type": "display_data"
    }
   ],
   "source": [
    "simulations.hist(\"Average\")\n",
    "plots.scatter(3.875, 0, color=\"red\", s=30)"
   ]
  },
  {
   "cell_type": "markdown",
   "metadata": {},
   "source": [
    "It looks like a very small percentage of the data lies above the point 3.875 on the histogram. Therefore, we should support the alternative hypothesis (ie. the point does not lie within the histogram). \n",
    "\n",
    "Therefore, we have evidence that the high average score of the feelings on the length of the labs is not due to chance."
   ]
  }
 ],
 "metadata": {
  "kernelspec": {
   "display_name": "Python 3",
   "language": "python",
   "name": "python3"
  },
  "language_info": {
   "codemirror_mode": {
    "name": "ipython",
    "version": 3
   },
   "file_extension": ".py",
   "mimetype": "text/x-python",
   "name": "python",
   "nbconvert_exporter": "python",
   "pygments_lexer": "ipython3",
   "version": "3.6.1"
  }
 },
 "nbformat": 4,
 "nbformat_minor": 2
}
