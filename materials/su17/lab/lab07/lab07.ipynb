{
 "cells": [
  {
   "cell_type": "markdown",
   "metadata": {},
   "source": [
    "# Lab 7: Tables and Visualizing Distributions\n",
    "\n",
    "Welcome to lab 7!  This week, we'll learn about *tables*, which let us work with multiple arrays of data about the same thing, and we'll learn about *histograms* a way to visualize distributions. \n",
    "\n",
    "First, set up the tests and imports by running the cell below."
   ]
  },
  {
   "cell_type": "code",
   "execution_count": 2,
   "metadata": {
    "scrolled": true
   },
   "outputs": [],
   "source": [
    "import numpy as np\n",
    "from datascience import *\n",
    "\n",
    "%matplotlib inline\n",
    "import matplotlib.pyplot as plt\n",
    "plt.style.use('fivethirtyeight')\n",
    "\n",
    "# These lines load the tests.\n",
    "from client.api.notebook import Notebook\n",
    "ok = Notebook('lab07.ok')\n",
    "_ = ok.auth(inline=True)"
   ]
  },
  {
   "cell_type": "markdown",
   "metadata": {},
   "source": [
    "## 1. Introduction\n",
    "\n",
    "For a collection of things in the world, an array is useful for describing a single attribute of each thing. For example, among the collection of US States, an array could describe the land area of each. Tables extend this idea by describing multiple attributes for each element of a collection.\n",
    "\n",
    "In most data science applications, we have data about many entities, but we also have several kinds of data about each entity.\n",
    "\n",
    "For example, in the cell below we have two arrays. The first one contains information about the name of each hybrid vehicle, while the second one contains information about the corresponding vehicle's msrp."
   ]
  },
  {
   "cell_type": "code",
   "execution_count": 5,
   "metadata": {},
   "outputs": [],
   "source": []
  },
  {
   "cell_type": "code",
   "execution_count": null,
   "metadata": {
    "collapsed": true,
    "scrolled": true
   },
   "outputs": [],
   "source": [
    "hybrids_names = Table.read_table('hybrid.csv').column(\"vehicle\")\n",
    "hybrids_msrp = Table.read_table('hybrid.csv').column(\"msrp\")"
   ]
  },
  {
   "cell_type": "code",
   "execution_count": null,
   "metadata": {
    "collapsed": true,
    "scrolled": true
   },
   "outputs": [],
   "source": [
    "print(\"Hybrid names: \", hybrids_names)\n",
    "print(\"Hybrid MSRP: \", hybrids_msrp)"
   ]
  },
  {
   "cell_type": "markdown",
   "metadata": {},
   "source": [
    "Suppose we want to answer this question:\n",
    "\n",
    "> Which Hybrid vehicle has the highest MSRP?\n",
    "\n",
    "You could technically answer this question just from staring at the arrays, but it's a bit convoluted, since you would have to count the position with the greatest MSRP, then find the corresponding element in the hybrids_names array. In cases like these, it might be easier to put the data into a *`Table`*, a 2-dimensional type of dataset. \n",
    "\n",
    "The expression below:\n",
    "\n",
    "- creates an empty table using the expression `Table()`,\n",
    "- adds two columns by calling `with_columns` with four arguments,\n",
    "- assignes the result to the name `vehicle_msrp`, and finally\n",
    "- evaluates `vehicle_msrp` so that we can see the table.\n",
    "\n",
    "The strings `\"Vehicle Name\"` and `\"MSRP\"` are column labels that we have chosen. The names `hybrids_names` and `hybrids_msrp` were assigned above to two arrays of the same length. The function `with_columns` (you can find the documentation [here](http://data8.org/datascience/tables.html)) takes in alternating strings (to represent column labels) and arrays (representing the data in those columns), which are all separated by commas."
   ]
  },
  {
   "cell_type": "code",
   "execution_count": null,
   "metadata": {
    "collapsed": true,
    "scrolled": true
   },
   "outputs": [],
   "source": [
    "vehicle_msrp = Table().with_columns(\n",
    "    \"Vehicle Name\", hybrids_names,\n",
    "    \"MSRP\", hybrids_msrp\n",
    ")\n",
    "vehicle_msrp"
   ]
  },
  {
   "cell_type": "markdown",
   "metadata": {},
   "source": [
    "Now the data are all together in a single table! It's much easier to parse this data--for example, we can easily see that the Tino has an MSRP of $35355. We'll revisit this table later. "
   ]
  },
  {
   "cell_type": "markdown",
   "metadata": {},
   "source": [
    "## 2. Creating Tables\n",
    "\n",
    "**Question 2.1.** In the cell below, we've created 2 arrays. Using the steps above, assign `ten_vehicles` to a table that has two columns called \"Name\" and \"MPG\", which hold `ten_vehicle_names` and `ten_vehicle_mpg` respectively."
   ]
  },
  {
   "cell_type": "code",
   "execution_count": null,
   "metadata": {
    "collapsed": true,
    "scrolled": true
   },
   "outputs": [],
   "source": [
    "Table.read_table(\"hybrid.csv\")"
   ]
  },
  {
   "cell_type": "code",
   "execution_count": null,
   "metadata": {
    "collapsed": true,
    "scrolled": true
   },
   "outputs": [],
   "source": [
    "ten_vehicle_mpg = make_array(41.26, 54.1, 45.23, 53, 47.04, 53, 53, 40.46, 53, 41)\n",
    "ten_vehicle_names = make_array(\n",
    "        'Prius(1st gen)',\n",
    "        'Tino',\n",
    "        'Prius(2nd Gen)',\n",
    "        'Insight',\n",
    "        'Civic(1st Gen)', \n",
    "        'Insight',\n",
    "        'Insight', \n",
    "        'Alphard', \n",
    "        'Insight', \n",
    "        'Civic')\n",
    "\n",
    "ten_vehicles = ...\n",
    "# We've put this next line here so your table will get printed out when you\n",
    "# run this cell.\n",
    "ten_vehicles"
   ]
  },
  {
   "cell_type": "code",
   "execution_count": null,
   "metadata": {
    "collapsed": true,
    "scrolled": true
   },
   "outputs": [],
   "source": [
    "_ = ok.grade('q2_1')"
   ]
  },
  {
   "cell_type": "markdown",
   "metadata": {},
   "source": [
    "#### Loading a table from a file\n",
    "In most cases, we aren't going to go through the trouble of typing in all the data manually. Instead, we can use our `Table` functions.\n",
    "\n",
    "`Table.read_table` takes one argument, a path to a data file (a string) and returns a table.  There are many formats for data files, but CSV (\"comma-separated values\") is the most common.\n",
    "\n",
    "**Question 2.2.** The file `hybrid.csv` contains a table of information about many hybrid vehicles.  Load it as a table called `hybrids`."
   ]
  },
  {
   "cell_type": "code",
   "execution_count": null,
   "metadata": {
    "collapsed": true,
    "scrolled": false
   },
   "outputs": [],
   "source": [
    "hybrids = ...\n",
    "hybrids"
   ]
  },
  {
   "cell_type": "code",
   "execution_count": null,
   "metadata": {
    "collapsed": true,
    "scrolled": true
   },
   "outputs": [],
   "source": [
    "_ = ok.grade('q2_2')"
   ]
  },
  {
   "cell_type": "markdown",
   "metadata": {},
   "source": [
    "Notice the part about \"... (143 rows omitted).\"  This table is big enough that only a few of its rows are displayed, but the others are still there.  10 are shown, so there are 153 cars total.\n",
    "\n",
    "Where did `hybrids.csv` come from? Take a look at [this lab's folder](./). You should see a file called `hybrids.csv`.\n",
    "\n",
    "Open up the `hybrids.csv` file in that folder and look at the format. What do you notice? The `.csv` filename ending says that this file is in the [CSV (comma-separated value) format](http://edoceo.com/utilitas/csv-file-format)."
   ]
  },
  {
   "cell_type": "markdown",
   "metadata": {},
   "source": [
    "## 3. Getting Data from Tables\n",
    "\n",
    "So far, we've learned how to make tables with the `Table.with_columns()` function. But how do we retrieve data (specifically in the form of arrays) from Tables? \n",
    "\n",
    "We'll do this with the `.column()` Table method:"
   ]
  },
  {
   "cell_type": "code",
   "execution_count": null,
   "metadata": {
    "collapsed": true,
    "scrolled": false
   },
   "outputs": [],
   "source": [
    "# Run this cell to get a column of data\n",
    "hybrids.column(\"mpg\")"
   ]
  },
  {
   "cell_type": "markdown",
   "metadata": {},
   "source": [
    "As you can see above, the `.column` table method takes in a single input, which is a column name in the table. It returns the corresponding array that the column name refers to. "
   ]
  },
  {
   "cell_type": "markdown",
   "metadata": {},
   "source": [
    "**Question 3.1.** Retrieve the `acceleration` column from the `hybrids` table. "
   ]
  },
  {
   "cell_type": "code",
   "execution_count": null,
   "metadata": {
    "collapsed": true,
    "scrolled": true
   },
   "outputs": [],
   "source": [
    "acceleration = ...\n",
    "acceleration"
   ]
  },
  {
   "cell_type": "code",
   "execution_count": null,
   "metadata": {
    "collapsed": true,
    "scrolled": true
   },
   "outputs": [],
   "source": [
    "_ = ok.grade('q3_1')"
   ]
  },
  {
   "cell_type": "markdown",
   "metadata": {},
   "source": [
    "**Question 3.2.** Get the following columns for their respective names:"
   ]
  },
  {
   "cell_type": "code",
   "execution_count": null,
   "metadata": {
    "collapsed": true,
    "scrolled": false
   },
   "outputs": [],
   "source": [
    "vehicles = ...\n",
    "year = ...\n",
    "mpg = ...\n",
    "msrp = ..."
   ]
  },
  {
   "cell_type": "code",
   "execution_count": null,
   "metadata": {
    "collapsed": true,
    "scrolled": true
   },
   "outputs": [],
   "source": [
    "_ = ok.grade('q3_2')"
   ]
  },
  {
   "cell_type": "markdown",
   "metadata": {},
   "source": [
    "**Question 3.3** Find the car with the highest miles per gallon. (Hint: the function `np.argmax` takes in a list and returns the index that contains the largest number within that list)"
   ]
  },
  {
   "cell_type": "code",
   "execution_count": null,
   "metadata": {
    "collapsed": true,
    "scrolled": true
   },
   "outputs": [],
   "source": [
    "max_index = ...\n",
    "vehicles.item(max_index)"
   ]
  },
  {
   "cell_type": "code",
   "execution_count": null,
   "metadata": {
    "collapsed": true,
    "scrolled": true
   },
   "outputs": [],
   "source": [
    "_ = ok.grade('q3_3')"
   ]
  },
  {
   "cell_type": "markdown",
   "metadata": {},
   "source": [
    "## 4. Using Tables to Create Bar Charts\n",
    "\n",
    "So far, we've provided functions that allow you to create bar charts and scatter plots. Now, we'll learn how to create bar charts with the Table methods:"
   ]
  },
  {
   "cell_type": "markdown",
   "metadata": {},
   "source": [
    "**Question 4.1**\n",
    "First, let's make a new table that has two columns. The first should be titled 'Vehicle Name' and contain a list of hybrid vehicle names, and the second should be titled 'Acceleration', and contain a list of acceleration stats."
   ]
  },
  {
   "cell_type": "code",
   "execution_count": null,
   "metadata": {
    "collapsed": true,
    "scrolled": true
   },
   "outputs": [],
   "source": [
    "name_and_accel = ...\n",
    "name_and_accel"
   ]
  },
  {
   "cell_type": "code",
   "execution_count": null,
   "metadata": {
    "collapsed": true,
    "scrolled": true
   },
   "outputs": [],
   "source": [
    "_ = ok.grade('q4_1')"
   ]
  },
  {
   "cell_type": "markdown",
   "metadata": {},
   "source": [
    "Now, in order to realistically graph our vehicles, we'll reduce the size of the table - the `.take` function allows us to do this. `.take` takes in a single input, a list of indices to keep to form a new table. "
   ]
  },
  {
   "cell_type": "code",
   "execution_count": null,
   "metadata": {
    "collapsed": true,
    "scrolled": true
   },
   "outputs": [],
   "source": [
    "hybrids.take(np.arange(1,11))"
   ]
  },
  {
   "cell_type": "markdown",
   "metadata": {},
   "source": [
    "**Quetion 4.2** Take the first 5 rows of our `names_and_accel` table and set it equal to the name `first_five_names_and_accel`: "
   ]
  },
  {
   "cell_type": "code",
   "execution_count": null,
   "metadata": {
    "collapsed": true,
    "scrolled": true
   },
   "outputs": [],
   "source": [
    "first_five_names_and_accel = ...\n",
    "first_five_names_and_accel"
   ]
  },
  {
   "cell_type": "code",
   "execution_count": null,
   "metadata": {
    "collapsed": true,
    "scrolled": true
   },
   "outputs": [],
   "source": [
    "_ = ok.grade('q4_2')"
   ]
  },
  {
   "cell_type": "markdown",
   "metadata": {},
   "source": [
    "**Question 4.3**\n",
    "Just having a table of the these five vehicles isn't very helpful. Let's try graphing them! Use the `.barh` in order to graph! `.barh` takes in one parameter, which is the column name (as a string) to use as the categories. Check with an instructor to make sure that you've got the right graph!"
   ]
  },
  {
   "cell_type": "code",
   "execution_count": null,
   "metadata": {
    "collapsed": true,
    "for_assignment_type": "student",
    "scrolled": false
   },
   "outputs": [],
   "source": [
    "#Graph first_five_names_and_accel as a bar chart here!\n"
   ]
  },
  {
   "cell_type": "markdown",
   "metadata": {},
   "source": [
    "**Question 4.3** You might have noticed that some of the vehicles appear more than once in the table. What if we want to graph number of appearances of each vehicle? We can use the `.group_barh` function for that! The `.group_barh` function takes in a single input, the name of the column (as a string) that you want to use. Try graphing the count of vehicle names using `.group_barh`!\n",
    "\n"
   ]
  },
  {
   "cell_type": "code",
   "execution_count": null,
   "metadata": {
    "collapsed": true,
    "for_assignment_type": "student",
    "scrolled": true
   },
   "outputs": [],
   "source": [
    "#Graph a bar chart of the names here! Note - you'll have to create a \n",
    "# Table that contains only the names first!\n"
   ]
  },
  {
   "cell_type": "markdown",
   "metadata": {},
   "source": [
    "## 5. Visualizing Frequency Data\n",
    "\n",
    "We will examine two ways to visualize frequency data - one by graphing proportions through bar charts, and one by using a new type of visualization - the *histogram*. \n",
    "\n",
    "To do this, we'll first explore a familiar dataset about the eye and hair colors of marvel characters."
   ]
  },
  {
   "cell_type": "code",
   "execution_count": null,
   "metadata": {
    "collapsed": true,
    "scrolled": true
   },
   "outputs": [],
   "source": [
    "marvel_url = \"https://github.com/fivethirtyeight/data/raw/master/comic-characters/marvel-wikia-data.csv\"\n",
    "marvel_eye_counts = Table().read_table(marvel_url).select(\"EYE\").group(\"EYE\")\n",
    "marvel_eye_counts"
   ]
  },
  {
   "cell_type": "markdown",
   "metadata": {},
   "source": [
    "**Question 5.1** We've loaded in some data about the eye color of marvel superheroes. Compute the proportion of each eye color and then display it in a bar chart! Check with your neighbor or TA to make sure that you've got it right!"
   ]
  },
  {
   "cell_type": "code",
   "execution_count": null,
   "metadata": {
    "collapsed": true,
    "scrolled": false
   },
   "outputs": [],
   "source": [
    "#Write your code here! \n",
    "#NOTE: You'll have to create a new table after computing the proportions!\n",
    "eye_color_proportions = ...\n",
    "marvel_eye_proportions = ...\n",
    "..."
   ]
  },
  {
   "cell_type": "markdown",
   "metadata": {},
   "source": [
    "**Question 5.2** What type of eye color is most common? Write your findings below and back them up with evidence from the bar chart:"
   ]
  },
  {
   "cell_type": "markdown",
   "metadata": {},
   "source": []
  },
  {
   "cell_type": "markdown",
   "metadata": {},
   "source": [
    "But what if we want to look at the distribution of numerical data? For example, what if we wanted to know what period of time that most marvel superheroes were first introduced? \n",
    "\n",
    "We can use a histogram for that! \n",
    "\n",
    "**Question 5.3** Using the data we've loaded in for you, make a histogram for the first-year-appearances of superheroes! The `.hist` table method doesn't need to take in any inputs for our use here!"
   ]
  },
  {
   "cell_type": "code",
   "execution_count": null,
   "metadata": {
    "collapsed": true,
    "scrolled": false
   },
   "outputs": [],
   "source": [
    "marvel_first_years = Table().read_table(marvel_url).select(\"Year\").where(\"Year\", are.above(0))\n",
    "marvel_first_years"
   ]
  },
  {
   "cell_type": "code",
   "execution_count": null,
   "metadata": {
    "collapsed": true,
    "for_assignment_type": "student",
    "scrolled": true
   },
   "outputs": [],
   "source": [
    "#Create your histogram in this cell!\n"
   ]
  },
  {
   "cell_type": "markdown",
   "metadata": {},
   "source": [
    "**Question 5.4** With your histogram, can you identify which period that most superheroes had their first appearances? Verify with a neighbor or your instructor!"
   ]
  },
  {
   "cell_type": "markdown",
   "metadata": {
    "for_assignment_type": "student"
   },
   "source": []
  },
  {
   "cell_type": "markdown",
   "metadata": {},
   "source": [
    "## 6. Summary\n",
    "\n",
    "For your reference, here's a table of the functions and methods we saw in this lab and some additional ones that you might find useful.\n",
    "\n",
    "|Name|Example|Purpose|\n",
    "|-|-|-|\n",
    "|`Table`|`Table()`|Create an empty table, usually to extend with data|\n",
    "|`Table.read_table`|`Table.read_table(\"my_data.csv\")`|Create a table from a data file|\n",
    "|`with_columns`|`tbl = Table().with_columns(\"N\", np.arange(5), \"2*N\", np.arange(0, 10, 2))`|Create a copy of a table with more columns|\n",
    "|`column`|`tbl.column(\"N\")`|Create an array containing the elements of a column|\n",
    "|`sort`|`tbl.sort(\"N\")`|Create a copy of a table sorted by the values in a column|\n",
    "|`where`|`tbl.where(\"N\", are.above(2))`|Create a copy of a table with only the rows that match some *predicate*|\n",
    "|`num_rows`|`tbl.num_rows`|Compute the number of rows in a table|\n",
    "|`num_columns`|`tbl.num_columns`|Compute the number of columns in a table|\n",
    "|`select`|`tbl.select(\"N\")`|Create a copy of a table with only some of the columns|\n",
    "|`drop`|`tbl.drop(\"2*N\")`|Create a copy of a table without some of the columns|\n",
    "|`take`|`tbl.take(np.arange(0, 6, 2))`|Create a copy of the table with only the rows whose indices are in the given array|\n",
    "|`barh`|`tbl.barh('vehicles')`|Create a bar chart with the |\n",
    "|`take`|`tbl.take(np.arange(0, 6, 2))`|Create a copy of the table with only the rows whose indices are in the given array|\n",
    "\n",
    "<br/>\n",
    "\n",
    "Alright! You're finished with lab 7!  Be sure to...\n",
    "- **run all the tests** (the next cell has a shortcut for that), \n",
    "- **Save and Checkpoint** from the `File` menu,\n",
    "- **run the last cell to submit your work**,\n",
    "- and ask one of the staff members to check you off."
   ]
  },
  {
   "cell_type": "code",
   "execution_count": null,
   "metadata": {
    "collapsed": true,
    "scrolled": true
   },
   "outputs": [],
   "source": [
    "# For your convenience, you can run this cell to run all the tests at once!\n",
    "import os\n",
    "_ = [ok.grade(q[:-3]) for q in os.listdir(\"tests\") if q.startswith('q')]"
   ]
  },
  {
   "cell_type": "code",
   "execution_count": null,
   "metadata": {
    "collapsed": true,
    "scrolled": true
   },
   "outputs": [],
   "source": [
    "_ = ok.submit()"
   ]
  }
 ],
 "metadata": {
  "anaconda-cloud": {},
  "kernelspec": {
   "display_name": "Python 3",
   "language": "python",
   "name": "python3"
  },
  "language_info": {
   "codemirror_mode": {
    "name": "ipython",
    "version": 3
   },
   "file_extension": ".py",
   "mimetype": "text/x-python",
   "name": "python",
   "nbconvert_exporter": "python",
   "pygments_lexer": "ipython3",
   "version": "3.6.1"
  }
 },
 "nbformat": 4,
 "nbformat_minor": 1
}

