{
 "cells": [
  {
   "cell_type": "markdown",
   "metadata": {
    "deletable": true,
    "editable": true
   },
   "source": [
    "## Data Science with Python"
   ]
  },
  {
   "cell_type": "markdown",
   "metadata": {
    "deletable": true,
    "editable": true
   },
   "source": [
    "Welcome to the first lab!\n",
    "\n",
    "Today's lab is a flyover view of the things you'll learn in this course.  Soon you'll be able to write notebooks like this yourself, to investigate the questions *you* are interested in.\n",
    "\n",
    "When you're done, be sure to follow the instructions at the end of this notebook to submit it *and* check off your work with a TA."
   ]
  },
  {
   "cell_type": "markdown",
   "metadata": {
    "deletable": true,
    "editable": true
   },
   "source": [
    "## Jupyter notebooks\n",
    "This is a Jupyter notebook.  Notebooks are a common format for data science work.  They function both as word processors and as environments where you can run computer code.\n",
    "\n",
    "### Text cells\n",
    "Let's try out the word processing first.\n",
    "\n",
    "Notebooks are organized into cells.  If you double-click on a *text* cell (like this one), you'll be able to edit it.  After editing, press `Ctrl+Enter` (on most keyboards) or the ▶| (\"play\") button in the toolbar above to display your text in a nicer-looking format.  (Try to avoid changing the instructions for the lab!)"
   ]
  },
  {
   "cell_type": "markdown",
   "metadata": {
    "deletable": true,
    "editable": true
   },
   "source": [
    "### Question 1\n",
    "Try editing the cell below.  Add any text you'd like.  (Questions like this will be interspersed with explanatory text in lab and homework notebooks.  Whenever you're asked to fill something out, you'll see a heading like \"**Question X**\".)"
   ]
  },
  {
   "cell_type": "markdown",
   "metadata": {
    "deletable": true,
    "editable": true
   },
   "source": [
    "*Write your answer here, replacing this text.*"
   ]
  },
  {
   "cell_type": "markdown",
   "metadata": {
    "deletable": true,
    "editable": true
   },
   "source": [
    "### Code cells\n",
    "Other cells contain code in the Python 3 language. Running a code cell will execute all of the code it contains.  Below the cell, any output produced by the code will appear.\n",
    "\n",
    "To run the code in a code cell, first click on that cell to activate it.  It'll be highlighted with a little green or blue rectangle.  Next, either press ▶| or hold down the `shift` key and press `return` or `enter`.\n",
    "\n",
    "Try running the code cells below:"
   ]
  },
  {
   "cell_type": "code",
   "execution_count": 1,
   "metadata": {
    "collapsed": false,
    "deletable": true,
    "editable": true
   },
   "outputs": [],
   "source": [
    "'Hello, World!'"
   ]
  },
  {
   "cell_type": "code",
   "execution_count": 2,
   "metadata": {
    "collapsed": false,
    "deletable": true,
    "editable": true
   },
   "outputs": [],
   "source": [
    "'Hello, ' + 'World!'"
   ]
  },
  {
   "cell_type": "code",
   "execution_count": 3,
   "metadata": {
    "collapsed": false,
    "deletable": true,
    "editable": true
   },
   "outputs": [],
   "source": [
    "2"
   ]
  },
  {
   "cell_type": "code",
   "execution_count": 4,
   "metadata": {
    "collapsed": false,
    "deletable": true,
    "editable": true
   },
   "outputs": [],
   "source": [
    "2 + 2"
   ]
  },
  {
   "cell_type": "markdown",
   "metadata": {
    "deletable": true,
    "editable": true
   },
   "source": [
    "Cells can have multiple *lines* of code.  Each line will be run.  Only the value of the last line will be printed."
   ]
  },
  {
   "cell_type": "code",
   "execution_count": 5,
   "metadata": {
    "collapsed": false,
    "deletable": true,
    "editable": true
   },
   "outputs": [],
   "source": [
    "3\n",
    "4"
   ]
  },
  {
   "cell_type": "markdown",
   "metadata": {
    "deletable": true,
    "editable": true
   },
   "source": [
    "Code can define a *name* for any value, like the number 3.  After a name is defined, it can be used in place of that value."
   ]
  },
  {
   "cell_type": "code",
   "execution_count": 6,
   "metadata": {
    "collapsed": false,
    "deletable": true,
    "editable": true
   },
   "outputs": [],
   "source": [
    "some_number = 3\n",
    "some_number"
   ]
  },
  {
   "cell_type": "code",
   "execution_count": 7,
   "metadata": {
    "collapsed": false,
    "deletable": true,
    "editable": true
   },
   "outputs": [],
   "source": [
    "some_number * 5"
   ]
  },
  {
   "cell_type": "code",
   "execution_count": 9,
   "metadata": {
    "collapsed": false,
    "deletable": true,
    "editable": true
   },
   "outputs": [],
   "source": [
    "another_number = some_number * 6\n",
    "another_number"
   ]
  },
  {
   "cell_type": "markdown",
   "metadata": {
    "deletable": true,
    "editable": true
   },
   "source": [
    "### Question 2\n",
    "**Don't run the next cell quite yet.**  First, predict what will be printed when you run it.  Write down your prediction in the cell below it.  (For example, if you predict the number 14 will be printed, replace the `...` with `14` so that the cell reads `what_will_be_printed = 14`.)  Then run the cell to check."
   ]
  },
  {
   "cell_type": "code",
   "execution_count": 10,
   "metadata": {
    "collapsed": false,
    "deletable": true,
    "editable": true
   },
   "outputs": [],
   "source": [
    "a_third_number = another_number - some_number\n",
    "yet_another_number = a_third_number + 2002\n",
    "yet_another_number"
   ]
  },
  {
   "cell_type": "code",
   "execution_count": 11,
   "metadata": {
    "collapsed": true,
    "deletable": true,
    "editable": true
   },
   "outputs": [],
   "source": [
    "what_will_be_printed = ..."
   ]
  },
  {
   "cell_type": "markdown",
   "metadata": {
    "deletable": true,
    "editable": true
   },
   "source": [
    "Notebooks will often have *automatic tests* embedded in them.  These are provided for you to check your work.  Getting immediate feedback helps us learn faster.  Sometimes, the tests will also display written hints when your work is incorrect.\n",
    "\n",
    "Automatic tests look like the following cell.  **Run the cell above to run your answer.**  Then, run the test cell.  Do this whenever you see test cells.  (You may wish to try filling in the *wrong answer* above to see the message you receive when something is wrong.)"
   ]
  },
  {
   "cell_type": "code",
   "execution_count": 12,
   "metadata": {
    "collapsed": false,
    "deletable": true,
    "editable": true
   },
   "outputs": [],
   "source": [
    "# Ignore the next two lines, which are boilerplate\n",
    "# setup code.\n",
    "from client.api.notebook import Notebook\n",
    "ok = Notebook('lab01.ok')\n",
    "\n",
    "_ = ok.grade('q2')\n",
    "_ = ok.backup()"
   ]
  },
  {
   "cell_type": "markdown",
   "metadata": {
    "deletable": true,
    "editable": true
   },
   "source": [
    "### Gender in Comics\n",
    "The cell below loads a dataset about gender in comic books, which we've seen in lecture and [the textbook](https://data-8r.gitbooks.io/textbook/chapters/01/4/gender-in-comic-books.html).  Run it to see a table of the dataset."
   ]
  },
  {
   "cell_type": "code",
   "execution_count": 37,
   "metadata": {
    "collapsed": false,
    "deletable": true,
    "editable": true
   },
   "outputs": [],
   "source": [
    "# Some more boilerplate:\n",
    "from datascience import *\n",
    "%matplotlib inline\n",
    "import matplotlib.pyplot as plots\n",
    "\n",
    "# Loading the table from a file in this folder:\n",
    "comics = Table.read_table(\"comic_characters.csv\")\n",
    "comics"
   ]
  },
  {
   "cell_type": "markdown",
   "metadata": {
    "deletable": true,
    "editable": true
   },
   "source": [
    "For the two following questions, we have provided code that creates a visualization of the data.  The visualizations have some problems.  Your job is to run the code and comment on the plot by writing in the text cell below it.\n",
    "\n",
    "You'll probably get more out of these exercises if you discuss them with your neighbors or a TA."
   ]
  },
  {
   "cell_type": "markdown",
   "metadata": {
    "deletable": true,
    "editable": true
   },
   "source": [
    "### Question 3\n",
    "In this scatter plot, each point represents one comic book character.  The horizontal position is the year in which the character was first introduced.  The vertical position is the number of times the character has appeared in comics since their introduction."
   ]
  },
  {
   "cell_type": "code",
   "execution_count": 42,
   "metadata": {
    "collapsed": false,
    "deletable": true,
    "editable": true
   },
   "outputs": [],
   "source": [
    "comics.scatter(\"Year\", \"Appearances\")"
   ]
  },
  {
   "cell_type": "markdown",
   "metadata": {},
   "source": [
    "1. Describe one fact you have learned from the plot.\n",
    "2. Criticize the plot.  What is something you would like to improve about it?"
   ]
  },
  {
   "cell_type": "markdown",
   "metadata": {
    "deletable": true,
    "editable": true
   },
   "source": [
    "*Write your answer here, replacing this text.*"
   ]
  },
  {
   "cell_type": "markdown",
   "metadata": {
    "deletable": true,
    "editable": true
   },
   "source": [
    "### Question 4\n",
    "The following horizontal bar plot displays the first letters of characters' names, broken down by gender.  So the bars next to the letter \"M\" show how many characters of each recorded gender had names starting with \"M\"."
   ]
  },
  {
   "cell_type": "code",
   "execution_count": 67,
   "metadata": {
    "collapsed": false,
    "deletable": true,
    "editable": true
   },
   "outputs": [],
   "source": [
    "# Yet more boilerplate:\n",
    "import numpy as np\n",
    "\n",
    "first_letters = np.char.ljust(np.char.strip(comics.column(\"Name\"), \"'\\\"\"), 1)\n",
    "comics.with_column(\"First letter\", first_letters)\\\n",
    "      .pivot(\"Gender\", \"First letter\")\\\n",
    "      .sort(\"Female\", descending=True)\\\n",
    "      .barh(\"First letter\")"
   ]
  },
  {
   "cell_type": "markdown",
   "metadata": {},
   "source": [
    "1. Describe one fact you have learned from the plot.\n",
    "2. Criticize the plot.  What is something you would like to improve about it?"
   ]
  },
  {
   "cell_type": "markdown",
   "metadata": {
    "deletable": true,
    "editable": true
   },
   "source": [
    "*Write your answer here, replacing this text.*"
   ]
  },
  {
   "cell_type": "markdown",
   "metadata": {
    "deletable": true,
    "editable": true
   },
   "source": [
    "### Submitting your work\n",
    "To submit this notebook, run the next two cells.  **If you don't, we won't be able to see your work!**"
   ]
  },
  {
   "cell_type": "code",
   "execution_count": null,
   "metadata": {
    "collapsed": false,
    "deletable": true,
    "editable": true
   },
   "outputs": [],
   "source": [
    "# For your convenience, you can run this cell to run all the tests at once.\n",
    "\n",
    "_ = ok.grade_all()"
   ]
  },
  {
   "cell_type": "code",
   "execution_count": null,
   "metadata": {
    "collapsed": false,
    "deletable": true,
    "editable": true
   },
   "outputs": [],
   "source": [
    "# Run this cell to submit your work.\n",
    "# You can submit as many times as you want.  If you want us to grade a\n",
    "# submission other than your most recent one, you can choose which submission\n",
    "# is graded at https://okpy.org/cal/data8r/su17/ .\n",
    "\n",
    "_ = ok.submit()"
   ]
  }
 ],
 "metadata": {
  "anaconda-cloud": {},
  "kernelspec": {
   "display_name": "Python 3",
   "language": "python",
   "name": "python3"
  },
  "language_info": {
   "codemirror_mode": {
    "name": "ipython",
    "version": 3
   },
   "file_extension": ".py",
   "mimetype": "text/x-python",
   "name": "python",
   "nbconvert_exporter": "python",
   "pygments_lexer": "ipython3",
   "version": "3.5.1"
  }
 },
 "nbformat": 4,
 "nbformat_minor": 0
}

