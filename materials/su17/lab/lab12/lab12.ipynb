{
 "cells": [
  {
   "cell_type": "markdown",
   "metadata": {},
   "source": [
    "## Introduction to Maps\n",
    "\n",
    "Welcome to Lab 12! Today we will be exploring maps and how to create them by taking a look at the water usage, geography, and income in California. The water data for this lab was procured from the [California State Water Resources Control Board](http://www2.pacinst.org/gpcd/table.html) and curated by the [Pacific Institute](http://pacinst.org/). The map data includes [US topography](https://github.com/jgoodall/us-maps), [California counties](https://github.com/johan/world.geo.json/tree/master/countries/USA/CA), and [ZIP codes](http://bl.ocks.org/jefffriesen/6892860).\n",
    "\n",
    "Today's lab is slightly different from lecture - we'll be using the `Map` function instead of `.map_table` because we're going to be working with areas on a map, and not points. However, ask your TA/UGSI to review `.map_table` if you feel like you still don't understand it!\n",
    "\n",
    "\n",
    "As usual, run the cell below to prepare everything!"
   ]
  },
  {
   "cell_type": "code",
   "execution_count": 1,
   "metadata": {},
   "outputs": [],
   "source": [
    "# Run this cell to set up the notebook, but please don't change it.\n",
    "\n",
    "# These lines import the Numpy and Datascience modules.\n",
    "import numpy as np\n",
    "import math\n",
    "from datascience import *\n",
    "\n",
    "# These lines do some fancy plotting magic.\n",
    "import matplotlib\n",
    "%matplotlib inline\n",
    "import matplotlib.pyplot as plt\n",
    "plt.style.use('fivethirtyeight')\n",
    "import warnings\n",
    "warnings.simplefilter('ignore', FutureWarning)\n",
    "\n",
    "# These lines load the tests.\n",
    "from client.api.notebook import Notebook\n",
    "ok = Notebook('lab12.ok')"
   ]
  },
  {
   "cell_type": "code",
   "execution_count": null,
   "metadata": {
    "collapsed": true
   },
   "outputs": [],
   "source": [
    "_ = ok.backup()"
   ]
  },
  {
   "cell_type": "markdown",
   "metadata": {},
   "source": [
    "Let's begin by loading in the data!"
   ]
  },
  {
   "cell_type": "code",
   "execution_count": null,
   "metadata": {
    "collapsed": true
   },
   "outputs": [],
   "source": [
    "# Run this cell, but please don't change it.\n",
    "\n",
    "districts = Map.read_geojson('water_districts.geojson')\n",
    "zips = Map.read_geojson('ca_zips.geojson.gz')\n",
    "usage_raw = Table.read_table('water_usage.csv', dtype={'pwsid': str})\n",
    "income_raw = Table.read_table('ca_income_by_zip.csv', dtype={'ZIP': str}).drop('STATEFIPS', 'STATE', 'agi_stub')\n",
    "wd_vs_zip = Table.read_table('wd_vs_zip.csv', dtype={'PWSID': str, 'ZIP': str}).set_format(make_array(2, 3), PercentFormatter)"
   ]
  },
  {
   "cell_type": "markdown",
   "metadata": {},
   "source": [
    "Looking at Maps\n",
    "======"
   ]
  },
  {
   "cell_type": "markdown",
   "metadata": {},
   "source": [
    "The `districts` and `zips` data sets are `Map` objects. Documentation on mapping in the `datascience` package can be found at [data8.org/datascience/maps.html](http://data8.org/datascience/maps.html).  To view a map of California's water districts, run the cell below. Click on a district to see its description."
   ]
  },
  {
   "cell_type": "code",
   "execution_count": null,
   "metadata": {
    "collapsed": true
   },
   "outputs": [],
   "source": [
    "districts.format(width=400, height=200)"
   ]
  },
  {
   "cell_type": "markdown",
   "metadata": {},
   "source": [
    "A `Map` is a collection of regions and other features such as points and markers, each of which has a **string** `id` and various properties. You can view the features of the `districts` map as a table using `Table.from_records`."
   ]
  },
  {
   "cell_type": "code",
   "execution_count": null,
   "metadata": {
    "collapsed": true
   },
   "outputs": [],
   "source": [
    "district_table = Table.from_records(districts.features)\n",
    "district_table.show(3)"
   ]
  },
  {
   "cell_type": "markdown",
   "metadata": {},
   "source": [
    "To display a `Map` containing only two features from the `district_table`, call `Map` on an array containing those two features from the `feature` column.\n",
    "\n",
    "**Question 1** Draw a map of the Alameda County Water District (row 0) and the East Bay Municipal Utilities District (row 2)."
   ]
  },
  {
   "cell_type": "code",
   "execution_count": null,
   "metadata": {
    "collapsed": true
   },
   "outputs": [],
   "source": [
    "# Fill in the next line so the last line draws a map of those two districts.\n",
    "# Hint: Use .take to take the rows you want, and then use .column to get features to map\n",
    "alameda_and_east_bay = ...\n",
    "Map(alameda_and_east_bay, height=300, width=300)"
   ]
  },
  {
   "cell_type": "code",
   "execution_count": null,
   "metadata": {
    "collapsed": true
   },
   "outputs": [],
   "source": [
    "_ = ok.grade('q1')"
   ]
  },
  {
   "cell_type": "markdown",
   "metadata": {},
   "source": [
    "In the next cell, we've created a table called `zip_features` that contains each district, along with a lot of data about each district.\n",
    "\n",
    "`zip_features` will allow us to investigate income and number of farmers in California. \n",
    "\n",
    "Explore the table!"
   ]
  },
  {
   "cell_type": "code",
   "execution_count": null,
   "metadata": {
    "collapsed": true,
    "scrolled": true
   },
   "outputs": [],
   "source": [
    "#Run this cell, but please don't change it!\n",
    "\n",
    "income_by_zipcode = income_raw.group('ZIP', sum) \n",
    "for label in income_by_zipcode.labels: \n",
    "    income_by_zipcode.relabel(label, label.replace(' sum', ''))\n",
    "income = Table().with_columns(\n",
    "        'ZIP', income_by_zipcode.column('ZIP'),\n",
    "        'num returns', income_by_zipcode.column('N02650'),\n",
    "        'total income ($)', income_by_zipcode.column('A02650'), \n",
    "        'num farmers', income_by_zipcode.column('SCHF') \n",
    "    )\n",
    "income = income.where(income.column('ZIP') != '99999') \n",
    "with_averages = income.with_columns(\n",
    "    \"Proportion of farmers\", income.column('num farmers')/income.column('num returns'),\n",
    "    \"Average income ($)\", 1000*income.column('total income ($)') / income.column('num returns'))\n",
    "zip_features = Table.from_records(zips.features)\n",
    "zip_features = with_averages.join('ZIP', zip_features)\n",
    "\"\"\"\n",
    "ZIP: zip code of district\n",
    "num returns: number of tax returns\n",
    "total income ($) the total income of all tax returns in thousands of dollars\n",
    "num farmers: number of farmer tax returns\n",
    "proportion of farmers: proportion of tax returns from farmers\n",
    "average income ($): average income for the district\n",
    "\"\"\"\n",
    "zip_features"
   ]
  },
  {
   "cell_type": "markdown",
   "metadata": {},
   "source": [
    "To get your creative juices flowing, we've provided a simple example where we mapped only the districts that have a high average income (specifically one above $100,000!). \n",
    "\n",
    "Notice how we use can use `.where` to filter the table of districts and then map those districts by calling `Map`!"
   ]
  },
  {
   "cell_type": "code",
   "execution_count": null,
   "metadata": {
    "collapsed": true,
    "scrolled": true
   },
   "outputs": [],
   "source": [
    "high_average_zips = zip_features.where('Average income ($)', are.above(100000)) \n",
    "Map(high_average_zips.column('feature'), width=400, height=300)"
   ]
  },
  {
   "cell_type": "markdown",
   "metadata": {},
   "source": [
    "**Question 2** \n",
    "\n",
    "Investigate the above map a little more closely. Are there any associations that you can observe? "
   ]
  },
  {
   "cell_type": "markdown",
   "metadata": {},
   "source": [
    "*Write your answer here, replacing this text.*"
   ]
  },
  {
   "cell_type": "markdown",
   "metadata": {},
   "source": [
    "**Question 3**: \n",
    "\n",
    "Now, think about how you can use `.where` to filter the table to create maps that allow us to visualize associations. Write down 3 ideas and share them with a neighbor or your TA/UGSI!"
   ]
  },
  {
   "cell_type": "markdown",
   "metadata": {},
   "source": [
    "*Write your answer here, replacing this text.*"
   ]
  },
  {
   "cell_type": "markdown",
   "metadata": {},
   "source": [
    "**Question 4** \n",
    "\n",
    "Now we've got to create the maps! Use the following cells to filter your tables and `Map` out the data! \n",
    "\n",
    "Remember: the function `Map` takes in an array of features as its input. "
   ]
  },
  {
   "cell_type": "code",
   "execution_count": null,
   "metadata": {
    "collapsed": true
   },
   "outputs": [],
   "source": [
    "# Here's an example of how to use the Map function: \n",
    "#  Because we haven't filtered the table, we're just Mapping every \n",
    "#  zipcode district that we have data on.\n",
    "# Note: This example might take a while to load \n",
    "Map(zip_features.column(\"feature\"))"
   ]
  },
  {
   "cell_type": "code",
   "execution_count": null,
   "metadata": {
    "collapsed": true
   },
   "outputs": [],
   "source": [
    "#Use .where and Map to make your first Map!"
   ]
  },
  {
   "cell_type": "code",
   "execution_count": null,
   "metadata": {
    "collapsed": true
   },
   "outputs": [],
   "source": [
    "#Use .where and Map to make you second Map!"
   ]
  },
  {
   "cell_type": "code",
   "execution_count": null,
   "metadata": {
    "collapsed": true
   },
   "outputs": [],
   "source": [
    "#Use .where and Map to make your third Map!"
   ]
  },
  {
   "cell_type": "markdown",
   "metadata": {},
   "source": [
    "**Question 5**\n",
    "\n",
    "What did you learn? If you didn't observe any associations, its ok to note that there isn't an association! If you did, can you think of any reasons that might lead to said associations? \n",
    "\n",
    "Check your answers with your neighbors (if you mapped the same things) or your TA/UGSI!"
   ]
  },
  {
   "cell_type": "markdown",
   "metadata": {},
   "source": [
    "*Write your answer here, replacing this text.*"
   ]
  },
  {
   "cell_type": "markdown",
   "metadata": {},
   "source": [
    "In the following cell, we've created a table called `usage_features` that has data about water usage in California. "
   ]
  },
  {
   "cell_type": "code",
   "execution_count": null,
   "metadata": {
    "collapsed": true
   },
   "outputs": [],
   "source": [
    "usage_raw.set_format(4, NumberFormatter)\n",
    "max_pop = usage_raw.select(0, 'population').group(0, max).relabeled(1, 'Population')\n",
    "avg_water = usage_raw.select(0, 'res_gpcd').group(0, np.mean).relabeled(1, 'Water')\n",
    "usage = max_pop.join('pwsid', avg_water).relabeled(0, 'PWSID')\n",
    "usage_features = usage.join('PWSID', district_table)\n",
    "\"\"\"\n",
    "PWSID: the public water supply identifier of the district\n",
    "Population: Estimate of average population served in 2015\n",
    "Water: Average residential water use (gallons per person per day) in 2014-2015\n",
    "\"\"\"\n",
    "usage_features"
   ]
  },
  {
   "cell_type": "markdown",
   "metadata": {},
   "source": [
    "**Question 6**\n",
    "\n",
    "Calculate the average water usage per person across all avaliable water districts. Then create a map that displays which districts have an average water usage that is above that average. "
   ]
  },
  {
   "cell_type": "code",
   "execution_count": null,
   "metadata": {
    "collapsed": true,
    "scrolled": true
   },
   "outputs": [],
   "source": [
    "#Hint - remember that each district has a certain population\n",
    "# If we want to know the average water usage per person, we need to \n",
    "# take this into account. \n",
    "avg_water_usage = ...\n",
    "..."
   ]
  },
  {
   "cell_type": "code",
   "execution_count": null,
   "metadata": {
    "collapsed": true
   },
   "outputs": [],
   "source": [
    "avg_water_usage"
   ]
  },
  {
   "cell_type": "code",
   "execution_count": null,
   "metadata": {
    "collapsed": true
   },
   "outputs": [],
   "source": [
    "_ = ok.grade(\"q6\")"
   ]
  },
  {
   "cell_type": "markdown",
   "metadata": {},
   "source": [
    "**Question 7** Based on the map above, which part of California appears to use more water per person: the San Francisco area or the Los Angeles area?"
   ]
  },
  {
   "cell_type": "markdown",
   "metadata": {},
   "source": [
    "*Write your answer here, replacing this text.*"
   ]
  },
  {
   "cell_type": "markdown",
   "metadata": {},
   "source": [
    "**OPTIONAL:** Coloring Maps\n",
    "=======\n",
    "\n",
    "Here we will see that we can shade in maps with a certain key by using the `.color` function. \n",
    "\n",
    "`.color` takes as a first input a table with 2 columns, one for the PWSID, and one for the values that we wish to color by. "
   ]
  },
  {
   "cell_type": "code",
   "execution_count": null,
   "metadata": {
    "collapsed": true
   },
   "outputs": [],
   "source": [
    "population = usage_features.select(\"PWSID\", \"Population\")\n",
    "districts.color(population, key_on='feature.properties.PWSID')"
   ]
  },
  {
   "cell_type": "markdown",
   "metadata": {},
   "source": [
    "**Question 8**\n",
    "To investigate the use of water with a slightly better visual, let's use `.color` to create a map of the water usage of each PWSID. "
   ]
  },
  {
   "cell_type": "code",
   "execution_count": null,
   "metadata": {
    "collapsed": true,
    "scrolled": true
   },
   "outputs": [],
   "source": [
    "#Start by making a per_pwsid_usage table\n",
    "per_pwsid_usage = ...\n",
    "\n",
    "districts.color(per_pwsid_usage, key_on='feature.properties.PWSID') "
   ]
  },
  {
   "cell_type": "code",
   "execution_count": null,
   "metadata": {
    "collapsed": true
   },
   "outputs": [],
   "source": [
    "_ = ok.grade('q8')"
   ]
  },
  {
   "cell_type": "markdown",
   "metadata": {},
   "source": [
    "**Question 9** Based on the shaded map above, does this verify our answer from question 7?"
   ]
  },
  {
   "cell_type": "markdown",
   "metadata": {},
   "source": [
    "*Write your answer here, replacing this text.*"
   ]
  },
  {
   "cell_type": "markdown",
   "metadata": {},
   "source": [
    "Reviewing `.map_table`\n",
    "======"
   ]
  },
  {
   "cell_type": "markdown",
   "metadata": {},
   "source": [
    "`.map_table` is a method that takes in a table that should contain the following: \n",
    "\n",
    "1. lat - the latitude of the point\n",
    "2. long - the longitude of the point\n",
    "3. name - the name of the point \n",
    "4. (optional) color - what color to represent the point with\n",
    "5. (optional) area - the size of the point\n",
    "\n",
    "ex. `Marker.map_table(table)`\n",
    "\n",
    "ex. `Circle.map_table(table)`"
   ]
  },
  {
   "cell_type": "markdown",
   "metadata": {},
   "source": [
    "Suppose that you own a business, and you want to map where you get the most sales in order to market to the right locations."
   ]
  },
  {
   "cell_type": "code",
   "execution_count": 59,
   "metadata": {
    "scrolled": true
   },
   "outputs": [],
   "source": [
    "jan_sales = Table.read_table(\"SalesJan2009.csv\").select(0, 1, 2, 3, 10, 11).relabeled(\"Latitude\", \"lat\").relabeled(\"Longitude\", \"lon\")\n",
    "def remove_commas(string): \n",
    "    return string.replace(\",\", \"\")\n",
    "jan_sales = jan_sales.with_column(\"Price1\", jan_sales.apply(remove_commas, 'Price'))\n",
    "jan_sales = jan_sales.with_column(\"Price2\", jan_sales.apply(int, 'Price1'))\n",
    "jan_sales = jan_sales.drop(2,6).relabeled(\"Price2\", \"Price\")\n",
    "jan_sales"
   ]
  },
  {
   "cell_type": "markdown",
   "metadata": {},
   "source": [
    "**Question 10** Using `.map_table` map the location of your sales!"
   ]
  },
  {
   "cell_type": "code",
   "execution_count": 36,
   "metadata": {
    "scrolled": true
   },
   "outputs": [],
   "source": [
    "#Try using Circle! Make sure that you add a .show() onto the end of your code here to display it!\n",
    "...\n",
    "#Now try using Marker!\n",
    "..."
   ]
  },
  {
   "cell_type": "markdown",
   "metadata": {},
   "source": [
    "**Question 11** Where do the majority of your sales come from? "
   ]
  },
  {
   "cell_type": "markdown",
   "metadata": {},
   "source": [
    "*Write your answer here, replacing this text.*"
   ]
  },
  {
   "cell_type": "markdown",
   "metadata": {},
   "source": [
    "**Question 12** You're considering dropping Mastercard, and making all your customers use Visa. Create a Map that draws Mastercard purchases in red and Visa purchases in blue.  "
   ]
  },
  {
   "cell_type": "code",
   "execution_count": 42,
   "metadata": {
    "scrolled": true
   },
   "outputs": [],
   "source": [
    "#Apply this function on the table to get the colors! Think about which column you should apply it on to!\n",
    "def correct_color(credit_card_manu):\n",
    "    if (credit_card_manu == \"Mastercard\"):\n",
    "        return \"red\"\n",
    "    else: \n",
    "        return \"blue\"\n",
    "\n",
    "#Make your map here!\n",
    "#Remember that a table must have the following columns in order to be mapped with color, in the same order, with the same names:\n",
    "#  lat, lon, name, color\n",
    "# For this question, use the Payment_Type as the column for name\n",
    "sales_with_color = ...\n",
    "..."
   ]
  },
  {
   "cell_type": "markdown",
   "metadata": {},
   "source": [
    "**Question 13** Can you make a decision about this? Why or why not?"
   ]
  },
  {
   "cell_type": "markdown",
   "metadata": {},
   "source": [
    "*Write your answer here, replacing this text.*"
   ]
  },
  {
   "cell_type": "markdown",
   "metadata": {},
   "source": [
    "**Question 14** To make the money involved in the purchase show up on our map, let's scale the points with the area. Make sure that you multiply the prices by 100000000 so that we can actually see the points. "
   ]
  },
  {
   "cell_type": "code",
   "execution_count": 47,
   "metadata": {},
   "outputs": [],
   "source": [
    "sales_with_color"
   ]
  },
  {
   "cell_type": "code",
   "execution_count": 66,
   "metadata": {},
   "outputs": [],
   "source": [
    "#Make your map here!\n",
    "#Remember that a table must have the following columns in order to be mapped with area, in the same order, with the same names:\n",
    "#  lat, lon, name, color, area\n",
    "sales_with_purchase_amount = ...\n",
    "..."
   ]
  },
  {
   "cell_type": "markdown",
   "metadata": {},
   "source": [
    "**Question 15** Can we deduce anything from this map?"
   ]
  },
  {
   "cell_type": "markdown",
   "metadata": {},
   "source": [
    "*Write your answer here, replacing this text.*"
   ]
  },
  {
   "cell_type": "markdown",
   "metadata": {},
   "source": [
    "# Congrats! \n",
    "\n",
    "You're finished with lab12!\n",
    "\n",
    "Make sure that you run all the cells below!"
   ]
  },
  {
   "cell_type": "code",
   "execution_count": null,
   "metadata": {
    "collapsed": true
   },
   "outputs": [],
   "source": [
    "# For your convenience, you can run this cell to run all the tests at once.\n",
    "_ = ok.grade_all()"
   ]
  },
  {
   "cell_type": "code",
   "execution_count": null,
   "metadata": {
    "collapsed": true
   },
   "outputs": [],
   "source": [
    "# Run this cell to submit your work.\n",
    "# You can submit as many times as you want.  If you want us to grade a\n",
    "# submission other than your most recent one, you can choose which submission\n",
    "# is graded at https://okpy.org/cal/data8r/su17/ .\n",
    "\n",
    "_ = ok.submit()"
   ]
  },
  {
   "cell_type": "code",
   "execution_count": null,
   "metadata": {
    "collapsed": true
   },
   "outputs": [],
   "source": []
  }
 ],
 "metadata": {
  "celltoolbar": "Edit Metadata",
  "kernelspec": {
   "display_name": "Python 3",
   "language": "python",
   "name": "python3"
  },
  "language_info": {
   "codemirror_mode": {
    "name": "ipython",
    "version": 3
   },
   "file_extension": ".py",
   "mimetype": "text/x-python",
   "name": "python",
   "nbconvert_exporter": "python",
   "pygments_lexer": "ipython3",
   "version": "3.6.1"
  }
 },
 "nbformat": 4,
 "nbformat_minor": 1
}

