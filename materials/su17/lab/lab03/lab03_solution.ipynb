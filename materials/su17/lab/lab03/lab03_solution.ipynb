{
 "cells": [
  {
   "cell_type": "markdown",
   "metadata": {
    "deletable": true,
    "editable": true
   },
   "source": [
    "# Function Calls\n",
    "\n",
    "This lab covers parts of [Chapter 3](http://www.inferentialthinking.com/chapters/03/programming-in-python.html) of the online textbook. You should read the book, but not right now. Instead, let's get started!\n",
    "\n",
    "To begin, **run the cell below** to setup the notebook and its automatic tests.  Remember to run the cell at the end of this notebook to submit when you're done."
   ]
  },
  {
   "cell_type": "code",
   "execution_count": 9,
   "metadata": {
    "collapsed": false,
    "deletable": true,
    "editable": true
   },
   "outputs": [],
   "source": [
    "# Don't change this cell; just run it. \n",
    "# The result will give you directions about how to log in to the submission system, called OK.\n",
    "# Once you're logged in, you can run this cell again, but it won't ask you who you are because\n",
    "# it remembers you. However, you will need to log in once per assignment.\n",
    "%matplotlib inline\n",
    "import matplotlib.pyplot as plots\n",
    "from lab_functions import *\n",
    "from client.api.notebook import Notebook\n",
    "ok = Notebook('lab03.ok')\n",
    "_ = ok.auth(inline=True)"
   ]
  },
  {
   "cell_type": "markdown",
   "metadata": {
    "deletable": true,
    "editable": true
   },
   "source": [
    "## 1. Calling functions\n",
    "\n",
    "The most common way to combine or manipulate values in Python is by calling functions. Python comes with many built-in functions that perform common operations.\n",
    "\n",
    "For example, the `abs` function takes a single number as its argument and returns the absolute value of that number.  The absolute value of a number is its distance from 0 on the number line, so `abs(5)` is 5 and `abs(-5)` is also 5."
   ]
  },
  {
   "cell_type": "code",
   "execution_count": null,
   "metadata": {
    "collapsed": false,
    "deletable": true,
    "editable": true
   },
   "outputs": [],
   "source": [
    "abs(5)"
   ]
  },
  {
   "cell_type": "code",
   "execution_count": null,
   "metadata": {
    "collapsed": false,
    "deletable": true,
    "editable": true
   },
   "outputs": [],
   "source": [
    "abs(-5)"
   ]
  },
  {
   "cell_type": "markdown",
   "metadata": {
    "deletable": true,
    "editable": true
   },
   "source": [
    "The two lines above are each called *function call expressions*, since they are expressions (complete pieces of Python code) that involve calling a function."
   ]
  },
  {
   "cell_type": "markdown",
   "metadata": {
    "deletable": true,
    "editable": true
   },
   "source": [
    "## 1.1. Application: Computing walking distances\n",
    "Chunhua is on the corner of 7th Avenue and 42nd Street in Midtown Manhattan, and she wants to know far she'd have to walk to get to Gramercy School on the corner of 10th Avenue and 34th Street.\n",
    "\n",
    "She can't cut across blocks diagonally, since there are buildings in the way.  She has to walk along the sidewalks.  Using the map below, she sees she'd have to walk 3 avenues (long blocks) and 8 streets (short blocks).  In terms of the given numbers, she computed 3 as the difference between 7 and 10, *in absolute value*, and 8 similarly.  \n",
    "\n",
    "Chunhua also knows that blocks in Manhattan are all about 80m by 274m (avenues are farther apart than streets).  So in total, she'd have to walk\n",
    "$$80 \\times \\lvert 42 - 34\\rvert + 274 \\times \\lvert 7 - 10\\rvert \\text{ meters}$$\n",
    "to get to the park.\n",
    "\n",
    "<img src=\"map.jpg\"/>\n",
    "\n",
    "### Question 1.1.1\n",
    "Finish the line `num_avenues_away = ...` in the next cell so that the cell calculates the distance Chunhua must walk and gives it the name `manhattan_distance`.  Everything else has been filled in for you.  **Use the `abs` function.**"
   ]
  },
  {
   "cell_type": "code",
   "execution_count": 2,
   "metadata": {
    "collapsed": false,
    "deletable": true,
    "editable": true
   },
   "outputs": [],
   "source": [
    "# Here's the number of streets away:\n",
    "num_streets_away = abs(42-34)\n",
    "\n",
    "# Compute the number of avenues away in a similar way:\n",
    "num_avenues_away = abs(7-10) # SOLUTION\n",
    "\n",
    "street_length_m = 80\n",
    "avenue_length_m = 274\n",
    "\n",
    "# Now we compute the total distance Chunhua must walk.\n",
    "manhattan_distance = street_length_m*num_streets_away + avenue_length_m*num_avenues_away\n",
    "\n",
    "# We've included this line so that you see the distance\n",
    "# you've computed when you run this cell.  You don't need\n",
    "# to change it, but you can if you want.\n",
    "manhattan_distance"
   ]
  },
  {
   "cell_type": "markdown",
   "metadata": {
    "deletable": true,
    "editable": true
   },
   "source": [
    "Be sure to run the next cell to test your code."
   ]
  },
  {
   "cell_type": "code",
   "execution_count": null,
   "metadata": {
    "collapsed": false,
    "deletable": true,
    "editable": true
   },
   "outputs": [],
   "source": [
    "_ = ok.grade('q111')\n",
    "_ = ok.backup()"
   ]
  },
  {
   "cell_type": "markdown",
   "metadata": {
    "deletable": true,
    "editable": true
   },
   "source": [
    "##### Multiple arguments\n",
    "Some functions take multiple arguments, separated by commas. For example, the built-in `max` function returns the maximum argument passed to it."
   ]
  },
  {
   "cell_type": "code",
   "execution_count": null,
   "metadata": {
    "collapsed": false,
    "deletable": true,
    "editable": true
   },
   "outputs": [],
   "source": [
    "max(2, -3, 4, -5)"
   ]
  },
  {
   "cell_type": "markdown",
   "metadata": {
    "deletable": true,
    "editable": true
   },
   "source": [
    "### Question 1.1.2\n",
    "Still at 7th and 42nd, Chunhua recalls that there is a magical portal that would allows her to travel to B&H on the corner of 9th Avenue and 34th Street.  Unfortunately, the portal is a kilometer's walk away (1000 meters), so she's not sure whether it's faster to take it or to just walk like she had planned.  The function `min` returns the smallest argument passed to it.  Use it to compute the *smaller* of two distances:\n",
    "1. the walking distance from 7th and 42nd to 10th and 34th, which you computed above and named `manhattan distance`; and\n",
    "2. the total distance it takes to walk to the portal and then walk the one long block from B&H at 9th and 34th to her destination at 10th and 34th.\n",
    "\n",
    "Call this `smaller_distance`."
   ]
  },
  {
   "cell_type": "code",
   "execution_count": 3,
   "metadata": {
    "collapsed": false,
    "deletable": true,
    "editable": true
   },
   "outputs": [],
   "source": [
    "smaller_distance = min(manhattan_distance, 1000 + avenue_length_m) #SOLUTION\n",
    "smaller_distance"
   ]
  },
  {
   "cell_type": "code",
   "execution_count": null,
   "metadata": {
    "collapsed": true,
    "deletable": true,
    "editable": true
   },
   "outputs": [],
   "source": [
    "_ = ok.grade('q112')\n",
    "_ = ok.backup()"
   ]
  },
  {
   "cell_type": "markdown",
   "metadata": {
    "deletable": true,
    "editable": true
   },
   "source": [
    "# 2. Understanding nested expressions\n",
    "Function calls and arithmetic expressions can themselves contain expressions.  You saw an example previously:\n",
    "\n",
    "    abs(42-34)\n",
    "\n",
    "has 2 number expressions in a subtraction expression in a function call expression.  And you probably wrote something like `abs(7-10)` to compute `num_avenues_away`.\n",
    "\n",
    "Nested expressions can turn into complicated-looking code. However, the way in which complicated expressions break down is very regular.\n",
    "\n",
    "Suppose we are interested in heights that are very unusual.  We'll say that a height is unusual to the extent that it's far away on the number line from the average human height.  [An estimate](http://press.endocrine.org/doi/full/10.1210/jcem.86.9.7875?ck=nck&) of the average adult human height (averaging, we hope, over all humans on Earth today) is 1.688 meters.\n",
    "\n",
    "So if Aditya is 1.21 meters tall, then his height is $|1.21 - 1.688|$, or $.478$, meters away from the average.  Here's a picture of that:\n",
    "\n",
    "<img src=\"numberline_0.png\">\n",
    "\n",
    "And here's how we'd write that in one line of Python code:"
   ]
  },
  {
   "cell_type": "code",
   "execution_count": null,
   "metadata": {
    "collapsed": false,
    "deletable": true,
    "editable": true
   },
   "outputs": [],
   "source": [
    "abs(1.21 - 1.688)"
   ]
  },
  {
   "cell_type": "markdown",
   "metadata": {
    "deletable": true,
    "editable": true
   },
   "source": [
    "What's going on here?  `abs` takes just one argument, so the stuff inside the parentheses is all part of that *single argument*.  Specifically, the argument is the value of the expression `1.21 - 1.688`.  The value of that expression is `-.478`.  That value is the argument to `abs`.  The absolute value of that is `.478`, so `.478` is the value of the full expression `abs(1.21 - 1.688)`.\n",
    "\n",
    "Picture simplifying the expression in several steps:\n",
    "\n",
    "1. `abs(1.21 - 1.688)`\n",
    "2. `abs(-.478)`\n",
    "3. `.478`\n",
    "\n",
    "In fact, that's basically what Python does to compute the value of the expression."
   ]
  },
  {
   "cell_type": "markdown",
   "metadata": {
    "deletable": true,
    "editable": true
   },
   "source": [
    "### Question 2.1\n",
    "Say that Botan's height is 1.85 meters.  In the next cell, use `abs` to compute the absolute value of the difference between Botan's height and the average human height.  Give that value the name `botan_distance_from_average_m`.\n",
    "\n",
    "<img src=\"numberline_1.png\">"
   ]
  },
  {
   "cell_type": "code",
   "execution_count": null,
   "metadata": {
    "collapsed": false,
    "deletable": true,
    "editable": true
   },
   "outputs": [],
   "source": [
    "# Replace the ... with an expression to compute the absolute\n",
    "# value of the difference between Botan's height (1.85m) and\n",
    "# the average human height.\n",
    "botan_distance_from_average_m = abs(1.85 - 1.688) # SOLUTION\n",
    "\n",
    "# Again, we've written this here so that the distance you\n",
    "# compute will get printed when you run this cell.\n",
    "botan_distance_from_average_m"
   ]
  },
  {
   "cell_type": "code",
   "execution_count": null,
   "metadata": {
    "collapsed": false,
    "deletable": true,
    "editable": true
   },
   "outputs": [],
   "source": [
    "_ = ok.grade('q21')\n",
    "_ = ok.backup()"
   ]
  },
  {
   "cell_type": "markdown",
   "metadata": {
    "deletable": true,
    "editable": true
   },
   "source": [
    "## 2.1. More nesting\n",
    "Now say that we want to compute the most unusual height among Aditya's and Botan's heights.  We'll use the function `max`, which (again) takes two numbers as arguments and returns the larger of the two arguments.  Combining that with the `abs` function, we can compute the biggest distance from the average among the two heights:"
   ]
  },
  {
   "cell_type": "code",
   "execution_count": null,
   "metadata": {
    "collapsed": false,
    "deletable": true,
    "editable": true
   },
   "outputs": [],
   "source": [
    "# Just read and run this cell.\n",
    "\n",
    "aditya_height_m = 1.21\n",
    "botan_height_m = 1.85\n",
    "average_adult_human_height_m = 1.688\n",
    "\n",
    "# The biggest distance from the average human height, among the two heights:\n",
    "biggest_distance_m = max(abs(aditya_height_m - average_adult_human_height_m), abs(botan_height_m - average_adult_human_height_m))\n",
    "\n",
    "# Print out our results in a nice readable format:\n",
    "print(\"The biggest distance from the average height among these two people is\", biggest_distance_m, \"meters.\")"
   ]
  },
  {
   "cell_type": "markdown",
   "metadata": {
    "deletable": true,
    "editable": true
   },
   "source": [
    "The line where `biggest_distance_m` is computed looks complicated, but we can break it down into simpler components just like we did before.\n",
    "\n",
    "The basic recipe is repeated simplification of small parts of the expression:\n",
    "* We start with the simplest components whose values we know, like plain names or numbers.  (Examples: `aditya_height_m` or `5`.)\n",
    "* **Find a simple-enough group of expressions:** We look for a group of simple expressions that are directly connected to each other in the code, for example by arithmetic or as arguments to a function call.\n",
    "* **Evaluate that group:** We evaluate the arithmetic expressions or function calls they're part of, and replace the whole group with whatever we compute.  (Example: `aditya_height_m - average_adult_human_height_m` becomes `-.478`.)\n",
    "* **Repeat:** We continue this process, using the values of the glommed-together stuff as our new basic components.  (Example: `abs(-.478)` becomes `.478`, and `max(.478, .162)` later becomes `.478`.)\n",
    "* We keep doing that until we've evaluated the whole expression.\n",
    "\n",
    "You can run the next cell to see a slideshow of that process."
   ]
  },
  {
   "cell_type": "code",
   "execution_count": null,
   "metadata": {
    "collapsed": false,
    "deletable": true,
    "editable": true
   },
   "outputs": [],
   "source": [
    "from IPython.display import IFrame\n",
    "IFrame('https://docs.google.com/presentation/d/1urkX-nRsD8VJvcOnJsjmCy0Jpv752Ssn5Pphg2sMC-0/embed?start=false&loop=false&delayms=3000', 800, 600)"
   ]
  },
  {
   "cell_type": "markdown",
   "metadata": {
    "deletable": true,
    "editable": true
   },
   "source": [
    "Ok, your turn. \n",
    "\n",
    "### Question 2.1.1\n",
    "Given the heights of the [Splash Triplets](https://www.youtube.com/watch?v=KGlJNrkw7uQ) from the Golden State Warriors, write an expression that computes the smallest difference between any of the three heights. Your expression shouldn't have any numbers in it, only function calls and the names `klay`, `steph`, and `kevin`. Give the value of your expression the name `min_height_difference`."
   ]
  },
  {
   "cell_type": "code",
   "execution_count": 2,
   "metadata": {
    "collapsed": false,
    "deletable": true,
    "editable": true
   },
   "outputs": [],
   "source": [
    "# The three players' heights, in meters:\n",
    "klay =  2.01 # Klay Thompson is 6'7\"\n",
    "steph = 1.91 # Steph Curry is 6'3\"\n",
    "kevin = 2.06 # Kevin Durant is officially 6'9\", but many suspect that he is taller.\n",
    "             # (Further complicating matters, membership of the \"Splash Triplets\" \n",
    "             #  is disputed, since it was originally used in reference to \n",
    "             #  Klay Thompson, Steph Curry, and Draymond Green.)\n",
    "\n",
    "# We'd like to look at all 3 pairs of heights, compute the absolute\n",
    "# difference between each pair, and then find the smallest of those\n",
    "# 3 absolute differences.  This is left to you!\n",
    "# \n",
    "# If you're stuck, try computing the value for each step of the process\n",
    "# (like the difference between Klay's heigh and Steph's height) on a\n",
    "# separate line and giving it a name (like klay_steph_height_diff).\n",
    "min_height_difference = min(abs(klay-steph), abs(klay-kevin), abs(steph-kevin)) # SOLUTION\n",
    "min_height_difference"
   ]
  },
  {
   "cell_type": "code",
   "execution_count": null,
   "metadata": {
    "collapsed": false,
    "deletable": true,
    "editable": true
   },
   "outputs": [],
   "source": [
    "_ = ok.grade('q211')\n",
    "_ = ok.backup()"
   ]
  },
  {
   "cell_type": "markdown",
   "metadata": {
    "deletable": true,
    "editable": true
   },
   "source": [
    "## 2.2. Expressions without values\n",
    "A function call expression often has a value; for example, the Python expression `max(2, 3)` has value 3 and is equivalent to writing the Python expression `3`.  However, some function call expressions *cause something to happen* rather than *having a value*.  You have seen one such expression before: calls to `print`:"
   ]
  },
  {
   "cell_type": "code",
   "execution_count": 5,
   "metadata": {
    "collapsed": false,
    "deletable": true,
    "editable": true
   },
   "outputs": [],
   "source": [
    "# print can print more than just text - it can also print numbers:\n",
    "print(-5)"
   ]
  },
  {
   "cell_type": "markdown",
   "metadata": {
    "deletable": true,
    "editable": true
   },
   "source": [
    "When you run that cell, the number -5 is printed, but notice that there is no `Out[X]` next to the -5.  If the last line of a cell has a value, the notebook always prints it, along with `Out[X]`.  In this case, `print(-5)` has no value, so the notebook doesn't print anything.  Instead, `-5` is printed because calling `print` causes it to happen directly.\n",
    "\n",
    "For the same reason, if we try to use `print(5)` as part of a nested expression, we get an error!"
   ]
  },
  {
   "cell_type": "code",
   "execution_count": 6,
   "metadata": {
    "collapsed": false,
    "deletable": true,
    "editable": true
   },
   "outputs": [],
   "source": [
    "abs(print(-5))"
   ]
  },
  {
   "cell_type": "markdown",
   "metadata": {
    "deletable": true,
    "editable": true
   },
   "source": [
    "### Question 2.2.1\n",
    "Use the cells below to experimentally answer the following questions:\n",
    "1. Can you use a function call expression as an *argument* to `print`?\n",
    "2. If you assign a name to the value of a call to `print`, is there an error?  Does that name have a value?  Does printing still happen?\n",
    "3. Can a cell have both `Out[X]` output and printed outputs?"
   ]
  },
  {
   "cell_type": "code",
   "execution_count": 2,
   "metadata": {
    "collapsed": false,
    "deletable": true,
    "editable": true
   },
   "outputs": [],
   "source": [
    "print(abs(-5)) #SOLUTION"
   ]
  },
  {
   "cell_type": "code",
   "execution_count": 3,
   "metadata": {
    "collapsed": false,
    "deletable": true,
    "editable": true
   },
   "outputs": [],
   "source": [
    "x = print(-5) #SOLUTION\n",
    "x #SOLUTION"
   ]
  },
  {
   "cell_type": "code",
   "execution_count": 4,
   "metadata": {
    "collapsed": false,
    "deletable": true,
    "editable": true
   },
   "outputs": [],
   "source": [
    "print(\"foo\") #SOLUTION\n",
    "\"bar\" #SOLUTION"
   ]
  },
  {
   "cell_type": "markdown",
   "metadata": {
    "deletable": true,
    "editable": true
   },
   "source": [
    "We strongly recommend discussing your findings with a TA or a neighbor."
   ]
  },
  {
   "cell_type": "markdown",
   "metadata": {
    "deletable": true,
    "editable": true
   },
   "source": [
    "**SOLUTION:** 1: Yes.  2: There is no error, but the name doesn't have a value!  Printing still happens.  3: Yes."
   ]
  },
  {
   "cell_type": "markdown",
   "metadata": {
    "deletable": true,
    "editable": true
   },
   "source": [
    "## 3. Plots\n",
    "An important way we use function calls in Python is to produce plots.  We have provided a special plotting function for this lab: `draw_scatter_chart`.  Like `max` or `min`, it takes several arguments.  In fact, you can call `draw_scatter_chart` with 0, 2, 4, or *any even number* of arguments.\n",
    "\n",
    "***Note:*** `draw_scatter_chart` is specific to this lab.  You will soon learn more useful ways to make plots."
   ]
  },
  {
   "cell_type": "markdown",
   "metadata": {
    "deletable": true,
    "editable": true
   },
   "source": [
    "### Question 3.1\n",
    "Figure out how `draw_scatter_chart` works by calling it and seeing what happens.  Use it to replicate the following plot:\n",
    "![A scatter plot with points at (7,42) and (10,34).](plot.png)"
   ]
  },
  {
   "cell_type": "code",
   "execution_count": 10,
   "metadata": {
    "collapsed": false,
    "deletable": true,
    "editable": true,
    "scrolled": true
   },
   "outputs": [],
   "source": [
    "draw_scatter_chart(7, 42, 10, 34) #SOLUTION"
   ]
  },
  {
   "cell_type": "markdown",
   "metadata": {
    "deletable": true,
    "editable": true
   },
   "source": [
    "## 4. Software engineering\n",
    "*Software engineering* is the discipline of getting computers to do what we want.  That means you are engaged in software engineering whenever you write code.\n",
    "\n",
    "Most useful pieces of software become very long, involving thousands or millions of lines of code.  Large software is notoriously difficult to manage.  Software engineers have created tools and practices to make it easier, though the discipline is still young and rapidly-changing.\n",
    "\n",
    "You have already seen one basic software engineering tool: the comment.  Recall that a comment is a piece of code that starts with a `#`.  Anything in a line after a `#` symbol is ignored by Python, so you can write whatever you want."
   ]
  },
  {
   "cell_type": "markdown",
   "metadata": {
    "deletable": true,
    "editable": true
   },
   "source": [
    "### Question 4.1\n",
    "To practice, add a comment to your answer to question 3.1.  Since `draw_scatter_chart` is a little mysterious, your comment should help anyone understand what your call does.  Traditionally, comments go on their own line *above* the lines of code they explain."
   ]
  },
  {
   "cell_type": "markdown",
   "metadata": {
    "deletable": true,
    "editable": true
   },
   "source": [
    "Another basic tool you've seen is the *error message*.  When you run a piece of code that has a problem, Python will often try to help you figure it out by displaying information about the problem.  These error messages are often difficult to understand, so learning how to interpret them is an important skill."
   ]
  },
  {
   "cell_type": "markdown",
   "metadata": {
    "deletable": true,
    "editable": true
   },
   "source": [
    "### Question 4.2\n",
    "The cell below has an error.  Run it to see the error message.  The error message will be somewhat cryptic.  Find and fix the error, and then figure out what the message was trying to tell you."
   ]
  },
  {
   "cell_type": "code",
   "execution_count": 12,
   "metadata": {
    "collapsed": false,
    "deletable": true,
    "editable": true
   },
   "outputs": [],
   "source": [
    "from math import cos, sin\n",
    "draw_scatter_chart(\n",
    "    cos(0/4), sin(0/4),\n",
    "    cos(1/4), sin(1/4),\n",
    "    cos(2/4), sin(2/4),\n",
    "    cos(3/4), sin(3/4),\n",
    "    cos(4/4), sin(4/4),\n",
    "    cos(5/4), sin(5/4),\n",
    "    cos(6/4), sin(6/4)"
   ]
  },
  {
   "cell_type": "markdown",
   "metadata": {
    "deletable": true,
    "editable": true
   },
   "source": [
    "### Question 4.3\n",
    "As above, find and fix the error, and then figure out what the message was trying to tell you.  This cell uses a *string*, which is the Python representation of text.  You saw strings briefly in the previous lab."
   ]
  },
  {
   "cell_type": "code",
   "execution_count": 19,
   "metadata": {
    "collapsed": false,
    "deletable": true,
    "editable": true
   },
   "outputs": [],
   "source": [
    "print(\"This is the song that doesn't end.)\n",
    "print(\"Yes, it goes on and on, my friend.\")"
   ]
  },
  {
   "cell_type": "markdown",
   "metadata": {
    "deletable": true,
    "editable": true
   },
   "source": [
    "### Question 4.4\n",
    "As above, find and fix the error, and then figure out what the message was trying to tell you."
   ]
  },
  {
   "cell_type": "code",
   "execution_count": 20,
   "metadata": {
    "collapsed": false,
    "deletable": true,
    "editable": true,
    "scrolled": true
   },
   "outputs": [],
   "source": [
    "draw_scatter_chart(0, 1, 2)"
   ]
  },
  {
   "cell_type": "markdown",
   "metadata": {
    "deletable": true,
    "editable": true
   },
   "source": [
    "You're done with this lab!  Be sure to run the tests and verify that they all pass, then choose **Save and Checkpoint** from the **File** menu, then run the final cell (two below this one) to submit your work.  If you submit multiple times, your last submission will be counted."
   ]
  },
  {
   "cell_type": "code",
   "execution_count": null,
   "metadata": {
    "collapsed": false,
    "deletable": true,
    "editable": true
   },
   "outputs": [],
   "source": [
    "# For your convenience, you can run this cell to run all the tests at once.\n",
    "_ = ok.grade_all()"
   ]
  },
  {
   "cell_type": "markdown",
   "metadata": {
    "deletable": true,
    "editable": true
   },
   "source": [
    "**Important.** Before you leave lab, run this final cell to submit your work."
   ]
  },
  {
   "cell_type": "code",
   "execution_count": null,
   "metadata": {
    "collapsed": true,
    "deletable": true,
    "editable": true
   },
   "outputs": [],
   "source": [
    "_ = ok.submit()"
   ]
  }
 ],
 "metadata": {
  "anaconda-cloud": {},
  "kernelspec": {
   "display_name": "Python 3",
   "language": "python",
   "name": "python3"
  },
  "language_info": {
   "codemirror_mode": {
    "name": "ipython",
    "version": 3
   },
   "file_extension": ".py",
   "mimetype": "text/x-python",
   "name": "python",
   "nbconvert_exporter": "python",
   "pygments_lexer": "ipython3",
   "version": "3.5.1"
  }
 },
 "nbformat": 4,
 "nbformat_minor": 0
}
