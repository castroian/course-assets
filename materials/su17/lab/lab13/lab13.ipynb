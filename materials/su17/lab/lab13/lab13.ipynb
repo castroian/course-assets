{
 "cells": [
  {
   "cell_type": "markdown",
   "metadata": {},
   "source": [
    "# Lab 13\n",
    "Welcome to Lab 13! In lecture, we've been talking about how we can use random sampling to test hypotheses about the world. In this lab, we will focus just on simulating random sampling as a way of understanding the world, rather than for the purposes of testing hypotheses. More information about randomness in the textbook can be found [here.](https://data-8r.gitbooks.io/textbook/chapters/08/randomness.html)"
   ]
  },
  {
   "cell_type": "code",
   "execution_count": 1,
   "metadata": {
    "collapsed": false
   },
   "outputs": [],
   "source": [
    "# Run this cell, but please don't change it.\n",
    "\n",
    "# These lines import the Numpy and Datascience modules.\n",
    "import numpy as np\n",
    "from datascience import *\n",
    "\n",
    "# These lines do some fancy plotting magic\n",
    "import matplotlib\n",
    "%matplotlib inline\n",
    "import matplotlib.pyplot as plots\n",
    "plots.style.use('fivethirtyeight')\n",
    "\n",
    "# Don't change this cell; just run it. \n",
    "from client.api.notebook import Notebook\n",
    "ok = Notebook('lab13.ok')\n",
    "_ = ok.auth(inline=True)"
   ]
  },
  {
   "cell_type": "markdown",
   "metadata": {},
   "source": [
    "## Dungeons and Dragons and Sampling\n",
    "In the game Dungeons & Dragons, each player plays the role of a fantasy character.\n",
    "\n",
    "A player performs actions by:\n",
    "1. rolling a 20-sided die, getting an integer between 1 and 20,\n",
    "2. adding a \"modifier\" number to the roll,\n",
    "3. and comparing the total to a threshold for success.\n",
    "\n",
    "The modifier depends on her character's competence in performing the action.\n",
    "\n",
    "For example, suppose Alice's character, a barbarian warrior named Roga, is trying to knock down a heavy door.  She rolls a 20-sided die, adds a modifier of 11 to the result (because her character is good at knocking down doors), and succeeds if the total is greater than 15.\n",
    "\n",
    "** Question 1 ** Write code that simulates steps 1 and 2.  Compute two values: the result of Alice's roll (`roll_result`), and the result of her roll plus Roga's modifier (`modified_result`).  **Do not fill in any of the results manually**; the entire simulation should happen in code."
   ]
  },
  {
   "cell_type": "code",
   "execution_count": 2,
   "metadata": {
    "collapsed": false,
    "for_assignment_type": "student"
   },
   "outputs": [],
   "source": [
    "# A table containing the possible rolls of a 20-sided die.\n",
    "possible_rolls_table = Table().with_columns(\n",
    "    \"Roll\",\n",
    "    ...\n",
    ")\n",
    "# A table containing the results of a single sample from possible_rolls_table.\n",
    "roll_results_table = ...\n",
    "# The roll in the table above.\n",
    "roll_result = ...\n",
    "# The modified roll.\n",
    "modified_result = ...\n",
    "\n",
    "# The next line just prints out your results in a nice way\n",
    "# once you're done.  You can delete it if you want.\n",
    "print(\"On a modified roll of {:d}, Alice's action {}.\".format(modified_result, \"succeeded\" if modified_result > 15 else \"failed\"))"
   ]
  },
  {
   "cell_type": "code",
   "execution_count": 3,
   "metadata": {
    "collapsed": false,
    "scrolled": true
   },
   "outputs": [],
   "source": [
    "_ = ok.grade('q1')"
   ]
  },
  {
   "cell_type": "markdown",
   "metadata": {},
   "source": [
    "** Question 2 ** Run your cell 7 times.  You should get different results for most of your runs.  Count the fraction of times Alice succeeds at her action in your 7 runs, and report that number below. Your answer should be a fraction that you write in manually."
   ]
  },
  {
   "cell_type": "code",
   "execution_count": 4,
   "metadata": {
    "collapsed": true
   },
   "outputs": [],
   "source": [
    "rough_success_chance = ..."
   ]
  },
  {
   "cell_type": "code",
   "execution_count": 5,
   "metadata": {
    "collapsed": false
   },
   "outputs": [],
   "source": [
    "_ = ok.grade('q2')"
   ]
  },
  {
   "cell_type": "markdown",
   "metadata": {},
   "source": [
    "When we roll a die, the faces that come up don't disappear.  It's possible to roll a face multiple times.  This means we sample *with replacement* from a die.\n",
    "\n",
    "**Question 3** Try running the cell below a few times.  *Describe what it does*."
   ]
  },
  {
   "cell_type": "code",
   "execution_count": 6,
   "metadata": {
    "collapsed": false
   },
   "outputs": [],
   "source": [
    "possible_rolls_table.sample(7, with_replacement=True)"
   ]
  },
  {
   "cell_type": "markdown",
   "metadata": {},
   "source": [
    "*Write your answer here, replacing this text.*"
   ]
  },
  {
   "cell_type": "markdown",
   "metadata": {},
   "source": [
    "**Question 4** Write a function called `simulate_modified_rolls`.  It should take a number of rolls as its argument.  It should return a *table* with one column named `\"Result\"` and one row per roll.  Each element should be a modified roll from a separate simulation, in which a die is rolled and then the modifier 11 is added to it.\n",
    "\n",
    "**Note:** Before, we were sampling 1 time (in question 1) or 7 times (in questions 2-3).  Now, the number of samples is an argument to our function."
   ]
  },
  {
   "cell_type": "code",
   "execution_count": 7,
   "metadata": {
    "collapsed": true
   },
   "outputs": [],
   "source": [
    "def simulate_modified_rolls(num_rolls):\n",
    "    rolls = ...\n",
    "    ..."
   ]
  },
  {
   "cell_type": "code",
   "execution_count": 8,
   "metadata": {
    "collapsed": false
   },
   "outputs": [],
   "source": [
    "_ = ok.grade('q4')"
   ]
  },
  {
   "cell_type": "markdown",
   "metadata": {},
   "source": [
    "**Question 5** Simulate 1,000 modified die rolls and make a histogram of the results.  *Be sure to use sensible bins.*"
   ]
  },
  {
   "cell_type": "code",
   "execution_count": 9,
   "metadata": {
    "collapsed": false
   },
   "outputs": [],
   "source": [
    "..."
   ]
  },
  {
   "cell_type": "markdown",
   "metadata": {},
   "source": [
    "**Question 6** Simulate 1,000,000 modified die rolls and make a histogram of the results."
   ]
  },
  {
   "cell_type": "code",
   "execution_count": 10,
   "metadata": {
    "collapsed": false
   },
   "outputs": [],
   "source": [
    "..."
   ]
  },
  {
   "cell_type": "markdown",
   "metadata": {},
   "source": [
    "**Question 7** How would you summarize the distribution of these modified rolls?"
   ]
  },
  {
   "cell_type": "markdown",
   "metadata": {},
   "source": [
    "*Write your answer here, replacing this text.*"
   ]
  },
  {
   "cell_type": "markdown",
   "metadata": {},
   "source": [
    "**Question 8** Write a function called `proportion_simulated_successes`.  It should take a number of rolls as its argument.  It should simulate that many rolls of the die, modify each roll by adding 11, and then return the *proportion of successes*.  (A modified roll is a success if it's above 15.)"
   ]
  },
  {
   "cell_type": "code",
   "execution_count": 11,
   "metadata": {
    "collapsed": true
   },
   "outputs": [],
   "source": [
    "def proportion_simulated_successes(num_rolls):\n",
    "    # The staff solution defined a table called simulated_rolls,\n",
    "    # but you don't have to.\n",
    "    simulated_rolls = ...\n",
    "    ..."
   ]
  },
  {
   "cell_type": "code",
   "execution_count": 12,
   "metadata": {
    "collapsed": false
   },
   "outputs": [],
   "source": [
    "_ = ok.grade('q8')"
   ]
  },
  {
   "cell_type": "markdown",
   "metadata": {},
   "source": [
    "**Question 9** Try out your function by rolling 100,000 simulated dice a few times."
   ]
  },
  {
   "cell_type": "code",
   "execution_count": 13,
   "metadata": {
    "collapsed": false
   },
   "outputs": [],
   "source": [
    "proportion_success = ...\n",
    "proportion_success"
   ]
  },
  {
   "cell_type": "code",
   "execution_count": 14,
   "metadata": {
    "collapsed": false
   },
   "outputs": [],
   "source": [
    "_ = ok.grade('q9')"
   ]
  },
  {
   "cell_type": "markdown",
   "metadata": {},
   "source": [
    "**Question 10** What do you think is the true chance of Alice's action succeeding?"
   ]
  },
  {
   "cell_type": "markdown",
   "metadata": {},
   "source": [
    "*Write your answer here, replacing this text.*"
   ]
  },
  {
   "cell_type": "code",
   "execution_count": 15,
   "metadata": {
    "collapsed": false
   },
   "outputs": [],
   "source": [
    "# For your convenience, you can run this cell to run all the tests at once.\n",
    "_ = ok.grade_all()"
   ]
  },
  {
   "cell_type": "code",
   "execution_count": 16,
   "metadata": {
    "collapsed": false
   },
   "outputs": [],
   "source": [
    "_ = ok.submit()"
   ]
  }
 ],
 "metadata": {
  "anaconda-cloud": {},
  "kernelspec": {
   "display_name": "Python [Root]",
   "language": "python",
   "name": "Python [Root]"
  },
  "language_info": {
   "codemirror_mode": {
    "name": "ipython",
    "version": 3
   },
   "file_extension": ".py",
   "mimetype": "text/x-python",
   "name": "python",
   "nbconvert_exporter": "python",
   "pygments_lexer": "ipython3",
   "version": "3.5.2"
  }
 },
 "nbformat": 4,
 "nbformat_minor": 1
}

