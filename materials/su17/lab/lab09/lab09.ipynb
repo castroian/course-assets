{
 "cells": [
  {
   "cell_type": "markdown",
   "metadata": {},
   "source": [
    "# Lab 9: Tables and Visualizing Distributions\n",
    "\n",
    "Welcome to lab 9!  This week, we'll learn about *tables*, which let us work with multiple arrays of data about the same thing, and we'll learn about *histograms* a way to visualize distributions. \n",
    "\n",
    "First, set up the tests and imports by running the cell below."
   ]
  },
  {
   "cell_type": "code",
   "execution_count": 14,
   "metadata": {
    "scrolled": true
   },
   "outputs": [],
   "source": [
    "import numpy as np\n",
    "from datascience import *\n",
    "\n",
    "%matplotlib inline\n",
    "import matplotlib.pyplot as plt\n",
    "plt.style.use('fivethirtyeight')\n",
    "\n",
    "# These lines load the tests.\n",
    "from client.api.notebook import Notebook\n",
    "ok = Notebook('lab09.ok')\n",
    "_ = ok.auth(inline=True)"
   ]
  },
  {
   "cell_type": "markdown",
   "metadata": {},
   "source": [
    "## 1. Histogram Review\n",
    "\n",
    "Note: This question is from last week's lab.\n",
    "\n",
    "We measure the heights of the members of 200 families that each included 1 mother, 1 father, and some varying number of adult sons. We make the following histograms, with all bins being two inches wide.\n",
    "\n",
    "![](three_height_histograms.png)"
   ]
  },
  {
   "cell_type": "markdown",
   "metadata": {},
   "source": [
    "#### Question 1\n",
    "\n",
    "For each quantity listed below, either calculate its value using the histograms, or write *Unknown* if it is not possible to calculate the value numerically given the information we have.\n",
    "1. The **percentage** of mothers that are at least 60 inches but less than 64 inches tall.\n",
    "2. The **percentage** of fathers that are at least 64 inches but less than 67 inches tall.\n",
    "3. The **number** of mothers that are at least 60 inches tall.\n",
    "4. The **number** of sons that are at least 70 inches tall."
   ]
  },
  {
   "cell_type": "markdown",
   "metadata": {},
   "source": [
    "*Write your answer here, replacing this text.*"
   ]
  },
  {
   "cell_type": "markdown",
   "metadata": {},
   "source": [
    "## 2. Modifying Tables\n",
    "\n",
    "Tables are very useful for storing data. However, sometimes, we may have too much data - therefore, we need to select what data we want. \n",
    "\n",
    "We can use the `select` method to select what columns we want. `.select` takes the labels of columns as inputs. For example, the farmers_markets table has a lot of data. "
   ]
  },
  {
   "cell_type": "code",
   "execution_count": 15,
   "metadata": {
    "scrolled": true
   },
   "outputs": [],
   "source": [
    "farmers_markets = Table.read_table(\"farmers_markets.csv\")\n",
    "farmers_markets"
   ]
  },
  {
   "cell_type": "markdown",
   "metadata": {},
   "source": [
    "If I only want to see whether a farmer's market has tofu, pet food, and grains, I can do that by using `select`:"
   ]
  },
  {
   "cell_type": "code",
   "execution_count": 16,
   "metadata": {},
   "outputs": [],
   "source": [
    "farmers_markets.select(\"Tofu\", \"PetFood\", \"Grains\")"
   ]
  },
  {
   "cell_type": "markdown",
   "metadata": {},
   "source": [
    "Suppose that we have a table of data about hate crimes among the 50 states, and we want to compare the number of hate crimes versus the population in that state that has a high school degree. "
   ]
  },
  {
   "cell_type": "code",
   "execution_count": 17,
   "metadata": {
    "scrolled": true
   },
   "outputs": [],
   "source": [
    "hate_url = \"https://github.com/fivethirtyeight/data/raw/master/hate-crimes/hate_crimes.csv\"\n",
    "hate_crimes = Table.read_table(hate_url)\n",
    "hate_crimes"
   ]
  },
  {
   "cell_type": "markdown",
   "metadata": {},
   "source": [
    "#### Question 2\n",
    "Create a table from `hate_crimes` that includes four columns: `share_pop_with_high_school_degree`, `gini_index`, `hate_crimes_per_100k_splc`, and `avg_hatecrimes_per_100k_fbi`. You can do this with `select` function! (You might have to explore the table to see what columns to select.)\n",
    "\n",
    "(Note: The gini index is a measure of income inequality)"
   ]
  },
  {
   "cell_type": "code",
   "execution_count": 18,
   "metadata": {
    "scrolled": true
   },
   "outputs": [],
   "source": [
    "hsdegree_vs_hcrimes = ...\n",
    "hsdegree_vs_hcrimes"
   ]
  },
  {
   "cell_type": "code",
   "execution_count": 19,
   "metadata": {},
   "outputs": [],
   "source": [
    "_ = ok.grade(\"q2\")"
   ]
  },
  {
   "cell_type": "markdown",
   "metadata": {},
   "source": [
    "You may have noticed that that the titles of these columns have a lot of underscores. Lets relabel them! We can use the `relabel` method, which takes in two arguments - one that specifies which column we're trying to relabel, and another one that specifies the new name."
   ]
  },
  {
   "cell_type": "markdown",
   "metadata": {},
   "source": [
    "#### Question 3\n",
    "Let's relabel the first column to  `Population Share with a high school degree`, the second column to `gini index`,the third column to `Hate Crimes per 100k, SPLC`, and the fourth column to `Hate Crimes per 100k, FBI`."
   ]
  },
  {
   "cell_type": "code",
   "execution_count": 20,
   "metadata": {
    "collapsed": true,
    "for_assignment_type": "student"
   },
   "outputs": [],
   "source": [
    "#Relabel the columns here!\n",
    "...\n",
    "...\n",
    "...\n",
    "..."
   ]
  },
  {
   "cell_type": "code",
   "execution_count": 22,
   "metadata": {},
   "outputs": [],
   "source": [
    "_ = ok.grade(\"q3\")"
   ]
  },
  {
   "cell_type": "markdown",
   "metadata": {},
   "source": [
    "#### Question 4: Dropping Columns\n",
    "\n",
    "In order to get rid of columns we can use the `.drop` method. `.drop` takes column names as inputs and removes them from the specified table. \n",
    "\n",
    "Graph four scatter plots: the population share with a high school degree versus the SPLC data on hate crimes, population share versus FBI data, gini index versus SPLC data, and gini index versus FBI data.\n",
    "\n",
    "Check with your TA or neighbors to make sure that you've got the right plots."
   ]
  },
  {
   "cell_type": "code",
   "execution_count": 23,
   "metadata": {},
   "outputs": [],
   "source": [
    "#Make the tables here:\n",
    "pop_versus_splc = ...\n",
    "pop_versus_fbi = ...\n",
    "gini_versus_splc = ...\n",
    "gini_versus_fbi = ...\n",
    "\n",
    "#Make the scatter plots here!\n",
    "...\n",
    "...\n",
    "...\n",
    "..."
   ]
  },
  {
   "cell_type": "markdown",
   "metadata": {},
   "source": [
    "## 3. Filtering Tables\n",
    "\n",
    "We explored the entirety of the previous data set. But what if we wanted to explore a smaller portion of a larger set of data? We can use the `.where` method, which takes two arguments, the column label to filter and the method to filter the values with. "
   ]
  },
  {
   "cell_type": "markdown",
   "metadata": {},
   "source": [
    "For example, if we remember the farmer's markets from part 1, suppose that we only want to see the farmer's markets that sell wine:"
   ]
  },
  {
   "cell_type": "code",
   "execution_count": 24,
   "metadata": {},
   "outputs": [],
   "source": [
    "farmers_markets.where(\"Wine\", are.equal_to(\"Y\"))"
   ]
  },
  {
   "cell_type": "markdown",
   "metadata": {},
   "source": [
    "The `are` method is used to pick and choose rows. The `.equal_to` are method selects rows that equal a certain value, which in our case was the string Y. \n",
    "\n",
    "Other `are` methods include: `are.below` which selects rows that are below some value, `are.above`, which selects rows that are above some values, `are.above_or_equal_to`, `are.below_or_equal_to`, `are.between`, and `are.not_above`, etc. "
   ]
  },
  {
   "cell_type": "markdown",
   "metadata": {},
   "source": [
    "The US National Oceanic and Atmospheric Administration (NOAA) operates thousands of climate observation stations (mostly in the US) that collect information about local climate.  Among other things, each station records the highest and lowest observed temperature each day.  These data, called \"Quality Controlled Local Climatological Data,\" are publicly available [here](http://www.ncdc.noaa.gov/orders/qclcd/) and described [here](https://www.ncdc.noaa.gov/data-access/land-based-station-data/land-based-datasets/quality-controlled-local-climatological-data-qclcd).\n",
    "\n",
    "We've provided you with an excerpt of that dataset.  All the readings are from 2015 and from California stations.\n"
   ]
  },
  {
   "cell_type": "code",
   "execution_count": 25,
   "metadata": {
    "scrolled": true
   },
   "outputs": [],
   "source": [
    "temperatures = Table.read_table(\"temperatures.csv\")\n",
    "temperatures"
   ]
  },
  {
   "cell_type": "markdown",
   "metadata": {},
   "source": [
    "**Question 5.** Each station is named for the city in which it resides.  Is there a station in Berkeley?  Write code to help you answer the question in the next cell, and then write your answer in the cell after that, along with **an English explanation** of what your code does.\n",
    "\n",
    "*Hint:* Use the Table method `.where`. Which Column should you filter? Explore the Table!"
   ]
  },
  {
   "cell_type": "code",
   "execution_count": 26,
   "metadata": {},
   "outputs": [],
   "source": [
    "berkeley_readings = ...\n",
    "berkeley_readings"
   ]
  },
  {
   "cell_type": "markdown",
   "metadata": {},
   "source": [
    "*Write your answer here, replacing this text.*"
   ]
  },
  {
   "cell_type": "markdown",
   "metadata": {},
   "source": [
    "Let's find the station closest to the UC Berkeley campus.  The campus is located roughly at latitude 37.871746 and longitude -122.259030.  We'll break this down into a few steps.\n",
    "\n",
    "**Question 6.** Create a table called `with_degree_differences` that's a copy of `temperatures`, but with 2 extra columns:\n",
    "\n",
    "1. \"Latitude difference\": The difference between the latitude of the row's station and the latitude of UC Berkeley.\n",
    "2. \"Longitude difference\": The difference between the longitude of the row's station and the longitude of UC Berkeley."
   ]
  },
  {
   "cell_type": "code",
   "execution_count": 27,
   "metadata": {
    "scrolled": false
   },
   "outputs": [],
   "source": [
    "# We've provided the lat/long of UC Berkeley so you don't have to retype them:\n",
    "BERKELEY_LATITUDE = 37.871746\n",
    "BERKELEY_LONGITUDE = -122.259030\n",
    "\n",
    "with_degree_differences = ...\n",
    "    ...\n",
    "    ...\n",
    "with_degree_differences"
   ]
  },
  {
   "cell_type": "code",
   "execution_count": 28,
   "metadata": {},
   "outputs": [],
   "source": [
    "_ = ok.grade('q6')"
   ]
  },
  {
   "cell_type": "markdown",
   "metadata": {},
   "source": [
    "**Question 7.**  Degrees latitude and longitude don't correspond directly to distances, because the Earth is a sphere.  Near Berkeley, one degree latitude is [around 69 miles](https://www2.usgs.gov/faq/categories/9794/3022), and one degree longitude is around 54.6 miles.  Compute a table called `with_mile_differences` that's a copy of `with_degree_differences` with 2 extra columns:\n",
    "\n",
    "1. \"North-South difference\": The difference between UC Berkeley and the row's station along the North-South axis.  This is the difference in latitude times 69.\n",
    "2. \"East-West difference\": The difference between UC Berkeley and the row's station along the East-West axis.  This is the difference in latitude times 54.6.\n",
    "\n",
    "*Hint*: You can add columns to an existing table by calling `.with_columns` on the existing table"
   ]
  },
  {
   "cell_type": "code",
   "execution_count": 29,
   "metadata": {
    "scrolled": true
   },
   "outputs": [],
   "source": [
    "MILES_PER_DEGREE_LATITUDE = 69\n",
    "MILES_PER_DEGREE_LONGITUDE = 54.6\n",
    "with_mile_differences = ...\n",
    "    ...\n",
    "    ...\n",
    "with_mile_differences"
   ]
  },
  {
   "cell_type": "code",
   "execution_count": 30,
   "metadata": {},
   "outputs": [],
   "source": [
    "_ = ok.grade('q7')"
   ]
  },
  {
   "cell_type": "markdown",
   "metadata": {},
   "source": [
    "**Question 8.** Compute the distance from UC Berkeley to each row's station.  By the Pythagorean theorem, the distance is:\n",
    "$$\\sqrt{(\\text{North-South difference (miles)})^2 + (\\text{East-West difference (miles)})^2}$$\n",
    "\n",
    "Create a table called `with_distances` that's a copy of `with_mile_differences`, but with an extra column called \"Distance to UC Berkeley\" containing these distances.\n",
    "\n",
    "*Hint:* Use elementwise arithmetic operations to square each difference, add them, and square-root them."
   ]
  },
  {
   "cell_type": "code",
   "execution_count": 31,
   "metadata": {
    "scrolled": true
   },
   "outputs": [],
   "source": [
    "with_distances = ...\n",
    "with_distances"
   ]
  },
  {
   "cell_type": "code",
   "execution_count": 32,
   "metadata": {},
   "outputs": [],
   "source": [
    "_ = ok.grade('q8')"
   ]
  },
  {
   "cell_type": "markdown",
   "metadata": {},
   "source": [
    "**Question 9.** Sort the table by distance to find the station that's closest to Berkeley.  Find its name and assign it to `closest_station_name`."
   ]
  },
  {
   "cell_type": "code",
   "execution_count": 33,
   "metadata": {
    "scrolled": true
   },
   "outputs": [],
   "source": [
    "closest_station_name = ...\n",
    "closest_station_name"
   ]
  },
  {
   "cell_type": "code",
   "execution_count": 34,
   "metadata": {},
   "outputs": [],
   "source": [
    "_ = ok.grade('q9') "
   ]
  },
  {
   "cell_type": "markdown",
   "metadata": {},
   "source": [
    "**Question 10.** Make a table called `closest_station_readings`.  It should be a table like the original `temperatures` table, except it should contain only the rows from the station you found in the previous question.  Sort it in increasing order by date."
   ]
  },
  {
   "cell_type": "code",
   "execution_count": 35,
   "metadata": {
    "scrolled": true
   },
   "outputs": [],
   "source": [
    "closest_station_readings = ...\n",
    "\n",
    "# This prints out your whole table (with unnecessary columns removed).\n",
    "closest_station_readings.select(2, 1, 0).show()\n",
    "# This code makes a plot of the highs and lows over time in your table,\n",
    "# which is easier to read than the raw numbers.  You don't need to modify\n",
    "# this.\n",
    "closest_station_readings.scatter(2, make_array(0, 1))"
   ]
  },
  {
   "cell_type": "code",
   "execution_count": 36,
   "metadata": {},
   "outputs": [],
   "source": [
    "_ = ok.grade('q10')"
   ]
  },
  {
   "cell_type": "markdown",
   "metadata": {},
   "source": [
    "**Question 8.** From the graph, can you figure out the hottest and coldest months in 2015, in terms of average minimum temperature?  (If it looks like there's a tie, name all the months that might qualify.  If you can't answer the question from these data, explain why.)"
   ]
  },
  {
   "cell_type": "markdown",
   "metadata": {},
   "source": [
    "*Write your answer here, replacing this text.*"
   ]
  },
  {
   "cell_type": "markdown",
   "metadata": {},
   "source": [
    "## 4. Review\n",
    "\n",
    "For your reference, here's a table of the functions and methods we saw in this lab and some additional ones that you might find useful.\n",
    "\n",
    "|Name|Example|Purpose|\n",
    "|-|-|-|\n",
    "|`sort`|`tbl.sort(\"N\")`|Create a copy of a table sorted by the values in a column|\n",
    "|`where`|`tbl.where(\"N\", are.above(2))`|Create a copy of a table with only the rows that match some *predicate*|\n",
    "|`are.above`| `...are.above(2)`| Creates a table with rows that are above some value for a certain column|\n",
    "|`are.below`| `...are.below(2)`| Creates a table with rows that are below some value for a certain column|\n",
    "|`are.above_or_equal_to`| `...are.above_or_equal_to(2)`| Greater than or equal to some value|\n",
    "|`are.below_or_equal_to`| `...are.below_or_equal_to(2)`| less than or equal to some value|\n",
    "|`are.between`| `...are.between(2, 3)`| Greater than or equal to first number and less than or equal to second| \n",
    "|`are.not_equal_to`|`...are.not_equal_to(2)`| Not equal to some value|\n",
    "|`select`|`tbl.select(\"N\")`|Create a copy of a table with only some of the columns|\n",
    "|`drop`|`tbl.drop(\"2*N\")`|Create a copy of a table without some of the columns|\n",
    "|`take`|`tbl.take(np.arange(0, 6, 2))`|Create a copy of the table with only the rows whose indices are in the given array|\n",
    "|`barh`|`tbl.barh('vehicles')`|Create a bar chart with the specified column as the categories|\n",
    "\n",
    "<br/>\n",
    "\n",
    "Alright! You're finished with lab 7!  Be sure to...\n",
    "- **run all the tests** (the next cell has a shortcut for that), \n",
    "- **Save and Checkpoint** from the `File` menu,\n",
    "- **run the last cell to submit your work**,\n",
    "- and ask one of the staff members to check you off."
   ]
  },
  {
   "cell_type": "code",
   "execution_count": 37,
   "metadata": {
    "scrolled": true
   },
   "outputs": [],
   "source": [
    "# For your convenience, you can run this cell to run all the tests at once!\n",
    "import os\n",
    "_ = [ok.grade(q[:-3]) for q in os.listdir(\"tests\") if q.startswith('q')]"
   ]
  },
  {
   "cell_type": "code",
   "execution_count": 38,
   "metadata": {
    "scrolled": true
   },
   "outputs": [],
   "source": [
    "_ = ok.submit()"
   ]
  }
 ],
 "metadata": {
  "anaconda-cloud": {},
  "kernelspec": {
   "display_name": "Python 3",
   "language": "python",
   "name": "python3"
  },
  "language_info": {
   "codemirror_mode": {
    "name": "ipython",
    "version": 3
   },
   "file_extension": ".py",
   "mimetype": "text/x-python",
   "name": "python",
   "nbconvert_exporter": "python",
   "pygments_lexer": "ipython3",
   "version": "3.6.1"
  }
 },
 "nbformat": 4,
 "nbformat_minor": 1
}

