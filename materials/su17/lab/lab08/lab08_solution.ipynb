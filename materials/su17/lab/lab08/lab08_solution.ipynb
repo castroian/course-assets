{
 "cells": [
  {
   "cell_type": "markdown",
   "metadata": {},
   "source": [
    "## Intro to Histograms\n",
    "\n",
    "Welcome to Lab 8! In this lab, we'll be reviewing usage of tables, and learning how to create and analyze histograms."
   ]
  },
  {
   "cell_type": "code",
   "execution_count": 1,
   "metadata": {},
   "outputs": [],
   "source": [
    "# Run this cell, but please don't change it.\n",
    "\n",
    "# These lines import the Numpy and Datascience modules.\n",
    "import numpy as np\n",
    "from datascience import *\n",
    "\n",
    "# These lines do some fancy plotting magic\n",
    "import matplotlib\n",
    "%matplotlib inline\n",
    "import matplotlib.pyplot as plt\n",
    "plt.style.use('fivethirtyeight')\n",
    "import warnings\n",
    "warnings.simplefilter('ignore', FutureWarning)\n",
    "from matplotlib import patches\n",
    "from ipywidgets import interact, interactive, fixed\n",
    "import ipywidgets as widgets\n",
    "\n",
    "# These lines load the tests.\n",
    "from client.api.notebook import Notebook\n",
    "ok = Notebook('lab08.ok')\n",
    "_ = ok.auth(inline=True)"
   ]
  },
  {
   "cell_type": "markdown",
   "metadata": {},
   "source": [
    "## Review of Tables\n",
    "\n",
    "To get started, let's review what we know about working with tables. The table `twins` has a row for each pair of twins, containing the height of the two twins in inches. Run the cell below to see the table."
   ]
  },
  {
   "cell_type": "code",
   "execution_count": 2,
   "metadata": {},
   "outputs": [],
   "source": [
    "twins = Table().read_table('twins.csv')\n",
    "twins"
   ]
  },
  {
   "cell_type": "markdown",
   "metadata": {},
   "source": [
    "#### Question 1\n",
    "As a warmup, find the average height of all people in the `twins` table."
   ]
  },
  {
   "cell_type": "code",
   "execution_count": 3,
   "metadata": {},
   "outputs": [],
   "source": [
    "avg_height = (np.mean(twins.column(\"Height1\")) + np.mean(twins.column(\"Height2\"))) / 2 #SOLUTION\n",
    "avg_height"
   ]
  },
  {
   "cell_type": "code",
   "execution_count": 4,
   "metadata": {
    "scrolled": true
   },
   "outputs": [],
   "source": [
    "_ = ok.grade('q1')"
   ]
  },
  {
   "cell_type": "markdown",
   "metadata": {},
   "source": [
    "#### Question 2\n",
    "We want to figure out the average difference in heights among twins. Find that value for the people in our `twins` table."
   ]
  },
  {
   "cell_type": "code",
   "execution_count": 5,
   "metadata": {},
   "outputs": [],
   "source": [
    "avg_diff = np.mean(np.abs(twins.column(\"Height1\") - twins.column(\"Height2\"))) #SOLUTION\n",
    "avg_diff"
   ]
  },
  {
   "cell_type": "code",
   "execution_count": 6,
   "metadata": {},
   "outputs": [],
   "source": [
    "_ = ok.grade('q2')"
   ]
  },
  {
   "cell_type": "markdown",
   "metadata": {},
   "source": [
    "#### Question 3\n",
    "What was the height of the twin of the shortest person in the first column? What about the twin of the tallest person?"
   ]
  },
  {
   "cell_type": "code",
   "execution_count": 7,
   "metadata": {},
   "outputs": [],
   "source": [
    "shortest_twin_height = twins.sort(\"Height1\").column(\"Height2\").item(0) #SOLUTION\n",
    "tallest_twin_height = twins.sort(\"Height1\", descending=True).column(\"Height2\").item(0) #SOLUTION\n",
    "print(\"Height of the twin of the shortest person in column 1: {}\".format(shortest_twin_height))\n",
    "print(\"Height of the twin of the tallest person in column 1: {}\".format(tallest_twin_height))"
   ]
  },
  {
   "cell_type": "code",
   "execution_count": 8,
   "metadata": {},
   "outputs": [],
   "source": [
    "_ = ok.grade('q3')"
   ]
  },
  {
   "cell_type": "markdown",
   "metadata": {},
   "source": [
    "#### Question 4\n",
    "We have noted the genders of every pair of twins. There are four possible gender pairs - twin 1 is male and so is twin 2, twin 1 is male and twin 2 is female, twin 1 is female and so is twin 2, or twin 2 is female and twin 1 is male. How many pairs of twins of each possible gender pair do we have? Create a bar chart that visualizes this data."
   ]
  },
  {
   "cell_type": "code",
   "execution_count": 10,
   "metadata": {},
   "outputs": [],
   "source": [
    "twins.group_barh(\"Genders\") #SOLUTION"
   ]
  },
  {
   "cell_type": "markdown",
   "metadata": {},
   "source": [
    "#### Question 5\n",
    "We have created new tables, with one corresponding to pairs of twins where both twins are male, both are female, or the two are of differing genders. Using this data, make a bar chart of average height difference for each of the three possible gender pairs (both male, both female, or mixed).\n",
    "\n",
    "*Hint: You will need to create a new table to do this. You may want to re-use code from question 2.*"
   ]
  },
  {
   "cell_type": "code",
   "execution_count": 11,
   "metadata": {},
   "outputs": [],
   "source": [
    "both_male_table = twins.where(twins.column(\"Genders\")==\"Male & Male\")\n",
    "both_female_table = twins.where(twins.column(\"Genders\")==\"Female & Female\")\n",
    "mixed_gender_table = twins.where((twins.column(\"Genders\")==\"Male & Female\")\n",
    "                                      +(twins.column(\"Genders\")==\"Female & Male\"))\n",
    "\n",
    "both_male_diff = np.mean(np.abs(both_male_table.column(\"Height1\") - both_male_table.column(\"Height2\"))) #SOLUTION\n",
    "both_female_diff = np.mean(np.abs(both_female_table.column(\"Height1\")  - both_female_table.column(\"Height2\"))) #SOLUTION\n",
    "mixed_gender_diff = np.mean(np.abs(mixed_gender_table.column(\"Height1\") - mixed_gender_table.column(\"Height2\"))) #SOLUTION\n",
    "\n",
    "avg_height_differences = Table().with_columns(\"Gender\", make_array(\"Both Male\", \"Both Female\", \"Mixed\"),  \"Average Height Difference\", make_array(both_male_diff, both_female_diff, mixed_gender_diff)) #SOLUTION\n",
    "\n",
    "# Now make the chart\n",
    "avg_height_differences.barh(\"Gender\") #SOLUTION"
   ]
  },
  {
   "cell_type": "markdown",
   "metadata": {},
   "source": [
    "## Interpreting Histograms\n",
    "\n",
    "In a further experiement, we measure the heights of the members of 200 families that each included 1 mother, 1 father, and some varying number of adult sons. We make the following histograms, with all bins being two inches wide.\n",
    "\n",
    "![](three_height_histograms.png)"
   ]
  },
  {
   "cell_type": "markdown",
   "metadata": {},
   "source": [
    "#### Question 6\n",
    "\n",
    "For each quantity listed below, either calculate its value using the histograms, or write *Unknown* if it is not possible to calculate the value numerically given the information we have.\n",
    "1. The **percentage** of mothers that are at least 60 inches but less than 64 inches tall.\n",
    "2. The **percentage** of fathers that are at least 64 inches but less than 67 inches tall.\n",
    "3. The **number** of mothers that are at least 60 inches tall.\n",
    "4. The **number** of sons that are at least 70 inches tall."
   ]
  },
  {
   "cell_type": "markdown",
   "metadata": {},
   "source": [
    "**SOLUTION:** 1. 40 percent 2. Unknown 3. 192 mothers 4. Unknown"
   ]
  },
  {
   "cell_type": "markdown",
   "metadata": {},
   "source": [
    "#### Question 7\n",
    "If the fathers' histogram was redrawn, replacing the two bins from 72-74 and 74-76 with one bin from 72-76, what would be the height of that bar?"
   ]
  },
  {
   "cell_type": "markdown",
   "metadata": {},
   "source": [
    "**SOLUTION:** 4 percent per inch"
   ]
  },
  {
   "cell_type": "markdown",
   "metadata": {},
   "source": [
    "#### Question 8\n",
    "Some of the sons in the dataset are taller than all of the mothers - but, it isn't possible to tell exactly how many. We can calculate upper and lower bounds on the value using our histograms. What's the lowest possible value for the percentage of sons who are taller than all of the mothers? The highest possible value?"
   ]
  },
  {
   "cell_type": "markdown",
   "metadata": {},
   "source": [
    "**SOLUTION:** Lowest possible - 20 percent. Highest possible - 48 percent."
   ]
  },
  {
   "cell_type": "markdown",
   "metadata": {},
   "source": [
    "## Creating Histograms in Python\n",
    "\n",
    "Run the following cell to load height data on 100 adult men and women."
   ]
  },
  {
   "cell_type": "code",
   "execution_count": 13,
   "metadata": {},
   "outputs": [],
   "source": [
    "height_data = Table().read_table(\"Height_Data.csv\")\n",
    "male_heights = height_data.column(\"Male Height\")\n",
    "female_heights = height_data.column(\"Female Height\")\n",
    "all_heights = np.hstack([male_heights, female_heights])\n",
    "height_data"
   ]
  },
  {
   "cell_type": "markdown",
   "metadata": {},
   "source": [
    "#### Question 9\n",
    "Create a histogram of the heights of the various men in the sample. Then, do the same for women."
   ]
  },
  {
   "cell_type": "code",
   "execution_count": 14,
   "metadata": {},
   "outputs": [],
   "source": [
    "height_data.hist(\"Male Height\") #SOLUTION"
   ]
  },
  {
   "cell_type": "code",
   "execution_count": 15,
   "metadata": {},
   "outputs": [],
   "source": [
    "height_data.hist(\"Female Height\") #SOLUTION"
   ]
  },
  {
   "cell_type": "markdown",
   "metadata": {},
   "source": [
    "#### Question 10\n",
    "Create two overlapping histograms of the heights of everyone in the sample, split between men and women but in a single chart. Then, create a single histogram of the heights of everyone in the sample, both men and women. \n",
    "\n",
    "*Hint: For the second part, you will need to use the `all_heights` variable, and make a new table*."
   ]
  },
  {
   "cell_type": "code",
   "execution_count": 16,
   "metadata": {},
   "outputs": [],
   "source": [
    "height_data.hist(make_array(\"Male Height\", \"Female Height\")) #SOLUTION"
   ]
  },
  {
   "cell_type": "code",
   "execution_count": 17,
   "metadata": {},
   "outputs": [],
   "source": [
    "Table().with_columns(\"All Heights\", all_heights).hist() #SOLUTION"
   ]
  },
  {
   "cell_type": "markdown",
   "metadata": {},
   "source": [
    "Nice work - you've finished lab 8.\n",
    "\n",
    "**Please remember to submit your lab!**"
   ]
  },
  {
   "cell_type": "code",
   "execution_count": 18,
   "metadata": {},
   "outputs": [],
   "source": [
    "# For your convenience, you can run this cell to run all the tests at once!\n",
    "import os\n",
    "print(\"Running all tests...\")\n",
    "_ = [ok.grade(q[:-3]) for q in os.listdir(\"tests\") if q.startswith('q')]\n",
    "print(\"Finished running all tests.\")"
   ]
  },
  {
   "cell_type": "code",
   "execution_count": null,
   "metadata": {},
   "outputs": [],
   "source": [
    "# Run this cell to submit your work *after* you have passed all of the test cells.\n",
    "# It's ok to run this cell multiple times. Only your final submission will be scored.\n",
    "\n",
    "_ = ok.submit()"
   ]
  },
  {
   "cell_type": "code",
   "execution_count": null,
   "metadata": {
    "collapsed": true
   },
   "outputs": [],
   "source": []
  }
 ],
 "metadata": {
  "anaconda-cloud": {},
  "kernelspec": {
   "display_name": "Python 3",
   "language": "python",
   "name": "python3"
  },
  "language_info": {
   "codemirror_mode": {
    "name": "ipython",
    "version": 3
   },
   "file_extension": ".py",
   "mimetype": "text/x-python",
   "name": "python",
   "nbconvert_exporter": "python",
   "pygments_lexer": "ipython3",
   "version": "3.6.1"
  },
  "widgets": {
   "state": {
    "6c09ba2474d24e10bdd21db7b9699237": {
     "views": [
      {
       "cell_index": 9
      }
     ]
    },
    "ef0a0194fbdd498787d3894efa009a7e": {
     "views": [
      {
       "cell_index": 3
      }
     ]
    }
   },
   "version": "1.2.0"
  }
 },
 "nbformat": 4,
 "nbformat_minor": 1
}
