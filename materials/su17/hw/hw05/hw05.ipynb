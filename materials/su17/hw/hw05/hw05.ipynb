{
 "cells": [
  {
   "cell_type": "markdown",
   "metadata": {
    "deletable": true,
    "editable": true
   },
   "source": [
    "# Homework 5: Maps, Hypothesis Testing, and Sampling\n",
    "Welcome to the last homework assignment!\n",
    "\n",
    "Please complete this notebook by filling in the cells provided. Before you begin, execute the following cell to load the provided tests."
   ]
  },
  {
   "cell_type": "code",
   "execution_count": null,
   "metadata": {
    "collapsed": false,
    "deletable": true,
    "editable": true
   },
   "outputs": [],
   "source": [
    "# Don't change this cell; just run it. \n",
    "from datascience import *\n",
    "import numpy as np\n",
    "\n",
    "%matplotlib inline\n",
    "import matplotlib.pyplot as plots\n",
    "plots.style.use('fivethirtyeight')\n",
    "\n",
    "from client.api.notebook import Notebook\n",
    "ok = Notebook('hw05.ok')\n",
    "_ = ok.auth(inline=True)"
   ]
  },
  {
   "cell_type": "markdown",
   "metadata": {
    "deletable": true,
    "editable": true
   },
   "source": [
    "Reading:\n",
    "- Textbook section [7.3](https://data-8r.gitbooks.io/textbook/chapters/07/3/example-bike-sharing-in-the-bay-area.html) and chapter [8](https://data-8r.gitbooks.io/textbook/chapters/08/randomness.html)\n",
    "\n",
    "Deadline:\n",
    "\n",
    "This assignment is due **Tuesday, August 1 at 1PM**. You will receive an early submission bonus point if you turn in your final submission by **Monday, July 31 at 1PM**. Late work will not be accepted unless you have made special arrangements with your TA or the instructor.\n",
    "\n",
    "Directly sharing answers is not okay, but discussing problems with the course staff or with other students is encouraged. \n",
    "\n",
    "You should start early so that you have time to get help if you're stuck. Drop-in office hours will be held at various times in the week; check the course calendar on the [course webpage](http://data8r.org) for the latest schedule."
   ]
  },
  {
   "cell_type": "markdown",
   "metadata": {
    "deletable": true,
    "editable": true
   },
   "source": [
    "Once you're finished, select \"Save and Checkpoint\" in the File menu and then execute the `submit` cell below. The result will contain a link that you can use to check that your assignment has been submitted successfully. If you submit more than once before the deadline, we will only grade your final submission."
   ]
  },
  {
   "cell_type": "code",
   "execution_count": null,
   "metadata": {
    "collapsed": true,
    "deletable": true,
    "editable": true
   },
   "outputs": [],
   "source": [
    "_ = ok.submit()"
   ]
  },
  {
   "cell_type": "markdown",
   "metadata": {},
   "source": [
    "## 1. Concepts in Hypothesis Testing\n"
   ]
  },
  {
   "cell_type": "markdown",
   "metadata": {},
   "source": [
    "High blood pressure is thought to cause or be associated with several health risks, so medication is sometimes prescribed to lower blood pressure for people with that condition.  There are two common measurements of blood pressure: the pressure when your heart beats and pushes blood through your arteries (systolic), and pressure in between heartbeats (diastolic).  We'll focus on systolic pressure for simplicity.  Pressures are measured in units of millimeters of mercury, which is abbreviated \"mmHg\".\n",
    "\n",
    "Suppose we conduct an observational study to determine the efficacy of a medication, PressureLow, for reducing blood pressure.  Surveying a group of American adults, we find that the average systolic blood pressure of people taking PressureLow is *higher* than the average blood pressure of people not taking PressureLow."
   ]
  },
  {
   "cell_type": "markdown",
   "metadata": {},
   "source": [
    "### Question 1\n",
    "Describe the confounding factor you think would be most important in such a study."
   ]
  },
  {
   "cell_type": "markdown",
   "metadata": {},
   "source": [
    "*Write your answer here, replacing this text.*"
   ]
  },
  {
   "cell_type": "markdown",
   "metadata": {},
   "source": [
    "Suppose we forge ahead with an hypothesis test.  We decide to test the following null hypothesis:\n",
    "\n",
    "> *Null hypothesis:* The people in our study were randomly assigned to receive the medication, and the medication had no effect."
   ]
  },
  {
   "cell_type": "markdown",
   "metadata": {},
   "source": [
    "### Question 2\n",
    "What is the appropriate alternative hypothesis, given that this is our null hypothesis?"
   ]
  },
  {
   "cell_type": "markdown",
   "metadata": {},
   "source": [
    "*Write your answer here, replacing this text.*"
   ]
  },
  {
   "cell_type": "markdown",
   "metadata": {},
   "source": [
    "Some (synthetic) data are loaded in the next cell."
   ]
  },
  {
   "cell_type": "code",
   "execution_count": 13,
   "metadata": {
    "collapsed": false
   },
   "outputs": [],
   "source": [
    "d = Table.read_table(\"pressurelow.csv\")\n",
    "d"
   ]
  },
  {
   "cell_type": "markdown",
   "metadata": {},
   "source": [
    "### Question 3\n",
    "What does each row in the table `d` represent?"
   ]
  },
  {
   "cell_type": "markdown",
   "metadata": {},
   "source": [
    "*Write your answer here, replacing this text.*"
   ]
  },
  {
   "cell_type": "markdown",
   "metadata": {},
   "source": [
    "You decide to use the average blood pressure of the people taking PressureLow as your test statistic."
   ]
  },
  {
   "cell_type": "code",
   "execution_count": 11,
   "metadata": {
    "collapsed": true
   },
   "outputs": [],
   "source": [
    "def bp_test_statistic(input):\n",
    "    return np.mean(input)"
   ]
  },
  {
   "cell_type": "markdown",
   "metadata": {},
   "source": [
    "### Question 4\n",
    "Use the test statistic function to compute the observed test statistic."
   ]
  },
  {
   "cell_type": "code",
   "execution_count": 12,
   "metadata": {
    "collapsed": false
   },
   "outputs": [],
   "source": [
    "observed_test_statistic = ...\n",
    "observed_test_statistic"
   ]
  },
  {
   "cell_type": "markdown",
   "metadata": {},
   "source": [
    "### Question 5\n",
    "**True** or **false** and **explain:** Calling the function `simulate_test_stat_under_null` (defined in the cell below) *with an argument of 1000* is a reasonable way to simulate a test statistic we could see if the null hypothesis were true."
   ]
  },
  {
   "cell_type": "code",
   "execution_count": 14,
   "metadata": {
    "collapsed": true
   },
   "outputs": [],
   "source": [
    "def simulate_test_stat_under_null(sample_size):\n",
    "    sample = d.sample(sample_size, with_replacement=False)\n",
    "    pressures = sample.column(\"Systolic Pressure\")\n",
    "    return bp_test_statistic(pressures)"
   ]
  },
  {
   "cell_type": "markdown",
   "metadata": {},
   "source": [
    "*Write your answer here, replacing this text.*"
   ]
  },
  {
   "cell_type": "markdown",
   "metadata": {},
   "source": [
    "The following histogram displays the distribution of test statistics from datasets simulated correctly under the null hypothesis.\n",
    "\n",
    "![Simulated test statistics histogram](simulated_stats_hist.png)"
   ]
  },
  {
   "cell_type": "markdown",
   "metadata": {},
   "source": [
    "### Question 6\n",
    "Do you reject the null hypothesis, or not?"
   ]
  },
  {
   "cell_type": "markdown",
   "metadata": {},
   "source": [
    "*Write your answer here, replacing this text.*"
   ]
  },
  {
   "cell_type": "markdown",
   "metadata": {},
   "source": [
    "### Question 7\n",
    "Does this mean that PressureLow indeed caused higher blood pressure?  **Explain.**"
   ]
  },
  {
   "cell_type": "markdown",
   "metadata": {},
   "source": [
    "*Write your answer here, replacing this text.*"
   ]
  },
  {
   "cell_type": "markdown",
   "metadata": {},
   "source": [
    "## 2. The Support for BCRA\n"
   ]
  },
  {
   "cell_type": "markdown",
   "metadata": {},
   "source": [
    "If you've been following the news, you might know that Republicans in the US Congress are attempting to pass a bill about health care.  Various bills have been offered over the past few months.\n",
    "\n",
    "Pollsters have found that many of these bills are unpopular among Americans.  For example, [this article](http://www.npr.org/2017/06/28/534612954/just-17-percent-of-americans-approve-of-republican-senate-health-care-bill) describes a pollster's findings about the popularity of the Better Care Reconciliation Act (BCRA).\n",
    "\n",
    "When the pollsters tried to figure out the popularity of BCRA, they were trying to learn the *proportion of registered US voters* who would say that they approve of the bill.  They couldn't ask every registered voter, so instead they asked a random sample of 995.\n",
    "\n",
    "In this exercise, we will simulate such random sampling to understand what happens.  How much random variability do we see in the proportion of sampled voters who approve of the bill?\n",
    "\n",
    "We will imagine that we have actually asked all the registered voters about BCRA.  (Actually, the dataset only has 100,000 responses, because we found that the servers you're provided have a hard time handling all 200 million registered voters!)  Those data are loaded in the following cell:"
   ]
  },
  {
   "cell_type": "code",
   "execution_count": 41,
   "metadata": {
    "collapsed": false
   },
   "outputs": [],
   "source": [
    "response_codes = Table.read_table(\"bcra_population.csv\")\n",
    "response_codes.group_barh(\"Response Code\")"
   ]
  },
  {
   "cell_type": "markdown",
   "metadata": {},
   "source": [
    "We encoded the responses as 0, 1, 2, or 3 to save space.  0 refers to \"Approve\", 1 to \"Disapprove\", 2 to \"Heard of it, just unsure\", and 3 to \"Have not heard enough about it to have an opinion\"."
   ]
  },
  {
   "cell_type": "markdown",
   "metadata": {},
   "source": [
    "### Question 1\n",
    "Write code to produce a new table called `population`.  It should have a single column called `\"Response\"`, and it should have one row for each row in `response_codes`.  Instead of a response code like 0, it should have the corresponding string like `\"Approve\"`.\n",
    "\n",
    "*Hint 1:* It should start like this:\n",
    "\n",
    "|Response|\n",
    "|-|\n",
    "|Approve|\n",
    "|Have not heard enough about it to have an opinion|\n",
    "|Disapprove|\n",
    "\n",
    "<p align=\"center\">... (99997 rows omitted)</p>\n",
    "\n",
    "*Hint 2:* Define a function and use `apply`.  Your function can reference the `responses` array we've given you."
   ]
  },
  {
   "cell_type": "code",
   "execution_count": null,
   "metadata": {
    "collapsed": true,
    "for_assignment_type": "student"
   },
   "outputs": [],
   "source": [
    "# This array is provided for your convenience.\n",
    "responses = make_array(\n",
    "    \"Approve\",\n",
    "    \"Disapprove\",\n",
    "    \"Heard of it, just unsure\",\n",
    "    \"Have not heard enough about it to have an opinion\")\n",
    "\n",
    "...\n",
    "\n",
    "population = ...\n",
    "population"
   ]
  },
  {
   "cell_type": "markdown",
   "metadata": {},
   "source": [
    "### Question 2\n",
    "Implement the function called `proportions`, according to the docstring given below.\n",
    "\n",
    "* `\"Response\"`: The response.\n",
    "* `\"Proportion\"`: The proportion of people in `population` with that response."
   ]
  },
  {
   "cell_type": "code",
   "execution_count": null,
   "metadata": {
    "collapsed": false,
    "for_assignment_type": "student"
   },
   "outputs": [],
   "source": [
    "def proportions(tbl, col_name):\n",
    "    \"\"\"Computes the frequency distribution of column col_name in table tbl.\n",
    "    \n",
    "    Args:\n",
    "      - tbl (Table): Any table.\n",
    "      - col_name (str): The name of a column in tbl.\n",
    "    \n",
    "    Returns:\n",
    "      Table: A table containing the frequency distribution of column col_name\n",
    "        in table tbl.  It has two columns: col_name and \"Proportion\".  It has\n",
    "        one row for each unique value in the col_name column.\"\"\"\n",
    "    ...\n",
    "    return ...\n",
    "\n",
    "# These lines use your function to compute the frequency distribution\n",
    "# of the \"Response\" column in the population table, and make a bar\n",
    "# chart of that distribution.\n",
    "support_proportions = proportions(population, \"Response\")\n",
    "support_proportions.barh(\"Response\", \"Proportion\")"
   ]
  },
  {
   "cell_type": "markdown",
   "metadata": {},
   "source": [
    "### Question 3\n",
    "Sample **50** people from `population` without replacement, producing a table named `small_sample`.  **Then,** draw a bar chart of the frequency distribution of their responses.\n",
    "\n",
    "*Hint:* You can do this in one line of code."
   ]
  },
  {
   "cell_type": "code",
   "execution_count": null,
   "metadata": {
    "collapsed": false
   },
   "outputs": [],
   "source": [
    "small_sample = population.sample(50, with_replacement=False)\n",
    "proportions(small_sample, \"Response\").barh(\"Response\", \"Proportion\")"
   ]
  },
  {
   "cell_type": "markdown",
   "metadata": {},
   "source": [
    "### Question 4\n",
    "Compare the distribution of responses in the sample and the distribution of responses in the population.  Are they the same?  If not, how do they differ?"
   ]
  },
  {
   "cell_type": "markdown",
   "metadata": {},
   "source": [
    "*Write your answer here, replacing this text.*"
   ]
  },
  {
   "cell_type": "markdown",
   "metadata": {},
   "source": [
    "### Question 5\n",
    "If you sampled again, would you see the same pattern, or a different pattern?"
   ]
  },
  {
   "cell_type": "markdown",
   "metadata": {},
   "source": [
    "*Write your answer here, replacing this text.*"
   ]
  },
  {
   "cell_type": "markdown",
   "metadata": {},
   "source": [
    "### Question 6\n",
    "Repeat questions 3 through 5, but with a sample of 995.  Compare the distribution of responses to the small sample and the population."
   ]
  },
  {
   "cell_type": "code",
   "execution_count": null,
   "metadata": {
    "collapsed": false
   },
   "outputs": [],
   "source": [
    "# Use this cell to run any code you need.\n",
    "..."
   ]
  },
  {
   "cell_type": "markdown",
   "metadata": {},
   "source": [
    "*Write your answer here, replacing this text.*"
   ]
  },
  {
   "cell_type": "markdown",
   "metadata": {},
   "source": [
    "### Question 7\n",
    "The following cell defines some code.  Read it, run it, and describe:\n",
    "\n",
    "* what each function does,\n",
    "* how many people were sampled *in total* when you ran the cell,\n",
    "* what is displayed in the chart it produces, and\n",
    "* how many numbers are in the dataset whose distribution is represented in the histogram.\n",
    "\n",
    "*Note:* It may take about a minute to run the cell."
   ]
  },
  {
   "cell_type": "code",
   "execution_count": null,
   "metadata": {
    "collapsed": false
   },
   "outputs": [],
   "source": [
    "def simulate_approval_proportion(sample_size):\n",
    "    the_sample = population.sample(sample_size, with_replacement=False)\n",
    "    return the_sample.where(\"Response\", are.equal_to(\"Approve\")).num_rows / the_sample.num_rows\n",
    "\n",
    "def approval_distribution(sample_size, num_simulations):\n",
    "    simulation_sizes = Table().with_column(\"Sample size\", np.repeat(sample_size, num_simulations))\n",
    "    results = simulation_sizes.apply(simulate_approval_proportion, \"Sample size\")\n",
    "    simulation_sizes.with_column(\"Proportion approving\", results).hist(\"Proportion approving\", bins=np.arange(0, 1+.02, .02))\n",
    "\n",
    "approval_distribution(50, 2000)"
   ]
  },
  {
   "cell_type": "markdown",
   "metadata": {},
   "source": [
    "*Write your answer here, replacing this text.*"
   ]
  },
  {
   "cell_type": "markdown",
   "metadata": {},
   "source": [
    "### Question 8\n",
    "Run the next cell and compare the results with the previous histogram.  How many people were sampled in total when you ran the cell?  Describe how the *law of large numbers* can help explain the difference in the two histograms."
   ]
  },
  {
   "cell_type": "code",
   "execution_count": null,
   "metadata": {
    "collapsed": false
   },
   "outputs": [],
   "source": [
    "approval_distribution(995, 2000)"
   ]
  },
  {
   "cell_type": "markdown",
   "metadata": {},
   "source": [
    "*Write your answer here, replacing this text.*"
   ]
  }
 ],
 "metadata": {
  "kernelspec": {
   "display_name": "Python 3",
   "language": "python",
   "name": "python3"
  },
  "language_info": {
   "codemirror_mode": {
    "name": "ipython",
    "version": 3
   },
   "file_extension": ".py",
   "mimetype": "text/x-python",
   "name": "python",
   "nbconvert_exporter": "python",
   "pygments_lexer": "ipython3",
   "version": "3.4.4"
  }
 },
 "nbformat": 4,
 "nbformat_minor": 0
}

